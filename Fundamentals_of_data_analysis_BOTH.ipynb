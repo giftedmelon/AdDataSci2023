{
  "cells": [
    {
      "cell_type": "markdown",
      "metadata": {
        "id": "KrxvGFtzTYZf"
      },
      "source": [
        "<!-- JPN -->\n",
        "# 記述統計と推測統計\n",
        "\n",
        "※本演習資料の二次配布・再配布はお断り致します。"
      ]
    },
    {
      "cell_type": "markdown",
      "metadata": {
        "id": "GJMnEoI7_qQ4"
      },
      "source": [
        "<!-- ENG -->\n",
        "# Descriptive and inferential statistics\n",
        "\n",
        "※Distribution or redistribution of these exercise materials without the copyright holder's permission is not permitted."
      ]
    },
    {
      "cell_type": "markdown",
      "metadata": {
        "id": "iyGo64Tcqx99"
      },
      "source": [
        "<!-- JPN -->\n",
        "　今回の演習の内容は以下の通りである。\n",
        "\n",
        "- **1 | 記述統計**\n",
        "- **2 | 推測統計**\n",
        "- **3 | 有意性検定**\n",
        "- **4 | matplotlibを利用した図の描画**"
      ]
    },
    {
      "cell_type": "markdown",
      "metadata": {
        "id": "ZCviFrXQ_qQ6"
      },
      "source": [
        "<!-- ENG -->\n",
        "The exercises this time are the following.\n",
        "\n",
        "- **1 | Descriptive statistics**\n",
        "- **2 | Inferential statistics**\n",
        "- **3 | Significance test**\n",
        "- **4 | Drawing diagrams using matplotlib**"
      ]
    },
    {
      "cell_type": "markdown",
      "metadata": {
        "id": "Zrb7Q8ugcbqA"
      },
      "source": [
        "<!-- JPN -->\n",
        "## 1 | 記述統計"
      ]
    },
    {
      "cell_type": "markdown",
      "metadata": {
        "id": "jxIh73Rt_qQ7"
      },
      "source": [
        "<!-- ENG -->\n",
        "## 1 | Descriptive statistics"
      ]
    },
    {
      "cell_type": "markdown",
      "metadata": {
        "id": "Svzao8G-r2wI"
      },
      "source": [
        "<!-- JPN -->\n",
        "　基盤データサイエンスの講義で、**記述統計 (descriptive statistics) と推測統計 (inferential statistics)** について学び、その中で**標本平均 (sample mean) は不偏推定量 (unbiased estimator) である**一方、**標本分散は不偏推定量ではない**ことを学んだ。\n",
        "\n",
        "　この節では、**記述統計 (descriptive statistics) ：実際のデータを利用した統計量（標本平均・標本分散）の算出**および、**推測統計 (inferential statistics) ：標本平均・標本分散と母平均・母分散の関係の確認**を行う。\n"
      ]
    },
    {
      "cell_type": "markdown",
      "metadata": {
        "id": "gXimaqHjr2wJ"
      },
      "source": [
        "<!-- ENG -->\n",
        "　In a lecture on Fundamentals of Data Science, you learned about **descriptive statistics and inferential statistics**, in which you learned that **sample mean is an unbiased estimator**, while **sample variance is not an unbiased estimator**.\n",
        "\n",
        "　In this section, we will learn **descriptive statistics: calculation of statistics (sample mean and sample variance) using actual data**, and **inferential statistics: confirmation of the relationship between sample mean / sample variance and population mean / population variance**.\n"
      ]
    },
    {
      "cell_type": "markdown",
      "metadata": {
        "id": "pPC8quyKO6Gy"
      },
      "source": [
        "<!-- JPN -->\n",
        "### 1.1 | 用語解説\n"
      ]
    },
    {
      "cell_type": "markdown",
      "metadata": {
        "id": "sOQ2kMwS_qRA"
      },
      "source": [
        "<!-- ENG -->\n",
        "### 1.1 | Glossary\n"
      ]
    },
    {
      "cell_type": "markdown",
      "metadata": {
        "id": "97PaedLsr2wK"
      },
      "source": [
        "<!-- JPN -->\n",
        "　今回は統計の単語を多数利用するので、以下の課題実行の前に少し整理する。\n",
        "\n",
        "* **母集団 (population)** ：調査対象となる数値、属性等の源泉となる集合全体。確率分布として表現されることが多い。\n",
        "* **母平均 (population mean)** ：母集団に対する平均。連続確率変数の場合、密度関数 $f(x)$ に対して、$\\mu=\\int xf(x)dx$ で定義される。離散確率変数の場合も同様。\n",
        "* **サンプル (sample)** ：（母集団から取り出した）具体的なデータセット。\n",
        "* **標本平均 (sample mean)** ：具体的なデータセットに対して求めた算術（相加）平均。\n",
        "* **統計量 (statistic)** ：データセットの特徴を要約した数値。平均や分散は統計量の代表的な例。\n",
        "* **推定量 (estimator)** ：具体的なデータセットにもとづいて、母集団のパラメータを推定した量。\n",
        "* **不偏推定量 (unbiased estimator)** ：データ生成に関する期待値が母集団を表す真のパラメータと一致することが保証された推定量。\n",
        "\n",
        "なお、上記の説明における **データセット** とは、観測されたデータの集合 (List of observed data) であり、複数のデータからなる表形式のものである。\n",
        "\n"
      ]
    },
    {
      "cell_type": "markdown",
      "metadata": {
        "id": "Avu8IqKVr2wK"
      },
      "source": [
        "<!-- ENG -->\n",
        "　Since we will be using a lot of statistical words, we will summarize them before doing the following exercise.\n",
        "\n",
        "* **Population**\\: The entire set that makes up the source of the numeric data, attributes, etc. being studied. It is often expressed as a probability distribution.\n",
        "* **Population mean**\\: The mean for a population. For continuous random variables, it is defined by $\\mu=\\int xf(x)dx$ for the density function $f(x)$. The same is true for discrete random variables.\n",
        "* **Sample**\\: A specific data set (taken from a population).\n",
        "* **Sample mean**\\: The arithmetic mean obtained for a specific data set.\n",
        "* **Statistic**\\: Numeric values that summarize the characteristics of a data set. Mean and variance are typical examples of statistics.\n",
        "* **Estimator**\\: An estimated quantity of a population parameter based on a specific data set.\n",
        "* **Unbiased estimator**\\: An estimator whose expectations about data generation are guaranteed to match the true parameters representing the population.\n",
        "\n",
        "In the above explanation, **a data set** is a list of observed data, which is a tabular format consisting of multiple data.\n",
        "\n"
      ]
    },
    {
      "cell_type": "markdown",
      "metadata": {
        "id": "KyVmzV54I7zM"
      },
      "source": [
        "<!-- JPN -->\n",
        "### 1.2 | データセットの目視"
      ]
    },
    {
      "cell_type": "markdown",
      "metadata": {
        "id": "zo2jzd2q_qRD"
      },
      "source": [
        "<!-- ENG -->\n",
        "### 1.2 | Checking the data set"
      ]
    },
    {
      "cell_type": "markdown",
      "metadata": {
        "id": "5Bnic37yf99D"
      },
      "source": [
        "<!-- JPN -->\n",
        "　今回用いる `iris.csv` データセットはサンプルサイズが150件となっており、十分目視が可能なデータであるため、記述統計の統計量を算出する前に、今回用いるサンプル（データセット）の内容を確認する。\n",
        "\n",
        "　まずは `iris.csv` をExcelで目視してみよう。（もしExcelが使えない場合は、 `iris.csv` をGoogle Colabにアップロードし、アップロードしたファイルをダブルクリックすることで、ファイルの中身を見ることができる。）"
      ]
    },
    {
      "cell_type": "markdown",
      "metadata": {
        "id": "6N3LUO4M_qRF"
      },
      "source": [
        "<!-- ENG -->\n",
        "　The `iris.csv` data set used this time has a sample size of 150, which is sufficiently visible data, so check the content of the sample (data set) used this time before calculating the descriptive statistics.\n",
        "\n",
        "　First, let's take a look at the `iris.csv` in Excel. (If you don't have access to Excel, you can upload `iris.csv` to Google Colab and double-click on the uploaded file to view its contents.)"
      ]
    },
    {
      "cell_type": "markdown",
      "metadata": {
        "id": "V47kkzkUyVKZ"
      },
      "source": [
        "![Contents of iris.csv](https://i.imgur.com/ElYyxgN.png)"
      ]
    },
    {
      "cell_type": "markdown",
      "metadata": {
        "id": "9Qlfigrbr2wM"
      },
      "source": [
        "<!-- JPN -->\n",
        "　`iris.csv` をExcelで閲覧すると、データはそれぞれ4つの値と1つの名前から構成されていることがまず最初にわかる。\n",
        "このサンプルをさらに細かく眺めると、例えば以下のようなことがわかる。\n",
        "\n",
        "* NameはIris-setosa, Iris-versicolor, Iris-virginicaの3種類で、それぞれ50件ずつ存在している。\n",
        "* PetalWidthに着目してみると、Iris-setosaは必ず1未満だが、その他の2種類は必ず1以上の値になっている。\n",
        "* 同様に、PetalLengthもIris-setosaだけ値が小さめになっている。\n",
        "* さらにPetalWidthについてよく見てみると、Iris-versicolorよりもIris-virginicaの方が値が高めになっている。\n",
        "\n",
        "これらのことを目視で感じたら、次の節に進み、pythonを使って実際に確認してみよう。"
      ]
    },
    {
      "cell_type": "markdown",
      "metadata": {
        "id": "Sr7FhZZpr2wM"
      },
      "source": [
        "<!-- ENG -->\n",
        "　Browsing `iris.csv` in Excel, we can first see that the data consists of four values and one name, respectively.\n",
        "A closer look at this sample reveals, for example, the following:\n",
        "\n",
        "* The Name column has the three names, which are Iris-setosa, Iris-versicolor, and Iris-virginica, and there are 50 of each.\n",
        "* Looking at PetalWidth, Iris-setosa is always less than 1, but the other two types are always greater than 1.\n",
        "* Similarly, PetalLength has a smaller value only for Iris-setosa.\n",
        "* Also, taking a closer look at PetalWidth shows that Iris-virginica has a higher value than Iris-versicolor.\n",
        "\n",
        "Once you have a visual sense of these features, let's move on to the next section to see them in action using Python."
      ]
    },
    {
      "cell_type": "markdown",
      "metadata": {
        "id": "LjGMXDUYltTm"
      },
      "source": [
        "<!-- JPN -->\n",
        "### 1.3 | 実際のデータを利用した統計量の算出\n"
      ]
    },
    {
      "cell_type": "markdown",
      "metadata": {
        "id": "pyS63rMA_qRG"
      },
      "source": [
        "<!-- ENG -->\n",
        "### 1.3 | Calculating statistics using actual data\n"
      ]
    },
    {
      "cell_type": "markdown",
      "metadata": {
        "id": "gtIVSRjgTDCk"
      },
      "source": [
        "<!-- JPN -->\n",
        "#### `pandas`を利用したファイルの読み込みと記述統計量の算出"
      ]
    },
    {
      "cell_type": "markdown",
      "metadata": {
        "id": "eyzE06RL_qRH"
      },
      "source": [
        "<!-- ENG -->\n",
        "#### Reading files and calculating descriptive statistics using `pandas`"
      ]
    },
    {
      "cell_type": "markdown",
      "metadata": {
        "id": "JvXgpbfkgOPq"
      },
      "source": [
        "<!-- JPN -->\n",
        "　それでは、先ほどExcelを使って目視したファイルをPythonから読み込んでみよう。\n",
        "まず、CSVファイル (`iris.csv`) をGoogle Colaboratory上にアップロードせよ（アップロード方法はGoogle Colaboratoryの使い方説明資料に記載されている）。\n",
        "\n",
        "　つづいて、PythonからCSVファイルを読み込む。CSVファイルの読み込みには、Pythonの `pandas` ライブラリを利用する。\n",
        "`pandas` は**表形式のサンプルを処理するのに頻出するライブラリ**なので確実に覚えておこう。"
      ]
    },
    {
      "cell_type": "markdown",
      "metadata": {
        "id": "8qNWkzZB_qRH"
      },
      "source": [
        "<!-- ENG -->\n",
        "　Now let's read the file we have just looked at using Excel in Python.\n",
        "First, upload the CSV file (`iris.csv`) to Google Colaboratory (instructions on how to upload are provided in “How to use Google Colaboratory”).\n",
        "\n",
        "　Next, read the CSV file in Python. To read CSV files, use the `pandas` library in Python.\n",
        "`pandas` is **a library that is frequently used to process tabular samples**, so let's be sure to learn it."
      ]
    },
    {
      "cell_type": "code",
      "execution_count": null,
      "metadata": {
        "id": "xX_SdwjYw3qf"
      },
      "outputs": [],
      "source": [
        "import pandas as pd       # Prepare the library for use"
      ]
    },
    {
      "cell_type": "code",
      "execution_count": null,
      "metadata": {
        "id": "p3MmAj18TTWO"
      },
      "outputs": [],
      "source": [
        "df = pd.read_csv(\"iris.csv\")   # Read the CSV file and name it df\n",
        "print(df)                          # Try to display the loaded sample (data set) (only a part of it will be displayed)"
      ]
    },
    {
      "cell_type": "code",
      "execution_count": null,
      "metadata": {
        "id": "8--M3tZRF6W4"
      },
      "outputs": [],
      "source": [
        "print(len(df))                 # Get the sample size (number of data)"
      ]
    },
    {
      "cell_type": "code",
      "execution_count": null,
      "metadata": {
        "id": "KsFEHRlf_6ut"
      },
      "outputs": [],
      "source": [
        "print(df[\"Name\"])              #  Get only the Name column"
      ]
    },
    {
      "cell_type": "code",
      "execution_count": null,
      "metadata": {
        "id": "t-pZjdAKAQaX"
      },
      "outputs": [],
      "source": [
        "print(df[  df[\"Name\"] == \"Iris-setosa\"  ])   # Get all data whose Name is Iris-setosa"
      ]
    },
    {
      "cell_type": "code",
      "execution_count": null,
      "metadata": {
        "id": "OmKPaQ0fAwuQ"
      },
      "outputs": [],
      "source": [
        "print(df[  df[\"SepalWidth\"] <= 2.5  ])       # Get all data whose SepalWidth is less than or equal to 2.5"
      ]
    },
    {
      "cell_type": "code",
      "execution_count": null,
      "metadata": {
        "id": "w_Xh-rG-CLlM"
      },
      "outputs": [],
      "source": [
        "print(df[\"PetalWidth\"].mean())           # Get the sample mean of PetalWidth"
      ]
    },
    {
      "cell_type": "code",
      "execution_count": null,
      "metadata": {
        "id": "l-kMAeJ6CcJ3"
      },
      "outputs": [],
      "source": [
        "print(df[\"PetalWidth\"].max())            # Get the maximum value of PetalWidth"
      ]
    },
    {
      "cell_type": "markdown",
      "metadata": {
        "id": "rbXhtyuYCFFp"
      },
      "source": [
        "<!-- JPN -->\n",
        "　以上の関数を利用して、先ほどExcelで目視したことを1つ確かめてみよう。"
      ]
    },
    {
      "cell_type": "markdown",
      "metadata": {
        "id": "MGTYngk-_qRJ"
      },
      "source": [
        "<!-- ENG -->\n",
        "　Let's use the above functions to confirm one feature that we have just seen in Excel."
      ]
    },
    {
      "cell_type": "code",
      "execution_count": null,
      "metadata": {
        "id": "22dbMa76DNQZ"
      },
      "outputs": [],
      "source": [
        "## Fact: Looking at PetalWidth, Iris-setosa is always less than 1\n",
        "## -> Check the maximum value of PetalWidth for the data where Name==Iris-setosa\n",
        "setosa = df[df[\"Name\"] == \"Iris-setosa\"]      # Extract the data with Name==Iris-setosa and save it using a different name\n",
        "print(setosa[\"PetalWidth\"].max())"
      ]
    },
    {
      "cell_type": "markdown",
      "metadata": {
        "id": "ORrhzFlZER6j"
      },
      "source": [
        "<!-- JPN -->\n",
        "　上記のコードを実行すると、0.6という出力が得られる。つまり**Iris-setosaのPetalWidthは最大でも0.6**であり、確かに1未満であることが確認できる。このように2段階に分けて（別名保存しながら）処理すると混乱せずに済むので、慣れるまではこのようにすると良いだろう。"
      ]
    },
    {
      "cell_type": "markdown",
      "metadata": {
        "id": "Y8_kF-po_qRK"
      },
      "source": [
        "<!-- ENG -->\n",
        "　Executing the above code, we get an output of 0.6. This means that **Iris-setosa's PetalWidth is at most 0.6**, which is certainly less than 1. It is better to process it in two steps like this (while saving with another name) to avoid confusion until you get used to it."
      ]
    },
    {
      "cell_type": "markdown",
      "metadata": {
        "id": "MHMeJKwqhegU"
      },
      "source": [
        "---"
      ]
    },
    {
      "cell_type": "markdown",
      "metadata": {
        "deletable": false,
        "editable": false,
        "id": "WFrlOKIwgXrj"
      },
      "source": [
        "<!-- JPN -->\n",
        "##### 課題 1\n",
        "\n",
        "　次に示すコードを完成させ、PetalLengthの最小値を取得せよ。\n"
      ]
    },
    {
      "cell_type": "markdown",
      "metadata": {
        "deletable": false,
        "editable": false,
        "id": "cmQbZjn5_qRK"
      },
      "source": [
        "<!-- ENG -->\n",
        "##### Exercise 1\n",
        "\n",
        "　Complete the code below to get the minimum value of PetalLength."
      ]
    },
    {
      "cell_type": "code",
      "execution_count": null,
      "metadata": {
        "id": "dw9gCABFgqdD",
        "tags": []
      },
      "outputs": [],
      "source": [
        "# CODE CELL FOR YOUR ANSWER\n",
        "min_length = ...\n",
        "print(min_length)"
      ]
    },
    {
      "cell_type": "markdown",
      "metadata": {
        "id": "gOCe56Q9DofK"
      },
      "source": [
        "-------"
      ]
    },
    {
      "cell_type": "markdown",
      "metadata": {
        "id": "bZALcgoHhWDk"
      },
      "source": [
        "<!-- JPN -->\n",
        "## 2 | 推測統計\n",
        "\n",
        "　これまでの記述統計では、既にあるサンプルの様々な値を確認したり、サンプルをまとめて表現するような値（標本平均、最小値など）を計算した。\n",
        "一方、推測統計では、**手元にあるサンプル（データセット）は母集団 (population) から無作為に取り出された「母集団の部分集合」である**という考え方に基づいて、サンプルから、母集団の平均や分散などの性質を明らかにすることを目的としている。"
      ]
    },
    {
      "cell_type": "markdown",
      "metadata": {
        "id": "yKzE-Kah_qRL"
      },
      "source": [
        "<!-- ENG -->\n",
        "## 2 | Inferential statistics\n",
        "\n",
        "　Descriptive statistics involves checking various values of an already existing sample, or calculating values (sample mean, minimum value, etc.) that would represent the sample as a whole.\n",
        "Inferential statistics, on the other hand, is based on the idea that **the sample (data set) you have is a \"subset of the population\" taken at random from the population**, and aims to clarify properties such as the mean and variance of the population from the sample."
      ]
    },
    {
      "cell_type": "markdown",
      "metadata": {
        "id": "XMqdiCmOhaJX"
      },
      "source": [
        "<!-- JPN -->\n",
        "　言葉だけではわかりにくいと思うので、実際に計算を行ってみよう。\n",
        "以下のコードは、**平均5、分散1の正規分布**から10件のデータ（これが1つのサンプルに対応する）を発生させ、標本平均 (sample mean) および標本分散 (sample variance) を計算している。"
      ]
    },
    {
      "cell_type": "markdown",
      "metadata": {
        "id": "lzMkJfFC_qRL"
      },
      "source": [
        "<!-- ENG -->\n",
        "　I think it's hard to understand with just talking about it, so let's do some actual calculations.\n",
        "The following code generates 10 cases of data (which corresponds to one sample) from **a normal distribution with mean 5 and variance 1**, and calculates sample mean and sample variance."
      ]
    },
    {
      "cell_type": "code",
      "execution_count": null,
      "metadata": {
        "id": "VnbxibQmLCm5"
      },
      "outputs": [],
      "source": [
        "import random\n",
        "\n",
        "# Generate a single sample consisting of n data\n",
        "def gen_sample(n):\n",
        "    sample = []\n",
        "    for i in range(n):\n",
        "        sample.append(random.gauss(5,1))\n",
        "    return sample"
      ]
    },
    {
      "cell_type": "markdown",
      "metadata": {
        "id": "WPMRxZOWEnw3"
      },
      "source": [
        "<!-- JPN -->\n",
        "　次のコードは、10件のデータからなるサンプルの標本平均および標本分散を計算するコードである。実行毎に結果は変化するので、何度も実行してみてほしい。"
      ]
    },
    {
      "cell_type": "markdown",
      "metadata": {
        "id": "CGji_1Jl_qRL"
      },
      "source": [
        "<!-- ENG -->\n",
        "　The following code calculates the sample mean and sample variance for a sample consisting of 10 data points. The results will change each time you run it, so please run it several times."
      ]
    },
    {
      "cell_type": "code",
      "execution_count": null,
      "metadata": {
        "id": "Z-8nZemyL1Bg"
      },
      "outputs": [],
      "source": [
        "import statistics\n",
        "a_sample = gen_sample(10)\n",
        "\n",
        "print(statistics.mean(a_sample))\n",
        "print(statistics.pvariance(a_sample)) # Calculate the sample variance"
      ]
    },
    {
      "cell_type": "markdown",
      "metadata": {
        "id": "maG3_PypLuXY"
      },
      "source": [
        "<!-- JPN -->\n",
        "　資料作成の時には、5回実行してみると、標本平均が4.55～5.66、標本分散が0.74～1.07という結果が得られた。かなりばらつきがあるようだ。\n",
        "\n",
        "　さて、この標本平均および標本分散の期待値（平均値）はいくらになるだろうか。沢山のサンプルを発生させ、標本平均と標本分散を毎回計算し、その平均値を求めてみることにする。"
      ]
    },
    {
      "cell_type": "markdown",
      "metadata": {
        "id": "urlJO_uU_qRM"
      },
      "source": [
        "<!-- ENG -->\n",
        "　Upon creating this document, and executing it 5 times, the results were obtained where the sample mean was between 4.55 to 5.66 and the sample variance was between 0.74 to 1.07. There seems to be a lot of variation.\n",
        "\n",
        "　Now, what will be the expected value (mean) of this sample mean and sample variance? We'll generate a lot of samples and calculate the sample mean and sample variance each time, and then try to find the mean."
      ]
    },
    {
      "cell_type": "code",
      "execution_count": null,
      "metadata": {
        "id": "-7_izqLKlt35"
      },
      "outputs": [],
      "source": [
        "sample_means = []\n",
        "for i in range(10000):\n",
        "    sample = gen_sample(10)\n",
        "    sample_mean = statistics.mean(sample)\n",
        "    sample_means.append(sample_mean)\n",
        "print(statistics.mean(sample_means))"
      ]
    },
    {
      "cell_type": "code",
      "execution_count": null,
      "metadata": {
        "id": "H-ZqYFPSl45h"
      },
      "outputs": [],
      "source": [
        "sample_variances = []\n",
        "for i in range(10000):\n",
        "    sample = gen_sample(10)\n",
        "    sample_variance = statistics.pvariance(sample)\n",
        "    sample_variances.append(sample_variance)\n",
        "print(statistics.mean(sample_variances))"
      ]
    },
    {
      "cell_type": "markdown",
      "metadata": {
        "id": "CCl3ejSGMvX_"
      },
      "source": [
        "<!-- JPN -->\n",
        "　どうやら、標本平均の期待値（平均値）は5.0、標本分散の期待値（平均値）は0.9程度のようである。\n",
        "ここで、元の分布の**分散は1**だったにも関わらず、**標本分散の平均値が0.9**であることに注意してほしい。すなわち、標本分散の期待値（平均値）は母分散（population variance, 元の分布の分散）とは一致しない（つまり、**標本分散は分散の不偏推定量 (unbiased estimator) ではない**）。"
      ]
    },
    {
      "cell_type": "markdown",
      "metadata": {
        "id": "Y-cDsslY_qRM"
      },
      "source": [
        "<!-- ENG -->\n",
        "　Apparently, the expected value (mean) of the sample mean is about 5.0 and the expected value (mean) of the sample variance is about 0.9.\n",
        "Here, although **the variance of the original distribution was 1**, note that **the mean of the sample variance is 0.9**. In other words, the expected value of the sample variance (mean) does not match the population variance (the variance of the original distribution) (i.e., **the sample variance is not an unbiased estimator of the variance**)."
      ]
    },
    {
      "cell_type": "markdown",
      "metadata": {
        "id": "Xg4zLxZln91h"
      },
      "source": [
        "---------\n"
      ]
    },
    {
      "cell_type": "markdown",
      "metadata": {
        "id": "OWokbCbZoof3"
      },
      "source": [
        "<!-- JPN -->\n",
        "##### 課題 2\n",
        "　上記の検証ではサンプル数（サンプルサイズではない）を10,000にしていた。このサンプル数を100にした時、100,000にした時に、どのような変化が生じるだろうか。以下の2点について答えよ。（最大で30秒程度の計算時間を要する）\n",
        "* 出力される標本平均・標本分散の精度（期待される値にどれほど近いか。定性的な評価でかまわない）\n",
        "* 値が表示されるまでにかかった時間とサンプル数との関係（**Google Colaboratory上で計測**せよ）\n",
        "\n",
        "　なお、計算時間の計測に関しては以下のコードを利用せよ。"
      ]
    },
    {
      "cell_type": "markdown",
      "metadata": {
        "id": "elbZ0WcO_qRM"
      },
      "source": [
        "<!-- ENG -->\n",
        "##### Exercise 2\n",
        "　In the above verification, the number of samples (not the sample size) was set to 10,000. What changes will occur when the number of samples is changed to 100 or 100,000? Answer the following two questions. (It takes up to 30 seconds to calculate.)\n",
        "* The accuracy of the output sample mean and sample variance (how close they are to the expected values. A qualitative assessment is fine.)\n",
        "* Relationship between the number of samples and the time it took for the values to be displayed. (**measure on Google Colaboratory**)\n",
        "\n",
        "　For measuring the computational time, use the following code."
      ]
    },
    {
      "cell_type": "code",
      "execution_count": null,
      "metadata": {
        "id": "lJzhRjnvNrb1"
      },
      "outputs": [],
      "source": [
        "import time\n",
        "time_start = time.time() # Get the current time\n",
        "\n",
        "for i in range(10000):\n",
        "  sample = gen_sample(10)\n",
        "  # CALC SOMETHING\n",
        "time_end = time.time() # Get the current time\n",
        "print(time_end - time_start) # Calculate the difference between the start time and end time (in seconds)"
      ]
    },
    {
      "cell_type": "markdown",
      "metadata": {
        "id": "7xr51ZuoOH_U"
      },
      "source": [
        "<!-- JPN -->\n",
        "<font color=orange> **このテキストセルに答案を記述せよ。** </font>"
      ]
    },
    {
      "cell_type": "markdown",
      "metadata": {
        "id": "14U2aETVOH_U"
      },
      "source": [
        "<!-- ENG -->\n",
        "<font color=orange> **Write your answer in this text cell.** </font>"
      ]
    },
    {
      "cell_type": "markdown",
      "metadata": {
        "id": "e_nUMa5GoSLz"
      },
      "source": [
        "---"
      ]
    },
    {
      "cell_type": "markdown",
      "metadata": {
        "id": "rmeq-kjrNweb"
      },
      "source": [
        "<!-- JPN -->\n",
        "##### 課題 3\n",
        "\n",
        "　`statistics.pvariance(sample)`は与えられたサンプルの標本分散 (sample variance) を求める関数であった。同様に、不偏推定量である不偏分散（unbiased variance）を求める関数が`statistics`に存在している。Google検索などを行い、不偏分散を求める関数の名前を答えよ。\n",
        "ただし、例えば**Pythonの公式ドキュメントは母分散、標本分散などの単語を一部誤用している**ため、分散の定義や注釈なども読む必要があることに注意せよ。\n",
        "\n",
        "　すぐに見つけられた受講生向け（採点対象外）：上記のコードを修正して、不偏分散の期待値（平均値）を計算し、不偏分散の平均値が母分散 (population variance) である1.0に漸近することを確認せよ。"
      ]
    },
    {
      "cell_type": "markdown",
      "metadata": {
        "id": "9JOQcfOj_qRN"
      },
      "source": [
        "<!-- ENG -->\n",
        "##### Exercise 3\n",
        "　As we know, `statistics.pvariance(sample)` is function to find the sample variance for a given sample. The `statistics` library also has a function to find the unbiased variance, which is an unbiased estimator. Do a Google search, etc., and answer the name of the function for finding the unbiased variance.\n",
        "Note, however, that **the official Python documentation, for example, misuses some words such as population variance, sample variance, and so on**, so you need to read the definition of variance and the annotations.\n",
        "\n",
        "　For students who can find it quickly (not to be graded): Revise the above code to calculate the expected value (mean) of the unbiased variance and make sure that the mean value of the unbiased variance approaches 1.0, which is the population variance."
      ]
    },
    {
      "cell_type": "markdown",
      "metadata": {
        "id": "TzQ4JhzpOH_U"
      },
      "source": [
        "<!-- JPN -->\n",
        "<font color=orange> **このテキストセルに答案を記述せよ。** </font>"
      ]
    },
    {
      "cell_type": "markdown",
      "metadata": {
        "id": "l3hAeAKUOH_U"
      },
      "source": [
        "<!-- ENG -->\n",
        "<font color=orange> **Write your answer in this text cell.** </font>"
      ]
    },
    {
      "cell_type": "markdown",
      "metadata": {
        "id": "aFYZ2WbJr2wS"
      },
      "source": [
        "-------"
      ]
    },
    {
      "cell_type": "markdown",
      "metadata": {
        "id": "HGOhUD9tOH_U"
      },
      "source": [
        "<!-- JPN -->\n",
        "\n",
        "# 3 | 有意性検定\n",
        "\n",
        "1袋100gと記載されたポテトチップスを考えよう。このポテトチップスを5袋買ったところ、95g, 98g, 102g, 90g, 94gであった。さて、本当にこのポテトチップスは100g詰めるように製造されているのだろうか？"
      ]
    },
    {
      "cell_type": "markdown",
      "metadata": {
        "id": "8FAcKGR7OH_V"
      },
      "source": [
        "<!-- ENG -->\n",
        "# 3 | Significance Test\n",
        "\n",
        "Consider a bag of chips labeled 100g. When we buy 5 bags of these chips, they are 95g, 98g, 102g, 90g, and 94g. Now, are these chips really manufactured to pack 100g?"
      ]
    },
    {
      "cell_type": "markdown",
      "metadata": {
        "id": "J3zhheZKOH_V"
      },
      "source": [
        "<!-- JPN -->\n",
        "有意性検定とは、得られたサンプル（95g, 98g, 102g, 90g, 94g）をもとに母集団に対する疑わしい仮説（1袋100gは本当か？）を確率的に検証する手法であり、以下の手順で実施される。"
      ]
    },
    {
      "cell_type": "markdown",
      "metadata": {
        "id": "0tW1Fc12OH_V"
      },
      "source": [
        "<!-- ENG -->\n",
        "Significance test is a method of probabilistically testing a suspect hypothesis for a population (are they manufactured to pack 100g?) based on the obtained sample (95g, 98g, 102g, 90g, and 94g), and is performed by the following steps."
      ]
    },
    {
      "cell_type": "markdown",
      "metadata": {
        "id": "KYHsHScjOH_V"
      },
      "source": [
        "<!-- JPN -->\n",
        "1. 帰無仮説 $H_0$ を設定する。「**1袋あたり平均100gのポテトチップスが入れられている**」\n",
        "2. 有意水準 $\\alpha$ を決定する。「**5% ($\\alpha=0.05$) 以上の確率で1袋あたり100gのポテトチップスが入っていると言えるか？**」\n",
        "3. P値を算出し、帰無仮説 $H_0$ が正しいか否かを判定する。「**計算してみたら10%くらいの確率で1袋100gと言えるので、間違っていなさそうだ**」"
      ]
    },
    {
      "cell_type": "markdown",
      "metadata": {
        "id": "82R_QWiIOH_V"
      },
      "source": [
        "<!-- ENG -->\n",
        "1. Set up the null hypothesis $H_0$. \"**Each bag of chips contains 100g on average**\"\n",
        "2. Determine the significance level $\\alpha$. \"**Can we conclude these bags contains 100g on average with probability of 5% ($\\alpha=0.05$) or more?**\"\n",
        "3. Calculate the P-value and determine whether the null hypothesis $H_0$ is significant. \"**The statistical test indicates each bag of chips contains 100g with probability of 10%, thus the hypothesis is not wrong.**\""
      ]
    },
    {
      "cell_type": "markdown",
      "metadata": {
        "id": "C75GXBQSOH_V"
      },
      "source": [
        "<!-- JPN -->\n",
        "　有意性検定の例として、有意水準 $\\alpha = 0.05$ として、「Irisデータセットの `PetalWidth` の母平均は1.5と言えるだろうか？」という仮説の検定を行ってみよう。\n",
        "この時、**この仮説が正しいと言える確率が0.05を下回る場合**は帰無仮説 $H_0$ が棄却され、**`PetalWidth`の平均は1.5ではない**と言える。"
      ]
    },
    {
      "cell_type": "markdown",
      "metadata": {
        "id": "vzcf1ZzwOH_V"
      },
      "source": [
        "<!-- ENG -->\n",
        "　As an example of a significance test, let's try testing a null hypothesis \"Can we conclude the population mean of `PetalWidth` is 1.5?\" with a significance level of $\\alpha = 0.05$.\n",
        "If **a probability of a null hypothesis is less than 0.05**, the null hypothesis is rejected, and we conclude **the population mean of `PetalWidth` is not 1.5**."
      ]
    },
    {
      "cell_type": "markdown",
      "metadata": {
        "id": "q53jw2Z_OH_V"
      },
      "source": [
        "<!-- JPN -->\n",
        "　このような検定のことを「1標本のt検定」などと呼び、Pythonでは `Scipy.stats.ttest_1samp()` 関数で実行することができる。"
      ]
    },
    {
      "cell_type": "markdown",
      "metadata": {
        "id": "REkgMFYBOH_V"
      },
      "source": [
        "<!-- ENG -->\n",
        "　This significance test is called as \"one-sample t-test\". We can execute it with `Scipy.stats.ttest_1samp()` function."
      ]
    },
    {
      "cell_type": "code",
      "execution_count": null,
      "metadata": {
        "id": "15ArAzfiOH_V"
      },
      "outputs": [],
      "source": [
        "import pandas as pd\n",
        "df = pd.read_csv(\"iris.csv\")\n",
        "print(df)"
      ]
    },
    {
      "cell_type": "code",
      "execution_count": null,
      "metadata": {
        "id": "IHoO3S8ZOH_V"
      },
      "outputs": [],
      "source": [
        "from scipy import stats\n",
        "\n",
        "alpha = 0.05\n",
        "t, p = stats.ttest_1samp(df[\"PetalWidth\"], 1.5)\n",
        "\n",
        "if alpha >= p:\n",
        "    print(f\"H_0 is rejected. (alpha={alpha}, p-value={p})\")\n",
        "else:\n",
        "    print(f\"H_0 is not rejected. (alpha={alpha}, p-value={p})\")"
      ]
    },
    {
      "cell_type": "markdown",
      "metadata": {
        "id": "Naw8XK1DOH_V"
      },
      "source": [
        "<!-- JPN -->\n",
        "`scipy.stats.ttest_1samp()` 関数の返り値は `(t値, p値)` のタプルがである。p値が帰無仮説 $H_0$ が正しい確率 (probability value) であるが、結果は $p = 3.27 \\times 10^{-6}$ と極めて低い。すなわち、帰無仮説「Irisデータセットの `PetalWidth` の母平均は1.5と言えるだろうか？」は棄却され、「Irisデータセットの `PetalWidth` の母平均は1.5**ではない**」という結論を得た。"
      ]
    },
    {
      "cell_type": "markdown",
      "metadata": {
        "id": "JHrdLJnfOH_V"
      },
      "source": [
        "<!-- ENG -->\n",
        "The return value of `scipy.stats.ttest_1samp()` is a tuple of (t-value, p-value). p-value represents the probability which the null hypothesis $H_0$ is true. The result was $p = 3.27 \\times 10^{-6}$, which is smaller than the pre-determined significance level. Therefore, the null hypothesis $H_0$, \"Can we conclude the population mean of `PetalWidth` is 1.5?\" was rejected and we can conclude \"the population mean of `PetalWidth` **is not** 1.5`\"."
      ]
    },
    {
      "cell_type": "markdown",
      "metadata": {
        "id": "N5MsA3_HNptu"
      },
      "source": [
        "-------"
      ]
    },
    {
      "cell_type": "markdown",
      "metadata": {
        "id": "cUrUOeI5pphK"
      },
      "source": [
        "<!-- JPN -->\n",
        "## 4 | matplotlibを利用した図の描画\n",
        "\n",
        "　これまではひたすら数値を抜き出して表示させたり、あるいは平均値や最小値、最大値、分散などの値を計算していた。一方、沢山のデータの傾向を眺めるのに図を作成することは非常に効果的である。\n",
        "ここでは、matplotlibという別のライブラリを利用して、図の作成を行ってみる。matplotlibを使うと、ヒストグラムや箱ひげ図 (box plot) を簡単に作成することができる。\n"
      ]
    },
    {
      "cell_type": "markdown",
      "metadata": {
        "id": "WtkMzTnE_qRN"
      },
      "source": [
        "<!-- ENG -->\n",
        "　Until now, numerical values ​​have been extracted and displayed, or values ​​such as mean value, minimum value, maximum value, and variance have been calculated. On the other hand, it is very effective to create a diagram to see large data trends.\n",
        "Here, we will try to create a diagram using another library called matplotlib. Using matplotlib, it is easy to create diagrams such as histograms and box plots.\n"
      ]
    },
    {
      "cell_type": "markdown",
      "metadata": {
        "id": "Rcc8qNhHq0ep"
      },
      "source": [
        "![ヒストグラムの例](https://i.imgur.com/YviFPUt.png)\n"
      ]
    },
    {
      "cell_type": "markdown",
      "metadata": {
        "id": "ZtVvO4Atq55O"
      },
      "source": [
        "![箱ひげ図の例](https://i.imgur.com/xYREV5t.png)"
      ]
    },
    {
      "cell_type": "markdown",
      "metadata": {
        "id": "AQ4vs_eFM4LV"
      },
      "source": [
        "<!-- JPN -->\n",
        "### 4.1 | matplotlibの利用準備\n",
        "　まず、新しいライブラリを使う準備を行う。`pandas`でやった時と同じように`import`文を実行する。"
      ]
    },
    {
      "cell_type": "markdown",
      "metadata": {
        "id": "kQ3wvBXy_qRO"
      },
      "source": [
        "<!-- ENG -->\n",
        "### 4.1 | Preparing to use matplotlib\n",
        "　The first step is to prepare to use the new library. Execute the `import` statement in the same way as you did with `pandas`."
      ]
    },
    {
      "cell_type": "code",
      "execution_count": null,
      "metadata": {
        "id": "BRysIdCHIdRK"
      },
      "outputs": [],
      "source": [
        "import matplotlib.pyplot as plt"
      ]
    },
    {
      "cell_type": "markdown",
      "metadata": {
        "id": "eE12_9wRNK4y"
      },
      "source": [
        "<!-- JPN -->\n",
        "　また、先ほどと同様のirisのデータセットを用いるため、準備を行う。\n",
        "もしフォルダから `iris.csv` が消去されてしまっていたら、再度アップロードの作業を行った上で、以下のコードを実行する。"
      ]
    },
    {
      "cell_type": "markdown",
      "metadata": {
        "id": "v_mRKaI0_qRP"
      },
      "source": [
        "<!-- ENG -->\n",
        "　We will also prepare to use the same iris data set as before.\n",
        "If `iris.csv` has been erased from the folder, perform the upload process again, and then run the following code."
      ]
    },
    {
      "cell_type": "code",
      "execution_count": null,
      "metadata": {
        "id": "SOI7_B7urLeP"
      },
      "outputs": [],
      "source": [
        "import pandas as pd\n",
        "df = pd.read_csv(\"iris.csv\") # Read the CSV"
      ]
    },
    {
      "cell_type": "markdown",
      "metadata": {
        "id": "nVMGQb1NqtH5"
      },
      "source": [
        "<!-- JPN -->\n",
        "### 4.2 | ヒストグラムの描画"
      ]
    },
    {
      "cell_type": "markdown",
      "metadata": {
        "id": "HGgdexyo_qRP"
      },
      "source": [
        "<!-- ENG -->\n",
        "### 4.2 | Drawing a histogram"
      ]
    },
    {
      "cell_type": "markdown",
      "metadata": {
        "id": "ZCiWxZ-HqsmZ"
      },
      "source": [
        "<!-- JPN -->\n",
        "　`matplotlib`を使って早速ヒストグラムを描画してみよう。\n",
        "最も単純には、以下のコードで書くことができる。"
      ]
    },
    {
      "cell_type": "markdown",
      "metadata": {
        "id": "uKApOMK__qRP"
      },
      "source": [
        "<!-- ENG -->\n",
        "　Let's try to draw a histogram using `matplotlib`.\n",
        "At its simplest, a histogram can be written with the following code."
      ]
    },
    {
      "cell_type": "code",
      "execution_count": null,
      "metadata": {
        "id": "0FN1JrE2NfyL"
      },
      "outputs": [],
      "source": [
        "plt.hist(df[\"PetalWidth\"]) # Enter the data for which you want to draw a histogram in the argument\n",
        "                           # of the function hist() that writes the histogram.\n",
        "plt.show()                 # Use show() to display the figure instead of print()"
      ]
    },
    {
      "cell_type": "markdown",
      "metadata": {
        "id": "-jNmG4CPN1EQ"
      },
      "source": [
        "<!-- JPN -->\n",
        "　上記のコードでは、$x$ 軸や $y$ 軸がどういう値か図に示されていない。これを図に含めるためには、`plt.xlabel()`、`plt.ylabel()`を使えば良い。"
      ]
    },
    {
      "cell_type": "markdown",
      "metadata": {
        "id": "JNZ5lGZ5_qRP"
      },
      "source": [
        "<!-- ENG -->\n",
        "　In the above code, the figure does not show what values the $x$-axis and $y$-axis have. To include this in the diagram, you can use `plt.xlabel()` and `plt.ylabel()`."
      ]
    },
    {
      "cell_type": "code",
      "execution_count": null,
      "metadata": {
        "id": "xBCgeVzVJOMj"
      },
      "outputs": [],
      "source": [
        "plt.hist(df[\"PetalWidth\"])\n",
        "plt.xlabel(\"PetalWidth\")   # Explanation of the x-axis\n",
        "plt.ylabel(\"Frequency\")    # Explanation of the y-axis\n",
        "plt.show()"
      ]
    },
    {
      "cell_type": "markdown",
      "metadata": {
        "id": "63uI1PKVOapD"
      },
      "source": [
        "<!-- JPN -->\n",
        "　matplotlibで作成した図は、画像（png等）やPDFで保存することができる。この場合は、`plt.show()`関数の代わりに`plt.savefig(filename)`で保存する。"
      ]
    },
    {
      "cell_type": "markdown",
      "metadata": {
        "id": "-5386Auz_qRQ"
      },
      "source": [
        "<!-- ENG -->\n",
        "　Diagrams created with matplotlib can be saved as images (png, etc.) or PDFs. In this case, instead of the `plt.show()` function, save the file using `plt.savefig(filename)`."
      ]
    },
    {
      "cell_type": "code",
      "execution_count": null,
      "metadata": {
        "id": "8cQ_YPzhUWTG"
      },
      "outputs": [],
      "source": [
        "plt.hist(df[\"PetalWidth\"])\n",
        "plt.xlabel(\"PetalWidth\")   # Explanation of the x-axis\n",
        "plt.ylabel(\"Frequency\")    # Explanation of the y-axis\n",
        "plt.savefig(\"histogram_pWidth.png\") # Depending on the extension, a PDF is generated or an image is generated\n",
        "### In the case of Google Colab, it will also appear on the screen."
      ]
    },
    {
      "cell_type": "markdown",
      "metadata": {
        "id": "7YoUGc72k25q"
      },
      "source": [
        "<!-- JPN -->\n",
        "　作成したファイルは、csvファイルをアップロードした場所に表示される。もし表示されない場合は、「アップロード」ボタンの隣にある「更新」をクリックすれば表示されるはずである。"
      ]
    },
    {
      "cell_type": "markdown",
      "metadata": {
        "id": "bgRUkbHU_qRQ"
      },
      "source": [
        "<!-- ENG -->\n",
        "　The file you created will be displayed in the location where you uploaded the csv file. If you don't see it, click \"Refresh\" next to the \"Upload\" button and it should appear."
      ]
    },
    {
      "cell_type": "markdown",
      "metadata": {
        "id": "lEsfMUGDXjMN"
      },
      "source": [
        "<!-- JPN -->\n",
        "　なお、`plt.savefig()` と `plt.show()` はどちらか片方のみ使うように注意してほしい。特に、 `plt.show()` の後に `plt.savefig()` しても、何も描画されていない画像ファイルが生成される。"
      ]
    },
    {
      "cell_type": "markdown",
      "metadata": {
        "id": "Pr-61-u5X9sq"
      },
      "source": [
        "<!-- ENG -->\n",
        "　Note that only one of `plt.savefig()` and `plt.show()` should be used. In particular, `plt.show()` followed by `plt.savefig()` produces an image file with no drawing."
      ]
    },
    {
      "cell_type": "code",
      "execution_count": null,
      "metadata": {
        "id": "MlMCPy3PYAZG"
      },
      "outputs": [],
      "source": [
        "# figure will be correctly saved, but nothing is shown.\n",
        "\n",
        "plt.hist(df[\"PetalWidth\"])\n",
        "plt.xlabel(\"PetalWidth\")\n",
        "plt.ylabel(\"Frequency\")\n",
        "\n",
        "plt.show()\n",
        "plt.savefig(\"nothing.png\")\n"
      ]
    },
    {
      "cell_type": "markdown",
      "metadata": {
        "id": "2aI_nskks1pQ"
      },
      "source": [
        "<!-- JPN -->\n",
        "### 4.3 | 箱ひげ図 (boxplot) の描画"
      ]
    },
    {
      "cell_type": "markdown",
      "metadata": {
        "id": "fJ8HGQJy_qRQ"
      },
      "source": [
        "<!-- ENG -->\n",
        "### 4.3 | Drawing a boxplot"
      ]
    },
    {
      "cell_type": "markdown",
      "metadata": {
        "id": "suSlkN8nuVJi"
      },
      "source": [
        "<!-- JPN -->\n",
        "　箱ひげ図 (boxplot) は、以下の情報を一度に表示することで、データセットの分布の概形を知ることができるものである。\n",
        "\n",
        "* （外れ値を除いた）最大値　　　　：最上部の横線\n",
        "* 75パーセンタイル（第三四分位数）：箱の上面\n",
        "* 50パーセンタイル（中央値）　　　：箱内部の赤線\n",
        "* 25パーセンタイル（第一四分位数）：箱の下面\n",
        "* （外れ値を除いた）最小値　　　　：最下部の横線\n",
        "* 外れ値　　　　　　　　　　　　　：丸点"
      ]
    },
    {
      "cell_type": "markdown",
      "metadata": {
        "id": "-o1xO2u5_qRQ"
      },
      "source": [
        "<!-- ENG -->\n",
        "　Boxplot is a way to get a rough idea of the distribution of a data set by displaying the following information all at one time.\n",
        "\n",
        "* Maximum value (excluding outliers)　 : Horizontal line at the top\n",
        "* 75th percentile (third quartile)　　　　: Top of the box\n",
        "* 50th percentile (median)　　　　　　: Red line inside the box\n",
        "* 25th percentile (first quartile)　　　　: Underside of the box\n",
        "* Minimum value (excluding outliers)　: Horizontal line at the bottom\n",
        "* Outlier　　　　　　　　　　　　　　: Circle(s)"
      ]
    },
    {
      "cell_type": "markdown",
      "metadata": {
        "id": "hv-Kl1pQO1rp"
      },
      "source": [
        "<!-- JPN -->\n",
        "　それでは、Iris-setosaのPetalWidthについて、箱ひげ図を描画してみる。最も単純には、以下のコードで箱ひげ図を作成することができる。\n",
        "\n"
      ]
    },
    {
      "cell_type": "markdown",
      "metadata": {
        "id": "ffr7NdqH_qRR"
      },
      "source": [
        "<!-- ENG -->\n",
        "　Now, let's draw a boxplot for the PedalWidth of Iris-setosa. At its simplest, the following code can be used to create a boxplot diagram.\n",
        "\n"
      ]
    },
    {
      "cell_type": "code",
      "execution_count": null,
      "metadata": {
        "id": "1ujVIKINs-mC"
      },
      "outputs": [],
      "source": [
        "setosa = df[df[\"Name\"] == \"Iris-setosa\"]\n",
        "plt.boxplot(setosa[\"PetalWidth\"])\n",
        "plt.show()"
      ]
    },
    {
      "cell_type": "markdown",
      "metadata": {
        "id": "5msq7WdFtJ95"
      },
      "source": [
        "<!-- JPN -->\n",
        "　この場合は、第一四分位数と中央値が一致しているため、箱の下面が赤線になっている。"
      ]
    },
    {
      "cell_type": "markdown",
      "metadata": {
        "id": "_2ccE4lg_qRR"
      },
      "source": [
        "<!-- ENG -->\n",
        "　In this case, the first quartile and the median are the same, so the bottom of the box has a red line."
      ]
    },
    {
      "cell_type": "markdown",
      "metadata": {
        "id": "R-Q_YBXfwYAv"
      },
      "source": [
        "<!-- JPN -->\n",
        "　次に、少し複雑な箱ひげ図を作成してみよう。Iris-setosa, Iris-versicolor, Iris-virginicaのそれぞれのPetalWidthの箱ひげ図を、同じグラフで表示する。複数のデータを入力するときは、`plt.boxplot()`に**配列として**与える。"
      ]
    },
    {
      "cell_type": "markdown",
      "metadata": {
        "id": "MOzjLRZx_qRR"
      },
      "source": [
        "<!-- ENG -->\n",
        "　Next, let's create a slightly more complex boxplot diagram. The boxplot of PedalWidth for Iris-setosa, Iris-versicolor, and Iris-virginica, respectively, are displayed in the same graph. When inputting multiple data, give them to `plt.boxplot()` **as an array**."
      ]
    },
    {
      "cell_type": "code",
      "execution_count": null,
      "metadata": {
        "id": "yJisnEx5KH28"
      },
      "outputs": [],
      "source": [
        "setosa = df[df[\"Name\"] == \"Iris-setosa\"]\n",
        "versicolor = df[df[\"Name\"] == \"Iris-versicolor\"]\n",
        "virginica = df[df[\"Name\"] == \"Iris-virginica\"]\n",
        "\n",
        "plt.boxplot([setosa[\"PetalWidth\"], versicolor[\"PetalWidth\"], virginica[\"PetalWidth\"]]) # Gather multiple inputs into an array\n",
        "plt.show()"
      ]
    },
    {
      "cell_type": "markdown",
      "metadata": {
        "id": "lctk4YByxLtP"
      },
      "source": [
        "<!-- JPN -->\n",
        "　ところで、1, 2, 3ではどれがどのデータだかわからない。ここに\"Iris-setosa\"などと表示させたい場合には、\n",
        "`plt.boxplot()`関数の`labels`引数を用いる。"
      ]
    },
    {
      "cell_type": "markdown",
      "metadata": {
        "id": "n7l53QFt_qRS"
      },
      "source": [
        "<!-- ENG -->\n",
        "　By the way, we don't know which data is which as it is shown as 1, 2, and 3. If you want to display such as \"Iris-setosa\" here, you can use the `labels` argument of the `plt.boxplot()` function."
      ]
    },
    {
      "cell_type": "code",
      "execution_count": null,
      "metadata": {
        "id": "6MiMeU3fw6N7"
      },
      "outputs": [],
      "source": [
        "setosa = df[df[\"Name\"] == \"Iris-setosa\"]\n",
        "versicolor = df[df[\"Name\"] == \"Iris-versicolor\"]\n",
        "virginica = df[df[\"Name\"] == \"Iris-virginica\"]\n",
        "\n",
        "plt.boxplot([setosa[\"PetalWidth\"], versicolor[\"PetalWidth\"], virginica[\"PetalWidth\"]],\n",
        "            labels=[\"Iris-setosa\", \"Iris-versicolor\", \"Iris-virginica\"])\n",
        "plt.ylabel(\"PetalWidth\")\n",
        "plt.show()"
      ]
    },
    {
      "cell_type": "markdown",
      "metadata": {
        "id": "w8LF3Udcxqfe"
      },
      "source": [
        "<!-- JPN -->\n",
        "### 4.4 | 散布図の描画"
      ]
    },
    {
      "cell_type": "markdown",
      "metadata": {
        "id": "vEHp9LdC_qRS"
      },
      "source": [
        "<!-- ENG -->\n",
        "### 4.4 | Drawing a scatter plot"
      ]
    },
    {
      "cell_type": "markdown",
      "metadata": {
        "id": "I6B_cqcjvA4K"
      },
      "source": [
        "<!-- JPN -->\n",
        "　さらに、散布図 (scatter plot) を作成してみる。散布図は二つの変数の関係を見る際に非常に有用である。"
      ]
    },
    {
      "cell_type": "markdown",
      "metadata": {
        "id": "QiyFOxia_qRT"
      },
      "source": [
        "<!-- ENG -->\n",
        "　Next, we will try creating a scatter plot. Scatter plots are very useful in looking at the relationship between two variables."
      ]
    },
    {
      "cell_type": "code",
      "execution_count": null,
      "metadata": {
        "id": "aYAitO_av9eR"
      },
      "outputs": [],
      "source": [
        "plt.scatter(df[\"PetalWidth\"], df[\"PetalLength\"])\n",
        "plt.xlabel(\"PetalWidth\")\n",
        "plt.ylabel(\"PetalLength\")\n",
        "\n",
        "plt.show()"
      ]
    },
    {
      "cell_type": "markdown",
      "metadata": {
        "id": "9MtSuSqUyD2f"
      },
      "source": [
        "<!-- JPN -->\n",
        "　散布図では、凡例を記述することができる。"
      ]
    },
    {
      "cell_type": "markdown",
      "metadata": {
        "id": "DN59jNZN_qRT"
      },
      "source": [
        "<!-- ENG -->\n",
        "　In a scatter plot, a legend can be displayed."
      ]
    },
    {
      "cell_type": "code",
      "execution_count": null,
      "metadata": {
        "id": "HH8D7H8kyJ4i"
      },
      "outputs": [],
      "source": [
        "plt.scatter(df[\"PetalWidth\"], df[\"PetalLength\"], label=\"all data\") #  The label is set to be displayed in the legend\n",
        "plt.xlabel(\"PetalWidth\")\n",
        "plt.ylabel(\"PetalLength\")\n",
        "plt.legend() # Display a legend\n",
        "\n",
        "plt.show()"
      ]
    },
    {
      "cell_type": "markdown",
      "metadata": {
        "id": "pOeDFvY6osAv"
      },
      "source": [
        "---"
      ]
    },
    {
      "cell_type": "markdown",
      "metadata": {
        "deletable": false,
        "editable": false,
        "id": "QuaIhKg_Qmgc"
      },
      "source": [
        "<!-- JPN -->\n",
        "##### 課題 4\n",
        "\n",
        "　下図のように、図の上部にタイトルを付けたい。Google検索などを駆使して、実際に図を作成し、 `scatter_plot_with_title.svg` としてファイルに保存するプログラムを作成せよ。"
      ]
    },
    {
      "cell_type": "markdown",
      "metadata": {
        "deletable": false,
        "editable": false,
        "id": "NXWPJDCh_qRT"
      },
      "source": [
        "<!-- ENG -->\n",
        "##### Exercise 4\n",
        "\n",
        "　Add a title to the top of the figure, as shown below. Making full use of Google search, etc., implement a code to create the figure and save as `scatter_plot_with_title.svg`."
      ]
    },
    {
      "cell_type": "markdown",
      "metadata": {
        "deletable": false,
        "editable": false,
        "id": "kMe-QONryi6Z"
      },
      "source": [
        "![図2.4](https://i.imgur.com/m6vQ6sV.png)\n"
      ]
    },
    {
      "cell_type": "code",
      "execution_count": null,
      "metadata": {
        "tags": [],
        "id": "uXk5qmvzOH_Z"
      },
      "outputs": [],
      "source": [
        "# CODE CELL FOR YOUR ANSWER\n",
        "...\n",
        "\n",
        "plt.savefig(\"scatter_plot_with_title.svg\")"
      ]
    },
    {
      "cell_type": "markdown",
      "metadata": {
        "id": "x7qrNwwxotyN"
      },
      "source": [
        "---"
      ]
    },
    {
      "cell_type": "markdown",
      "metadata": {
        "deletable": false,
        "editable": false,
        "id": "qKyoEfr5x7Yb"
      },
      "source": [
        "<!-- JPN -->\n",
        "##### 課題 5（発展）\n",
        "　箱ひげ図同様に、散布図でもsetosa, versicolor, virginicaの区別をつけて描画してみたい。凡例を付けて、3種類のデータが区別できるように散布図を描画するコードを作成し、 `scatter_plot_with_title_and_legend.svg` を出力せよ。"
      ]
    },
    {
      "cell_type": "markdown",
      "metadata": {
        "deletable": false,
        "editable": false,
        "id": "d_jfGde3_qRU"
      },
      "source": [
        "<!-- ENG -->\n",
        "##### Exercise 5 (Advanced)\n",
        "　As with the boxplot, implement a code to draw the scatter plot showing the distinction between setosa, versicolor, and virginica. Also display a legend in a scatter plot so that the three types of data can be distinguished. Save the figure as `scatter_plot_with_title_and_legend.svg`."
      ]
    },
    {
      "cell_type": "markdown",
      "metadata": {
        "deletable": false,
        "editable": false,
        "id": "p92qm-VhOH_Z"
      },
      "source": [
        "![図2.5](https://i.imgur.com/ep8wlSh.png)"
      ]
    },
    {
      "cell_type": "code",
      "execution_count": null,
      "metadata": {
        "tags": [],
        "id": "Ddtz3Z5vOH_Z"
      },
      "outputs": [],
      "source": [
        "# CODE CELL FOR YOUR ANSWER\n",
        "...\n",
        "\n",
        "plt.savefig(\"scatter_plot_with_title_and_legend.svg\")"
      ]
    },
    {
      "cell_type": "markdown",
      "metadata": {
        "id": "JGtKLO13owov"
      },
      "source": [
        "---"
      ]
    },
    {
      "cell_type": "markdown",
      "metadata": {
        "id": "Qbu39Yd11BMb"
      },
      "source": [
        "<!-- JPN -->\n",
        "# 補足資料\n",
        "\n",
        "## ※1：matplotlibで作れる様々な図\n",
        "\n",
        "matplotlibは他にも様々な図、あるいは複雑な図を作成することが可能である。[matplotlibのチュートリアル](https://matplotlib.org/3.1.0/tutorials/introductory/pyplot.html#sphx-glr-tutorials-introductory-pyplot-py)など、参考にしてほしい。\n"
      ]
    },
    {
      "cell_type": "markdown",
      "metadata": {
        "id": "oUoisMDm_qRV"
      },
      "source": [
        "<!-- ENG -->\n",
        "# Supplementary Material\n",
        "\n",
        "## S1: Various diagrams that can be created with matplotlib\n",
        "\n",
        "matplotlib is capable of creating various other diagrams, or complex diagrams. Please refer to the [matplotlib tutorials](https://matplotlib.org/3.1.0/tutorials/introductory/pyplot.html#sphx-glr-tutorials-introductory-pyplot-py) and other resources.\n"
      ]
    }
  ],
  "metadata": {
    "colab": {
      "provenance": [],
      "toc_visible": true
    },
    "kernelspec": {
      "display_name": "Python 3.9.12 ('base')",
      "language": "python",
      "name": "python3"
    },
    "language_info": {
      "codemirror_mode": {
        "name": "ipython",
        "version": 3
      },
      "file_extension": ".py",
      "mimetype": "text/x-python",
      "name": "python",
      "nbconvert_exporter": "python",
      "pygments_lexer": "ipython3",
      "version": "3.9.12"
    },
    "otter": {
      "OK_FORMAT": true,
      "tests": {
        "q1": {
          "name": "q1",
          "points": 4,
          "suites": [
            {
              "cases": [],
              "scored": true,
              "setup": "",
              "teardown": "",
              "type": "doctest"
            }
          ]
        },
        "q4": {
          "name": "q4",
          "points": 2,
          "suites": [
            {
              "cases": [],
              "scored": true,
              "setup": "",
              "teardown": "",
              "type": "doctest"
            }
          ]
        },
        "q5": {
          "name": "q5",
          "points": 2,
          "suites": [
            {
              "cases": [],
              "scored": true,
              "setup": "",
              "teardown": "",
              "type": "doctest"
            }
          ]
        }
      }
    },
    "vscode": {
      "interpreter": {
        "hash": "d4d1e4263499bec80672ea0156c357c1ee493ec2b1c70f0acce89fc37c4a6abe"
      }
    }
  },
  "nbformat": 4,
  "nbformat_minor": 0
}