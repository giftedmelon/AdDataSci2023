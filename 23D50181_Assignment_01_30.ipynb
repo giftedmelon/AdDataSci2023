{
  "cells": [
    {
      "cell_type": "markdown",
      "metadata": {
        "id": "TTrww-rcaX-6"
      },
      "source": [
        "<!-- JPN -->\n",
        "# 畳み込みニューラルネットワーク (CNN)\n",
        "\n",
        "※本演習資料の二次配布・再配布はお断り致します。"
      ]
    },
    {
      "cell_type": "markdown",
      "metadata": {
        "id": "qbNINv7M6LSk"
      },
      "source": [
        "<!-- ENG -->\n",
        "# Convolutional neural network (CNN)\n",
        "\n",
        "※Distribution or redistribution of these exercise materials without the copyright holder's permission is not permitted."
      ]
    },
    {
      "cell_type": "markdown",
      "metadata": {
        "id": "vvn85rDMveId"
      },
      "source": [
        "<!-- JPN -->\n",
        "　畳み込みニューラルネットワーク (CNN) は画像の学習・予測に広く用いられている手法である。ここでは、MNISTの分類予測を通して、畳み込みニューラルネットワークの効果を見てみることにする。"
      ]
    },
    {
      "cell_type": "markdown",
      "metadata": {
        "id": "xiyu-Dog6LSn"
      },
      "source": [
        "<!-- ENG -->\n",
        "　Convolutional Neural Network (CNN) is so widely used to image recognition tasks. Let's see the effectiveness of CNN by performing the MNIST classification prediction."
      ]
    },
    {
      "cell_type": "markdown",
      "metadata": {
        "id": "V1mwvyaCKr-E"
      },
      "source": [
        "<!-- JPN -->\n",
        "### 1 | CNNの構成要素のおさらい\n",
        "\n",
        "　2次元のCNNは `torch.nn.Conv2d(16, 32, kernel_size=(5, 5), padding=2, stride=2)` のように定義するのだが、見てわかるようにこれまでの `torch.nn.Linear(512, 512)` に比べると設定すべきパラメータが多い。\n",
        "これから自分が組むニューラルネットワークがどのような計算を行っているかを理解することは大切なので、講義でも習った要素を今一度確認しよう。"
      ]
    },
    {
      "cell_type": "markdown",
      "metadata": {
        "id": "dTFdal6I6LSt"
      },
      "source": [
        "<!-- ENG -->\n",
        "### 1 | Review of CNN components\n",
        "\n",
        "　Two-dimensional CNN is defined as `torch.nn.Conv2d(16, 32, kernel_size=(5, 5), padding=2, stride=2)`, but as you can see, there are more parameters to set than `torch.nn.Linear(512, 512)` which we have already seen.\n",
        "It is important to understand how  the calculations is performed in the neural network you are going to build, so let's confirm the elements we learned in the lecture once again."
      ]
    },
    {
      "cell_type": "markdown",
      "metadata": {
        "id": "EyCfw_C1okcJ"
      },
      "source": [
        "<!-- JPN -->\n",
        "#### 1.1 | 畳み込み演算\n",
        "　画像処理における「畳み込み」という操作は、入力行列 $f$ とフィルタ $g$ を入力として、**フィルタの適用範囲を平行移動させながら $f$ と $g$ の積和を計算していく処理**であり、一般的には **$f*g$** と記述する。なお、後述のパディングを行わない限り出力の画像サイズは入力の画像サイズよりも小さくなることに注意しよう。\n",
        "\n",
        "　この演算において、学習する重み $\\boldsymbol{w}$ はどこにあるだろうか。**フィルタ $g$ の各要素が学習によって最適化される重み**である。"
      ]
    },
    {
      "cell_type": "markdown",
      "metadata": {
        "id": "kzni0DLI6LSv"
      },
      "source": [
        "<!-- ENG -->\n",
        "#### 1.1 | Convolution operation\n",
        "\n",
        "　The \"convolution\" operation in image processing is **a process that calculates the sum of products of $f$ and $g$, that is normally indicated as $f*g$, while moving the filter application range in parallel** with the input matrix $f$ and the filter $g$ as inputs. Note that the output image size will be smaller than the input image size unless padding is applied as described below.\n",
        "\n",
        "\n",
        "\n",
        "　In this operation, where are the weights $\\boldsymbol{w}$ to be trained? **Each element of the filter $g$ is a weight to be optimized by training**."
      ]
    },
    {
      "cell_type": "markdown",
      "metadata": {
        "id": "eTodB7aVolu9"
      },
      "source": [
        "<img src=\"https://i.imgur.com/GTQj9dH.png\" alt=\"Figure 1\" width=\"50%\"></img>"
      ]
    },
    {
      "cell_type": "markdown",
      "metadata": {
        "id": "Ry3S-jFQKvQB"
      },
      "source": [
        "<!-- JPN -->\n",
        "#### 1.2 | 入力チャネル数と出力チャネル数\n"
      ]
    },
    {
      "cell_type": "markdown",
      "metadata": {
        "id": "vQXJx2-Q6LSx"
      },
      "source": [
        "<!-- ENG -->\n",
        "#### 1.2 | Number of input channels and number of output channels"
      ]
    },
    {
      "cell_type": "markdown",
      "metadata": {
        "id": "LOKRdsAQtVLX"
      },
      "source": [
        "<!-- JPN -->\n",
        "　最も単純なCNNは各ピクセルごとに1つの値が存在するデータを処理する例である。これは、グレースケールの画像（例えばこれまでやってきたMNIST）を入力とする時などが考えられる。\n",
        "一方、例えばカラーの画像はRGB (Red, Green, Blue) の3つのデータが各ピクセルに与えられており、これは**3チャネルの入力**ということができる。この場合は、1つの出力値を作るために3倍の計算を行う必要がある。\n",
        "\n"
      ]
    },
    {
      "cell_type": "markdown",
      "metadata": {
        "id": "yubnTvpetVLX"
      },
      "source": [
        "<!-- ENG -->\n",
        "　The simplest CNN is an example of processing data where there is one value for each pixel. This may be the case when considering a grayscale image as an input (for example, MNIST which we have seen before).\n",
        "On the other hand, a color image, for example, has three RGB (Red, Green, Blue) data given to each pixel, which can be called **a three-channel input**. In this case, it is necessary to perform three times as many calculations to create one output value.\n"
      ]
    },
    {
      "cell_type": "markdown",
      "metadata": {
        "id": "6BzIt9T5onTf"
      },
      "source": [
        "![Figure 2](https://i.imgur.com/y3t7aw6.png)"
      ]
    },
    {
      "cell_type": "markdown",
      "metadata": {
        "id": "CrYmAq697HX4"
      },
      "source": [
        "<!-- JPN -->\n",
        "　さらに、フィルタを複数用意することで出力チャネル数も複数にすることができる。下図は**入力チャネル数が3、出力チャネル数が2**であるようなCNNの例になっている。\n",
        "\n",
        "　`torch.nn.Conv2d(16, 32, kernel_size=(5, 5), padding=2, stride=2)` のうち、16と32の数値がそれぞれ入力/出力チャネル数である。"
      ]
    },
    {
      "cell_type": "markdown",
      "metadata": {
        "id": "J_5YApup7HX4"
      },
      "source": [
        "<!-- ENG -->\n",
        "　Furthermore, the number of output channels can be made multiple by preparing multiple filters. For example, Below figure is an example of a CNN such that **the number of input channels is 3 and the number of output channels is 2**.\n",
        "\n",
        "　With `torch.nn.Conv2d(16, 32, kernel_size=(5, 5), padding=2, stride=2)`, the numbers 16 and 32 are the number of input/output channels, respectively."
      ]
    },
    {
      "cell_type": "markdown",
      "metadata": {
        "id": "JRC4WLhroqIX"
      },
      "source": [
        "<img src=\"https://i.imgur.com/mBXnaEY.png\" alt=\"Figure 3\" width=\"50%\"></img>"
      ]
    },
    {
      "cell_type": "markdown",
      "metadata": {
        "id": "NhKYsppNKvF_"
      },
      "source": [
        "<!-- JPN -->\n",
        "#### 1.3 | フィルタサイズ（カーネルサイズ）"
      ]
    },
    {
      "cell_type": "markdown",
      "metadata": {
        "id": "v3T0vubB6LSz"
      },
      "source": [
        "<!-- ENG -->\n",
        "#### 1.3 | Filter size (kernel size)"
      ]
    },
    {
      "cell_type": "markdown",
      "metadata": {
        "id": "BJSQh8nvtVLa"
      },
      "source": [
        "<!-- JPN -->\n",
        "　`torch.nn.Conv2d(16, 32, kernel_size=(5, 5), padding=2, stride=2)` の **`kernel_size=(5,5)`** で与えている情報、これがフィルタサイズ（あるいはカーネルサイズ）である。フィルタサイズは1つの値を出力するための**積和計算を行う範囲を示す値**で、例えば `(3,3)` であれば合計9ピクセルについて、入力データとフィルタとの積和を計算することになる（直前の図の例はフィルタサイズが3×3となっている）。"
      ]
    },
    {
      "cell_type": "markdown",
      "metadata": {
        "id": "vwLlxTrftVLa"
      },
      "source": [
        "<!-- ENG -->\n",
        "　**`kernel_size=(5,5)`** in the statement `torch.nn.Conv2d(16, 32, kernel_size=(5, 5), padding=2, stride=2)`, is the filter size (kernel size). The filter size is **a value that indicates the range where a sum-of-product calculation is performed** to output a single value, for example, `(3,3)` means that the sum-of-product calculation between the input data and the filter is performed for a total of 9 pixels (the example in above figure has a filter size of 3×3)."
      ]
    },
    {
      "cell_type": "markdown",
      "metadata": {
        "id": "wnIN_iaOKu9D"
      },
      "source": [
        "<!-- JPN -->\n",
        "#### 1.4 | パディング (padding)"
      ]
    },
    {
      "cell_type": "markdown",
      "metadata": {
        "id": "T01oFN3j6LSz"
      },
      "source": [
        "<!-- ENG -->\n",
        "#### 1.4 | Padding"
      ]
    },
    {
      "cell_type": "markdown",
      "metadata": {
        "id": "lytjs6j9tVLb"
      },
      "source": [
        "<!-- JPN -->\n",
        "　`torch.nn.Conv2d(16, 32, kernel_size=(5, 5), padding=2, stride=2)` の **`padding=2`** がパディングである。\n",
        "パディングが無いと前述のように出力の画像サイズが小さくなってしまう。それを防ぐために、周囲を0で埋めることがしばしば行われる。これがパディングである。フィルタサイズの1辺が $2k+1$ であるとき、パディングを $k$ とすることで、入力の画像サイズと出力の画像サイズが等しくなる。"
      ]
    },
    {
      "cell_type": "markdown",
      "metadata": {
        "id": "dqKu-HxxtVLb"
      },
      "source": [
        "<!-- ENG -->\n",
        "　**`padding=2`** in the statement `torch.nn.Conv2d(16, 32, kernel_size=(5, 5), padding=2, stride=2)`, represents the padding.\n",
        "If there is no padding, the output image size will be smaller, as mentioned above. To prevent this, the surrounding area is often filled with zeros. This is padding. If one side of the filter size is $2k+1$, then by setting the padding to $k$, the input image size is equal to the output image size."
      ]
    },
    {
      "cell_type": "markdown",
      "metadata": {
        "id": "sUk-bx1eor0K"
      },
      "source": [
        "<img src=\"https://i.imgur.com/s2IWPpB.png\" alt=\"Figure 4\" width=\"50%\"></img>"
      ]
    },
    {
      "cell_type": "markdown",
      "metadata": {
        "id": "V_yjEywdK137"
      },
      "source": [
        "<!-- JPN -->\n",
        "#### 1.5 | ストライド (stride)"
      ]
    },
    {
      "cell_type": "markdown",
      "metadata": {
        "id": "YEnGXx4f6LS0"
      },
      "source": [
        "<!-- ENG -->\n",
        "#### 1.5 | Stride"
      ]
    },
    {
      "cell_type": "markdown",
      "metadata": {
        "id": "g4TO01bHtVLb"
      },
      "source": [
        "<!-- JPN -->\n",
        "　かなり大きな画像に対して学習を行う場合、サイズの圧縮を狙って数ピクセルに1回だけ畳み込みを行うことがある。これがストライドであり、**`stride=2`** がそれにあたる。\n",
        "\n",
        "　ただ、通常はストライドを増やすより、後述のMaxPoolingを利用するのが一般的である。"
      ]
    },
    {
      "cell_type": "markdown",
      "metadata": {
        "id": "0TeRVS_6tVLb"
      },
      "source": [
        "<!-- ENG -->\n",
        "　When training on fairly large images, convolution may be performed only once every few pixels, with the goal of compressing size. This is stride, and **`stride=2`** is the stride.\n",
        "\n",
        "　However, it is usually more common to use max pooling, which is described below, rather than increasing the stride."
      ]
    },
    {
      "cell_type": "markdown",
      "metadata": {
        "id": "5OUbW_XOotJj"
      },
      "source": [
        "<img src=\"https://i.imgur.com/FYKrN2A.png\" alt=\"Figure 5\" width=\"40%\"></img>"
      ]
    },
    {
      "cell_type": "markdown",
      "metadata": {
        "id": "H9F28yz_ou_F"
      },
      "source": [
        "<!-- JPN -->\n",
        "### 1.6 | Max pooling（プーリング層）"
      ]
    },
    {
      "cell_type": "markdown",
      "metadata": {
        "id": "GjjiXi7p6LS1"
      },
      "source": [
        "<!-- ENG -->\n",
        "### 1.6 | Max pooling (Pooling layer)"
      ]
    },
    {
      "cell_type": "markdown",
      "metadata": {
        "id": "uN3fg1VctVLc"
      },
      "source": [
        "<!-- JPN -->\n",
        "　次に、CNNと併せて用いられることが多いmax pooling（プーリング層）について簡単に説明する。Pooling層は複数のピクセルを1つの値にまとめる操作を行うもので、最大値を取るmax poolingが通常用いられる。これにより、わずかな画像の平行移動があっても予測に影響しにくくなると言われている。画像の1辺が1/2, 1/3の単位で小さくなるので、非常に大きな画像を学習する場合にはより大きなストライド幅のプーリング層を用いたり、多数のプーリング層を導入したりする。\n",
        "\n",
        "　PyTorchでは、`torch.nn.MaxPool2d(2)` とすることで、ストライド2の二次元max poolingを行うことができる。"
      ]
    },
    {
      "cell_type": "markdown",
      "metadata": {
        "id": "diltfjAdtVLc"
      },
      "source": [
        "<!-- ENG -->\n",
        "　Next, I will briefly explain max pooling (pooling layer), which is often used in conjunction with CNN. The pooling layer performs the operation of combining multiple pixels into a single value, and max pooling that takes the maximum value is usually used. As a result, it is said that even a slight transition of the image is less likely to affect the prediction.\n",
        "Since one side of the image is reduced by 1/2 or 1/3, a pooling layer having a larger stride width is used or a large number of pooling layers are introduced when processing a very large image.\n",
        "\n",
        "　In PyTorch, we can do two-dimensional max pooling with stride = 2 by using `torch.nn.MaxPool2d(2)`."
      ]
    },
    {
      "cell_type": "markdown",
      "metadata": {
        "id": "FICi8SLBow9f"
      },
      "source": [
        "![Figure 6](https://i.imgur.com/kUH7lra.png)"
      ]
    },
    {
      "cell_type": "markdown",
      "metadata": {
        "id": "C0qxetZJoydF"
      },
      "source": [
        "<!-- JPN -->\n",
        "### 1.7 | Flatten"
      ]
    },
    {
      "cell_type": "markdown",
      "metadata": {
        "id": "3aVjGxgp6LS2"
      },
      "source": [
        "<!-- ENG -->\n",
        "### 1.7 | Flatten"
      ]
    },
    {
      "cell_type": "markdown",
      "metadata": {
        "id": "VfPXqLOptVLd"
      },
      "source": [
        "<!-- JPN -->\n",
        "　最後に、2次元状に並んだデータを（前回の演習までに利用していたような）1次元の配列に直す `torch.nn.Flatten()` について述べておく。 **`Flatten()` とは、2次元（以上）のデータを1次元に変換する操作のこと**である。複数チャネル存在している場合でも、1次元のベクトルに変換する。CNNを用いる学習では、最後の数層は `Linear()` 層を用いることが多いため、2次元空間のピクセル様のデータから、これまで取り扱ってきた1次元のベクトルに変換する操作が必要になる。**CNN系の層とこれまで用いてきた層をつなぐ役割を果たしている**と考えればよいだろう。"
      ]
    },
    {
      "cell_type": "markdown",
      "metadata": {
        "id": "nxS3hvGAtVLd"
      },
      "source": [
        "<!-- ENG -->\n",
        "　Finally, let's talk about `torch.nn.Flatten()`, which converts two-dimensionally arranged data into a one-dimensional array (as we have been using in the previous exercises). **`Flatten()` is an operation that converts two-dimensional (or greater) data into one-dimensional data**. It converts to a one-dimensional vector even when multiple channels exist. In training using CNNs, the last few layers are often `Linear()` layers, which require operations to convert pixel-like data in 2D space into the one-dimensional vectors as we have been dealing with so far. You can think of it **as playing a role in connecting the CNN layer and the layers that we have been using so far**."
      ]
    },
    {
      "cell_type": "markdown",
      "metadata": {
        "id": "jMPc8oaSoz0t"
      },
      "source": [
        "![Figure 7](https://i.imgur.com/FAwNc0x.png)"
      ]
    },
    {
      "cell_type": "markdown",
      "metadata": {
        "id": "hTwhZ8zVwzqK"
      },
      "source": [
        "------"
      ]
    },
    {
      "cell_type": "markdown",
      "metadata": {
        "id": "JDasRg4JYQo0"
      },
      "source": [
        "<!-- JPN -->\n",
        "##### 課題 1\n",
        "\n",
        "　入力画像のサイズが 2チャネル×縦10ピクセル×横12ピクセル である時、\n",
        "`torch.nn.MaxPool2d(2)` によって得られる出力画像のサイズを答えよ。\n",
        "\n"
      ]
    },
    {
      "cell_type": "markdown",
      "metadata": {
        "id": "o8BQtCob6LS2"
      },
      "source": [
        "<!-- ENG -->\n",
        "##### Exercise 1\n",
        "\n",
        "　When the input image size is 2 channels x height 10 pixels x width 12 pixels,\n",
        "provide the output image size obtained using `torch.nn.MaxPool2d(2)`."
      ]
    },
    {
      "cell_type": "markdown",
      "metadata": {
        "id": "OHi8xu49b5jA"
      },
      "source": [
        "<!-- JPN -->\n",
        "<font color=orange> **このテキストセルをダブルクリックし答案を記述せよ。** </font>\n",
        "<!-- この下の行から答案を記述 -->\n"
      ]
    },
    {
      "cell_type": "markdown",
      "metadata": {
        "id": "NuJwGklPb5jA"
      },
      "source": [
        "<!-- ENG -->\n",
        "<font color=orange> **Double-click this text cell and write your answer.** </font>\n",
        "<!-- From the next line, write your answer -->\n",
        "The output image size obtained is 2 channels x height 5 pixels x width 6 pixels."
      ]
    },
    {
      "cell_type": "markdown",
      "metadata": {
        "id": "GglYWEZnww6F"
      },
      "source": [
        "-----"
      ]
    },
    {
      "cell_type": "markdown",
      "metadata": {
        "id": "RmlCor-UqjrX"
      },
      "source": [
        "<!-- JPN -->\n",
        "### 2.1 | CNNを用いたMNISTの分類予測\n",
        "　それでは、ここまでで説明してきたCNN, max pooling, flattenを利用して、手書き数字MNISTを学習してみよう。"
      ]
    },
    {
      "cell_type": "markdown",
      "metadata": {
        "id": "2Cv40cmE6LS3"
      },
      "source": [
        "<!-- ENG -->\n",
        "### 2.1 | MNIST classification prediction using CNN\n",
        "\n",
        "　Now, let's try to train handwritten numeric MNIST using CNN, max pooling, and flatten as described so far."
      ]
    },
    {
      "cell_type": "markdown",
      "metadata": {
        "id": "lVH8Gdpzptn_"
      },
      "source": [
        "<!-- JPN -->\n",
        "　まずは、前回と同様にlivelossplotを用いるためのインストールを行う。Google Colabはクラウドサービスのため、毎回不足しているパッケージをインストールしたり、あるいはデータを作る必要があるので注意しよう。"
      ]
    },
    {
      "cell_type": "markdown",
      "metadata": {
        "id": "PJX7v9b56LS3"
      },
      "source": [
        "<!-- ENG -->\n",
        "　The same as before, the first step is to install livelossplot. Note that Google Colab is a cloud service, so you will need to install the missing packages or even create the data each time."
      ]
    },
    {
      "cell_type": "code",
      "execution_count": 1,
      "metadata": {
        "id": "fttHiJ3_p7Ts",
        "colab": {
          "base_uri": "https://localhost:8080/"
        },
        "outputId": "93d6dd0c-f0aa-44e7-aa63-8c287128d438"
      },
      "outputs": [
        {
          "output_type": "stream",
          "name": "stdout",
          "text": [
            "Collecting livelossplot\n",
            "  Downloading livelossplot-0.5.5-py3-none-any.whl (22 kB)\n",
            "Requirement already satisfied: matplotlib in /usr/local/lib/python3.10/dist-packages (from livelossplot) (3.7.1)\n",
            "Requirement already satisfied: bokeh in /usr/local/lib/python3.10/dist-packages (from livelossplot) (3.3.4)\n",
            "Requirement already satisfied: Jinja2>=2.9 in /usr/local/lib/python3.10/dist-packages (from bokeh->livelossplot) (3.1.3)\n",
            "Requirement already satisfied: contourpy>=1 in /usr/local/lib/python3.10/dist-packages (from bokeh->livelossplot) (1.2.0)\n",
            "Requirement already satisfied: numpy>=1.16 in /usr/local/lib/python3.10/dist-packages (from bokeh->livelossplot) (1.23.5)\n",
            "Requirement already satisfied: packaging>=16.8 in /usr/local/lib/python3.10/dist-packages (from bokeh->livelossplot) (23.2)\n",
            "Requirement already satisfied: pandas>=1.2 in /usr/local/lib/python3.10/dist-packages (from bokeh->livelossplot) (1.5.3)\n",
            "Requirement already satisfied: pillow>=7.1.0 in /usr/local/lib/python3.10/dist-packages (from bokeh->livelossplot) (9.4.0)\n",
            "Requirement already satisfied: PyYAML>=3.10 in /usr/local/lib/python3.10/dist-packages (from bokeh->livelossplot) (6.0.1)\n",
            "Requirement already satisfied: tornado>=5.1 in /usr/local/lib/python3.10/dist-packages (from bokeh->livelossplot) (6.3.2)\n",
            "Requirement already satisfied: xyzservices>=2021.09.1 in /usr/local/lib/python3.10/dist-packages (from bokeh->livelossplot) (2023.10.1)\n",
            "Requirement already satisfied: cycler>=0.10 in /usr/local/lib/python3.10/dist-packages (from matplotlib->livelossplot) (0.12.1)\n",
            "Requirement already satisfied: fonttools>=4.22.0 in /usr/local/lib/python3.10/dist-packages (from matplotlib->livelossplot) (4.47.2)\n",
            "Requirement already satisfied: kiwisolver>=1.0.1 in /usr/local/lib/python3.10/dist-packages (from matplotlib->livelossplot) (1.4.5)\n",
            "Requirement already satisfied: pyparsing>=2.3.1 in /usr/local/lib/python3.10/dist-packages (from matplotlib->livelossplot) (3.1.1)\n",
            "Requirement already satisfied: python-dateutil>=2.7 in /usr/local/lib/python3.10/dist-packages (from matplotlib->livelossplot) (2.8.2)\n",
            "Requirement already satisfied: MarkupSafe>=2.0 in /usr/local/lib/python3.10/dist-packages (from Jinja2>=2.9->bokeh->livelossplot) (2.1.4)\n",
            "Requirement already satisfied: pytz>=2020.1 in /usr/local/lib/python3.10/dist-packages (from pandas>=1.2->bokeh->livelossplot) (2023.4)\n",
            "Requirement already satisfied: six>=1.5 in /usr/local/lib/python3.10/dist-packages (from python-dateutil>=2.7->matplotlib->livelossplot) (1.16.0)\n",
            "Installing collected packages: livelossplot\n",
            "Successfully installed livelossplot-0.5.5\n"
          ]
        }
      ],
      "source": [
        "# The following command is not a Python command, but can be executed by Google Colab.\n",
        "# The Python package management tool called pip is used to install livelossplot.\n",
        "!pip install livelossplot"
      ]
    },
    {
      "cell_type": "markdown",
      "metadata": {
        "id": "EYBb4u-sqCSX"
      },
      "source": [
        "<!-- JPN -->\n",
        "　次に、MNISTデータの準備を行う。\n",
        "$X$ の作成以外は前回と同じコードになっている。\n",
        "$X$ は、**1チャネル（モノクロ画像）×縦28ピクセル×横28ピクセル**のデータとして準備を行うため、\n",
        " `X_train` などは `(データ数,1,28,28)` の4階テンソルに整形する。\n"
      ]
    },
    {
      "cell_type": "markdown",
      "metadata": {
        "id": "8SkAzXWf6LS3"
      },
      "source": [
        "<!-- ENG -->\n",
        "　The next step is to prepare the MNIST data.\n",
        "The code is the same as before except for the creation of $X$.\n",
        "Since $X$ is prepared as data of **1 channel (monochrome image) x height 28 pixels  x width 28 pixels**, `X_train`, etc. is shaped into a 4 layer tensor `(number of data,1,28,28)`.\n",
        "\n"
      ]
    },
    {
      "cell_type": "code",
      "execution_count": 2,
      "metadata": {
        "id": "Z9YVvEWUWxJj",
        "colab": {
          "base_uri": "https://localhost:8080/"
        },
        "outputId": "da9d424d-935a-46a1-a320-8efd1de85110"
      },
      "outputs": [
        {
          "output_type": "stream",
          "name": "stdout",
          "text": [
            "Downloading http://yann.lecun.com/exdb/mnist/train-images-idx3-ubyte.gz\n",
            "Downloading http://yann.lecun.com/exdb/mnist/train-images-idx3-ubyte.gz to ./MNIST/raw/train-images-idx3-ubyte.gz\n"
          ]
        },
        {
          "output_type": "stream",
          "name": "stderr",
          "text": [
            "100%|██████████| 9912422/9912422 [00:00<00:00, 201659380.91it/s]"
          ]
        },
        {
          "output_type": "stream",
          "name": "stdout",
          "text": [
            "Extracting ./MNIST/raw/train-images-idx3-ubyte.gz to ./MNIST/raw\n"
          ]
        },
        {
          "output_type": "stream",
          "name": "stderr",
          "text": [
            "\n"
          ]
        },
        {
          "output_type": "stream",
          "name": "stdout",
          "text": [
            "\n",
            "Downloading http://yann.lecun.com/exdb/mnist/train-labels-idx1-ubyte.gz\n",
            "Downloading http://yann.lecun.com/exdb/mnist/train-labels-idx1-ubyte.gz to ./MNIST/raw/train-labels-idx1-ubyte.gz\n"
          ]
        },
        {
          "output_type": "stream",
          "name": "stderr",
          "text": [
            "100%|██████████| 28881/28881 [00:00<00:00, 87273554.63it/s]\n"
          ]
        },
        {
          "output_type": "stream",
          "name": "stdout",
          "text": [
            "Extracting ./MNIST/raw/train-labels-idx1-ubyte.gz to ./MNIST/raw\n",
            "\n",
            "Downloading http://yann.lecun.com/exdb/mnist/t10k-images-idx3-ubyte.gz\n",
            "Downloading http://yann.lecun.com/exdb/mnist/t10k-images-idx3-ubyte.gz to ./MNIST/raw/t10k-images-idx3-ubyte.gz\n"
          ]
        },
        {
          "output_type": "stream",
          "name": "stderr",
          "text": [
            "100%|██████████| 1648877/1648877 [00:00<00:00, 129758928.98it/s]"
          ]
        },
        {
          "output_type": "stream",
          "name": "stdout",
          "text": [
            "Extracting ./MNIST/raw/t10k-images-idx3-ubyte.gz to ./MNIST/raw\n"
          ]
        },
        {
          "output_type": "stream",
          "name": "stderr",
          "text": [
            "\n"
          ]
        },
        {
          "output_type": "stream",
          "name": "stdout",
          "text": [
            "\n",
            "Downloading http://yann.lecun.com/exdb/mnist/t10k-labels-idx1-ubyte.gz\n",
            "Downloading http://yann.lecun.com/exdb/mnist/t10k-labels-idx1-ubyte.gz to ./MNIST/raw/t10k-labels-idx1-ubyte.gz\n"
          ]
        },
        {
          "output_type": "stream",
          "name": "stderr",
          "text": [
            "100%|██████████| 4542/4542 [00:00<00:00, 20639792.81it/s]"
          ]
        },
        {
          "output_type": "stream",
          "name": "stdout",
          "text": [
            "Extracting ./MNIST/raw/t10k-labels-idx1-ubyte.gz to ./MNIST/raw\n",
            "\n"
          ]
        },
        {
          "output_type": "stream",
          "name": "stderr",
          "text": [
            "\n"
          ]
        }
      ],
      "source": [
        "import numpy as np\n",
        "import torch\n",
        "import torchvision\n",
        "\n",
        "trainset = torchvision.datasets.MNIST(root=\".\", train=True, download=True, transform=torchvision.transforms.ToTensor())\n",
        "testset  = torchvision.datasets.MNIST(root=\".\", train=False, download=True, transform=torchvision.transforms.ToTensor())"
      ]
    },
    {
      "cell_type": "code",
      "execution_count": 3,
      "metadata": {
        "id": "yZb3g0dqXPU6"
      },
      "outputs": [],
      "source": [
        "# torch.tensor -> numpy.array\n",
        "X_train = trainset.data.numpy()\n",
        "y_train = trainset.targets.numpy()\n",
        "X_test = testset.data.numpy()\n",
        "y_test = testset.targets.numpy()\n",
        "\n",
        "# scaled from [0,255] to [0,1] for X\n",
        "X_train = X_train / 255\n",
        "X_test  = X_test / 255"
      ]
    },
    {
      "cell_type": "code",
      "execution_count": 4,
      "metadata": {
        "id": "0TfKwNFhjMGf"
      },
      "outputs": [],
      "source": [
        "from sklearn.model_selection import train_test_split\n",
        "# Split the train into 50,000 training data and 10,000 validation data\n",
        "X_train, X_valid, y_train, y_valid = train_test_split(X_train, y_train,\n",
        "                                                      train_size=50000, random_state=0)\n",
        "\n",
        "# Use test as is"
      ]
    },
    {
      "cell_type": "code",
      "execution_count": 5,
      "metadata": {
        "id": "HrYc9g--YG1S"
      },
      "outputs": [],
      "source": [
        "# Here are the changes\n",
        "# 1 channel × height 28 pixel  × width 28 pixel\n",
        "X_train_fig = X_train.reshape(50000, 1, 28, 28)\n",
        "X_valid_fig = X_valid.reshape(10000, 1, 28, 28)\n",
        "X_test_fig  = X_test.reshape(10000, 1, 28, 28)"
      ]
    },
    {
      "cell_type": "markdown",
      "metadata": {
        "id": "_aHDkhYwp9ct"
      },
      "source": [
        "<!-- JPN -->\n",
        "　あとは、いつもと同様に `torch.tensor` に変換させて、 `DataLoader` まで作ってしまおう。"
      ]
    },
    {
      "cell_type": "markdown",
      "metadata": {
        "id": "b-KfBlzS6LS4"
      },
      "source": [
        "<!-- ENG -->\n",
        "　Then, as we usual do, let's convert the data to `torch.tensor` and create a `DataLoader`."
      ]
    },
    {
      "cell_type": "code",
      "execution_count": 7,
      "metadata": {
        "id": "j7RbfgJyqV2l"
      },
      "outputs": [],
      "source": [
        "# PLEASE DO NOT CHANGE THIS BATCH SIZE because it affects the result of the assignments\n",
        "batch_size = 128 # This time, we will train for each of the 128 data items"
      ]
    },
    {
      "cell_type": "code",
      "execution_count": 8,
      "metadata": {
        "id": "Rs3P-_DgqMB-"
      },
      "outputs": [],
      "source": [
        "# training set\n",
        "X_train_torch = torch.tensor(X_train_fig, dtype=torch.float) # Don't forget dtype=torch.float\n",
        "y_train_torch = torch.tensor(y_train, dtype=torch.long)      # Don't forget dtype=torch.long\n",
        "train_dataset = torch.utils.data.TensorDataset(X_train_torch, y_train_torch)\n",
        "train_loader  = torch.utils.data.DataLoader(train_dataset, batch_size=batch_size)"
      ]
    },
    {
      "cell_type": "code",
      "execution_count": 9,
      "metadata": {
        "id": "gE9lmA3eqam3"
      },
      "outputs": [],
      "source": [
        "# validation set\n",
        "X_valid_torch = torch.tensor(X_valid_fig, dtype=torch.float)\n",
        "y_valid_torch = torch.tensor(y_valid, dtype=torch.long)\n",
        "valid_dataset = torch.utils.data.TensorDataset(X_valid_torch, y_valid_torch)\n",
        "valid_loader  = torch.utils.data.DataLoader(valid_dataset, batch_size=batch_size)"
      ]
    },
    {
      "cell_type": "code",
      "execution_count": 10,
      "metadata": {
        "id": "lQ3vWuiuql2R"
      },
      "outputs": [],
      "source": [
        "# test set\n",
        "X_test_torch = torch.tensor(X_test_fig, dtype=torch.float)\n",
        "y_test_torch = torch.tensor(y_test, dtype=torch.long)\n",
        "test_dataset = torch.utils.data.TensorDataset(X_test_torch, y_test_torch)\n",
        "test_loader  = torch.utils.data.DataLoader(test_dataset, batch_size=batch_size)"
      ]
    },
    {
      "cell_type": "markdown",
      "metadata": {
        "id": "UKfXEmiurGZb"
      },
      "source": [
        "<!-- JPN -->\n",
        "　続いて、前回と同様にGPUの利用設定や、学習および予測のための関数群を定義する。前回の演習時のコードと全く変わらない。`DataLoader` を使えるモデルであれば汎用的に使えるように関数は整備したので、実際の用途にも応用できるはずである。"
      ]
    },
    {
      "cell_type": "markdown",
      "metadata": {
        "id": "nkAqqlHf6LS5"
      },
      "source": [
        "<!-- ENG -->\n",
        "　Then, the same as before, define the GPU usage settings and a set of functions for training and prediction. The code is exactly the same as the code from the previous exercise. The functions have been prepared so that they can be used universally in any model that can use `DataLoader`, so they should be applicable for actual use."
      ]
    },
    {
      "cell_type": "code",
      "execution_count": 11,
      "metadata": {
        "id": "wmXiSJULrLgP"
      },
      "outputs": [],
      "source": [
        "import torch\n",
        "from livelossplot import PlotLosses"
      ]
    },
    {
      "cell_type": "code",
      "execution_count": 12,
      "metadata": {
        "id": "kEBBpnwmriWq"
      },
      "outputs": [],
      "source": [
        "def update_model(model, loss_fn, opt, train_loader):\n",
        "  train_loss = 0\n",
        "  train_correct = 0\n",
        "  train_count = len(train_loader.dataset)\n",
        "\n",
        "  for X, y in train_loader:\n",
        "    X = X.cuda() # Transfer data to the GPU\n",
        "    y = y.cuda() # Transfer data to the GPU\n",
        "    y_pred = model(X) # Predict y from X\n",
        "\n",
        "    _, predicted = torch.max(y_pred.data, 1) # Get the one with the largest probability out of the 10 classes of predicted probabilities\n",
        "    train_correct += (predicted == y).sum().item() # Count the number of successful predictions (for accuracy calculation)\n",
        "\n",
        "    loss = loss_fn(y_pred, y)        # Calculate the average of the training losses in a mini-batch\n",
        "    train_loss += loss.item()*len(y) # Calculate the total training loss for the entire epoch\n",
        "\n",
        "    # Update weights\n",
        "    opt.zero_grad()\n",
        "    loss.backward()\n",
        "    opt.step()\n",
        "\n",
        "  # Calculate the average training loss and prediction accuracy within an epoch\n",
        "  mean_train_loss = train_loss / train_count\n",
        "  train_accuracy = train_correct / train_count\n",
        "\n",
        "  return mean_train_loss, train_accuracy"
      ]
    },
    {
      "cell_type": "code",
      "execution_count": 13,
      "metadata": {
        "id": "swRqYOte6Zmz"
      },
      "outputs": [],
      "source": [
        "def evaluate_model(model, loss_fn, dataloader):\n",
        "  model.eval() # Set to “evaluate” state when training is not performed (Supplementary Material S1)\n",
        "\n",
        "  valid_loss = 0\n",
        "  valid_correct = 0\n",
        "  valid_count = len(dataloader.dataset)\n",
        "\n",
        "  for X, y in dataloader:\n",
        "    X = X.cuda() # Transfer to GPU\n",
        "    y = y.cuda() # Transfer to GPU\n",
        "    y_pred = model(X) # Predict y from X\n",
        "\n",
        "    _, predicted = torch.max(y_pred.data, 1) # Get the one with the largest probability out of the 10 classes of predicted probabilities\n",
        "    valid_correct += (predicted == y).sum().item() # Count the number of successful predictions (for accuracy calculation)\n",
        "\n",
        "    loss = loss_fn(y_pred, y)        # Calculate the average of the training losses in a mini-batch\n",
        "    valid_loss += loss.item()*len(y) # Calculate the total training loss for the entire epoch\n",
        "\n",
        "  mean_valid_loss = valid_loss / valid_count\n",
        "  valid_accuracy = valid_correct / valid_count\n",
        "\n",
        "  model.train() # Return from the “evaluate” state to the “train” state\n",
        "  return mean_valid_loss, valid_accuracy"
      ]
    },
    {
      "cell_type": "code",
      "execution_count": 14,
      "metadata": {
        "id": "XtwUoAWB6aga"
      },
      "outputs": [],
      "source": [
        "def train(model, loss_fn, opt, train_loader, valid_loader, epoch=50):\n",
        "  liveloss = PlotLosses()\n",
        "  for i in range(epoch):\n",
        "    train_loss, train_accuracy = update_model(model, loss_fn, opt, train_loader)\n",
        "    valid_loss, valid_accuracy = evaluate_model(model, loss_fn, valid_loader)\n",
        "\n",
        "    # Visualize the loss and accuracy values.\n",
        "    liveloss.update({\n",
        "        'loss': train_loss,\n",
        "        'val_loss': valid_loss,\n",
        "        'accuracy': train_accuracy,\n",
        "        'val_accuracy': valid_accuracy,\n",
        "    })\n",
        "    liveloss.draw()\n",
        "  print('Accuracy: {:.4f} (valid), {:.4f} (train)'.format(valid_accuracy, train_accuracy))\n",
        "  return model # Return the trained model"
      ]
    },
    {
      "cell_type": "markdown",
      "metadata": {
        "id": "7IBQmduRrpJ4"
      },
      "source": [
        "<!-- JPN -->\n",
        "　それでは、CNN＋LinearによるMNIST予測モデルを構築し、学習を行ってみよう。今回は `Conv2d()` を1回行うごとに `MaxPool2d()` で画像サイズを2分の1にしているが、複数回 `Conv2d()` をしてから `MaxPool2d()` をすることもある（2012年に開催された画像認識コンテスト ILSVRC2012 で優勝した AlexNetのネットワーク構造を見てみると良い）。"
      ]
    },
    {
      "cell_type": "markdown",
      "metadata": {
        "id": "5bre7n2J6LS6"
      },
      "source": [
        "<!-- ENG -->\n",
        "　Now, let's build and train an MNIST prediction model using CNN + Linear. In this case, `MaxPool2d()` is used to halve the image size after each `Conv2d()`, but `MaxPool2d()` may be used after multiple `Conv2d()` (you may want to take a look at the AlexNet network structure, winner of the image recognition contest ILSVRC2012)."
      ]
    },
    {
      "cell_type": "code",
      "execution_count": 20,
      "metadata": {
        "id": "SXAmhoMOrxUj",
        "colab": {
          "base_uri": "https://localhost:8080/"
        },
        "outputId": "fb06387f-521d-4381-f9c7-d985b68e01d6"
      },
      "outputs": [
        {
          "output_type": "execute_result",
          "data": {
            "text/plain": [
              "Sequential(\n",
              "  (0): Conv2d(1, 16, kernel_size=(5, 5), stride=(1, 1), padding=(2, 2))\n",
              "  (1): ReLU()\n",
              "  (2): MaxPool2d(kernel_size=2, stride=2, padding=0, dilation=1, ceil_mode=False)\n",
              "  (3): Conv2d(16, 32, kernel_size=(5, 5), stride=(1, 1))\n",
              "  (4): ReLU()\n",
              "  (5): MaxPool2d(kernel_size=2, stride=2, padding=0, dilation=1, ceil_mode=False)\n",
              "  (6): Flatten(start_dim=1, end_dim=-1)\n",
              "  (7): Linear(in_features=512, out_features=256, bias=True)\n",
              "  (8): ReLU()\n",
              "  (9): Linear(in_features=256, out_features=10, bias=True)\n",
              ")"
            ]
          },
          "metadata": {},
          "execution_count": 20
        }
      ],
      "source": [
        "torch.manual_seed(0) # Ensure reproducibility of training results\n",
        "torch.backends.cudnn.deterministic = True\n",
        "\n",
        "cnn = torch.nn.Sequential(\n",
        "    torch.nn.Conv2d(1, 16, (5, 5), padding=2),\n",
        "    torch.nn.ReLU(),\n",
        "    torch.nn.MaxPool2d(2),\n",
        "    torch.nn.Conv2d(16, 32, (5, 5)),\n",
        "    torch.nn.ReLU(),\n",
        "    torch.nn.MaxPool2d(2),\n",
        "    torch.nn.Flatten(),\n",
        "    torch.nn.Linear(32*4*4, 256),\n",
        "    torch.nn.ReLU(),\n",
        "    torch.nn.Linear(256, 10),\n",
        ")\n",
        "cnn.cuda()"
      ]
    },
    {
      "cell_type": "markdown",
      "metadata": {
        "id": "MjjQvl57o2dD"
      },
      "source": [
        "<!-- JPN -->\n",
        "　上記のCNNの定義のコードの中には**入力画像サイズ（縦横 28 ピクセルずつ）が明示的に記述されていない**ことに注意してほしい。上記のモデルの各段階で画像データがどのような変遷をたどるか、下に図で示すので、こちらも併せてみておくと良いだろう。"
      ]
    },
    {
      "cell_type": "markdown",
      "metadata": {
        "id": "xakwaeHD6LS6"
      },
      "source": [
        "<!-- ENG -->\n",
        "　Note that **the input image size (28 pixels for each height/width) is not explicitly described** in the code of the CNN definition indicated above. Below figure illustrates the evolution of the image data in each stage of the above model, so it is a good idea to check this as well."
      ]
    },
    {
      "cell_type": "markdown",
      "metadata": {
        "id": "UxGeRGpQo3yh"
      },
      "source": [
        "![Figure 8](https://i.imgur.com/GfxYmY0.png)"
      ]
    },
    {
      "cell_type": "markdown",
      "metadata": {
        "id": "EKIoi7roqeX5"
      },
      "source": [
        "<!-- JPN -->\n",
        "**今回構築したネットワーク** 画像状の構造をしているデータは常に正方であるため、画像幅とチャネル数のみ値を記している。また、簡略化の為に活性化関数は直前の層と併せて記述した。\n"
      ]
    },
    {
      "cell_type": "markdown",
      "metadata": {
        "id": "FkomqV1R6LS6"
      },
      "source": [
        "<!-- ENG -->\n",
        "**Network build this time** Since the data having image-like structure constructed this time is always square, only the image width and the number of channels are shown. Also, for simplicity, the activation function is described together with the previous layer.\n"
      ]
    },
    {
      "cell_type": "code",
      "execution_count": 17,
      "metadata": {
        "id": "pnUYB8bYsKMw",
        "colab": {
          "base_uri": "https://localhost:8080/",
          "height": 935
        },
        "outputId": "8b016455-d796-4aec-fa67-2004e42ebdc5"
      },
      "outputs": [
        {
          "output_type": "display_data",
          "data": {
            "text/plain": [
              "<Figure size 1200x800 with 2 Axes>"
            ],
            "image/png": "[encoded data removed]"
          },
          "metadata": {}
        },
        {
          "output_type": "stream",
          "name": "stdout",
          "text": [
            "accuracy\n",
            "\ttraining         \t (min:    0.848, max:    1.000, cur:    1.000)\n",
            "\tvalidation       \t (min:    0.967, max:    0.990, cur:    0.990)\n",
            "Loss\n",
            "\ttraining         \t (min:    0.000, max:    0.485, cur:    0.000)\n",
            "\tvalidation       \t (min:    0.038, max:    0.112, cur:    0.053)\n",
            "Accuracy: 0.9904 (valid), 1.0000 (train)\n",
            "0.048307303021797726\n",
            "0.9897\n"
          ]
        }
      ],
      "source": [
        "torch.manual_seed(0) # Ensure reproducibility of training results\n",
        "torch.backends.cudnn.deterministic = True\n",
        "\n",
        "# Prepare loss functions and optimization methods\n",
        "loss_fn = torch.nn.CrossEntropyLoss()\n",
        "optimizer = torch.optim.SGD(cnn.parameters(), lr=0.1)\n",
        "\n",
        "# Run training\n",
        "trained_model = train(cnn, loss_fn, optimizer, train_loader, valid_loader)\n",
        "\n",
        "# Run predictions\n",
        "test_loss, test_accuracy = evaluate_model(trained_model, loss_fn, test_loader)\n",
        "print(test_loss)\n",
        "print(test_accuracy)"
      ]
    },
    {
      "cell_type": "markdown",
      "metadata": {
        "id": "zTTLFRbMrAEV"
      },
      "source": [
        "<!-- JPN -->\n",
        "　先ほどは、至極当然のようにmodelを作成したが、各層の入力サイズ・出力サイズを意識しながらモデルを構築することは案外難しい。`Flatten` の直前では**32チャネル×縦4ピクセル×横4ピクセル**になっている、ということは、一瞬見ただけではなかなか理解ができない。\n",
        "\n",
        "　このような場合、`torchsummary` というライブラリを用いることで、簡単に各層の出力サイズを見ることができる。実際に利用してみよう。"
      ]
    },
    {
      "cell_type": "markdown",
      "metadata": {
        "id": "0uCb4HCc6LS7"
      },
      "source": [
        "<!-- ENG -->\n",
        "　In the previous section, we created a model as a matter of course, but it is surprisingly difficult to build a model while being aware of the input and output sizes of each layer. Just before `Flatten`, it is **32 channels x height 4 pixels x width 4 pixels**, which is not easy to understand just by looking at it for a moment.\n",
        "\n",
        "　In such a case, we can easily see the output size of each layer by using a library called `torchsummary`. Let's try to actually use it."
      ]
    },
    {
      "cell_type": "code",
      "execution_count": 18,
      "metadata": {
        "id": "RfQ9eft7tU_e",
        "colab": {
          "base_uri": "https://localhost:8080/"
        },
        "outputId": "d8cf93f4-9ed5-4ce6-8cf2-653a479a420a"
      },
      "outputs": [
        {
          "output_type": "execute_result",
          "data": {
            "text/plain": [
              "Sequential(\n",
              "  (0): Conv2d(1, 16, kernel_size=(5, 5), stride=(1, 1))\n",
              "  (1): ReLU()\n",
              "  (2): MaxPool2d(kernel_size=2, stride=2, padding=0, dilation=1, ceil_mode=False)\n",
              "  (3): Conv2d(16, 32, kernel_size=(5, 5), stride=(1, 1))\n",
              "  (4): ReLU()\n",
              "  (5): MaxPool2d(kernel_size=2, stride=2, padding=0, dilation=1, ceil_mode=False)\n",
              "  (6): Flatten(start_dim=1, end_dim=-1)\n",
              ")"
            ]
          },
          "metadata": {},
          "execution_count": 18
        }
      ],
      "source": [
        "# Mid-way model extracted up to Flatten processing\n",
        "cnn_part = torch.nn.Sequential(\n",
        "    torch.nn.Conv2d(1, 16, (5, 5)),\n",
        "    torch.nn.ReLU(),\n",
        "    torch.nn.MaxPool2d(2),\n",
        "    torch.nn.Conv2d(16, 32, (5, 5)),\n",
        "    torch.nn.ReLU(),\n",
        "    torch.nn.MaxPool2d(2),\n",
        "    torch.nn.Flatten()\n",
        ")\n",
        "cnn_part.cuda()"
      ]
    },
    {
      "cell_type": "code",
      "execution_count": 19,
      "metadata": {
        "id": "3cTft95PSKFE",
        "colab": {
          "base_uri": "https://localhost:8080/"
        },
        "outputId": "28fdd277-f2bd-43a5-b020-31e79e0de9c3"
      },
      "outputs": [
        {
          "output_type": "stream",
          "name": "stdout",
          "text": [
            "----------------------------------------------------------------\n",
            "        Layer (type)               Output Shape         Param #\n",
            "================================================================\n",
            "            Conv2d-1           [-1, 16, 24, 24]             416\n",
            "              ReLU-2           [-1, 16, 24, 24]               0\n",
            "         MaxPool2d-3           [-1, 16, 12, 12]               0\n",
            "            Conv2d-4             [-1, 32, 8, 8]          12,832\n",
            "              ReLU-5             [-1, 32, 8, 8]               0\n",
            "         MaxPool2d-6             [-1, 32, 4, 4]               0\n",
            "           Flatten-7                  [-1, 512]               0\n",
            "================================================================\n",
            "Total params: 13,248\n",
            "Trainable params: 13,248\n",
            "Non-trainable params: 0\n",
            "----------------------------------------------------------------\n",
            "Input size (MB): 0.00\n",
            "Forward/backward pass size (MB): 0.20\n",
            "Params size (MB): 0.05\n",
            "Estimated Total Size (MB): 0.25\n",
            "----------------------------------------------------------------\n"
          ]
        }
      ],
      "source": [
        "import torchsummary\n",
        "torchsummary.summary(cnn_part, (1, 28, 28))\n",
        "# Input the shape of the input (number of channels,\n",
        "# height/width size), excluding the mini-batch"
      ]
    },
    {
      "cell_type": "markdown",
      "metadata": {
        "id": "q27O-_sOSS2C"
      },
      "source": [
        "<!-- JPN -->\n",
        "　このように、入力が1チャネル×縦28ピクセル×横28ピクセルだった場合の各層の出力サイズが表示され、`Flatten` の出力が512次元であることがわかる。`Flatten` の次の `Linear` 層の入力次元数は512とすればよいようだ。"
      ]
    },
    {
      "cell_type": "markdown",
      "metadata": {
        "id": "9fs5zNtK6LS7"
      },
      "source": [
        "<!-- ENG -->\n",
        "　As you can see, the output size of each layer is displayed when the input is 1 channel x height 28 pixels x width 28 pixels, and you can see that the output of `Flatten` is 512-dimensional. Therefore the input dimensionality of the next `Linear` layer after `Flatten` should be 512."
      ]
    },
    {
      "cell_type": "markdown",
      "metadata": {
        "id": "5-u2cvEAw39V"
      },
      "source": [
        "-----"
      ]
    },
    {
      "cell_type": "markdown",
      "metadata": {
        "id": "kMyeAgWBu0PA"
      },
      "source": [
        "<!-- JPN -->\n",
        "##### 課題 2\n",
        "\n",
        "　間違ったモデルを組んだ状態で学習をさせようとするとどうなるだろうか。\n",
        "予測まで行う説明で使ったモデルの最初の `Conv2d()` を `torch.nn.Conv2d(1, 16, (5, 5), padding=2)` とすることで（誤った）モデルを構成し、`train()` を実行せよ。この時、どのようなエラーが発生するだろうか。エラーメッセージを報告し、メッセージの内容を簡単に説明せよ。"
      ]
    },
    {
      "cell_type": "markdown",
      "metadata": {
        "id": "EiJDqk406LS7"
      },
      "source": [
        "<!-- ENG -->\n",
        "\n",
        "##### Exercise 2\n",
        "\n",
        "　What happens if we try to train with the wrong model?\n",
        "Construct the “wrong” model by rewriting the first `Conv2d()` part, which was used in the explanation up to the prediction, into `torch.nn.Conv2d(1, 16, (5, 5), padding=2)`, and execute `train()`. What kind of error would occur at this point? Report the error message and briefly explain the content of the message."
      ]
    },
    {
      "cell_type": "markdown",
      "metadata": {
        "id": "V6O6YMMOb5jE"
      },
      "source": [
        "<!-- BOTH -->\n",
        "```\n",
        "cnn = torch.nn.Sequential(\n",
        "    torch.nn.Conv2d(1, 16, (5, 5)), # Rewrite this line to create the wrong model\n",
        "    torch.nn.ReLU(),\n",
        "    torch.nn.MaxPool2d(2),\n",
        "    torch.nn.Conv2d(16, 32, (5, 5)),\n",
        "    torch.nn.ReLU(),\n",
        "    torch.nn.MaxPool2d(2),\n",
        "    torch.nn.Flatten(),\n",
        "    torch.nn.Linear(32*4*4, 256),\n",
        "    torch.nn.ReLU(),\n",
        "    torch.nn.Linear(256, 10),\n",
        ")\n",
        "```"
      ]
    },
    {
      "cell_type": "markdown",
      "metadata": {
        "id": "1BCVdISyb5jE"
      },
      "source": [
        "<!-- JPN -->\n",
        "<font color=orange> **このテキストセルをダブルクリックし答案を記述せよ。** </font>\n",
        "<!-- この下の行から答案を記述 -->\n"
      ]
    },
    {
      "cell_type": "code",
      "source": [
        "torch.manual_seed(0) # Ensure reproducibility of training results\n",
        "torch.backends.cudnn.deterministic = True\n",
        "\n",
        "# Prepare loss functions and optimization methods\n",
        "loss_fn = torch.nn.CrossEntropyLoss()\n",
        "optimizer = torch.optim.SGD(cnn.parameters(), lr=0.1)\n",
        "\n",
        "# Run training\n",
        "trained_model = train(cnn, loss_fn, optimizer, train_loader, valid_loader)\n",
        "\n",
        "# Run predictions\n",
        "test_loss, test_accuracy = evaluate_model(trained_model, loss_fn, test_loader)\n",
        "print(test_loss)\n",
        "print(test_accuracy)"
      ],
      "metadata": {
        "colab": {
          "base_uri": "https://localhost:8080/",
          "height": 403
        },
        "id": "y-hocncMuxGW",
        "outputId": "1873cdf0-e647-4dae-c870-b533b485f6c8"
      },
      "execution_count": 21,
      "outputs": [
        {
          "output_type": "error",
          "ename": "RuntimeError",
          "evalue": "mat1 and mat2 shapes cannot be multiplied (128x800 and 512x256)",
          "traceback": [
            "\u001b[0;31m---------------------------------------------------------------------------\u001b[0m",
            "\u001b[0;31mRuntimeError\u001b[0m                              Traceback (most recent call last)",
            "\u001b[0;32m<ipython-input-21-2627e7c8c1ae>\u001b[0m in \u001b[0;36m<cell line: 9>\u001b[0;34m()\u001b[0m\n\u001b[1;32m      7\u001b[0m \u001b[0;34m\u001b[0m\u001b[0m\n\u001b[1;32m      8\u001b[0m \u001b[0;31m# Run training\u001b[0m\u001b[0;34m\u001b[0m\u001b[0;34m\u001b[0m\u001b[0m\n\u001b[0;32m----> 9\u001b[0;31m \u001b[0mtrained_model\u001b[0m \u001b[0;34m=\u001b[0m \u001b[0mtrain\u001b[0m\u001b[0;34m(\u001b[0m\u001b[0mcnn\u001b[0m\u001b[0;34m,\u001b[0m \u001b[0mloss_fn\u001b[0m\u001b[0;34m,\u001b[0m \u001b[0moptimizer\u001b[0m\u001b[0;34m,\u001b[0m \u001b[0mtrain_loader\u001b[0m\u001b[0;34m,\u001b[0m \u001b[0mvalid_loader\u001b[0m\u001b[0;34m)\u001b[0m\u001b[0;34m\u001b[0m\u001b[0;34m\u001b[0m\u001b[0m\n\u001b[0m\u001b[1;32m     10\u001b[0m \u001b[0;34m\u001b[0m\u001b[0m\n\u001b[1;32m     11\u001b[0m \u001b[0;31m# Run predictions\u001b[0m\u001b[0;34m\u001b[0m\u001b[0;34m\u001b[0m\u001b[0m\n",
            "\u001b[0;32m<ipython-input-14-0216c86f51f5>\u001b[0m in \u001b[0;36mtrain\u001b[0;34m(model, loss_fn, opt, train_loader, valid_loader, epoch)\u001b[0m\n\u001b[1;32m      2\u001b[0m   \u001b[0mliveloss\u001b[0m \u001b[0;34m=\u001b[0m \u001b[0mPlotLosses\u001b[0m\u001b[0;34m(\u001b[0m\u001b[0;34m)\u001b[0m\u001b[0;34m\u001b[0m\u001b[0;34m\u001b[0m\u001b[0m\n\u001b[1;32m      3\u001b[0m   \u001b[0;32mfor\u001b[0m \u001b[0mi\u001b[0m \u001b[0;32min\u001b[0m \u001b[0mrange\u001b[0m\u001b[0;34m(\u001b[0m\u001b[0mepoch\u001b[0m\u001b[0;34m)\u001b[0m\u001b[0;34m:\u001b[0m\u001b[0;34m\u001b[0m\u001b[0;34m\u001b[0m\u001b[0m\n\u001b[0;32m----> 4\u001b[0;31m     \u001b[0mtrain_loss\u001b[0m\u001b[0;34m,\u001b[0m \u001b[0mtrain_accuracy\u001b[0m \u001b[0;34m=\u001b[0m \u001b[0mupdate_model\u001b[0m\u001b[0;34m(\u001b[0m\u001b[0mmodel\u001b[0m\u001b[0;34m,\u001b[0m \u001b[0mloss_fn\u001b[0m\u001b[0;34m,\u001b[0m \u001b[0mopt\u001b[0m\u001b[0;34m,\u001b[0m \u001b[0mtrain_loader\u001b[0m\u001b[0;34m)\u001b[0m\u001b[0;34m\u001b[0m\u001b[0;34m\u001b[0m\u001b[0m\n\u001b[0m\u001b[1;32m      5\u001b[0m     \u001b[0mvalid_loss\u001b[0m\u001b[0;34m,\u001b[0m \u001b[0mvalid_accuracy\u001b[0m \u001b[0;34m=\u001b[0m \u001b[0mevaluate_model\u001b[0m\u001b[0;34m(\u001b[0m\u001b[0mmodel\u001b[0m\u001b[0;34m,\u001b[0m \u001b[0mloss_fn\u001b[0m\u001b[0;34m,\u001b[0m \u001b[0mvalid_loader\u001b[0m\u001b[0;34m)\u001b[0m\u001b[0;34m\u001b[0m\u001b[0;34m\u001b[0m\u001b[0m\n\u001b[1;32m      6\u001b[0m \u001b[0;34m\u001b[0m\u001b[0m\n",
            "\u001b[0;32m<ipython-input-12-f74129c20467>\u001b[0m in \u001b[0;36mupdate_model\u001b[0;34m(model, loss_fn, opt, train_loader)\u001b[0m\n\u001b[1;32m      7\u001b[0m     \u001b[0mX\u001b[0m \u001b[0;34m=\u001b[0m \u001b[0mX\u001b[0m\u001b[0;34m.\u001b[0m\u001b[0mcuda\u001b[0m\u001b[0;34m(\u001b[0m\u001b[0;34m)\u001b[0m \u001b[0;31m# Transfer data to the GPU\u001b[0m\u001b[0;34m\u001b[0m\u001b[0;34m\u001b[0m\u001b[0m\n\u001b[1;32m      8\u001b[0m     \u001b[0my\u001b[0m \u001b[0;34m=\u001b[0m \u001b[0my\u001b[0m\u001b[0;34m.\u001b[0m\u001b[0mcuda\u001b[0m\u001b[0;34m(\u001b[0m\u001b[0;34m)\u001b[0m \u001b[0;31m# Transfer data to the GPU\u001b[0m\u001b[0;34m\u001b[0m\u001b[0;34m\u001b[0m\u001b[0m\n\u001b[0;32m----> 9\u001b[0;31m     \u001b[0my_pred\u001b[0m \u001b[0;34m=\u001b[0m \u001b[0mmodel\u001b[0m\u001b[0;34m(\u001b[0m\u001b[0mX\u001b[0m\u001b[0;34m)\u001b[0m \u001b[0;31m# Predict y from X\u001b[0m\u001b[0;34m\u001b[0m\u001b[0;34m\u001b[0m\u001b[0m\n\u001b[0m\u001b[1;32m     10\u001b[0m \u001b[0;34m\u001b[0m\u001b[0m\n\u001b[1;32m     11\u001b[0m     \u001b[0m_\u001b[0m\u001b[0;34m,\u001b[0m \u001b[0mpredicted\u001b[0m \u001b[0;34m=\u001b[0m \u001b[0mtorch\u001b[0m\u001b[0;34m.\u001b[0m\u001b[0mmax\u001b[0m\u001b[0;34m(\u001b[0m\u001b[0my_pred\u001b[0m\u001b[0;34m.\u001b[0m\u001b[0mdata\u001b[0m\u001b[0;34m,\u001b[0m \u001b[0;36m1\u001b[0m\u001b[0;34m)\u001b[0m \u001b[0;31m# Get the one with the largest probability out of the 10 classes of predicted probabilities\u001b[0m\u001b[0;34m\u001b[0m\u001b[0;34m\u001b[0m\u001b[0m\n",
            "\u001b[0;32m/usr/local/lib/python3.10/dist-packages/torch/nn/modules/module.py\u001b[0m in \u001b[0;36m_wrapped_call_impl\u001b[0;34m(self, *args, **kwargs)\u001b[0m\n\u001b[1;32m   1516\u001b[0m             \u001b[0;32mreturn\u001b[0m \u001b[0mself\u001b[0m\u001b[0;34m.\u001b[0m\u001b[0m_compiled_call_impl\u001b[0m\u001b[0;34m(\u001b[0m\u001b[0;34m*\u001b[0m\u001b[0margs\u001b[0m\u001b[0;34m,\u001b[0m \u001b[0;34m**\u001b[0m\u001b[0mkwargs\u001b[0m\u001b[0;34m)\u001b[0m  \u001b[0;31m# type: ignore[misc]\u001b[0m\u001b[0;34m\u001b[0m\u001b[0;34m\u001b[0m\u001b[0m\n\u001b[1;32m   1517\u001b[0m         \u001b[0;32melse\u001b[0m\u001b[0;34m:\u001b[0m\u001b[0;34m\u001b[0m\u001b[0;34m\u001b[0m\u001b[0m\n\u001b[0;32m-> 1518\u001b[0;31m             \u001b[0;32mreturn\u001b[0m \u001b[0mself\u001b[0m\u001b[0;34m.\u001b[0m\u001b[0m_call_impl\u001b[0m\u001b[0;34m(\u001b[0m\u001b[0;34m*\u001b[0m\u001b[0margs\u001b[0m\u001b[0;34m,\u001b[0m \u001b[0;34m**\u001b[0m\u001b[0mkwargs\u001b[0m\u001b[0;34m)\u001b[0m\u001b[0;34m\u001b[0m\u001b[0;34m\u001b[0m\u001b[0m\n\u001b[0m\u001b[1;32m   1519\u001b[0m \u001b[0;34m\u001b[0m\u001b[0m\n\u001b[1;32m   1520\u001b[0m     \u001b[0;32mdef\u001b[0m \u001b[0m_call_impl\u001b[0m\u001b[0;34m(\u001b[0m\u001b[0mself\u001b[0m\u001b[0;34m,\u001b[0m \u001b[0;34m*\u001b[0m\u001b[0margs\u001b[0m\u001b[0;34m,\u001b[0m \u001b[0;34m**\u001b[0m\u001b[0mkwargs\u001b[0m\u001b[0;34m)\u001b[0m\u001b[0;34m:\u001b[0m\u001b[0;34m\u001b[0m\u001b[0;34m\u001b[0m\u001b[0m\n",
            "\u001b[0;32m/usr/local/lib/python3.10/dist-packages/torch/nn/modules/module.py\u001b[0m in \u001b[0;36m_call_impl\u001b[0;34m(self, *args, **kwargs)\u001b[0m\n\u001b[1;32m   1525\u001b[0m                 \u001b[0;32mor\u001b[0m \u001b[0m_global_backward_pre_hooks\u001b[0m \u001b[0;32mor\u001b[0m \u001b[0m_global_backward_hooks\u001b[0m\u001b[0;34m\u001b[0m\u001b[0;34m\u001b[0m\u001b[0m\n\u001b[1;32m   1526\u001b[0m                 or _global_forward_hooks or _global_forward_pre_hooks):\n\u001b[0;32m-> 1527\u001b[0;31m             \u001b[0;32mreturn\u001b[0m \u001b[0mforward_call\u001b[0m\u001b[0;34m(\u001b[0m\u001b[0;34m*\u001b[0m\u001b[0margs\u001b[0m\u001b[0;34m,\u001b[0m \u001b[0;34m**\u001b[0m\u001b[0mkwargs\u001b[0m\u001b[0;34m)\u001b[0m\u001b[0;34m\u001b[0m\u001b[0;34m\u001b[0m\u001b[0m\n\u001b[0m\u001b[1;32m   1528\u001b[0m \u001b[0;34m\u001b[0m\u001b[0m\n\u001b[1;32m   1529\u001b[0m         \u001b[0;32mtry\u001b[0m\u001b[0;34m:\u001b[0m\u001b[0;34m\u001b[0m\u001b[0;34m\u001b[0m\u001b[0m\n",
            "\u001b[0;32m/usr/local/lib/python3.10/dist-packages/torch/nn/modules/container.py\u001b[0m in \u001b[0;36mforward\u001b[0;34m(self, input)\u001b[0m\n\u001b[1;32m    213\u001b[0m     \u001b[0;32mdef\u001b[0m \u001b[0mforward\u001b[0m\u001b[0;34m(\u001b[0m\u001b[0mself\u001b[0m\u001b[0;34m,\u001b[0m \u001b[0minput\u001b[0m\u001b[0;34m)\u001b[0m\u001b[0;34m:\u001b[0m\u001b[0;34m\u001b[0m\u001b[0;34m\u001b[0m\u001b[0m\n\u001b[1;32m    214\u001b[0m         \u001b[0;32mfor\u001b[0m \u001b[0mmodule\u001b[0m \u001b[0;32min\u001b[0m \u001b[0mself\u001b[0m\u001b[0;34m:\u001b[0m\u001b[0;34m\u001b[0m\u001b[0;34m\u001b[0m\u001b[0m\n\u001b[0;32m--> 215\u001b[0;31m             \u001b[0minput\u001b[0m \u001b[0;34m=\u001b[0m \u001b[0mmodule\u001b[0m\u001b[0;34m(\u001b[0m\u001b[0minput\u001b[0m\u001b[0;34m)\u001b[0m\u001b[0;34m\u001b[0m\u001b[0;34m\u001b[0m\u001b[0m\n\u001b[0m\u001b[1;32m    216\u001b[0m         \u001b[0;32mreturn\u001b[0m \u001b[0minput\u001b[0m\u001b[0;34m\u001b[0m\u001b[0;34m\u001b[0m\u001b[0m\n\u001b[1;32m    217\u001b[0m \u001b[0;34m\u001b[0m\u001b[0m\n",
            "\u001b[0;32m/usr/local/lib/python3.10/dist-packages/torch/nn/modules/module.py\u001b[0m in \u001b[0;36m_wrapped_call_impl\u001b[0;34m(self, *args, **kwargs)\u001b[0m\n\u001b[1;32m   1516\u001b[0m             \u001b[0;32mreturn\u001b[0m \u001b[0mself\u001b[0m\u001b[0;34m.\u001b[0m\u001b[0m_compiled_call_impl\u001b[0m\u001b[0;34m(\u001b[0m\u001b[0;34m*\u001b[0m\u001b[0margs\u001b[0m\u001b[0;34m,\u001b[0m \u001b[0;34m**\u001b[0m\u001b[0mkwargs\u001b[0m\u001b[0;34m)\u001b[0m  \u001b[0;31m# type: ignore[misc]\u001b[0m\u001b[0;34m\u001b[0m\u001b[0;34m\u001b[0m\u001b[0m\n\u001b[1;32m   1517\u001b[0m         \u001b[0;32melse\u001b[0m\u001b[0;34m:\u001b[0m\u001b[0;34m\u001b[0m\u001b[0;34m\u001b[0m\u001b[0m\n\u001b[0;32m-> 1518\u001b[0;31m             \u001b[0;32mreturn\u001b[0m \u001b[0mself\u001b[0m\u001b[0;34m.\u001b[0m\u001b[0m_call_impl\u001b[0m\u001b[0;34m(\u001b[0m\u001b[0;34m*\u001b[0m\u001b[0margs\u001b[0m\u001b[0;34m,\u001b[0m \u001b[0;34m**\u001b[0m\u001b[0mkwargs\u001b[0m\u001b[0;34m)\u001b[0m\u001b[0;34m\u001b[0m\u001b[0;34m\u001b[0m\u001b[0m\n\u001b[0m\u001b[1;32m   1519\u001b[0m \u001b[0;34m\u001b[0m\u001b[0m\n\u001b[1;32m   1520\u001b[0m     \u001b[0;32mdef\u001b[0m \u001b[0m_call_impl\u001b[0m\u001b[0;34m(\u001b[0m\u001b[0mself\u001b[0m\u001b[0;34m,\u001b[0m \u001b[0;34m*\u001b[0m\u001b[0margs\u001b[0m\u001b[0;34m,\u001b[0m \u001b[0;34m**\u001b[0m\u001b[0mkwargs\u001b[0m\u001b[0;34m)\u001b[0m\u001b[0;34m:\u001b[0m\u001b[0;34m\u001b[0m\u001b[0;34m\u001b[0m\u001b[0m\n",
            "\u001b[0;32m/usr/local/lib/python3.10/dist-packages/torch/nn/modules/module.py\u001b[0m in \u001b[0;36m_call_impl\u001b[0;34m(self, *args, **kwargs)\u001b[0m\n\u001b[1;32m   1525\u001b[0m                 \u001b[0;32mor\u001b[0m \u001b[0m_global_backward_pre_hooks\u001b[0m \u001b[0;32mor\u001b[0m \u001b[0m_global_backward_hooks\u001b[0m\u001b[0;34m\u001b[0m\u001b[0;34m\u001b[0m\u001b[0m\n\u001b[1;32m   1526\u001b[0m                 or _global_forward_hooks or _global_forward_pre_hooks):\n\u001b[0;32m-> 1527\u001b[0;31m             \u001b[0;32mreturn\u001b[0m \u001b[0mforward_call\u001b[0m\u001b[0;34m(\u001b[0m\u001b[0;34m*\u001b[0m\u001b[0margs\u001b[0m\u001b[0;34m,\u001b[0m \u001b[0;34m**\u001b[0m\u001b[0mkwargs\u001b[0m\u001b[0;34m)\u001b[0m\u001b[0;34m\u001b[0m\u001b[0;34m\u001b[0m\u001b[0m\n\u001b[0m\u001b[1;32m   1528\u001b[0m \u001b[0;34m\u001b[0m\u001b[0m\n\u001b[1;32m   1529\u001b[0m         \u001b[0;32mtry\u001b[0m\u001b[0;34m:\u001b[0m\u001b[0;34m\u001b[0m\u001b[0;34m\u001b[0m\u001b[0m\n",
            "\u001b[0;32m/usr/local/lib/python3.10/dist-packages/torch/nn/modules/linear.py\u001b[0m in \u001b[0;36mforward\u001b[0;34m(self, input)\u001b[0m\n\u001b[1;32m    112\u001b[0m \u001b[0;34m\u001b[0m\u001b[0m\n\u001b[1;32m    113\u001b[0m     \u001b[0;32mdef\u001b[0m \u001b[0mforward\u001b[0m\u001b[0;34m(\u001b[0m\u001b[0mself\u001b[0m\u001b[0;34m,\u001b[0m \u001b[0minput\u001b[0m\u001b[0;34m:\u001b[0m \u001b[0mTensor\u001b[0m\u001b[0;34m)\u001b[0m \u001b[0;34m->\u001b[0m \u001b[0mTensor\u001b[0m\u001b[0;34m:\u001b[0m\u001b[0;34m\u001b[0m\u001b[0;34m\u001b[0m\u001b[0m\n\u001b[0;32m--> 114\u001b[0;31m         \u001b[0;32mreturn\u001b[0m \u001b[0mF\u001b[0m\u001b[0;34m.\u001b[0m\u001b[0mlinear\u001b[0m\u001b[0;34m(\u001b[0m\u001b[0minput\u001b[0m\u001b[0;34m,\u001b[0m \u001b[0mself\u001b[0m\u001b[0;34m.\u001b[0m\u001b[0mweight\u001b[0m\u001b[0;34m,\u001b[0m \u001b[0mself\u001b[0m\u001b[0;34m.\u001b[0m\u001b[0mbias\u001b[0m\u001b[0;34m)\u001b[0m\u001b[0;34m\u001b[0m\u001b[0;34m\u001b[0m\u001b[0m\n\u001b[0m\u001b[1;32m    115\u001b[0m \u001b[0;34m\u001b[0m\u001b[0m\n\u001b[1;32m    116\u001b[0m     \u001b[0;32mdef\u001b[0m \u001b[0mextra_repr\u001b[0m\u001b[0;34m(\u001b[0m\u001b[0mself\u001b[0m\u001b[0;34m)\u001b[0m \u001b[0;34m->\u001b[0m \u001b[0mstr\u001b[0m\u001b[0;34m:\u001b[0m\u001b[0;34m\u001b[0m\u001b[0;34m\u001b[0m\u001b[0m\n",
            "\u001b[0;31mRuntimeError\u001b[0m: mat1 and mat2 shapes cannot be multiplied (128x800 and 512x256)"
          ]
        }
      ]
    },
    {
      "cell_type": "markdown",
      "metadata": {
        "id": "5zlqVP4kb5jE"
      },
      "source": [
        "<!-- ENG -->\n",
        "<font color=orange> **Double-click this text cell and write your answer.** </font>\n",
        "<!-- From the next line, write your answer -->\n",
        "The error message is:\n",
        "\n",
        "RuntimeError: mat1 and mat2 shapes cannot be multiplied (128x800 and 512x256)\n",
        "\n",
        "The padding operation make the shape of mat1 cannot be multiplied with mat2."
      ]
    },
    {
      "cell_type": "markdown",
      "metadata": {
        "id": "LKN3hfqbw5re"
      },
      "source": [
        "-----"
      ]
    },
    {
      "cell_type": "markdown",
      "metadata": {
        "deletable": false,
        "editable": false,
        "id": "uVXSyielsSBq"
      },
      "source": [
        "<!-- JPN -->\n",
        "##### 課題 3\n",
        "\n",
        "　課題 2におけるエラーメッセージを参考に `torch.nn.Flatten()` 直後の `torch.nn.Linear()` の入力次元数を修正することで、`train()` を行ってもエラーが発生せずに学習を行えるネットワークを作成せよ。また、実装したネットワークについて学習を実施し、50エポック終了時のモデルの訓練データ、検証データ、テストデータに対する正解率を比率で報告せよ。\n"
      ]
    },
    {
      "cell_type": "markdown",
      "metadata": {
        "deletable": false,
        "editable": false,
        "id": "EWC4ZN-F6LS8"
      },
      "source": [
        "<!-- ENG -->\n",
        "\n",
        "##### Exercise 3\n",
        "\n",
        "　Referencing the error message in Exercise 2, modify the number of input dimensions of `torch.nn.Linear()` immediately after `torch.nn.Flatten()` to create a network that can be trained without error even if `train()` is performed. Additionally, train the network and report accuracy rate for training, validation, and test data for the model at the end of 50 epochs.\n"
      ]
    },
    {
      "cell_type": "code",
      "execution_count": 22,
      "metadata": {
        "tags": [],
        "id": "6DntaNY5b5jE",
        "colab": {
          "base_uri": "https://localhost:8080/"
        },
        "outputId": "48de03fe-faf1-47d5-fcbb-49ea46a416eb"
      },
      "outputs": [
        {
          "output_type": "execute_result",
          "data": {
            "text/plain": [
              "Sequential(\n",
              "  (0): Conv2d(1, 16, kernel_size=(5, 5), stride=(1, 1), padding=(2, 2))\n",
              "  (1): ReLU()\n",
              "  (2): MaxPool2d(kernel_size=2, stride=2, padding=0, dilation=1, ceil_mode=False)\n",
              "  (3): Conv2d(16, 32, kernel_size=(5, 5), stride=(1, 1))\n",
              "  (4): ReLU()\n",
              "  (5): MaxPool2d(kernel_size=2, stride=2, padding=0, dilation=1, ceil_mode=False)\n",
              "  (6): Flatten(start_dim=1, end_dim=-1)\n",
              "  (7): Linear(in_features=800, out_features=256, bias=True)\n",
              "  (8): ReLU()\n",
              "  (9): Linear(in_features=256, out_features=10, bias=True)\n",
              ")"
            ]
          },
          "metadata": {},
          "execution_count": 22
        }
      ],
      "source": [
        "# CODE CELL FOR YOUR ANSWER\n",
        "\n",
        "torch.manual_seed(0) # Ensure reproducibility of training results\n",
        "torch.backends.cudnn.deterministic = True\n",
        "\n",
        "cnn_with_padding = torch.nn.Sequential(\n",
        "    torch.nn.Conv2d(1, 16, (5, 5), padding=2),\n",
        "    torch.nn.ReLU(),\n",
        "    torch.nn.MaxPool2d(2),\n",
        "    torch.nn.Conv2d(16, 32, (5, 5)),\n",
        "    torch.nn.ReLU(),\n",
        "    torch.nn.MaxPool2d(2),\n",
        "    torch.nn.Flatten(),\n",
        "    torch.nn.Linear(50*4*4, 256),\n",
        "    torch.nn.ReLU(),\n",
        "    torch.nn.Linear(256, 10),\n",
        ")\n",
        "cnn_with_padding.cuda()"
      ]
    },
    {
      "cell_type": "code",
      "execution_count": 23,
      "metadata": {
        "tags": [],
        "id": "I1ibx7JHb5jE",
        "colab": {
          "base_uri": "https://localhost:8080/",
          "height": 899
        },
        "outputId": "bd60dd49-f427-4391-ee13-dfb9eb65bde2"
      },
      "outputs": [
        {
          "output_type": "display_data",
          "data": {
            "text/plain": [
              "<Figure size 1200x800 with 2 Axes>"
            ],
            "image/png": "[encoded data removed]"
          },
          "metadata": {}
        },
        {
          "output_type": "stream",
          "name": "stdout",
          "text": [
            "accuracy\n",
            "\ttraining         \t (min:    0.858, max:    1.000, cur:    1.000)\n",
            "\tvalidation       \t (min:    0.967, max:    0.991, cur:    0.990)\n",
            "Loss\n",
            "\ttraining         \t (min:    0.000, max:    0.455, cur:    0.000)\n",
            "\tvalidation       \t (min:    0.036, max:    0.108, cur:    0.047)\n",
            "Accuracy: 0.9904 (valid), 1.0000 (train)\n"
          ]
        }
      ],
      "source": [
        "torch.manual_seed(0) # Ensure reproducibility of training results\n",
        "torch.backends.cudnn.deterministic = True\n",
        "\n",
        "# Prepare loss functions and optimization methods\n",
        "loss_fn = torch.nn.CrossEntropyLoss()\n",
        "optimizer = torch.optim.SGD(cnn_with_padding.parameters(), lr=0.1)\n",
        "\n",
        "# Run training\n",
        "trained_model = train(cnn_with_padding, loss_fn, optimizer, train_loader, valid_loader)\n",
        "\n",
        "# Run predictions\n",
        "cnn_train_loss, cnn_train_accuracy = evaluate_model(trained_model, loss_fn, train_loader)\n",
        "cnn_valid_loss, cnn_valid_accuracy = evaluate_model(trained_model, loss_fn, valid_loader)\n",
        "cnn_test_loss, cnn_test_accuracy = evaluate_model(trained_model, loss_fn, test_loader)"
      ]
    },
    {
      "cell_type": "markdown",
      "metadata": {
        "id": "RUFL24yOtVLq"
      },
      "source": [
        "<!-- BOTH -->\n",
        "----"
      ]
    },
    {
      "cell_type": "markdown",
      "metadata": {
        "id": "DdIG-BomtVLq"
      },
      "source": [
        "<!-- JPN -->\n",
        "##### 課題 4（実践、提出不要）\n",
        "\n",
        "　これまでは一定epoch後のモデルをそのまま予測モデルとして使用した。しかし、これは訓練データへ過学習した予測モデルを作成してしまう恐れがある。このことから、検証データに対する損失 loss が最小になったと推定される時のモデルを予測モデルとして利用することが一般的である。\n",
        "\n",
        "　そこで、指定されたepoch数の学習を実施した上で、各epochの中で最も検証データに対する損失が低かったモデルを出力する機構を `train()` 関数に追加実装せよ。また、この `train()` 関数を利用することで、実際に予測モデルを構築し、テストデータに対する予測精度がどのように変化するか検証せよ（※今回のケースでは大きな変化がない可能性が高い。学習データとして使う画像の数を減らすなどして過学習が発生しやすい状況を作ると良い）。"
      ]
    },
    {
      "cell_type": "markdown",
      "metadata": {
        "id": "oOBBh3S-tVLq"
      },
      "source": [
        "<!-- ENG -->\n",
        "##### Exercise 4 (Practical, not required to submit)\n",
        "\n",
        "Until now, the model after training of a certain epoch was used as-is as a prediction model. However, this may result in the prediction model that is overfitted to the training data. Therefore, it is common to use the model when the loss to the validation data seems minimized as the prediction model.\n",
        "\n",
        "Implement an additional mechanism in the `train()` function that outputs the model with the lowest loss to the validation data. Also, by using this `train()` function, train a prediction model and verify how the prediction accuracy against the test data changes (*It is highly likely that there is no significant change in this case. It is recommended to reduce the number of images used as training data to make a situation where overfitting is likely to occur)."
      ]
    },
    {
      "cell_type": "markdown",
      "metadata": {
        "id": "7AfhkqPcPEBD"
      },
      "source": [
        "---"
      ]
    },
    {
      "cell_type": "markdown",
      "metadata": {
        "id": "5JAlqr0ePNoI"
      },
      "source": [
        "<!-- JPN -->\n",
        "### 2.2 | CNNを使うときの注意点"
      ]
    },
    {
      "cell_type": "markdown",
      "metadata": {
        "id": "NAbmd2_J6LS8"
      },
      "source": [
        "<!-- ENG -->\n",
        "### 2.2 | Points of caution when using CNN"
      ]
    },
    {
      "cell_type": "markdown",
      "metadata": {
        "id": "67Z-_oyjtVLq"
      },
      "source": [
        "<!-- JPN -->\n",
        "　ここまで、画像データに対する畳み込みニューラルネットワークが如何に強力であるかを説明してきた。一方で、**CNNはいかなるデータに対しても使える万能ツールではない**ことに注意してほしい。\n",
        "\n",
        "　一番最初に説明したように、CNNは自分自身の座標と近傍の座標にある値（チャネル）を使って、新しい値を作りだすような層であったが、**「近傍」の情報を取り込むことが予測を行う上で重要だ、ということがわかっている場合にのみ有効**である。例えば、titanicデータセットでは、\"Sex\", \"Fare\", \"Age\", \"Pclass\" などの特徴量の列の並びは全く意味を持っていない。このような場合には `torch.nn.Linear()` を使うべきである。\n",
        "\n",
        "　**畳み込みニューラルネットワークはその特徴量の並びに意味があるときにのみ効果を発揮する**と考えてほしい。"
      ]
    },
    {
      "cell_type": "markdown",
      "metadata": {
        "id": "QY9ZgNaetVLr"
      },
      "source": [
        "<!-- ENG -->\n",
        "　So far, I have explained how powerful convolutional neural networks are for image data. On the other hand, please note that **CNN is not a universal tool that can be used for any data**.\n",
        "\n",
        "　As explained at the very beginning, CNN is a layer that uses values (channels) in its own coordinates and those of its neighbors to create new values, but it is **only useful if we know that capturing “nearest neighbor” information is important for making predictions**. For example, in the titanic data set, the order of feature columns such as \"Sex\", \"Fare\", \"Age\", and \"Pclass\" has no meaning at all. The fully-connected layer `torch.nn.Linear()` should be used in such a case.\n",
        "\n",
        "　Please remember that **a convolutional neural network is effective only when the sequence of features is meaningful**."
      ]
    },
    {
      "cell_type": "markdown",
      "metadata": {
        "id": "UMBK7ykQw_Jn"
      },
      "source": [
        "-----"
      ]
    },
    {
      "cell_type": "markdown",
      "metadata": {
        "id": "oA_WsUvsChJU"
      },
      "source": [
        "<!-- JPN -->\n",
        "##### 課題 5（発展）\n",
        "\n",
        "　研究において、「他人が再現実験が行えること」は非常に重要な要素である。\n",
        "CNNモデルを自由に組み立て、学習を行った上で、テストデータの予測正解率を報告せよ。ただし、**採点者が全く同じ結果を得るために必要な情報を付与**せよ。\n"
      ]
    },
    {
      "cell_type": "markdown",
      "metadata": {
        "id": "dy7LhLIC6LS8"
      },
      "source": [
        "<!-- ENG -->\n",
        "\n",
        "##### Exercise 5 (Advanced)\n",
        "\n",
        "　In research, \"the ability of others to reproduce the test\" is a very important factor.\n",
        "Freely construct a CNN model, train it, and then report the predicted accuracy of the test data. However, **give the assessors the information they need to get the exact same result**.\n"
      ]
    },
    {
      "cell_type": "markdown",
      "metadata": {
        "id": "9Cgx6PB8b5jF"
      },
      "source": [
        "<!-- JPN -->\n",
        "<font color=orange> **このテキストセルをダブルクリックし答案を記述せよ。** </font>\n",
        "<!-- この下の行から答案を記述 -->\n"
      ]
    },
    {
      "cell_type": "markdown",
      "metadata": {
        "id": "pbujiFy1b5jF"
      },
      "source": [
        "<!-- ENG -->\n",
        "<font color=orange> **Double-click this text cell and write your answer.** </font>\n",
        "<!-- From the next line, write your answer -->\n"
      ]
    },
    {
      "cell_type": "code",
      "execution_count": 26,
      "metadata": {
        "id": "CvcCSsHRb5jF",
        "colab": {
          "base_uri": "https://localhost:8080/"
        },
        "outputId": "80a1fb79-dd1e-420e-ffc9-f45d3e752db5"
      },
      "outputs": [
        {
          "output_type": "execute_result",
          "data": {
            "text/plain": [
              "Sequential(\n",
              "  (0): Conv2d(1, 16, kernel_size=(5, 5), stride=(1, 1), padding=(3, 3))\n",
              "  (1): ReLU()\n",
              "  (2): MaxPool2d(kernel_size=2, stride=2, padding=0, dilation=1, ceil_mode=False)\n",
              "  (3): Conv2d(16, 48, kernel_size=(5, 5), stride=(1, 1))\n",
              "  (4): ReLU()\n",
              "  (5): MaxPool2d(kernel_size=2, stride=2, padding=0, dilation=1, ceil_mode=False)\n",
              "  (6): Flatten(start_dim=1, end_dim=-1)\n",
              "  (7): Linear(in_features=1200, out_features=256, bias=True)\n",
              "  (8): ReLU()\n",
              "  (9): Linear(in_features=256, out_features=10, bias=True)\n",
              ")"
            ]
          },
          "metadata": {},
          "execution_count": 26
        }
      ],
      "source": [
        "# CODE CELL FOR YOUR ANSWER\n",
        "# ADDING CODE CELL IS ACCEPTABLE IN THIS EXERCISE\n",
        "torch.manual_seed(0) # Ensure reproducibility of training results\n",
        "torch.backends.cudnn.deterministic = True\n",
        "\n",
        "cnn_with_padding = torch.nn.Sequential(\n",
        "    torch.nn.Conv2d(1, 16, (5, 5), padding=3),\n",
        "    torch.nn.ReLU(),\n",
        "    torch.nn.MaxPool2d(2),\n",
        "    torch.nn.Conv2d(16, 48, (5, 5)),\n",
        "    torch.nn.ReLU(),\n",
        "    torch.nn.MaxPool2d(2),\n",
        "    torch.nn.Flatten(),\n",
        "    torch.nn.Linear(75*4*4, 256),\n",
        "    torch.nn.ReLU(),\n",
        "    torch.nn.Linear(256, 10),\n",
        ")\n",
        "cnn_with_padding.cuda()"
      ]
    },
    {
      "cell_type": "code",
      "source": [
        "torch.manual_seed(0) # Ensure reproducibility of training results\n",
        "torch.backends.cudnn.deterministic = True\n",
        "\n",
        "# Prepare loss functions and optimization methods\n",
        "loss_fn = torch.nn.CrossEntropyLoss()\n",
        "optimizer = torch.optim.SGD(cnn_with_padding.parameters(), lr=0.1)\n",
        "\n",
        "# Run training\n",
        "trained_model = train(cnn_with_padding, loss_fn, optimizer, train_loader, valid_loader)\n",
        "\n",
        "# Run predictions\n",
        "cnn_train_loss, cnn_train_accuracy = evaluate_model(trained_model, loss_fn, train_loader)\n",
        "cnn_valid_loss, cnn_valid_accuracy = evaluate_model(trained_model, loss_fn, valid_loader)\n",
        "cnn_test_loss, cnn_test_accuracy = evaluate_model(trained_model, loss_fn, test_loader)"
      ],
      "metadata": {
        "colab": {
          "base_uri": "https://localhost:8080/",
          "height": 899
        },
        "id": "KUyczKFBr86H",
        "outputId": "f439781d-58ff-4de4-857f-3b3d9a85ce26"
      },
      "execution_count": 27,
      "outputs": [
        {
          "output_type": "display_data",
          "data": {
            "text/plain": [
              "<Figure size 1200x800 with 2 Axes>"
            ],
            "image/png": "[encoded data removed]"
          },
          "metadata": {}
        },
        {
          "output_type": "stream",
          "name": "stdout",
          "text": [
            "accuracy\n",
            "\ttraining         \t (min:    0.854, max:    1.000, cur:    1.000)\n",
            "\tvalidation       \t (min:    0.963, max:    0.991, cur:    0.990)\n",
            "Loss\n",
            "\ttraining         \t (min:    0.000, max:    0.461, cur:    0.000)\n",
            "\tvalidation       \t (min:    0.036, max:    0.117, cur:    0.049)\n",
            "Accuracy: 0.9903 (valid), 1.0000 (train)\n"
          ]
        }
      ]
    }
  ],
  "metadata": {
    "accelerator": "GPU",
    "colab": {
      "provenance": []
    },
    "kernelspec": {
      "display_name": "Python 3.9.12 ('base')",
      "language": "python",
      "name": "python3"
    },
    "language_info": {
      "codemirror_mode": {
        "name": "ipython",
        "version": 3
      },
      "file_extension": ".py",
      "mimetype": "text/x-python",
      "name": "python",
      "nbconvert_exporter": "python",
      "pygments_lexer": "ipython3",
      "version": "3.9.12"
    },
    "otter": {
      "OK_FORMAT": true,
      "tests": {
        "q3": {
          "name": "q3",
          "points": 6,
          "suites": [
            {
              "cases": [],
              "scored": true,
              "setup": "",
              "teardown": "",
              "type": "doctest"
            }
          ]
        }
      }
    },
    "vscode": {
      "interpreter": {
        "hash": "d4d1e4263499bec80672ea0156c357c1ee493ec2b1c70f0acce89fc37c4a6abe"
      }
    }
  },
  "nbformat": 4,
  "nbformat_minor": 0
}