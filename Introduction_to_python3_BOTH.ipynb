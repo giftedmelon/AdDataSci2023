{
  "cells": [
    {
      "cell_type": "markdown",
      "metadata": {
        "id": "6Io5Z67GXwXk"
      },
      "source": [
        "<!-- JPN -->\n",
        "# Python入門\n",
        "\n",
        "\n",
        "※本演習資料の二次配布・再配布はお断り致します。"
      ]
    },
    {
      "cell_type": "markdown",
      "metadata": {
        "id": "Pdj6c0vfVxpz"
      },
      "source": [
        "<!-- ENG -->\n",
        "# Introduction to Python\n",
        "\n",
        "\n",
        "※Distribution or redistribution of these practice materials without the copyright holder's permission is not permitted."
      ]
    },
    {
      "cell_type": "markdown",
      "metadata": {
        "id": "D3QflLv0qdiy"
      },
      "source": [
        "<!-- JPN -->\n",
        "　（この資料は[ChainerのTutorial](https://tutorials.chainer.org/ja/02_Basics_of_Python.html)をベースに、要約・加筆・修正を行い作成されている。この場を借りて感謝する。）\n",
        "\n",
        "　本章では、プログラミング言語 Python の基礎の基礎を学ぶ。より正確かつ詳細な知識を確認したい場合には、[Python公式のチュートリアル](https://docs.python.jp/3/tutorial/index.html)などを参照せよ。\n",
        "\n",
        "　なお、この授業では、**Python 3** を前提としている。Python 2 とは互換性がない部分もあるので、インターネット上のコードを取得する際にはPythonのバージョンにも注意する必要がある（**※1**）。\n",
        "\n"
      ]
    },
    {
      "cell_type": "markdown",
      "metadata": {
        "id": "wkpbNb6vVxp1"
      },
      "source": [
        "<!-- ENG -->\n",
        "　(These materials are created based on the [Chainer Tutorial](https://tutorials.chainer.org/ja/02_Basics_of_Python.html), with summaries and additions. I would like to thank the authors for allowing us to use their materials. Also note that this English material is translated by the lecturers only for this lecture.)\n",
        "\n",
        "　In this chapter, we will learn the basics of the programming language Python. If you want to learn more precise and detailed knowledge, please refer to [the official Python tutorials](https://docs.python.jp/3/tutorial/index.html).\n",
        "\n",
        "　Note that this course assumes the use of **Python 3**. Some parts of the code are not compatible with Python 2, so you should also pay attention to the Python version when getting the code from the Internet (**S1**).\n",
        "\n"
      ]
    },
    {
      "cell_type": "markdown",
      "metadata": {
        "id": "4bntJYzwCJ74"
      },
      "source": [
        "<!-- JPN -->\n",
        "## 1 | Python の特徴\n",
        "\n",
        "　Pythonはデータ解析や機械学習の分野で最もよく使われているプログラミング言語である。今後使っていくpandasやscikit-learn、PyTorchなど、機械学習などに適したライブラリが充実している。Pythonは最も有名な言語の1つであるC言語などと比べ、プログラムをPCが理解しやすい形式に変換（コンパイル）してから実行する必要がなく、試行錯誤がしやすい。これもデータ解析や機械学習の分野で広く利用される理由であろう。"
      ]
    },
    {
      "cell_type": "markdown",
      "metadata": {
        "id": "eTe81NGiVxp2"
      },
      "source": [
        "<!-- ENG -->\n",
        "## 1 | Python Features\n",
        "\n",
        "　Python is the most commonly used programming language in the field of data analysis and machine learning. It has a wide range of libraries suitable for machine learning and other applications, such as pandas, scikit-learn, and PyTorch, which we will be using herein. Compared to languages such as C, which is one of the most well known programming language, Python does not require the program to be converted (compiled) into a format that is understood by a computer before execution, making trial and error easier. This is probably another reason why Python is widely used in the field of data analysis and machine learning."
      ]
    },
    {
      "cell_type": "markdown",
      "metadata": {
        "id": "jZNTuBQ54BSu"
      },
      "source": [
        "<!-- JPN -->\n",
        "## 2 | 文法\n",
        "\n",
        "　プログラミングする上で、まずはじめにコンピュータに命令を伝えるためのルールとなる**文法**を覚える必要がある。\n",
        "文法を無視した記述があるプログラムは、機械が意味を解釈できず、実行してもエラーとなり処理が停止してしまう。そのため、文法はしっかりと理解しておく必要がある。\n",
        "\n",
        "\n",
        "\n",
        "　この資料では以下の要素に主眼を置きながら説明していく。\n",
        "\n",
        "- 変数\n",
        "- 算術演算子\n",
        "- 配列\n",
        "- 辞書\n",
        "- 制御文\n",
        "- 関数"
      ]
    },
    {
      "cell_type": "markdown",
      "metadata": {
        "id": "Ks4jw2grVxp3"
      },
      "source": [
        "<!-- ENG -->\n",
        "## 2 | Syntax\n",
        "\n",
        "　The first step in programming is to learn the **syntax**, which are the rules for communicating instructions to the computer.\n",
        "If a program has a description that ignores syntax, the computer will not be able to interpret the meaning, and even if it is executed, an error will occur and the process will stop. Therefore, the syntax needs to be well understood.\n",
        "\n",
        "\n",
        "　In this article, I will focus on the following elements.\n",
        "\n",
        "- Variables\n",
        "- Arithmetic operators\n",
        "- Arrays\n",
        "- Dictionaries\n",
        "- Control statements\n",
        "- Functions"
      ]
    },
    {
      "cell_type": "markdown",
      "metadata": {
        "id": "_mVeEtYwogPJ"
      },
      "source": [
        "<!-- JPN -->\n",
        "### 2.0 | プログラムを書く前に\n",
        "\n",
        "　プログラムには英文字（小文字/大文字）と数字、一部の記号のみを利用し、**日本語は原則利用しない**。特に、**全角スペースは目視で半角スペース2つとの区別がつかず、プログラムが動作しない、原因もわかりにくい、という厄介な状況を生み出す諸悪の根源なので絶対に使わない**よう気を付けてほしい。\n"
      ]
    },
    {
      "cell_type": "markdown",
      "metadata": {
        "id": "KCDBzdz8Vxp4"
      },
      "source": [
        "<!-- ENG -->\n",
        "### 2.0 | Before writing the program\n",
        "\n",
        "　Use only English letters (lowercase/uppercase), numbers, and just some specific symbols in the program. **In principle, do not use Japanese characters**. In particular, **take care to ensure you absolutely do not use double byte spaces, as they are a big problem and create a troublesome situation in which the program does not work and the cause is difficult to understand; it is not easy to visually distinguish between double byte spaces and two single byte spaces.**\n"
      ]
    },
    {
      "cell_type": "code",
      "execution_count": null,
      "metadata": {
        "id": "EjRHkqO7urNy"
      },
      "outputs": [],
      "source": [
        "# Example where there is double byte and single byte spaces (see also Supplementary Material S2)\n",
        "1 +　2 # There is a double byte space before “2”"
      ]
    },
    {
      "cell_type": "markdown",
      "metadata": {
        "id": "hO4YLiKjIfDi"
      },
      "source": [
        "<!-- JPN -->\n",
        "### 2.1 | 変数\n",
        "\n",
        "　**変数 (variable)** とは、様々な値を格納することができる、**名前がついた入れ物**である。この変数に値を格納したり、更新したりすることで、計算結果を一時的に保持しておくことができる。"
      ]
    },
    {
      "cell_type": "markdown",
      "metadata": {
        "id": "JLVVJykDVxp5"
      },
      "source": [
        "<!-- ENG -->\n",
        "### 2.1 | Variables\n",
        "\n",
        "　**A variable** is **storage area that has a name** in which various values can be stored. By storing and updating values in these variables, the results of calculations can be temporarily held."
      ]
    },
    {
      "cell_type": "markdown",
      "metadata": {
        "id": "xquy_Kx4KMOZ"
      },
      "source": [
        "<!-- JPN -->\n",
        "　それでは、`a` という名前の変数に、`1` という値を**代入**してみる。"
      ]
    },
    {
      "cell_type": "markdown",
      "metadata": {
        "id": "X1xdZJdoVxp5"
      },
      "source": [
        "<!-- ENG -->\n",
        "　Let's try **assigning** a value of `1` to a variable named `a`."
      ]
    },
    {
      "cell_type": "code",
      "execution_count": null,
      "metadata": {
        "id": "SjpDQJn-3Rct"
      },
      "outputs": [],
      "source": [
        "a = 1"
      ]
    },
    {
      "cell_type": "markdown",
      "metadata": {
        "id": "aitz3Hri_a-n"
      },
      "source": [
        "<!-- JPN -->\n",
        "　なお、代入は `=` の記号を用いる。数学的には `=` は等しいという意味を持つので紛らわしいが、Python では**「左辺の変数に、右辺の値を代入する」**という意味になる。"
      ]
    },
    {
      "cell_type": "markdown",
      "metadata": {
        "id": "lw9NXketVxp6"
      },
      "source": [
        "<!-- ENG -->\n",
        "　Use the `=` symbol for substitution. The `=` symbol is confusing because it means equal in mathematics, but in Python it means **”assign the value on the right side to the variable on the left side\"**."
      ]
    },
    {
      "cell_type": "markdown",
      "metadata": {
        "id": "NdWO0Uc7pb0m"
      },
      "source": [
        "<img src=\"https://i.imgur.com/hZkaev3.png\" width=400>"
      ]
    },
    {
      "cell_type": "markdown",
      "metadata": {
        "id": "8b0i8oelv9aR"
      },
      "source": [
        "<!-- JPN -->\n",
        "　変数に格納されている値を確認する方法として、`print()` と呼ばれる**関数 (function)** を使用する。"
      ]
    },
    {
      "cell_type": "markdown",
      "metadata": {
        "id": "mHlLsxuLVxp6"
      },
      "source": [
        "<!-- ENG -->\n",
        "　**A function** called `print()` is used as a way to check the value stored in a variable."
      ]
    },
    {
      "cell_type": "code",
      "execution_count": null,
      "metadata": {
        "id": "oTHXMTjiv9aR"
      },
      "outputs": [],
      "source": [
        "print(a)"
      ]
    },
    {
      "cell_type": "code",
      "execution_count": null,
      "metadata": {
        "id": "lu3yLUHrcnIN"
      },
      "outputs": [],
      "source": [
        "print(a + 3)"
      ]
    },
    {
      "cell_type": "markdown",
      "metadata": {
        "id": "nGNlqHW_v9aV"
      },
      "source": [
        "<!-- JPN -->\n",
        "　変数につける名前は、コードを書く人が自由に決めることができる。\n",
        "ただし、**わかりやすい名前をつけることがとても大切**である。\n",
        "わかりやすい名前を付けることで、**自分のコードを読む他人や、来週、来月の自分にとってコードを理解するための大きな手がかり**となる。"
      ]
    },
    {
      "cell_type": "markdown",
      "metadata": {
        "id": "iUSZ40u8Vxp7"
      },
      "source": [
        "<!-- ENG -->\n",
        "　The name given to a variable can be freely decided by the person writing the code.\n",
        "However, **it is very important to give it a name that is easy to understand**.\n",
        "Giving it a name that is easy to understand will be **a big help for others who read your code as well for you to understand the code a week or month later**."
      ]
    },
    {
      "cell_type": "markdown",
      "metadata": {
        "id": "BQhk7-XfDFhS"
      },
      "source": [
        "<!-- JPN -->\n",
        "### 2.2 | コメント\n",
        "\n",
        "　Python では、`#` の後からその行の終わりまでに存在する全ての文字列は無視される。\n",
        "この `#` の後ろに続く部分を**コメント (comment)**と呼ぶ。\n",
        "コメントは、コード中に変数の意味や処理の意味をコードを読む人に伝えるためによく使われる。なお、Google Colabでは日本語コメントも利用することができるが、各自の手元のパソコンにPythonを入れた時には**日本語コメントのせいでエラーが発生することもある**ので、非推奨である。\n",
        "\n",
        "　試しに下のセルを実行してみよ。`print()`関数が記述されているが、コメント化されている（コメントアウトされている）ので、実行されることなく、なにも出力されない。"
      ]
    },
    {
      "cell_type": "markdown",
      "metadata": {
        "id": "ygq30tJ6Vxp8"
      },
      "source": [
        "<!-- ENG -->\n",
        "### 2.2 | Comments\n",
        "\n",
        "　In Python, all strings between the `#` (hash mark) and the end of the line are ignored.\n",
        "The part that follows the `#` is called a **comment**.\n",
        "Comments are often used in code to convey the meaning of variables and processes to the reader of the code. Even though Japanese (and other any languages) can be used in Google Colab, it is not recommend to use them because **there may be cases where comments in other languages generate errors** while running Python on your local computer.\n",
        "\n",
        "　As a test, try to run the cell below. Although the `print()` function is provided in the code, since it is commented out, it is not executed and nothing is printed out."
      ]
    },
    {
      "cell_type": "code",
      "execution_count": null,
      "metadata": {
        "id": "YK_XjChXDXmH"
      },
      "outputs": [],
      "source": [
        "# This line and the line below it are commented out and will be ignored at runtime.\n",
        "# print(a)"
      ]
    },
    {
      "cell_type": "markdown",
      "metadata": {
        "id": "I_Z6hhts_v4c"
      },
      "source": [
        "<!-- JPN -->\n",
        "### 2.3 | 数値の種類：整数と実数\n",
        "\n",
        "　Pythonでは、数値を表現する方法として、**整数（integer, `int`）**と**実数（floating-point number, `float`）**の2種類が存在する。"
      ]
    },
    {
      "cell_type": "markdown",
      "metadata": {
        "id": "yTULGMkIVxp8"
      },
      "source": [
        "<!-- ENG -->\n",
        "### 2.3 | Numeric data types: Integers and floating-point numbers\n",
        "\n",
        "　In Python, there are two ways to represent numbers: **integers (abbreviated as `int`)** and **floating-point numbers (abbreviated as `float`)**."
      ]
    },
    {
      "cell_type": "code",
      "execution_count": null,
      "metadata": {
        "id": "LXhs2rCSePnZ"
      },
      "outputs": [],
      "source": [
        "var_i = 1   # integers\n",
        "var_f = 1.5 # floating-point numbers"
      ]
    },
    {
      "cell_type": "markdown",
      "metadata": {
        "id": "VsdsnV9uiQev"
      },
      "source": [
        "<!-- JPN -->\n",
        "### 2.4 | 算術演算子\n",
        "\n",
        "　次に、**演算子**を学ぶ。聞きなれない単語かもしれないが、加算の `+` や減算の `-` などのことである。Pythonには様々な演算子が定義されているが、よく用いるのは、以下に示す**算術演算子 (arithmetic operator)** と呼ばれるものだ。\n",
        "\n",
        "| 演算 | 記号 |\n",
        "|------|------|\n",
        "| 加算（足し算） | `+`  |\n",
        "| 減算（引き算） | `-`  |\n",
        "| 乗算（掛け算） | `*`  |\n",
        "| 除算（割り算） | `/`  |\n",
        "| 切り捨て除算   | `//` |\n",
        "|  剰余　        | `%`  |\n",
        "| 累乗           | `**` |\n",
        "\n",
        "　多くは見慣れたものである一方、累乗`**`など少し特殊な記号を用いるものもある。具体例を見ながら使い方を理解していく。"
      ]
    },
    {
      "cell_type": "markdown",
      "metadata": {
        "id": "OH22C0cJVxp9"
      },
      "source": [
        "<!-- ENG -->\n",
        "### 2.4 | Arithmetic operators\n",
        "\n",
        "　In this next section, we will learn about **operators**. You may not be familiar with this word, but it means `+` for addition and `-` for subtraction. Python defines a variety of operators, but the most commonly used are called **arithmetic operators**, as shown below.\n",
        "\n",
        "| Operators | Symbol |\n",
        "|------|------|\n",
        "| Addition | `+`  |\n",
        "| Subtraction | `-`  |\n",
        "| Multiplication | `*`  |\n",
        "| Division | `/`  |\n",
        "| Floor division   | `//` |\n",
        "|  Modulus　        | `%`  |\n",
        "| Exponentiation           | `**` |\n",
        "\n",
        "　Many of these operators are familiar, while others use slightly special symbols such as exponentiation `**`. Let's understand how to use it by looking at specific examples."
      ]
    },
    {
      "cell_type": "code",
      "execution_count": null,
      "metadata": {
        "id": "BSsWGE_Ev9bH"
      },
      "outputs": [],
      "source": [
        "a = 1\n",
        "b = 3\n",
        "print(a + b)  # It is common to put one single byte character space on each side of the operator."
      ]
    },
    {
      "cell_type": "code",
      "execution_count": null,
      "metadata": {
        "id": "RihhCsg8gMMV"
      },
      "outputs": [],
      "source": [
        "a = 2\n",
        "b = 3\n",
        "c = a + b # You can also assign the result of an operator to a variable.\n",
        "print(c)"
      ]
    },
    {
      "cell_type": "code",
      "execution_count": null,
      "metadata": {
        "id": "lDYQabyGggsm"
      },
      "outputs": [],
      "source": [
        "print(5 / 2) # Floating-point values are output"
      ]
    },
    {
      "cell_type": "code",
      "execution_count": null,
      "metadata": {
        "id": "vs9ZBDkDgkdU"
      },
      "outputs": [],
      "source": [
        "print(5 // 2) # The quotient of 5 divided by 2 is then output as an integer value."
      ]
    },
    {
      "cell_type": "code",
      "execution_count": null,
      "metadata": {
        "id": "hMX3JEH7gsxD"
      },
      "outputs": [],
      "source": [
        "print(5 % 2) # The remainder of 5 divided by 2 is output."
      ]
    },
    {
      "cell_type": "code",
      "execution_count": null,
      "metadata": {
        "id": "0eJL3Yilj3oP"
      },
      "outputs": [],
      "source": [
        "print(2 ** (0.5)) # 2 to the 0.5th power, or the square root of 2"
      ]
    },
    {
      "cell_type": "markdown",
      "metadata": {
        "id": "ixV9dTBkg9_Y"
      },
      "source": [
        "<!-- JPN -->\n",
        "　通常の算術演算では定義されないものを計算するとどうなるか。試しに、1を0で割ってみる。"
      ]
    },
    {
      "cell_type": "markdown",
      "metadata": {
        "id": "22Xm3pFTVxp-"
      },
      "source": [
        "<!-- ENG -->\n",
        "　What happens when you calculate something that is not defined using normal arithmetic operators? As a test, try dividing 1 by 0."
      ]
    },
    {
      "cell_type": "code",
      "execution_count": null,
      "metadata": {
        "id": "mPsA4HkWhEqP"
      },
      "outputs": [],
      "source": [
        "a = 1\n",
        "b = 0\n",
        "print(a / b)"
      ]
    },
    {
      "cell_type": "markdown",
      "metadata": {
        "id": "tobchymihQvW"
      },
      "source": [
        "<!-- JPN -->\n",
        "　Errorが発生した。**Errorの内容を読んでみよ**。\n",
        "まず、最初に`ZeroDivisionError`という記述があり、これは「0で割る」という操作に対するエラーであることがわかる。\n",
        "続いて、コードの3行目に矢印が記載されている。3行目でエラーが発生したようだ。\n",
        "このように、**どのようなエラー**が、**どのあたりで発生している**かを、エラー表示から知ることができる。\n",
        "\n",
        "　なお、Google Colaboratoryの場合、`SEARCH STACK OVERFLOW`というボタンが併せて表示される。これはstackoverflowという、プログラミング界のYahoo!知恵袋のようなものを検索するショートカットボタンで、**Google Colabだけの独自機能**である。エラーの原因を調べる際に、役に立つかもしれない。\n",
        "補足資料 **※2** として、よくあるエラーをまとめたので、これも参考にしてほしい。\n"
      ]
    },
    {
      "cell_type": "markdown",
      "metadata": {
        "id": "-SjobuQ6Vxp_"
      },
      "source": [
        "<!-- ENG -->\n",
        "　An error is generated. **Let's look at the Error details**.\n",
        "First of all, there is a description called `ZeroDivisionError`, which indicates that this is an error corresponding to the operation \"divide by zero\".\n",
        "Next, there is an arrow indicated in the third line of the code. It appears that an error occurred on line 3.\n",
        "In this way, you can know **what kind of error** is occurring and **where** from the error display.\n",
        "\n",
        "　In the case of Google Colaboratory, the `SEARCH STACK OVERFLOW` button is also displayed. This is a shortcut button to search stackoverflow, which is like Yahoo! Answers of the programming world, and is **a unique feature of Google Colab**. This may be useful when investigating the cause of an error.\n",
        "In Supplementary Material **S2**, we have compiled a list of common errors, which you can also refer to.\n"
      ]
    },
    {
      "cell_type": "markdown",
      "metadata": {
        "id": "F7pLduEofu6m"
      },
      "source": [
        "-------\n"
      ]
    },
    {
      "cell_type": "markdown",
      "metadata": {
        "id": "lJNxKDmd7uB3"
      },
      "source": [
        "<!-- JPN -->\n",
        "##### 課題 1（提出不要）\n",
        "　変数 `x` に `201`、変数 `y` に `9`を代入し、下記結果をそれぞれ出力せよ。"
      ]
    },
    {
      "cell_type": "markdown",
      "metadata": {
        "id": "-nfVAHhOgPme"
      },
      "source": [
        "<!-- ENG -->\n",
        "##### Exercise 1 (not required to submit)\n",
        "　Assign `201` to the variable `x` and `9` to the variable `y`, and output the following results respectively."
      ]
    },
    {
      "cell_type": "markdown",
      "metadata": {
        "id": "RpJHsB6mVxp_"
      },
      "source": [
        "<!-- BOTH -->\n",
        "1. `x + y`\n",
        "2. `x - y`\n",
        "3. `x * y`\n",
        "4. `x / y`\n",
        "5. `x // y`\n",
        "6. `x % y`\n",
        "7. `x ** y`"
      ]
    },
    {
      "cell_type": "markdown",
      "metadata": {
        "id": "If5iiWE3fxgp"
      },
      "source": [
        "-------"
      ]
    },
    {
      "cell_type": "markdown",
      "metadata": {
        "id": "RzvUMnTQv9bz"
      },
      "source": [
        "<!-- JPN -->\n",
        "### 2.5 | 累積代入文\n",
        "\n",
        "　続いて、もう1グループ、よく利用するものとして `+=` や `-=` が存在する。\n",
        "これらは、演算と代入を合わせて行うもので、**累積代入文 (augmented assignment statement)** と呼ばれる。\n",
        "\n",
        "下記に示すとおり、`+=` では**左辺の変数に対して右辺の値を足した結果で、左辺の変数を更新**する。下記2つは同じ意味である。"
      ]
    },
    {
      "cell_type": "markdown",
      "metadata": {
        "id": "RftMqFzYVxp_"
      },
      "source": [
        "<!-- ENG -->\n",
        "### 2.5 | Augmented assignment statement\n",
        "\n",
        "　Then there is another group, `+=` and `-=`, which are often used.\n",
        "These are a combination of operators and assignment statements, and are called **augmented assignment statements**.\n",
        "\n",
        "As shown below, `+=` **updates the variable on the left side with the result of adding the value on the right side to the variable on the left side**. The following two examples are the same."
      ]
    },
    {
      "cell_type": "code",
      "execution_count": null,
      "metadata": {
        "id": "g7g0hOrOv9b0"
      },
      "outputs": [],
      "source": [
        "# When not using augmented assignment statements\n",
        "count = 0\n",
        "count = count + 1\n",
        "print(count)"
      ]
    },
    {
      "cell_type": "code",
      "execution_count": null,
      "metadata": {
        "id": "bdgvqEjZv9b2"
      },
      "outputs": [],
      "source": [
        "# When using augmented assignment statements\n",
        "count = 0\n",
        "count += 1\n",
        "print(count)"
      ]
    },
    {
      "cell_type": "markdown",
      "metadata": {
        "id": "R1N32_oxlWMj"
      },
      "source": [
        "<!-- JPN -->\n",
        "### 2.6 | 文字列\n",
        "\n",
        "　ここまでは数値を変数として保存し、それらに対する処理を行ってきたが、文章を変数に保存することもできる。\n",
        "シングルクォーテーション `' '` もしくはダブルクォーテーション `\" \"` で対象の文字列をくくり、変数や数値と区別する。"
      ]
    },
    {
      "cell_type": "markdown",
      "metadata": {
        "id": "vHBBfBBdVxqA"
      },
      "source": [
        "<!-- ENG -->\n",
        "### 2.6 | Strings\n",
        "\n",
        "　So far, we have stored numerical values as variables and processed them, but we can also store text in variables.\n",
        "Enclosing the target string in single quotation marks `' '` or double quotation marks `\" \"` distinguishes it from variables and numbers."
      ]
    },
    {
      "cell_type": "code",
      "execution_count": null,
      "metadata": {
        "id": "9bJlTDxwmXoK"
      },
      "outputs": [],
      "source": [
        "s = \"Tokyo Tech\"\n",
        "print(s)"
      ]
    },
    {
      "cell_type": "code",
      "execution_count": null,
      "metadata": {
        "id": "Y44kUjIkmdTQ"
      },
      "outputs": [],
      "source": [
        "s = 'Tokyo Institute of Technology'\n",
        "print(s)"
      ]
    },
    {
      "cell_type": "code",
      "execution_count": null,
      "metadata": {
        "id": "JYm-jng1mhBg"
      },
      "outputs": [],
      "source": [
        "s = '777'\n",
        "print(s)"
      ]
    },
    {
      "cell_type": "markdown",
      "metadata": {
        "id": "kt6FKTm9qSRY"
      },
      "source": [
        "<!-- JPN -->\n",
        "　複数行にわたる文字列を変数に保存したい場合には、クォーテーションを3つ並べる。"
      ]
    },
    {
      "cell_type": "markdown",
      "metadata": {
        "id": "DeZUsUYDVxqB"
      },
      "source": [
        "<!-- ENG -->\n",
        "　If you want to store a multi-line string in a variable, use three quotation marks in a row."
      ]
    },
    {
      "cell_type": "code",
      "execution_count": null,
      "metadata": {
        "id": "qt1JpUSrqY1a"
      },
      "outputs": [],
      "source": [
        "s = \"\"\"Apple\n",
        "Banana\n",
        "Cherry\"\"\"\n",
        "print(s)"
      ]
    },
    {
      "cell_type": "markdown",
      "metadata": {
        "id": "GEuII-y2o27O"
      },
      "source": [
        "<!-- JPN -->\n",
        "　文字列とともに数値を表示したい場合には、「フォーマット済み文字列リテラル」、通称「**f文字列 (f-string)**」と呼ばれる、特殊な文字列を使うと良い。"
      ]
    },
    {
      "cell_type": "markdown",
      "metadata": {
        "id": "r3kSQWP4VxqD"
      },
      "source": [
        "<!-- ENG -->\n",
        "　To combine text strings and numbers, it is possible to print by using special text strings called \"formatted string literals\", commonly known as **f-strings**."
      ]
    },
    {
      "cell_type": "code",
      "execution_count": null,
      "metadata": {
        "id": "9BnzCSZSpWii"
      },
      "outputs": [],
      "source": [
        "s = \"Galaxy Express\"\n",
        "i = 999\n",
        "print(f\"{s} {i}\")                 # Place the text string \"f\" before the quotation mark and wrap the variable name with {}.\n",
        "print(f\"There is a novel called {s} {i}.\") # The part not enclosed in {} will be output as is."
      ]
    },
    {
      "cell_type": "markdown",
      "metadata": {
        "id": "VsBRE0Wyv9ca"
      },
      "source": [
        "<!-- JPN -->\n",
        "### 2.7 | 配列：リストとタプル\n",
        "\n",
        "　ここまでは `a = 1` のように 1 つの変数に 1 つの値を代入する場合のみを扱ってきたが、例えば3次元空間の座標のように、複数の値で1つの要素を表現することもある。\n",
        "そのような場合に、複数の値をベクトルのように1列に並べる**配列**を紹介する。\n",
        "\n",
        "　Python では、配列は**リスト（list）**と**タプル（tuple）**の2種類の表現方法がある。リストとタプルはほぼ同様に扱うことができるが、**要素の編集や追加などが可能か不可能か、の違いがある**。実際にPythonコードを実行させながら、確認していく。"
      ]
    },
    {
      "cell_type": "markdown",
      "metadata": {
        "id": "abLmCAIxVxqF"
      },
      "source": [
        "<!-- ENG -->\n",
        "### 2.7 | Arrays: Lists and tuples\n",
        "\n",
        "　Up to this point, we have only dealt with the case of assigning a single value to a single variable, such as `a = 1`. However, we can also express a single element with multiple values, such as coordinates in three-dimensional space.\n",
        "In such a case, we can introduce the **array**, which arranges multiple values in a single column like a vector.\n",
        "\n",
        "　In Python, arrays can be represented in two different ways: **lists** and **tuples**. Lists and tuples can be handled almost in the same way, **but there is difference whether or not elements can be edited and or added, etc**. We will check this by actually running Python code."
      ]
    },
    {
      "cell_type": "markdown",
      "metadata": {
        "id": "YWNdQFEcUPCe"
      },
      "source": [
        "<!-- JPN -->\n",
        "　まず初めに、リストとタプルをそれぞれ作成してみる。"
      ]
    },
    {
      "cell_type": "markdown",
      "metadata": {
        "id": "hN4mC3WsVxqF"
      },
      "source": [
        "<!-- ENG -->\n",
        "　First of all, let's create one list and one tuple."
      ]
    },
    {
      "cell_type": "code",
      "execution_count": null,
      "metadata": {
        "id": "-ikKNhQbUiva"
      },
      "outputs": [],
      "source": [
        "lst = [1, 2, 3, 4] # When creating a list: Enclose multiple elements with \"[]\".\n",
        "tup = (5, 6, 7, 8) # When creating a tuple: Enclose multiple elements with \"()\".\n",
        "print(lst)\n",
        "print(tup)"
      ]
    },
    {
      "cell_type": "markdown",
      "metadata": {
        "id": "RDPyRrl3pb0r"
      },
      "source": [
        "<img src=\"https://i.imgur.com/JkoWIlH.png\" width=400>\n",
        "<img src=\"https://i.imgur.com/2kGyV54.png\" width=400>"
      ]
    },
    {
      "cell_type": "markdown",
      "metadata": {
        "id": "_DF9p3_6eK8W"
      },
      "source": [
        "<!-- JPN -->\n",
        "　なお、リストやタプルの要素としてリストやタプルを入れることも可能である。"
      ]
    },
    {
      "cell_type": "markdown",
      "metadata": {
        "id": "RmnndgkSVxqG"
      },
      "source": [
        "<!-- ENG -->\n",
        "　It is also possible to include lists and tuples as list and tuple elements."
      ]
    },
    {
      "cell_type": "code",
      "execution_count": null,
      "metadata": {
        "id": "5o1ktoJPeUQP"
      },
      "outputs": [],
      "source": [
        "list_of_everything = [[1, 2, 3], (4, 5, 6, 7), 8, \"nine\"]\n",
        "print(list_of_everything)"
      ]
    },
    {
      "cell_type": "markdown",
      "metadata": {
        "id": "hSTifQSUVHaI"
      },
      "source": [
        "<!-- JPN -->\n",
        "　次に、リストやタプルの中の要素を取り出してみる。 Python では配列の要素は一番左から、**0番目**、1番目、2番目…と数える。したがって、一番左の要素を取得したい場合には、**0番目の要素を取得する**、というコードを書かなければならない。\n"
      ]
    },
    {
      "cell_type": "markdown",
      "metadata": {
        "id": "_AOTwcA7VxqG"
      },
      "source": [
        "<!-- ENG -->\n",
        "　Next, try to extract the elements in a list or tuple. In Python, the elements of an array are counted from the leftmost position: **0**, 1st, 2nd, and so on. Therefore, if you want to get the leftmost element, you have to write code **to get the element in the 0 position**.\n"
      ]
    },
    {
      "cell_type": "code",
      "execution_count": null,
      "metadata": {
        "id": "nbTZrh0VWh0_"
      },
      "outputs": [],
      "source": [
        "lst = [1, 2, 3, 4]\n",
        "tup = (5, 6, 7, 8)\n",
        "print(lst[0])      # Get lst element (1) that is in the 0 position\n",
        "print(tup[2])      # Get tup element (7) that is in the 2nd position"
      ]
    },
    {
      "cell_type": "markdown",
      "metadata": {
        "id": "DLzLjTQ8EoG9"
      },
      "source": [
        "<!-- JPN -->\n",
        "　つづいて、リストから一度に複数の要素を取り出す**スライス (slice)** 操作を行ってみる。\n",
        "スライスは、`0:2` のようにコロン `:` を用いてインデックスを範囲指定すると半開区間 $0 \\leq x < 2, x\\in\\mathbb{Z}$ の要素を取得する（日本語的に言い換えると、開始位置から**終了位置の1つ手前**までの要素を取得する）。"
      ]
    },
    {
      "cell_type": "markdown",
      "metadata": {
        "id": "1ddP6mzbVxqH"
      },
      "source": [
        "<!-- ENG -->\n",
        "　Next, let's try a **slice** operation to extract multiple elements at a time from the list.\n",
        "The slice gets the elements of the half-open interval $0 \\leq x < 2, x\\in\\mathbb{Z}$ when the index is specified as a range using a colon `:` as in `0:2` (In other words, get the elements beginning from the start position **to the one before the end position**.)"
      ]
    },
    {
      "cell_type": "code",
      "execution_count": null,
      "metadata": {
        "id": "rAcY5y3BZI6o"
      },
      "outputs": [],
      "source": [
        "lst = [1, 2, 3, 4]\n",
        "tup = (5, 6, 7, 8)\n",
        "print(lst[0:2])    # Get lst 0 and 1st position elements\n",
        "print(tup[1:4])    # Get tup 1st, 2nd, and 3rd elements"
      ]
    },
    {
      "cell_type": "markdown",
      "metadata": {
        "id": "NTy00Qxipb0s"
      },
      "source": [
        "<img src=\"https://i.imgur.com/gqaeVwO.png\" width=400>\n",
        "<img src=\"https://i.imgur.com/7CxMm7b.png\" width=400>"
      ]
    },
    {
      "cell_type": "markdown",
      "metadata": {
        "id": "0BD1_p_VVtQm"
      },
      "source": [
        "<!-- JPN -->\n",
        "　スライス操作のとき、以下の2つの場合はインデックスを省略することが可能である。\n",
        "* 開始位置が配列の一番最初の場合\n",
        "* 終了位置が配列の一番最後の場合"
      ]
    },
    {
      "cell_type": "markdown",
      "metadata": {
        "id": "Opkme-ptVxqH"
      },
      "source": [
        "<!-- ENG -->\n",
        "　When using the slice operation, it is possible to omit the index in the following two cases.\n",
        "* If the starting position is the first in the array\n",
        "* If the end position is the last in the array"
      ]
    },
    {
      "cell_type": "code",
      "execution_count": null,
      "metadata": {
        "id": "1LuYC_UDVY-m"
      },
      "outputs": [],
      "source": [
        "lst = [1, 2, 3, 4]\n",
        "tup = (5, 6, 7, 8)\n",
        "print(lst[:2])    # Get lst 0 and 1st position elements\n",
        "print(tup[1:])    # Get tup 1st, 2nd, and 3rd elements\n",
        "print(tup[:])     # Get tup 0, 1st, 2nd and 3rd position elements"
      ]
    },
    {
      "cell_type": "markdown",
      "metadata": {
        "id": "04QdRFTG7zLe"
      },
      "source": [
        "<!-- JPN -->\n",
        "　また、このスライス操作は1つ飛ばしで要素を取得したり、要素を逆順で要素を取得したり、ということも可能である。（特に`[::-1]`の操作は使うことがしばしばある）"
      ]
    },
    {
      "cell_type": "markdown",
      "metadata": {
        "id": "_sD4fiuyVxqI"
      },
      "source": [
        "<!-- ENG -->\n",
        "　This slicing operation can also be used to get elements by skipping one element, or to get elements in reverse order. (Especially the `[::-1]` operation, which is often used)"
      ]
    },
    {
      "cell_type": "code",
      "execution_count": null,
      "metadata": {
        "id": "BguEkF5G8Cye"
      },
      "outputs": [],
      "source": [
        "lst = [1, 2, 3, 4, 5]\n",
        "tup = (6, 7, 8, 9, 10)\n",
        "print(lst[::2])   # Get the first and every 2nd element of lst.\n",
        "print(tup[::-1])  # Get each element in reverse order from tup."
      ]
    },
    {
      "cell_type": "markdown",
      "metadata": {
        "id": "MfmmJXwkpb0t"
      },
      "source": [
        "<img src=\"https://i.imgur.com/p4vDgpk.png\" width=500>\n",
        "<img src=\"https://i.imgur.com/4yStIF8.png\" width=500>"
      ]
    },
    {
      "cell_type": "markdown",
      "metadata": {
        "id": "Pwik3iQVhKxD"
      },
      "source": [
        "<!-- JPN -->\n",
        "　リストやタプルの要素数を知りたい場合は組み込み関数の `len()` 関数を使う。"
      ]
    },
    {
      "cell_type": "markdown",
      "metadata": {
        "id": "gcM-ysM_VxqI"
      },
      "source": [
        "<!-- ENG -->\n",
        "　If you want to know the number of elements in a list or tuple, use the built-in ` len()` function."
      ]
    },
    {
      "cell_type": "code",
      "execution_count": null,
      "metadata": {
        "id": "B-1Lxil9hTl8"
      },
      "outputs": [],
      "source": [
        "lst = [1, 2, 3, 4]\n",
        "tup = (5, 6, 7)\n",
        "print(len(lst))\n",
        "print(len(tup))"
      ]
    },
    {
      "cell_type": "code",
      "execution_count": null,
      "metadata": {
        "id": "DYHNQVxXrgLS"
      },
      "outputs": [],
      "source": [
        "lst = [\"Apple\", \"Banana\", \"Cherry\"]\n",
        "print(len(lst)) # Returns the number of elements in the list instead of the length of the string."
      ]
    },
    {
      "cell_type": "markdown",
      "metadata": {
        "id": "IDAMl0OcauFK"
      },
      "source": [
        "<!-- JPN -->\n",
        "　次に、リストとタプルの要素の変更を試みる。"
      ]
    },
    {
      "cell_type": "markdown",
      "metadata": {
        "id": "ze_HPKyQVxqJ"
      },
      "source": [
        "<!-- ENG -->\n",
        "　Next, try changing the list and tuple elements."
      ]
    },
    {
      "cell_type": "code",
      "execution_count": null,
      "metadata": {
        "id": "Hjvg1PmHbL3Q"
      },
      "outputs": [],
      "source": [
        "lst = [1, 2, 3, 4]\n",
        "lst[0] = 100      # Replace the lst 0 position element with 100\n",
        "print(lst)"
      ]
    },
    {
      "cell_type": "code",
      "execution_count": null,
      "metadata": {
        "id": "QGfWi6yRbUlg"
      },
      "outputs": [],
      "source": [
        "tup = (1, 2, 3, 4)\n",
        "tup[0] = 100      # Replace the tup 0 position element with 100\n",
        "print(tup)"
      ]
    },
    {
      "cell_type": "markdown",
      "metadata": {
        "id": "K_dzo7Cebfgs"
      },
      "source": [
        "<!-- JPN -->\n",
        "　リストは要素の修正を行うことができた一方、タプルは`TypeError: 'tuple' object does not support item assignment`（タプルは要素への代入をサポートしていない）というエラーが発生した。このように、**タプルは値を後から書き換えられないように制限されている**。\n",
        "\n",
        "　次に、要素の追加を行うが、これもリストにのみ実行可能である。"
      ]
    },
    {
      "cell_type": "markdown",
      "metadata": {
        "id": "S7cEYhq5VxqJ"
      },
      "source": [
        "<!-- ENG -->\n",
        "　On the one hand, while we are able to modify the elements in the list, the tuple gave the error `TypeError: 'tuple' object does not support item assignment`. In this way, **tuples are restricted so that their values cannot be rewritten later.**\n",
        "\n",
        "　The next step is to add the elements, which can be done only on the list."
      ]
    },
    {
      "cell_type": "code",
      "execution_count": null,
      "metadata": {
        "id": "uBZBCMB0cmRz"
      },
      "outputs": [],
      "source": [
        "lst = [1, 2, 3, 4]\n",
        "lst.append(100)     # Add the element 100 to the end of the lst\n",
        "print(lst)"
      ]
    },
    {
      "cell_type": "code",
      "execution_count": null,
      "metadata": {
        "id": "c36DR3Nicx-T"
      },
      "outputs": [],
      "source": [
        "tup = (1, 2, 3, 4)\n",
        "tup.append(100)\n",
        "print(tup)"
      ]
    },
    {
      "cell_type": "markdown",
      "metadata": {
        "id": "oWA-D2Oxc5oJ"
      },
      "source": [
        "<!-- JPN -->\n",
        "　タプルのエラー文章は先ほどとは異なり、`AttributeError: 'tuple' object has no attribute 'append'`（appendというモノはタプルには存在していません）というエラーになっている。"
      ]
    },
    {
      "cell_type": "markdown",
      "metadata": {
        "id": "y5dQJA57v9cz"
      },
      "source": [
        "<!-- JPN -->\n",
        "　最後に、**空のリスト**を定義し、そこに後段の処理の中で適宜新たな要素を追加していくという使い方がある。"
      ]
    },
    {
      "cell_type": "markdown",
      "metadata": {
        "id": "jcWCW_HoVxqK"
      },
      "source": [
        "<!-- ENG -->\n",
        "　The error string for the tuple is different from the previous one: `AttributeError: 'tuple' object has no attribute 'append'`."
      ]
    },
    {
      "cell_type": "markdown",
      "metadata": {
        "id": "9Dh-Ne7TVxqK"
      },
      "source": [
        "<!-- ENG -->\n",
        "　Finally, an **empty list** can be defined and used to add new elements as needed in the later stages of the process."
      ]
    },
    {
      "cell_type": "code",
      "execution_count": null,
      "metadata": {
        "id": "00AEmnpxGPky"
      },
      "outputs": [],
      "source": [
        "# Defining an empty list\n",
        "array = []\n",
        "\n",
        "# Adding elements to an empty list\n",
        "array.append('Tokyo')\n",
        "array.append('Tech')\n",
        "\n",
        "print(array)"
      ]
    },
    {
      "cell_type": "markdown",
      "metadata": {
        "id": "NHmFrlUYf2Te"
      },
      "source": [
        "---------\n"
      ]
    },
    {
      "cell_type": "markdown",
      "metadata": {
        "id": "XsDWylqbVmmF"
      },
      "source": [
        "<!-- JPN -->\n",
        "##### 課題 2（提出不要）\n",
        "\n",
        "　以下の2次元空間の点 $\\boldsymbol{x}, \\boldsymbol{y}$ について、2点間のユークリッド距離を計算せよ。\n",
        "\n",
        "\n",
        "（手計算を併せて行い、結果が合っていることを確認しよう）\n"
      ]
    },
    {
      "cell_type": "markdown",
      "metadata": {
        "id": "08BFeEeaVxqK"
      },
      "source": [
        "<!-- ENG -->\n",
        "##### Exercise 2 (not required to submit)\n",
        "\n",
        "　For the points $\\boldsymbol{x}, \\boldsymbol{y}$ in the following two-dimensional space, calculate the Euclidean distance between the two points.\n",
        "\n",
        "(Do the calculations by hand as well to make sure the result is correct)\n"
      ]
    },
    {
      "cell_type": "markdown",
      "metadata": {
        "id": "Cw1efTrdgYxT"
      },
      "source": [
        "<!-- BOTH -->\n",
        "```py\n",
        "x = (1,5)\n",
        "y = (5,2)\n",
        "```\n"
      ]
    },
    {
      "cell_type": "markdown",
      "metadata": {
        "id": "VDFSkCuZf7Za"
      },
      "source": [
        "---------"
      ]
    },
    {
      "cell_type": "markdown",
      "metadata": {
        "id": "8et0LYOgV4Mn"
      },
      "source": [
        "<!-- JPN -->\n",
        "##### 課題 3（提出不要）\n",
        "　以下の4次元空間の点 $\\boldsymbol{x}, \\boldsymbol{y}$ について、2点間のユークリッド距離を計算せよ。（答えは $\\sqrt{13} \\fallingdotseq 3.60555$ になるはずである）\n",
        "\n",
        "\n"
      ]
    },
    {
      "cell_type": "markdown",
      "metadata": {
        "id": "mhALobeuVxqL"
      },
      "source": [
        "<!-- ENG -->\n",
        "##### Exercise 3 (not required to submit)\n",
        "　For the points $\\boldsymbol{x}, \\boldsymbol{y}$ in the following four-dimensional space, calculate the Euclidean distance between the two points. (The answer should be $\\sqrt{13} \\fallingdotseq 3.60555$)\n",
        "\n"
      ]
    },
    {
      "cell_type": "markdown",
      "metadata": {
        "id": "Xisz0ngAge81"
      },
      "source": [
        "<!-- BOTH -->\n",
        "```py\n",
        "x = [5, 4, 10, 4]\n",
        "y = [3, 2, 8, 3]\n",
        "```\n"
      ]
    },
    {
      "cell_type": "markdown",
      "metadata": {
        "id": "arRQARVIf--F"
      },
      "source": [
        "---------"
      ]
    },
    {
      "cell_type": "markdown",
      "metadata": {
        "id": "nV8Lp5jLNO66"
      },
      "source": [
        "<!-- JPN -->\n",
        "### 2.8 | 辞書 (`dict`)\n",
        "\n",
        "　前回紹介した配列（リスト、タプル）では、複数の値をまとめて扱うことができた。\n",
        "そこで、定期テストの結果をまとめることを考えてみよう。\n",
        "例えば、数学 90 点、理科 75 点、英語 80 点だったという結果を `scores = [90, 75, 80]` とリストで表すと、**何番目がどの教科の点数に対応するか**が自明ではなくなってしまう。\n",
        "\n",
        "　このように、各要素の並び順が自明ではない場合や、それぞれの値がどのような情報なのかが重要な場合はPython の `dict` 型が有用である。 `dict` 型は、**キー (key)** とそれに対応する**値 (value)** をセットにして格納する。\n"
      ]
    },
    {
      "cell_type": "markdown",
      "metadata": {
        "id": "DSrfLCLRrUsX"
      },
      "source": [
        "<!-- ENG -->\n",
        "### 2.8 | Dictionaries (`dict`)\n",
        "\n",
        "　With the arrays (lists, tuples) introduced previously, it is possible to handle multiple values together.\n",
        "Let's think about how to summarize the results of the regular tests.\n",
        "For example, if the result of a score of 90 in math, 75 in science, and 80 in English is represented as a list with `scores = [90, 75, 80]`, it is not obvious **which score corresponds to which subject**.\n",
        "\n",
        "　Python's `dict` type is useful when the order of the elements is not self-evident, or when it is important to know what information is in each value. The `dict` type stores a **key** and its corresponding **value** as a set.\n"
      ]
    },
    {
      "cell_type": "code",
      "execution_count": null,
      "metadata": {
        "id": "NyxphI5fNMO8"
      },
      "outputs": [],
      "source": [
        "# Defining a dictionary\n",
        "scores = {'Math': 90, 'Science': 75, 'English': 80 }\n",
        "print(scores)"
      ]
    },
    {
      "cell_type": "markdown",
      "metadata": {
        "id": "KkfsvCJUpb0v"
      },
      "source": [
        "<img src=\"https://i.imgur.com/kIH3oV3.png\" width=400>"
      ]
    },
    {
      "cell_type": "markdown",
      "metadata": {
        "id": "DLVm8wWBrsIh"
      },
      "source": [
        "<!-- JPN -->\n",
        "上記の例の場合、English, Math, Scienceがキー (key) であり、80, 90, 75という点数がそれぞれのキーに対応した値 (value) である。"
      ]
    },
    {
      "cell_type": "markdown",
      "metadata": {
        "id": "7AsLb0eTrUsY"
      },
      "source": [
        "<!-- ENG -->\n",
        "In the above example, English, Math, and Science are the keys, and the scores 80, 90, and 75 are the values corresponding to each key."
      ]
    },
    {
      "cell_type": "markdown",
      "metadata": {
        "id": "RMVGb9ONrcoA"
      },
      "source": [
        "<!-- JPN -->\n",
        "　辞書の要素を取り出す場合には、リストやタプルと同様に `[ ]` を使用し、`[ ]` の中にキーを指定して対応する値を取り出す。"
      ]
    },
    {
      "cell_type": "markdown",
      "metadata": {
        "id": "U-JgJlofrUsZ"
      },
      "source": [
        "<!-- ENG -->\n",
        "　To retrieve elements of a dictionary, use `[ ]` the same as with lists and tuples, and indicate a key in `[ ]` to retrieve the corresponding value."
      ]
    },
    {
      "cell_type": "code",
      "execution_count": null,
      "metadata": {
        "id": "M-V2XOEdNu2a"
      },
      "outputs": [],
      "source": [
        "# The key accesses the value of Math\n",
        "print(scores['Math'])"
      ]
    },
    {
      "cell_type": "markdown",
      "metadata": {
        "id": "Jd_XpPMqfrSL"
      },
      "source": [
        "<!-- JPN -->\n",
        "　これまでの説明でわかるように、辞書の要素を取り出すためには、**どのようなキーが存在するのか**をあらかじめ知っている必要がある。また、平均点を算出したいときに、キーはなくとも**値だけ全て取得したい**時もあるだろう。そのような場合には、`dict`型の以下の関数（メソッド）を用いるとよい。\n",
        "\n",
        "- `keys()`: キーの配列を取得。`dict_keys` というタプルと性質が似た型が返る\n",
        "- `values()`: 値の配列を取得。`dict_values` というタプルと性質が似た型が返る\n",
        "- `items()`: 各要素の `(key, value)` のタプルが並んだ配列を取得。`dict_items` というタプルと性質が似た型が返る\n",
        "\n",
        "なお、`dict_keys`, `dict_values`, `dict_items` は辞書型特有の型であり、厳密には標準のタプルとは異なるが、タプルと性質の似た型であるという程度の認識で問題ない。"
      ]
    },
    {
      "cell_type": "markdown",
      "metadata": {
        "id": "w53vm-PrrUsa"
      },
      "source": [
        "<!-- ENG -->\n",
        "　As you can see from the explanations so far, in order to retrieve an element of the dictionary, you need to know in advance **what keys exist**. Also, there are times when you want to **get all the values** without the keys, such as when you want to calculate the average score. In such a case, the following functions (methods) for `dict` type can be used.\n",
        "\n",
        "- `keys()`\\: Retrieves a key array. Returns an object type called `dict_keys` that has similar characteristics to a tuple.\n",
        "- `values()`\\: Retrieves an array of values. Returns an object type called `dict_values` that has similar characteristics to a tuple.\n",
        "- `items()`\\: Retrieves an array of `(key, value)` tuples for each element. Returns an object type called `dict_items` that has similar characteristics to a tuple.\n",
        "\n",
        "Note that `dict_keys`, `dict_values`, `dict_items` are object types specific to the dictionary type, and strictly speaking they are different from standard tuples, but it is safe to say they are object types with similarities to tuples."
      ]
    },
    {
      "cell_type": "code",
      "execution_count": null,
      "metadata": {
        "id": "z6uLQX4axEmM"
      },
      "outputs": [],
      "source": [
        "# Defining a dictionary\n",
        "scores = {'Math': 90, 'Science': 75, 'English': 80 }"
      ]
    },
    {
      "cell_type": "code",
      "execution_count": null,
      "metadata": {
        "id": "FkJjSlbShKjK"
      },
      "outputs": [],
      "source": [
        "# A list of keys\n",
        "keys = scores.keys()\n",
        "print(keys)"
      ]
    },
    {
      "cell_type": "code",
      "execution_count": null,
      "metadata": {
        "id": "mWA7opwAhVEa"
      },
      "outputs": [],
      "source": [
        "# A list whose elements are tuples (key, value)\n",
        "elements = scores.items()\n",
        "print(elements)"
      ]
    },
    {
      "cell_type": "markdown",
      "metadata": {
        "id": "qpoTmSY8bTDw"
      },
      "source": [
        "<!-- JPN -->\n",
        "　次に要素の追加、更新を行う。まず、辞書に要素を追加する場合は、新しいキーを指定して値を代入する。"
      ]
    },
    {
      "cell_type": "markdown",
      "metadata": {
        "id": "yNgpIuTrrUsc"
      },
      "source": [
        "<!-- ENG -->\n",
        "　The next step is to add or update the elements. First, to add an element to the dictionary, specify a new key and assign a value to it."
      ]
    },
    {
      "cell_type": "code",
      "execution_count": null,
      "metadata": {
        "id": "3gh7DVq2ybVL"
      },
      "outputs": [],
      "source": [
        "# Defining a dictionary\n",
        "scores = {'Math': 90, 'Science': 75, 'English': 80 }"
      ]
    },
    {
      "cell_type": "code",
      "execution_count": null,
      "metadata": {
        "id": "nDZ4RRcjnERu"
      },
      "outputs": [],
      "source": [
        "scores['Language Arts'] = 85 # Add the element"
      ]
    },
    {
      "cell_type": "code",
      "execution_count": null,
      "metadata": {
        "id": "P0HJVZJSnKal"
      },
      "outputs": [],
      "source": [
        "print(scores)"
      ]
    },
    {
      "cell_type": "markdown",
      "metadata": {
        "id": "NIC2fwAknPf9"
      },
      "source": [
        "<!-- JPN -->\n",
        "　つづいて、既に存在するキーを指定して代入を行うことで、値を更新（上書き）する。"
      ]
    },
    {
      "cell_type": "markdown",
      "metadata": {
        "id": "A1PJr_GyrUsd"
      },
      "source": [
        "<!-- ENG -->\n",
        "　Next, the value is updated (overwritten) by specifying a key that already exists and performs a substitution."
      ]
    },
    {
      "cell_type": "code",
      "execution_count": null,
      "metadata": {
        "id": "c6N6x_puywUq"
      },
      "outputs": [],
      "source": [
        "# Defining a dictionary\n",
        "scores = {'Math': 90, 'Science': 75, 'English': 80 }"
      ]
    },
    {
      "cell_type": "code",
      "execution_count": null,
      "metadata": {
        "id": "teLZbAHQnUfN"
      },
      "outputs": [],
      "source": [
        "scores['Math'] = 95"
      ]
    },
    {
      "cell_type": "code",
      "execution_count": null,
      "metadata": {
        "id": "kQESKoXgnYRN"
      },
      "outputs": [],
      "source": [
        "print(scores)"
      ]
    },
    {
      "cell_type": "markdown",
      "metadata": {
        "id": "zTYLayT3qEzA"
      },
      "source": [
        "<!-- JPN -->\n",
        "### 2.9 | 制御文\n",
        "\n",
        "　複雑なプログラムを記述したい場合、繰り返しの処理や、条件によって動作を変える処理が必要となる。これらは**制御文**を用いて記述するが、ここでは最も基本的な制御文を 2 つ紹介する。\n",
        "\n",
        "- 繰り返し (`for`, `while`)\n",
        "- 条件分岐 (`if`)\n",
        "\n",
        "これらは Python では、**ヘッダ (header)** と **ブロック (block)** と呼ばれる 2 つの部分で構成されており、これらを合わせて **複合文 (compound statement)** と呼ぶ。"
      ]
    },
    {
      "cell_type": "markdown",
      "metadata": {
        "id": "lqLmQ3XYrUsf"
      },
      "source": [
        "<!-- ENG -->\n",
        "### 2.9 | Control statements\n",
        "\n",
        "　If you want to write a complex program, you will need a process that repeats itself or changes its behavior depending on conditions. These are described using **control statements**, and here we will introduce two of the most basic control statements.\n",
        "\n",
        "- Looping (`for`, `while`)\n",
        "- Conditional branch (`if`)\n",
        "\n",
        "In Python, these consist of two parts called a **header** and a **block**, which together are called a **compound statement**."
      ]
    },
    {
      "cell_type": "markdown",
      "metadata": {
        "id": "f0xSIaMF4NR0"
      },
      "source": [
        "<!-- JPN -->\n",
        "<img src=\"https://i.imgur.com/z3pbAXz.png\" width=500>"
      ]
    },
    {
      "cell_type": "markdown",
      "metadata": {
        "id": "4UyQvHZIllI_"
      },
      "source": [
        "<!-- ENG -->\n",
        "<img src=\"https://i.imgur.com/ORUccmf.png\" width=500>"
      ]
    },
    {
      "cell_type": "markdown",
      "metadata": {
        "id": "ciZc5_PCv9dJ"
      },
      "source": [
        "<!-- JPN -->\n",
        "　上図に示すように、制御文ではヘッダ行に `for` や `if` などを記述し、行末に `:` 記号を書いて、続いてヘッダ行の条件で実行したい一連の処理文を、ブロックとしてその次の行以降に記述していく（このような文の形のことを「構文 (Syntax) 」と呼ぶ）。\n",
        "\n",
        "　**インデント (indent)** と呼ばれる空白文字を先頭に挿入することで、ブロックを表現する。**同じ数の半角スペースでインデント**された文がブロックとみなされる。なお、Google Colaboratoryやプログラミング用のテキストエディタ（Emacs, Vim, VScodeなど）では**Tabキー**を利用すると、規定数の半角スペースを自動挿入してくれるので、これを利用すると良い。\n",
        "\n",
        "　インデントを表現する半角スペースの数は2つか4つに統一するのが良い。Google Colaboratoryでは半角スペース2つになるように設定されているため、本授業ではこれに倣う。\n"
      ]
    },
    {
      "cell_type": "markdown",
      "metadata": {
        "id": "MDXQzlhdrUsg"
      },
      "source": [
        "<!-- ENG -->\n",
        "　As shown in the figure above, in a control statement, `for`, `if`, and so on, are written in the header line, followed by the `:` symbol at the end of the line, and then a series of process statements to be executed under the conditions in the header line are written as a block in the next line and thereafter (this form of statement is called \"syntax\").\n",
        "\n",
        "　A block is represented by inserting empty space characters, called an **indent**, at the beginning. Sentences **indented with the same number of single byte spaces** are considered to be a block. In addition, Google Colaboratory and text editors for programming (Emacs, Vim, VSCode, etc.) will automatically insert the specified number of single byte spaces when you use the **Tab key**, which is good to use.\n",
        "\n",
        "　The number of single byte spaces used to represent indentation should be standardized to two or four. Since Google Colaboratory is set to use two single byte spaces, this course will use this setting.\n"
      ]
    },
    {
      "cell_type": "markdown",
      "metadata": {
        "id": "WguFiYgqQnQT"
      },
      "source": [
        "<!-- JPN -->\n",
        "### 2.10 | 条件分岐（`if`文）\n",
        "\n",
        "　`if` は、指定した条件が `True` か `False` かによって、処理を変えるためのものである。以下に`if`文の構文を示す。"
      ]
    },
    {
      "cell_type": "markdown",
      "metadata": {
        "id": "AMDdRuVprUsh"
      },
      "source": [
        "<!-- ENG -->\n",
        "### 2.10 | Conditional branch (`if` statement)\n",
        "\n",
        "　The `if` statement is used to change the process depending on whether the specified condition is `True` or `False`. The syntax of the `if` statement is shown below."
      ]
    },
    {
      "cell_type": "markdown",
      "metadata": {
        "id": "U226PWD34XFS"
      },
      "source": [
        "<!-- JPN -->\n",
        "<img src=\"https://i.imgur.com/RAoAt64.png\" width=500>"
      ]
    },
    {
      "cell_type": "markdown",
      "metadata": {
        "id": "Y7RNd1Y4lnPh"
      },
      "source": [
        "<!-- ENG -->\n",
        "<img src=\"https://i.imgur.com/9cJoqkK.png\" width=500>"
      ]
    },
    {
      "cell_type": "markdown",
      "metadata": {
        "id": "Z62QzE-4Bc4a"
      },
      "source": [
        "<!-- JPN -->\n",
        "#### 比較演算子\n",
        "\n",
        "　`if`文を記述する上で、「条件」を表現するための方法が重要である。**比較演算子**は、2 つの値の比較を行い、記述された比較の真偽値（正しい（真、`True`） か、誤っている（偽、`False`）かを表す変数の形式）を出力する演算子である。\n",
        "\n",
        "| 演算 | 記号 |\n",
        "|------|------|\n",
        "| 小なり | `<` |\n",
        "| 大なり | `>` |\n",
        "| 以下 | `<=` |\n",
        "| 以上 | `>=` |\n",
        "| 等しい | `==` |\n",
        "| 等しくない | `!=` |\n",
        "\n",
        "以下にいくつかの比較演算子の計算例を示す。"
      ]
    },
    {
      "cell_type": "markdown",
      "metadata": {
        "id": "BTS0eYWCrUsh"
      },
      "source": [
        "<!-- ENG -->\n",
        "#### Comparison operators\n",
        "\n",
        "　When using `if` statements, it is important to have a way to express the \"condition\". The **comparison operator** is an operator that compares two values and outputs a boolean value of the described comparison (in the form of a variable indicating whether the comparison is `True` or `False`).\n",
        "\n",
        "| Operators | Symbol |\n",
        "|------|------|\n",
        "| Less than | `<` |\n",
        "| Greater than | `>` |\n",
        "| Less than or equal to | `<=` |\n",
        "| Greater than or equal to | `>=` |\n",
        "| Equal | `==` |\n",
        "| Not equal | `!=` |\n",
        "\n",
        "The following are examples of calculations for some comparison operators."
      ]
    },
    {
      "cell_type": "code",
      "execution_count": null,
      "metadata": {
        "id": "5AXOptIWCN53"
      },
      "outputs": [],
      "source": [
        "print(1 < 2)\n",
        "print(2 == 5)\n",
        "print(1 != 2)\n",
        "print(3 >= 3)"
      ]
    },
    {
      "cell_type": "code",
      "execution_count": null,
      "metadata": {
        "id": "XapxlGSYCSOU"
      },
      "outputs": [],
      "source": [
        "print('Material' == 'Material')\n",
        "print('Material' == 'material')"
      ]
    },
    {
      "cell_type": "code",
      "execution_count": null,
      "metadata": {
        "id": "kyltppse-KEp"
      },
      "outputs": [],
      "source": [
        "print([1,2] == [1,2])\n",
        "print([1,2] != [1,3])\n",
        "print([1,2] == (1,2)) # Lists and tuples are interpreted as different data\n",
        "print([1,2] != (1,3))"
      ]
    },
    {
      "cell_type": "markdown",
      "metadata": {
        "id": "wPen5QmiPkha"
      },
      "source": [
        "<!-- JPN -->\n",
        "　また、真偽値を反転する `not` も併せて覚えておこう。 `not True` は `False` を返し、`not False` は `True` を返す。"
      ]
    },
    {
      "cell_type": "markdown",
      "metadata": {
        "id": "94zE2cAbrUsi"
      },
      "source": [
        "<!-- ENG -->\n",
        "　Also, remember the `not` statement reverses the boolean value. `not True` returns `False`, and `not False` returns `True`."
      ]
    },
    {
      "cell_type": "code",
      "execution_count": null,
      "metadata": {
        "id": "0PucNNA0v9db"
      },
      "outputs": [],
      "source": [
        "print(not True)\n",
        "print(not False)"
      ]
    },
    {
      "cell_type": "code",
      "execution_count": null,
      "metadata": {
        "id": "TkSUZ1iZv9dc"
      },
      "outputs": [],
      "source": [
        "# The following two are equivalent\n",
        "\n",
        "print(not 1 == 2)\n",
        "print(1 != 2)"
      ]
    },
    {
      "cell_type": "markdown",
      "metadata": {
        "id": "J-4KeqTAZqkn"
      },
      "source": [
        "<!-- JPN -->\n",
        "　最後に、2つの真偽値を組み合わせる `and` と `or` を使った例を示す。以下に入出力の関係の表（真理値表）を示したうえで、実際にコードでいくつか確認する。"
      ]
    },
    {
      "cell_type": "markdown",
      "metadata": {
        "id": "aeQycEnTrUsj"
      },
      "source": [
        "<!-- ENG -->\n",
        "　Lastly, this example shows how to use `and` as well as `or`, which combines two boolean values. The following is a table of input/output relationships (truth table). We will have a look at some of them in the actual code."
      ]
    },
    {
      "cell_type": "markdown",
      "metadata": {
        "id": "HwqCmYEOmvBM"
      },
      "source": [
        "<!-- BOTH -->\n",
        "\n",
        "| `x` | `y` |→| `x and y` | `x or y` |\n",
        "|----|----||----|----|\n",
        "| `True` | `True` |→| `True` | `True` |\n",
        "| `True` | `False` |→| `False` | `True` |\n",
        "| `False` | `True` |→| `False` | `True` |\n",
        "| `False` | `False` |→| `False` | `False` |\n"
      ]
    },
    {
      "cell_type": "code",
      "execution_count": null,
      "metadata": {
        "id": "e6VkSxQUbECu"
      },
      "outputs": [],
      "source": [
        "x = 1\n",
        "print(x < 0)\n",
        "print(x > 0)\n",
        "print(x < 0 or x > 0)"
      ]
    },
    {
      "cell_type": "code",
      "execution_count": null,
      "metadata": {
        "id": "juHL4eksbaRg"
      },
      "outputs": [],
      "source": [
        "x = 1\n",
        "y = 2\n",
        "z = 3\n",
        "print(x < y)\n",
        "print(y < z)\n",
        "print(x < y and y < z) # x < y < z"
      ]
    },
    {
      "cell_type": "markdown",
      "metadata": {
        "id": "aBzVaMJ1IfF7"
      },
      "source": [
        "<!-- JPN -->\n",
        "#### `if`文\n",
        "　それでは、まず最も単純な `if` のみからなる`if`文を記述してみる。以下のコードについて、`a`の値を書き換えながら、挙動を確認してみよ。`a`が0より大きい場合に限り文字列が `print` され、それ以外の場合は何も出力されないはずだ。"
      ]
    },
    {
      "cell_type": "markdown",
      "metadata": {
        "id": "-ZrgsGyirUsk"
      },
      "source": [
        "<!-- ENG -->\n",
        "#### `if` statement\n",
        "　Let's start by writing the simplest `if` statement, which consists of only `if`. Let's check the behavior of the following code while changing the value of `a`. The string will be printed (`print()` function) only if `a` is greater than zero, otherwise nothing is supposed to be printed."
      ]
    },
    {
      "cell_type": "code",
      "execution_count": null,
      "metadata": {
        "id": "ICKbje6O_Zmf"
      },
      "outputs": [],
      "source": [
        "a = 0\n",
        "\n",
        "if a > 0:\n",
        "  # Indent here\n",
        "  print('Greater than 0')"
      ]
    },
    {
      "cell_type": "markdown",
      "metadata": {
        "id": "J-Z8g-Klv9dV"
      },
      "source": [
        "<!-- JPN -->\n",
        "つづいて、`elif` と `else`を利用した以下2つのコードについて、同様に`a`の値を書き換えながら、挙動を確認してほしい。"
      ]
    },
    {
      "cell_type": "markdown",
      "metadata": {
        "id": "Ld8lDMADrUsk"
      },
      "source": [
        "<!-- ENG -->\n",
        "Next, check the behavior of the following two codes that use `elif` and `else`, while changing the value of `a` in the same way."
      ]
    },
    {
      "cell_type": "code",
      "execution_count": null,
      "metadata": {
        "id": "E-x_6gXwSsm7"
      },
      "outputs": [],
      "source": [
        "a = 1\n",
        "\n",
        "if a > 0:\n",
        "  print('Greater than 0')\n",
        "else:\n",
        "  print('Less than or equal to 0')"
      ]
    },
    {
      "cell_type": "code",
      "execution_count": null,
      "metadata": {
        "id": "6li0UyjpStjg"
      },
      "outputs": [],
      "source": [
        "a = 0\n",
        "\n",
        "if a > 0:\n",
        "  print('Greater than 0')\n",
        "elif a == 0:\n",
        "  print('equal to 0')\n",
        "else:\n",
        "  print('less than 0')"
      ]
    },
    {
      "cell_type": "markdown",
      "metadata": {
        "id": "_nYH9Hq3LVZJ"
      },
      "source": [
        "------"
      ]
    },
    {
      "cell_type": "markdown",
      "metadata": {
        "id": "gw92-KQ_Qlo2"
      },
      "source": [
        "<!-- JPN -->\n",
        "##### 課題4（提出不要）\n",
        "\n",
        "　0~50の整数をランダムに生成し、**その整数を2で割った余りが0の場合は `\"EVEN\"` を、残余が0ではない場合は `\"ODD\"` を `print()` 関数を用いて表示**させよ。\n",
        "なお、`rand_int` に生成された整数を代入するコードが下に書いてあるので、これを利用して続きを記述せよ。"
      ]
    },
    {
      "cell_type": "markdown",
      "metadata": {
        "id": "jU16A0EorUsl"
      },
      "source": [
        "<!-- ENG -->\n",
        "##### Exercise 4 (not required to submit)\n",
        "\n",
        "　Randomly create integers between 0 and 50, and **use the `print()` function to print `\"EVEN\"` if the remainder of the integer divided by 2 is 0, and `\"ODD\"` if the remainder is not 0**.\n",
        "The code for assigning the created integer to `rand_int` is written below. Use it to write the rest of the code."
      ]
    },
    {
      "cell_type": "code",
      "execution_count": null,
      "metadata": {
        "id": "BUXIZgCe5DI3"
      },
      "outputs": [],
      "source": [
        "import random\n",
        "\n",
        "# Create a random number between 0 and 50\n",
        "rand_int = random.randint(0, 50)\n",
        "print(f\"rand_int is {rand_int}\")\n",
        "\n",
        "# Write the rest of the code below to output the string\n"
      ]
    },
    {
      "cell_type": "markdown",
      "metadata": {
        "id": "DaKYIuq19dcI"
      },
      "source": [
        "-------"
      ]
    },
    {
      "cell_type": "markdown",
      "metadata": {
        "id": "oELnTpERNwCQ"
      },
      "source": [
        "<!-- JPN -->\n",
        "### 2.11 | 繰り返し（`for`文）\n",
        "\n",
        "　次に、繰り返す処理を記述する制御文である `for` 文を利用してみる。以下の例は配列中の値の総和を計算するプログラムである。"
      ]
    },
    {
      "cell_type": "markdown",
      "metadata": {
        "id": "tFfLiT4OrUsm"
      },
      "source": [
        "<!-- ENG -->\n",
        "### 2.11 | Looping (`for` statement)\n",
        "\n",
        "　Next, let's use the `for` statement, which is a control statement that describes a looping process. The following example is a program that calculates the sum of the values in an array."
      ]
    },
    {
      "cell_type": "code",
      "execution_count": null,
      "metadata": {
        "id": "dpJBiTuWvcc1"
      },
      "outputs": [],
      "source": [
        "lst = [1.5, 3, 100]\n",
        "total = 0\n",
        "for number in lst:\n",
        "  print(number)\n",
        "  total += number\n",
        "print(\"total value is\", total)"
      ]
    },
    {
      "cell_type": "markdown",
      "metadata": {
        "id": "Jph-MUwBvli3"
      },
      "source": [
        "<!-- JPN -->\n",
        "上記のように、`in`の後に書かれた配列の要素が1つずつ `number` に代入されている。\n",
        "\n",
        "　なお、 `for` 文では、繰り返し回数を記録するために0から1ずつ値が増えていくような配列を多用するが、これは `range()` 関数によって作ることができる（正確には配列「のようなもの」だが、ここでは詳細は割愛する）。"
      ]
    },
    {
      "cell_type": "markdown",
      "metadata": {
        "id": "kGocyl3ErUsm"
      },
      "source": [
        "<!-- ENG -->\n",
        "As shown above, the elements of the array written after `in` are assigned to `number` one by one.\n",
        "\n",
        "　In order to keep track of the number of iterations, the `for` statement often uses an array with a sequence of numbers starting from 0 and increments by 1, which can be created using the `range()` function (Technically, it's ‘kind of’ an array, but I'll spare you the details here)."
      ]
    },
    {
      "cell_type": "code",
      "execution_count": null,
      "metadata": {
        "id": "f7Y4APgkON_7"
      },
      "outputs": [],
      "source": [
        "for i in range(5): # range(5) creates something like [0, 1, 2, 3, 4]\n",
        "  print(i)"
      ]
    },
    {
      "cell_type": "markdown",
      "metadata": {
        "id": "-Jl6ijB9BJv8"
      },
      "source": [
        "<!-- JPN -->\n",
        "このような1ずつ値が増えていく変数には、慣例的に`i`, `j`, `k`などの1文字の変数名を使うことが多い。\n",
        "\n",
        "　`range()` 関数を使うと、最初に記述した `for` 文は以下のように書き替えることができる。"
      ]
    },
    {
      "cell_type": "markdown",
      "metadata": {
        "id": "vO1B4ZPwrUsn"
      },
      "source": [
        "<!-- ENG -->\n",
        "For such variables whose values increase by one, it is customary to use one letter variable names such as `i`, `j`, `k`, etc.\n",
        "\n",
        "　Using the `range()` function, the `for` statement that was described earlier can be rewritten as follows."
      ]
    },
    {
      "cell_type": "code",
      "execution_count": null,
      "metadata": {
        "id": "_us3hj4taPg6"
      },
      "outputs": [],
      "source": [
        "lst = [1.5, 3, 100]\n",
        "total = 0\n",
        "for i in range(len(lst)): # len(lst) is a built-in function that returns the length of an array\n",
        "  print(lst[i])\n",
        "  total += lst[i]\n",
        "print(\"total value is\", total)"
      ]
    },
    {
      "cell_type": "markdown",
      "metadata": {
        "id": "CRdelT0ldfcp"
      },
      "source": [
        "<!-- JPN -->\n",
        "　`for` 文の中でさらに `for` 文を使ったり、 `for` 文の中で `if` 文を使うなども可能である（今後説明する `while` 文や関数も同様。複合文のブロックの中に、新たな複合文を入れることができる）。その場合はインデントが重なっていく。"
      ]
    },
    {
      "cell_type": "markdown",
      "metadata": {
        "id": "xX0bMyV-rUsn"
      },
      "source": [
        "<!-- ENG -->\n",
        "　It is also possible to use a `for` statement within a `for` statement, or an `if` statement within a `for` statement, etc. (The same applies to `while` statements and functions, which will be explained later. A new compound statement can be placed inside a compound statement block.) In this case, the block is indented further."
      ]
    },
    {
      "cell_type": "code",
      "execution_count": null,
      "metadata": {
        "id": "LzRVrmDHdsDp"
      },
      "outputs": [],
      "source": [
        "size = 5\n",
        "count = 0\n",
        "for i in range(size):\n",
        "  # Indent\n",
        "  for j in range(i+1,size): # Create something like an array of integer values from a up to, but not including, b with range(a,b)\n",
        "    # Indent further\n",
        "    print(i,j)\n",
        "    count += 1\n",
        "print(f\"{size}C2 = {count}\")"
      ]
    },
    {
      "cell_type": "markdown",
      "metadata": {
        "id": "tZ15Hv9Gv9dY"
      },
      "source": [
        "<!-- JPN -->\n",
        "### 2.12 | 繰り返し（`while`文）\n",
        "\n",
        "　繰り返し処理は、`for` 以外にも `while` を用いて記述することもできる。\n",
        "`while` 文では、配列を指定する代わりに、**ループを継続する条件**を指定する。\n",
        "指定された条件文が `True` である限り、ブロックの部分に記述された処理が繰り返し実行される。"
      ]
    },
    {
      "cell_type": "markdown",
      "metadata": {
        "id": "DUpG5tP9rUso"
      },
      "source": [
        "<!-- ENG -->\n",
        "### 2.12 | Looping (`while` statement)\n",
        "\n",
        "　In addition to `for`, loop processes can also be written using `while`.\n",
        "With the `while` statement, instead of specifying an array, specify the **condition for continuing the loop**.\n",
        "As long as the specified conditional statement is `True`, the process described in the block part is repeatedly executed."
      ]
    },
    {
      "cell_type": "code",
      "execution_count": null,
      "metadata": {
        "id": "aFhfzaDFv9dZ"
      },
      "outputs": [],
      "source": [
        "count = 0\n",
        "\n",
        "while count < 3:   # while condition:\n",
        "  print(count)\n",
        "  count += 1"
      ]
    },
    {
      "cell_type": "markdown",
      "metadata": {
        "id": "1Q3QReThv9da"
      },
      "source": [
        "<!-- JPN -->\n",
        "ここで使われている `count` という変数は、ループの中身が何回実行されたかを数えている。まず `0` で初期化し、ループ内の処理が一度行われるたびに `count` の値に 1 を足しており、この `count` を使った条件式を `while` 文に与えることで、ループを回したい回数を指定している。"
      ]
    },
    {
      "cell_type": "markdown",
      "metadata": {
        "id": "foWcc7y3rUso"
      },
      "source": [
        "<!-- ENG -->\n",
        "The variable `count` that is used here counts the number of times the content of the loop has been executed. First of all, it is initialized with `0`, and then 1 is added to the `count` value each time the process in the loop is performed. The conditional expression using `count` is given to the `while` statement to specify the number of times the loop should run."
      ]
    },
    {
      "cell_type": "markdown",
      "metadata": {
        "id": "2rtEn2APv9db"
      },
      "source": [
        "<!-- JPN -->\n",
        "　先ほど説明した `not` を使うことで、指定された条件を満たして **いない** 間ループを繰り返すという処理も書くことができる。以下の例では、 `num==2` を満たさない限り、 `num` を1ずつ小さくしていく。"
      ]
    },
    {
      "cell_type": "markdown",
      "metadata": {
        "id": "2CtthcMwrUso"
      },
      "source": [
        "<!-- ENG -->\n",
        "　By using `not` as explained earlier, you can also write a process that repeats the loop while the specified condition is **not** met. In the following example, `num` is decremented by 1 unless `num==2` is satisfied."
      ]
    },
    {
      "cell_type": "code",
      "execution_count": null,
      "metadata": {
        "id": "9azwJRDFQV_7"
      },
      "outputs": [],
      "source": [
        "num = 10\n",
        "while not num == 2:\n",
        "  print(num)\n",
        "  num -= 1"
      ]
    },
    {
      "cell_type": "markdown",
      "metadata": {
        "id": "QB58CJ_RRLBo"
      },
      "source": [
        "<!-- JPN -->\n",
        "　なお、Google Colaboratoryの使い方でも説明したが、 `while` 文は永遠に終わらないコードを記述できてしまうことがある（無限ループと呼ぶこともある）。以下のようなコードを実行してしまった場合は、コードブロックの左側に表示される停止ボタンを押せばよい。"
      ]
    },
    {
      "cell_type": "markdown",
      "metadata": {
        "id": "pVh0m1SPrUsp"
      },
      "source": [
        "<!-- ENG -->\n",
        "　As explained in “How to use Google Colaboratory”, the `while` statement can become a code that never ends (sometimes called an infinite loop). If you have accidentally executed a code such as the following, you can press the stop button displayed on the left side of the code block."
      ]
    },
    {
      "cell_type": "code",
      "execution_count": null,
      "metadata": {
        "id": "M-w5uO-1RKg8"
      },
      "outputs": [],
      "source": [
        "# Infinite loop example: Press the stop button ■ on the left to force a stop\n",
        "count = 0\n",
        "while count >= 0:\n",
        "  count += 1"
      ]
    },
    {
      "cell_type": "markdown",
      "metadata": {
        "id": "68X72bL-LgQX"
      },
      "source": [
        "-------\n"
      ]
    },
    {
      "cell_type": "markdown",
      "metadata": {
        "id": "xn6IkI6YmV0j"
      },
      "source": [
        "<!-- JPN -->\n",
        "##### 課題5（提出不要）\n",
        "以下の20次元空間の点 `x`, `y` について、2点間のユークリッド距離を計算せよ。"
      ]
    },
    {
      "cell_type": "markdown",
      "metadata": {
        "id": "5hgsOdPXrUsp"
      },
      "source": [
        "<!-- ENG -->\n",
        "##### Exercise 5 (not required to submit)\n",
        "\n",
        "For points `x`, `y` in the following 20-dimensional space, calculate the Euclidean distance between the two points."
      ]
    },
    {
      "cell_type": "markdown",
      "metadata": {
        "id": "17oUaJutQlo8"
      },
      "source": [
        "<!-- BOTH -->\n",
        "```\n",
        "x = [5, 4, 10, 4, 8, 4, 6, 8, 5, 4, 6, 5, 9, 9, 5, 7, 1, 1, 5, 8]\n",
        "y = [3, 2, 8, 3, 4, 10, 10, 2, 4, 2, 3, 9, 8, 1, 3, 6, 5, 3, 9, 2]\n",
        "```"
      ]
    },
    {
      "cell_type": "markdown",
      "metadata": {
        "id": "JbXPM2uQ1blU"
      },
      "source": [
        "<!-- BOTH -->\n",
        "-----"
      ]
    },
    {
      "cell_type": "markdown",
      "metadata": {
        "id": "KWhPTvTdpb04"
      },
      "source": [
        "<!-- JPN -->\n",
        "##### 課題6（提出不要）\n",
        "`print()`関数を用いて、1から20までの整数を順番に表示させよ。**ただし、整数が3の倍数の場合は`\"Fizz\"`、5の倍数の場合は`\"Buzz\"`、3の倍数かつ5の倍数の場合は`\"FizzBuzz\"`を代わりに表示させよ。**\n",
        "最初の6つの出力は以下の通りになるはずである。"
      ]
    },
    {
      "cell_type": "markdown",
      "metadata": {
        "id": "e-n1S_tOpb04"
      },
      "source": [
        "<!-- ENG -->\n",
        "##### Exercise 6 (not required to submit)\n",
        "\n",
        "Print integers incrementally from 1 to 20 with `print()` function, **replacing any number divisible by three with the word \"fizz\", any number divisible by five with the word \"buzz\", and any number divisible by 15 with the word \"fizzbuzz\".**\n",
        "The first six outputs should be:"
      ]
    },
    {
      "cell_type": "markdown",
      "metadata": {
        "id": "FvghPZpOrzyz"
      },
      "source": [
        "<!-- BOTH -->\n",
        "\n",
        "```\n",
        "1\n",
        "2\n",
        "fizz\n",
        "4\n",
        "buzz\n",
        "6\n",
        "```"
      ]
    },
    {
      "cell_type": "markdown",
      "metadata": {
        "id": "C1JEtsQ0pb04"
      },
      "source": [
        "-----"
      ]
    },
    {
      "cell_type": "markdown",
      "metadata": {
        "id": "e96zsBv7IfDn"
      },
      "source": [
        "<!-- JPN -->\n",
        "### 2.13 | 関数\n",
        "　自分でコードを作る場合に、何かひとまとまりの処理を書いた際には、その処理のためのコードをまとめて、プログラム全体の色々な箇所から再利用できるようにしておくと、便利な場合が多い。ここでは、処理をひとまとめにする方法の一つとして**関数 (function)** を定義する方法を紹介する。"
      ]
    },
    {
      "cell_type": "markdown",
      "metadata": {
        "id": "i52sr3MurUsq"
      },
      "source": [
        "<!-- ENG -->\n",
        "### 2.13 | Functions\n",
        "　When you write your own code, if you write a set of processes, it is often convenient to put together the code for that process so that it can be reused from various parts of the entire program. In this section, we will introduce the method of defining a **function** as a way of grouping processes together."
      ]
    },
    {
      "cell_type": "markdown",
      "metadata": {
        "id": "RCB98_8xv9df"
      },
      "source": [
        "<!-- JPN -->\n",
        "#### 関数を定義する\n",
        "\n",
        "　関数も制御構文と同じく**ヘッダー**と**ブロック**を持っている。"
      ]
    },
    {
      "cell_type": "markdown",
      "metadata": {
        "id": "I1sCvtAlrUsq"
      },
      "source": [
        "<!-- ENG -->\n",
        "#### Define a function\n",
        "\n",
        "　Functions also have a **header** and a **block**, just like the control statements."
      ]
    },
    {
      "cell_type": "markdown",
      "metadata": {
        "id": "zJyYFe7Wlpqx"
      },
      "source": [
        "<!-- JPN -->\n",
        "<img src=\"https://i.imgur.com/QPHXbXg.png\" width=500>"
      ]
    },
    {
      "cell_type": "markdown",
      "metadata": {
        "id": "4b0qeaey92mN"
      },
      "source": [
        "<!-- ENG -->\n",
        "<img src=\"https://i.imgur.com/snSc5OV.png\" width=500>"
      ]
    },
    {
      "cell_type": "markdown",
      "metadata": {
        "id": "2p9c9AUxWnSJ"
      },
      "source": [
        "<!-- JPN -->\n",
        "以下では、**受け取った値を 2 倍する関数 `double()`** を作っている。**関数は定義しただけでは実行されない**ので注意せよ。"
      ]
    },
    {
      "cell_type": "markdown",
      "metadata": {
        "id": "3uU4GjGFrUsq"
      },
      "source": [
        "<!-- ENG -->\n",
        "In the following, we are creating **the function `double()` that doubles the received value**. Note that **a function is not executed just by defining it.**"
      ]
    },
    {
      "cell_type": "code",
      "execution_count": null,
      "metadata": {
        "id": "iDh3Mpi_IfDp"
      },
      "outputs": [],
      "source": [
        "# Defining the function double()\n",
        "def double(x):\n",
        "  return 2 * x"
      ]
    },
    {
      "cell_type": "markdown",
      "metadata": {
        "id": "rOfEdNt0XNPd"
      },
      "source": [
        "<!-- JPN -->\n",
        "定義した関数は、以下のようにして（`print()`関数などと同じように）実行することができる。"
      ]
    },
    {
      "cell_type": "markdown",
      "metadata": {
        "id": "07oeX51CrUsr"
      },
      "source": [
        "<!-- ENG -->\n",
        "The defined function can be executed (in the same way as `print()` function, etc.) as follows."
      ]
    },
    {
      "cell_type": "code",
      "execution_count": null,
      "metadata": {
        "id": "OsM4oX9yXG9b"
      },
      "outputs": [],
      "source": [
        "# Executing the function double()\n",
        "print(double(1))\n",
        "\n",
        "number = double(1.2)\n",
        "print(number)"
      ]
    },
    {
      "cell_type": "markdown",
      "metadata": {
        "id": "CRggp-QcIfDs"
      },
      "source": [
        "<!-- JPN -->\n",
        "`double(x)` における `x` のように、関数に渡される変数や値のことを**引数 (argument)** 、関数の出力のことを**返り値 あるいは 戻り値 (return value)** と呼ぶ。\n",
        "\n",
        "　以下では、引数となる変数の種類を変えたり、引数の数を増減させたり、戻り値を持たない関数を作成したりしてみている。実際に関数を実行したり、`print`するなどして、挙動を確かめてみる。"
      ]
    },
    {
      "cell_type": "markdown",
      "metadata": {
        "id": "-i-02xLYrUsr"
      },
      "source": [
        "<!-- ENG -->\n",
        "The variable or value passed to a function, such as `x` in `double(x)`, is called an **argument**, and the output of the function is called the **return value**.\n",
        "\n",
        "　In the following, the types of variables that can be used as arguments are changed, increasing or decreasing the number of arguments, and creating functions that have no return value. Try actually executing the function to see how it behaves by using `print()`, etc."
      ]
    },
    {
      "cell_type": "code",
      "execution_count": null,
      "metadata": {
        "id": "54-xidThuPUW"
      },
      "outputs": [],
      "source": [
        "def plus(a, b): # 2 arguments\n",
        "  return a + b\n",
        "\n",
        "x = 1\n",
        "y = 10\n",
        "print(plus(x, y)) # 1 + 10\n",
        "\n",
        "z = 3\n",
        "result = plus(x, z) # 1 + 3\n",
        "print(result)"
      ]
    },
    {
      "cell_type": "code",
      "execution_count": null,
      "metadata": {
        "id": "tBDQlz1uuulO"
      },
      "outputs": [],
      "source": [
        "def hello(): # 0 arguments\n",
        "  print(\"Hello World!\") #  Functions can be used within a function\n",
        "  # The return clause that defines the return value is optional\n",
        "\n",
        "hello() # Instead of returning a string, the function itself outputs a string."
      ]
    },
    {
      "cell_type": "markdown",
      "metadata": {
        "id": "mwZ-T1CTv9dn"
      },
      "source": [
        "<!-- JPN -->\n",
        "　今回の `double()` や `plus()` 、 `hello()` は定義を行い自作した関数であるが、Python には多くの関数が最初から定義されており、これを**組み込み関数 (built-in function)** と呼ぶ。すでに使用している `print()` や `range()` などが、これに該当する。\n",
        "\n",
        "　組み込み関数の一覧は [Python の公式ドキュメント](https://docs.python.org/ja/3/library/functions.html)で確認することができる。\n"
      ]
    },
    {
      "cell_type": "markdown",
      "metadata": {
        "id": "LwamnW7irUss"
      },
      "source": [
        "<!-- ENG -->\n",
        "　While `double()`, `plus()`, and `hello()` are functions that we have defined and written ourselves, many functions in Python are pre-defined and called **built-in functions**. `print()` and `range()`, which are already in use, fall into this category.\n",
        "\n",
        "　The list of built-in functions can be found in [the official Python documentation](https://docs.python.org/ja/3/library/functions.html).\n"
      ]
    },
    {
      "cell_type": "markdown",
      "metadata": {
        "id": "BZGSKTbcv9do"
      },
      "source": [
        "<!-- JPN -->\n",
        "#### 引数のデフォルト値\n",
        "\n",
        "　関数を利用するときに、ある引数は多くの場合同じ値だが、たまに異なる値を入力したい、ということがある。このような場合には、**デフォルト値**を指定することで普段は引数を省略し、特別な場合のみ記入することができる。"
      ]
    },
    {
      "cell_type": "markdown",
      "metadata": {
        "id": "fx8b8QMQrUss"
      },
      "source": [
        "<!-- ENG -->\n",
        "#### Default argument values\n",
        "\n",
        "　When using a function, some arguments are often the same, but sometimes you want to enter a different value. In such a case, by specifying the **default value**, you can omit the argument by default and enter it only in special cases."
      ]
    },
    {
      "cell_type": "code",
      "execution_count": null,
      "metadata": {
        "id": "uw2d8qDov9do"
      },
      "outputs": [],
      "source": [
        "def hello(lang='en'):\n",
        "  if lang=='en':\n",
        "    print(\"Hello world!\")\n",
        "  elif lang=='ja':\n",
        "    print(\"こんにちは！\")\n",
        "  else:\n",
        "    print(\"Undefined language: \"+lang)"
      ]
    },
    {
      "cell_type": "markdown",
      "metadata": {
        "id": "7i8TQcfzv9do"
      },
      "source": [
        "<!-- JPN -->\n",
        "この関数は引数に何も与えずに呼び出すと英語を出力し、引数 `lang` に `ja` が渡されると日本語を出力する。その他の言語は未定義として、 `\"Undefined language: \"` と出力するようになっている。実際に実行して確かめてみる。"
      ]
    },
    {
      "cell_type": "markdown",
      "metadata": {
        "id": "pGVS88porUst"
      },
      "source": [
        "<!-- ENG -->\n",
        "If the function is called without giving any argument, it will output English, and if `ja` is passed as the argument `lang`, it will output in Japanese. Other languages are undefined and are output as `\"Undefined language: \"`. Try actually running it and see."
      ]
    },
    {
      "cell_type": "code",
      "execution_count": null,
      "metadata": {
        "id": "Fh4VEHmMv9dp"
      },
      "outputs": [],
      "source": [
        "hello()"
      ]
    },
    {
      "cell_type": "code",
      "execution_count": null,
      "metadata": {
        "id": "p2g-ULOWv9dp"
      },
      "outputs": [],
      "source": [
        "hello(lang='ja')"
      ]
    },
    {
      "cell_type": "code",
      "execution_count": null,
      "metadata": {
        "id": "yOqU6ODL3ncd"
      },
      "outputs": [],
      "source": [
        "hello('fr') # “lang=” can be omitted"
      ]
    },
    {
      "cell_type": "markdown",
      "metadata": {
        "id": "GWhAbt3ov9dq"
      },
      "source": [
        "<!-- JPN -->\n",
        "　デフォルト値が与えられていない引数は、関数呼び出しの際に**必ず**何らかの値が渡される必要があるが、デフォルト値を持つ場合は、何も指定しなくても関数を呼び出すことができるようになる。"
      ]
    },
    {
      "cell_type": "markdown",
      "metadata": {
        "id": "EfMBIcEPrUst"
      },
      "source": [
        "<!-- ENG -->\n",
        "　Arguments that are not given a default value will **always** require some value to be passed when the function is called, but if they have a default value, the function can be called without specifying anything."
      ]
    },
    {
      "cell_type": "markdown",
      "metadata": {
        "id": "BJnkcc_Qv9dt"
      },
      "source": [
        "<!-- JPN -->\n",
        "#### 変数のスコープ\n",
        "　**関数の中で新しく定義した変数は関数の外では利用できない**。以下に例を示す。"
      ]
    },
    {
      "cell_type": "markdown",
      "metadata": {
        "id": "JNwmkmzkrUsu"
      },
      "source": [
        "<!-- ENG -->\n",
        "#### Variable scope\n",
        "　**Newly defined variables in a function cannot be used outside the function**. The following is an example."
      ]
    },
    {
      "cell_type": "code",
      "execution_count": null,
      "metadata": {
        "id": "L8vtxEV7v9dt"
      },
      "outputs": [],
      "source": [
        "# Assign 2 to local_variable inside the function\n",
        "def change():\n",
        "  local_variable = 2\n",
        "\n",
        "change()\n",
        "print(local_variable)"
      ]
    },
    {
      "cell_type": "markdown",
      "metadata": {
        "id": "Z9slKEKXv9du"
      },
      "source": [
        "<!-- JPN -->\n",
        "　変数が有効な範囲のことを変数の**スコープ (scope)** と呼び、上記の `local_variable` のスコープは関数 `change()` 内だけで有効ということになる。なお、このような変数のことを**ローカル変数**とも呼ぶ。\n",
        "\n",
        "　一方、関数外で定義された変数はよりスコープが広く、関数内外から参照することが可能である。以下のコードを実行してみよ。"
      ]
    },
    {
      "cell_type": "markdown",
      "metadata": {
        "id": "ru1UhRPurUsu"
      },
      "source": [
        "<!-- ENG -->\n",
        "　The range in which a variable is valid is called the **scope**, and the scope of the `local_variable` indicated above means that it is valid only within the function `change()`. Such variables are also referred to as **local variables**.\n",
        "\n",
        "　On the other hand, variables defined outside the function have a wider scope and can be referenced from inside and outside the function. Try running the following code."
      ]
    },
    {
      "cell_type": "code",
      "execution_count": null,
      "metadata": {
        "id": "AamL-IeH5Dov"
      },
      "outputs": [],
      "source": [
        "def print_a():\n",
        "  print(\"From inside: \", a)\n",
        "\n",
        "a = 1\n",
        "\n",
        "print_a()\n",
        "print(\"From outside:\", a)\n"
      ]
    },
    {
      "cell_type": "markdown",
      "metadata": {
        "id": "vAHe5xDGv9dv"
      },
      "source": [
        "<!-- JPN -->\n",
        "　このように、関数の外で定義された変数は**グローバル変数**とも呼ばれ、どこからでも参照することができるが、一般にはグローバル変数は変数のスコープがあまりに広く、いつ想定外に書き換えられるか予想しにくい、関数が依存している変数の見落としが発生しやすくなることなどから、忌避されることが多い。\n",
        "\n",
        "　本資料では、関数内で利用する変数はグローバル変数であっても引数を使うこととする。"
      ]
    },
    {
      "cell_type": "markdown",
      "metadata": {
        "id": "qARfuUptrUsv"
      },
      "source": [
        "<!-- ENG -->\n",
        "　Variables defined outside the function are also called **global variables**, and can be referenced from anywhere. However, global variables are generally avoided because the scope of the variables is so wide that it is difficult to predict when they will be unexpectedly rewritten, and it is easy to overlook variables on which the function depends.\n",
        "\n",
        "　In these materials, we will use arguments for variables used in functions, even if they are global variables."
      ]
    },
    {
      "cell_type": "code",
      "execution_count": null,
      "metadata": {
        "id": "S774Segl7gBK"
      },
      "outputs": [],
      "source": [
        "def print_a(local_a):\n",
        "  print(\"From inside: \", local_a)\n",
        "\n",
        "a = 1\n",
        "print_a(a)\n",
        "print(\"From outside:\", a)"
      ]
    },
    {
      "cell_type": "markdown",
      "metadata": {
        "id": "llEwljDe7zTh"
      },
      "source": [
        "<!-- JPN -->\n",
        "　最後に、同名のグローバル変数とローカル変数が存在する場合は、ローカル変数が優先的に利用される。引数もローカル変数として処理されることを頭に置いて、以下のコードを実行、確認せよ。"
      ]
    },
    {
      "cell_type": "markdown",
      "metadata": {
        "id": "bsPIYBCrrUsv"
      },
      "source": [
        "<!-- ENG -->\n",
        "　Lastly, if there is a global variable and a local variable with the same name, the local variable will be prioritized. Keep in mind that the arguments are also processed as local variables. Run the following code to confirm."
      ]
    },
    {
      "cell_type": "code",
      "execution_count": null,
      "metadata": {
        "id": "t5J9FWDo7rF2"
      },
      "outputs": [],
      "source": [
        "def print_a(a):\n",
        "  print(\"From inside: \", a)\n",
        "  a += 1\n",
        "  print(\"updated a (local variable):\", a)\n",
        "\n",
        "a = 1\n",
        "print_a(a)\n",
        "print(\"From outside:\", a)"
      ]
    },
    {
      "cell_type": "markdown",
      "metadata": {
        "id": "-Gx6ekIA8Ytt"
      },
      "source": [
        "<!-- JPN -->\n",
        "この挙動からわかるように、 `print_a()` 関数内でローカル変数 `a` の中身が更新されたとしても、グローバル変数 `a` に変更を加えているわけではないので、 `print_a()` 関数の外では変数 `a` の中身は更新されていない。"
      ]
    },
    {
      "cell_type": "markdown",
      "metadata": {
        "id": "ZM5sHCWLrUsw"
      },
      "source": [
        "<!-- ENG -->\n",
        "As you can see from this behavior, even if the content of the local variable `a` is updated within the `print_a()` function, the content of variable `a` is not updated outside the `print_a()` function, because the global variable `a` is not modified."
      ]
    },
    {
      "cell_type": "markdown",
      "metadata": {
        "id": "Q1fEy1LQLv18"
      },
      "source": [
        "--------"
      ]
    },
    {
      "cell_type": "markdown",
      "metadata": {
        "id": "8i7Za-v3qAQc"
      },
      "source": [
        "<!-- JPN -->\n",
        "##### 課題7（提出不要）\n",
        "　配列を受け取って分散を実数値で返す `var(lst)` 関数を自作し、以下の `lst1` の分散を計算せよ。"
      ]
    },
    {
      "cell_type": "markdown",
      "metadata": {
        "id": "oWDV-lhprUsw"
      },
      "source": [
        "<!-- ENG -->\n",
        "##### Exercise 7 (not required to submit)\n",
        "　Write your own `var(lst)` function that takes an array and returns the variance as a real number value, and calculate the variance of `lst1` below."
      ]
    },
    {
      "cell_type": "markdown",
      "metadata": {
        "id": "y6QErHGVmewa"
      },
      "source": [
        "<!-- BOTH -->\n",
        "```\n",
        "lst1 = [8, 2, 4, 0, 5, 6, 0, 5, 6, 3]\n",
        "```\n"
      ]
    },
    {
      "cell_type": "markdown",
      "metadata": {
        "id": "1JZt9hWumf6C"
      },
      "source": [
        "<!-- JPN -->\n",
        "なお、分散の定義は以下を利用せよ。$\\mu$ は $\\boldsymbol{x}$ の平均値を表す。\n"
      ]
    },
    {
      "cell_type": "markdown",
      "metadata": {
        "id": "SZwWIgoFrUsw"
      },
      "source": [
        "<!-- ENG -->\n",
        "For the definition of variance, use the following. $\\mu$ indicates the average value of $\\boldsymbol{x}$.\n",
        "\n"
      ]
    },
    {
      "cell_type": "markdown",
      "metadata": {
        "id": "kOLGimAVmhJW"
      },
      "source": [
        "<!-- BOTH -->\n",
        "$\\begin{eqnarray} V = \\frac{1}{N} \\sum^{N-1}_{i=0}(x_i-\\mu)^2 \\end{eqnarray}$"
      ]
    },
    {
      "cell_type": "markdown",
      "metadata": {
        "id": "bttuR97yLzS6"
      },
      "source": [
        "--------------"
      ]
    },
    {
      "cell_type": "markdown",
      "metadata": {
        "id": "rGiBs80HrY0W"
      },
      "source": [
        "<!-- JPN -->\n",
        "##### 課題8（発展、提出不要）\n",
        "　**奇数個**の要素からなる配列を受け取って、中央値を返す `median(lst)` 関数を自作し、以下の `lst2` の中央値を計算せよ。"
      ]
    },
    {
      "cell_type": "markdown",
      "metadata": {
        "id": "rtxK72n3rUsx"
      },
      "source": [
        "<!-- ENG -->\n",
        "##### Exercise 8 (Advanced, not required to submit)\n",
        "　Write your own `median(lst)` function that takes an array with **an odd number** of elements and returns the median, and calculate the median of `lst2` below."
      ]
    },
    {
      "cell_type": "markdown",
      "metadata": {
        "id": "BxFH6LlbmkGb"
      },
      "source": [
        "<!-- BOTH -->\n",
        "```\n",
        "lst2 = [5, 3, 2, 5, 7, 10, 10, 5, 0, 9, 3, 1, 6, 6, 0]\n",
        "```"
      ]
    },
    {
      "cell_type": "markdown",
      "metadata": {
        "id": "li9ru56T1blX"
      },
      "source": [
        "<!-- BOTH -->\n",
        "------"
      ]
    },
    {
      "cell_type": "markdown",
      "metadata": {
        "id": "tZa-9jtQpb07"
      },
      "source": [
        "<!-- JPN -->\n",
        "##### 課題9（発展、提出不要）\n",
        "\n",
        "　$1$以上$N$以下の整数のうち、$10$進法で各桁の和が$A$以上$B$以下であるものについて、総和を求めよ。 $N=20, A=2, B=5$ の時には $84$ が答えとなるはずである。\n"
      ]
    },
    {
      "cell_type": "markdown",
      "metadata": {
        "id": "Qna2v4Cspb08"
      },
      "source": [
        "<!-- ENG -->\n",
        "##### Exercise 9 (Advanced, not required to submit)\n",
        "\n",
        "Find the sum of the integers between $1$ and $N$ (inclusive), whose sum of digits written in base $10$ is between $A$ and $B$ (inclusive). The output should be $84$ if the variables are $N=20, A=2, B=5$."
      ]
    },
    {
      "cell_type": "markdown",
      "metadata": {
        "id": "nqxQX7TjsHa6"
      },
      "source": [
        "<!-- JPN -->\n",
        "　なお、この課題は競技プログラミングコンテストを開催する[Atcoder](https://atcoder.jp)の、初心者向け問題集である[AtCoder Beginners Selection](https://atcoder.jp/contests/abs)から抜粋したものである。\n"
      ]
    },
    {
      "cell_type": "markdown",
      "metadata": {
        "id": "tI97uqlrszuD"
      },
      "source": [
        "<!-- ENG -->\n",
        "　Note that this exercise comes from [AtCoder Beginners Selection](https://atcoder.jp/contests/abs). It composed by [Atcoder](https://atcoder.jp), a website that hosts competitive programming contests."
      ]
    },
    {
      "cell_type": "markdown",
      "metadata": {
        "id": "r9Zr2b-bpb08"
      },
      "source": [
        "------"
      ]
    },
    {
      "cell_type": "markdown",
      "metadata": {
        "id": "875G0HyEZ7_T"
      },
      "source": [
        "<!-- ENG -->\n",
        "# Supplementary Material"
      ]
    },
    {
      "cell_type": "markdown",
      "metadata": {
        "id": "6mOWfHLwVxqL"
      },
      "source": [
        "<!-- JPN -->\n",
        "# 補足資料"
      ]
    },
    {
      "cell_type": "markdown",
      "metadata": {
        "id": "6VTOhgfKxjfF"
      },
      "source": [
        "<!-- JPN -->\n",
        "## ※1 | Pythonのバージョン確認方法\n",
        "\n",
        "　現在実行しているPythonのバージョンは以下の方法で確認することができる。もし自分の手元でPythonの環境を整備したいときは、バージョンを併せておいた方が安心である。"
      ]
    },
    {
      "cell_type": "markdown",
      "metadata": {
        "id": "CLahEdPVVxqL"
      },
      "source": [
        "<!-- ENG -->\n",
        "## S1 | How to confirm your version of Python\n",
        "\n",
        "　You can check the version of Python you are currently running in the following way. If you want to set up a Python environment on your own, it is best to use compatible versions."
      ]
    },
    {
      "cell_type": "code",
      "execution_count": null,
      "metadata": {
        "id": "ZPX3c9TraIj6"
      },
      "outputs": [],
      "source": [
        "import platform\n",
        "print(platform.python_version())"
      ]
    },
    {
      "cell_type": "markdown",
      "metadata": {
        "id": "vybQCKuHjX8f"
      },
      "source": [
        "<!-- JPN -->\n",
        "## ※2 | よくあるエラーまとめ\n",
        "\n",
        "　プログラミングではエラーに遭遇することが必ずと言っていいほどよくある。この時に、エラーの文章を見れば一目瞭然でわかるケースと、一見して何を言っているのかわからないケースがあるため、よくあるエラーを複数目撃しておくことは重要だ。ここでは、今まで習った範囲で、発生しうるエラーを簡単にまとめているので実際に実行して、眺めてみると良い。\n",
        "\n",
        "1. 全角スペースが混ざっている\n",
        "  - **エラーの意味が理解しにくい**。全角スペースが\"invalid character\"である、とErrorの文章では述べている。\n",
        "2. 0除算\n",
        "3. str + int\n",
        "4. int + str\n",
        "  - エラー内容が3.とは異なるので注意。\n",
        "5. 文字列を`dict`のキーにした時に、クォーテーションを付け忘れる\n",
        "  - 文字列型 `str` にし忘れると、変数名として処理されてしまうので注意\n",
        "6. 比較演算子 `==` と代入演算子 `=` を使い間違える\n",
        "7. if文、for文でコロンを忘れる\n",
        "  - invalid Syntax、すなわち「文法が間違っている」としか教えてくれない。エラーが発生している場所から、コロンが抜けていることを推定する必要あり。\n",
        "8. if文、for文などでインデントが不揃い\n",
        "9. 関数で必須な引数の渡し忘れ\n",
        "10. グローバル変数を関数内で書き換えようとする\n",
        "  - これは厳密にはエラーは発生しないが、想定外の挙動を示すので含めている。\n",
        "  - global宣言を行えば関数内でグローバル変数を書き換えることはできるが、本演習では非推奨であり割愛する。"
      ]
    },
    {
      "cell_type": "markdown",
      "metadata": {
        "id": "X-IRxh76VxqM"
      },
      "source": [
        "<!-- ENG -->\n",
        "## S2 | Summary of common errors\n",
        "\n",
        "　In programming, it is always a common occurrence to encounter errors. With errors, it is important to observe several frequently occurring errors, because there are cases where the error message is obvious, and cases where it is not obvious what the error is indicating at first glance. Here is a brief summary of the errors that can occur, based on what has been learned so far, thus you can actually run the program and look at them.\n",
        "\n",
        "1. There is a mix of double byte and single byte spaces\n",
        "  - **It's difficult to understand the meaning of the errors**. The error message indicates that a double byte space is an \"invalid character\".\n",
        "2. Division by zero\n",
        "3. str + int\n",
        "4. int + str\n",
        "  - Note that the error content is different from 3.\n",
        "5. Forgetting to add quotation marks when using a string as a `dict` key\n",
        "  - Note that if you forget to use the string type `str`, it will be treated as a variable name\n",
        "6. Using the comparison operator `==` and the assignment operator `=`  incorrectly\n",
        "7. Forgetting the colon (:) in `if` and `for` statements\n",
        "  - It only tells you that it is invalid syntax, i.e., \"syntax is wrong\". From where the error is occurring, we need to infer that the colon (:) is missing.\n",
        "8. Inconsistent indentation in `if` and `for` statements, etc.\n",
        "9. Forgetting to pass arguments that are required for functions\n",
        "10. Trying to rewrite a global variable in a function\n",
        "  - This is not strictly an error, but it is included because it may cause unexpected behavior.\n",
        "  - Although it is possible to rewrite global variables in functions by using global declarations, this is not recommended in our exercises and has been omitted."
      ]
    },
    {
      "cell_type": "code",
      "execution_count": null,
      "metadata": {
        "id": "9LwffdScy1Hp"
      },
      "outputs": [],
      "source": [
        "# 1. There is a mix of double byte and single byte spaces\n",
        "1 +　2 # There is a double byte space before “2”"
      ]
    },
    {
      "cell_type": "code",
      "execution_count": null,
      "metadata": {
        "id": "7CfpNUaGVpma"
      },
      "outputs": [],
      "source": [
        "# 2. Division by zero\n",
        "b = 0\n",
        "10 / b"
      ]
    },
    {
      "cell_type": "code",
      "execution_count": null,
      "metadata": {
        "id": "ia8mAAr5v9bj"
      },
      "outputs": [],
      "source": [
        "# 3. str + int\n",
        "1 + \"a\""
      ]
    },
    {
      "cell_type": "code",
      "execution_count": null,
      "metadata": {
        "id": "3cdeKy15Rv_x"
      },
      "outputs": [],
      "source": [
        "# 4. int + str\n",
        "\"a\" + 1"
      ]
    },
    {
      "cell_type": "code",
      "execution_count": null,
      "metadata": {
        "id": "RqufO7DMtF5U"
      },
      "outputs": [],
      "source": [
        "# 5. Forgetting to add quotation marks when using a string as a `dict` key\n",
        "scores = {'Math': 90, 'Science': 75, 'English': 80 }\n",
        "print(scores[\"Math\"]) # This is correct\n",
        "print(scores[Math])"
      ]
    },
    {
      "cell_type": "code",
      "execution_count": null,
      "metadata": {
        "id": "hPwfZDLx8xia"
      },
      "outputs": [],
      "source": [
        "# 6. Using the comparison operator ==  and the assignment operator = incorrectly\n",
        "if 1 = 2:\n",
        "  print(\"One equals two\")\n",
        "else:\n",
        "  print(\"One does not equal two\")"
      ]
    },
    {
      "cell_type": "code",
      "execution_count": null,
      "metadata": {
        "id": "iFLgHcMzy4nC"
      },
      "outputs": [],
      "source": [
        "# 6. Forgetting the colon (:) in a for statement\n",
        "for i in [1, 2, 3, 4, 5]\n",
        "  print(i)"
      ]
    },
    {
      "cell_type": "code",
      "execution_count": null,
      "metadata": {
        "id": "muAnGO2SrA8m"
      },
      "outputs": [],
      "source": [
        "# 7. Inconsistent indentation in if and for statements, etc.\n",
        "for i in [1, 2]:\n",
        "    a = 1       # Four spaces\n",
        "  print(a + i)  # Two spaces"
      ]
    },
    {
      "cell_type": "code",
      "execution_count": null,
      "metadata": {
        "id": "GWRHNrxauTnN"
      },
      "outputs": [],
      "source": [
        "# 9. Forgetting to pass arguments that are required for functions\n",
        "def func(num):\n",
        "  print(num)\n",
        "\n",
        "func()"
      ]
    },
    {
      "cell_type": "code",
      "execution_count": null,
      "metadata": {
        "id": "IyKUgyit-mdz"
      },
      "outputs": [],
      "source": [
        "# 10. Trying to rewrite a global variable in a function\n",
        "\n",
        "# Since the local variable a is prepared at the moment\n",
        "# of assignment to the global variable a in the function func(),\n",
        "# it is not possible to rewrite the value of the global variable a in the function.\n",
        "\n",
        "def func():\n",
        "  a = 100\n",
        "  print(\"From inside: \", a)\n",
        "\n",
        "a = 1\n",
        "func()\n",
        "print(\"From outside:\", a)"
      ]
    },
    {
      "cell_type": "markdown",
      "metadata": {
        "id": "sIEQR_6gSK6U"
      },
      "source": [
        "<!-- JPN -->\n",
        "# 課題の解答例"
      ]
    },
    {
      "cell_type": "markdown",
      "metadata": {
        "id": "73uydUw6rUsz"
      },
      "source": [
        "<!-- ENG -->\n",
        "# Sample answers for Exercises"
      ]
    },
    {
      "cell_type": "markdown",
      "metadata": {
        "id": "KcHFn2qnQMos"
      },
      "source": [
        "<!-- JPN -->\n",
        "##### 課題1\n",
        "　算術演算子を練習する課題である。書いてある通りに全て計算してみる。"
      ]
    },
    {
      "cell_type": "markdown",
      "metadata": {
        "id": "5E2-9cD8QMot"
      },
      "source": [
        "<!-- ENG -->\n",
        "##### Exercise 1\n",
        "　This is an exercise to practice arithmetic operators. Execute them as written."
      ]
    },
    {
      "cell_type": "code",
      "execution_count": null,
      "metadata": {
        "id": "yI74WUKmQjsM"
      },
      "outputs": [],
      "source": [
        "x = 201\n",
        "y = 9\n",
        "\n",
        "print(\"x + y  =\", x + y)\n",
        "print(\"x - y  =\", x - y)\n",
        "print(\"x * y  =\", x * y)\n",
        "print(\"x / y  =\", x / y)\n",
        "print(\"x // y =\", x // y)\n",
        "print(\"x % y  =\", x % y)\n",
        "print(\"x ** y =\", x ** y)"
      ]
    },
    {
      "cell_type": "markdown",
      "metadata": {
        "id": "9P9AvVE9QMyG"
      },
      "source": [
        "<!-- JPN -->\n",
        "##### 課題2, 3\n",
        "　配列から値を取得する練習である。この場合はlistもtupleも同じ操作をすればよい。"
      ]
    },
    {
      "cell_type": "markdown",
      "metadata": {
        "id": "f7h801j3QMyG"
      },
      "source": [
        "<!-- ENG -->\n",
        "##### Exercises 2,3\n",
        "　This is an exercise to practice getting values from list and tuple. Note that a way to obtain vlues is the same between list and tuple."
      ]
    },
    {
      "cell_type": "code",
      "execution_count": null,
      "metadata": {
        "id": "WUKqNUmPRuIu"
      },
      "outputs": [],
      "source": [
        "# exercise 2\n",
        "\n",
        "x = (1,5)\n",
        "y = (5,2)\n",
        "\n",
        "sq_dist = (x[0] - y[0])**2 + (x[1] - y[1])**2\n",
        "dist = sq_dist**0.5\n",
        "print(dist)"
      ]
    },
    {
      "cell_type": "code",
      "execution_count": null,
      "metadata": {
        "id": "AVUfcoSgR9K_"
      },
      "outputs": [],
      "source": [
        "# exercise 3\n",
        "\n",
        "x = [5, 4, 10, 4]\n",
        "y = [3, 2, 8, 3]\n",
        "\n",
        "sq_dist = (x[0] - y[0])**2 + (x[1] - y[1])**2 + (x[2] - y[2])**2 + (x[3] - y[3])**2\n",
        "dist = sq_dist**0.5\n",
        "print(dist)"
      ]
    },
    {
      "cell_type": "markdown",
      "metadata": {
        "id": "DTwX8RmLSlDs"
      },
      "source": [
        "<!-- JPN -->\n",
        "##### 課題4\n",
        "　`if` 文を練習する課題である。整数値が奇数か偶数かを判定するには、2との剰余をとればよい。"
      ]
    },
    {
      "cell_type": "markdown",
      "metadata": {
        "id": "ceZSZPlBrUsz"
      },
      "source": [
        "<!-- ENG -->\n",
        "##### Exercise 4\n",
        "　This is an exercise to practice `if` statements. To determine whether an integer value is odd or even, divide by 2 to determine the remainder being 1 or 0."
      ]
    },
    {
      "cell_type": "code",
      "execution_count": null,
      "metadata": {
        "id": "j2RAb9JQSjgS"
      },
      "outputs": [],
      "source": [
        "# Create a random number between 0 and 50\n",
        "import random\n",
        "rand_int = random.randint(0, 50)\n",
        "print(f\"rand_int is {rand_int}\")\n",
        "\n",
        "if rand_int%2 == 1:\n",
        "  print(\"ODD\")\n",
        "else:\n",
        "  print(\"EVEN\")"
      ]
    },
    {
      "cell_type": "markdown",
      "metadata": {
        "id": "XrBzObg-TbBn"
      },
      "source": [
        "<!-- JPN -->\n",
        "##### 課題5\n",
        "　`for` 文で解くのが良いだろう。これまで学習した内容を使うのであれば、 `range()` 関数を使うのが良い。"
      ]
    },
    {
      "cell_type": "markdown",
      "metadata": {
        "id": "k7CUeEbYrUs0"
      },
      "source": [
        "<!-- ENG -->\n",
        "##### Exercise 5\n",
        "　It would be best to solve it using `for` statement. If you want to use what you have learned so far, you should use the `range()` function."
      ]
    },
    {
      "cell_type": "code",
      "execution_count": null,
      "metadata": {
        "id": "mV4dfPtcS9T2"
      },
      "outputs": [],
      "source": [
        "x = [5, 4, 10, 4, 8, 4, 6, 8, 5, 4, 6, 5, 9, 9, 5, 7, 1, 1, 5, 8]\n",
        "y = [3, 2, 8, 3, 4, 10, 10, 2, 4, 2, 3, 9, 8, 1, 3, 6, 5, 3, 9, 2]\n",
        "\n",
        "total = 0\n",
        "for i in range(20):\n",
        "  xi = x[i]\n",
        "  yi = y[i]\n",
        "  total += (xi-yi)**2\n",
        "print(total**0.5)"
      ]
    },
    {
      "cell_type": "markdown",
      "metadata": {
        "id": "n3wpBBEJUEZ4"
      },
      "source": [
        "<!-- JPN -->\n",
        "　また、（授業では教えていないが）組み込み関数 `zip()` を使うとよりキレイに書くことができる。"
      ]
    },
    {
      "cell_type": "markdown",
      "metadata": {
        "id": "Sku_KtKfrUs0"
      },
      "source": [
        "<!-- ENG -->\n",
        "　It can also be written more neatly using the built-in function `zip()`, which is not taught in this course."
      ]
    },
    {
      "cell_type": "code",
      "execution_count": null,
      "metadata": {
        "id": "dwIry6cVT-pr"
      },
      "outputs": [],
      "source": [
        "x = [5, 4, 10, 4, 8, 4, 6, 8, 5, 4, 6, 5, 9, 9, 5, 7, 1, 1, 5, 8]\n",
        "y = [3, 2, 8, 3, 4, 10, 10, 2, 4, 2, 3, 9, 8, 1, 3, 6, 5, 3, 9, 2]\n",
        "\n",
        "total = 0\n",
        "for xi, yi in zip(x, y):\n",
        "  total += (xi-yi)**2\n",
        "print(total**0.5)"
      ]
    },
    {
      "cell_type": "markdown",
      "metadata": {
        "id": "fo2Aepfypb0_"
      },
      "source": [
        "<!-- JPN -->\n",
        "##### 課題6\n",
        "　`for`文と`if`文を組み合わせて用いる課題である。さまざまな解法があるが、そのうちの1つを紹介しておく。"
      ]
    },
    {
      "cell_type": "markdown",
      "metadata": {
        "id": "_PsfHMqHpb0_"
      },
      "source": [
        "<!-- ENG -->\n",
        "##### Exercise 6\n",
        "　It is an assignment that uses a combination of `for` and `if` statements. There are several codes that work, and this is an example code."
      ]
    },
    {
      "cell_type": "code",
      "execution_count": null,
      "metadata": {
        "id": "cziyfXzqpb0_"
      },
      "outputs": [],
      "source": [
        "for i in range(1, 21):\n",
        "  if i%15 == 0:\n",
        "    print(\"FizzBuzz\")\n",
        "  elif i%3 == 0:\n",
        "    print(\"Fizz\")\n",
        "  elif i%5 == 0:\n",
        "    print(\"Buzz\")\n",
        "  else:\n",
        "    print(i)"
      ]
    },
    {
      "cell_type": "markdown",
      "metadata": {
        "id": "X1VPk1G3Ue_t"
      },
      "source": [
        "<!-- JPN -->\n",
        "##### 課題7\n",
        "　関数を作る例題である。関数は定義するだけでは実行されないことを思い出そう。また、課題5に引き続いて「変数=0」と定義してから `for` 文で加算しているが、総和 $\\sum$ を計算するときに頻出する構造である。意識しておこう。\n",
        "\n",
        "　なお、`var(lst1)` は6.29であるべきだが、わずかに誤差が発生してしまっている。"
      ]
    },
    {
      "cell_type": "markdown",
      "metadata": {
        "id": "ljdS7qqmrUs1"
      },
      "source": [
        "<!-- ENG -->\n",
        "##### Exercise 7\n",
        "　This is an example of creating a function. Let's remember that a function is not executed just by defining it. Additionally, following Exercise 5, after defining \"variable = 0\", it is incremented in the `for` statement, but it is a structure that frequently appears when calculating the sum $\\sum$. Let’s keep that in mind.\n",
        "\n",
        "　Note that `var(lst1)` should be 6.29, but there is a slight error."
      ]
    },
    {
      "cell_type": "code",
      "execution_count": null,
      "metadata": {
        "id": "f0w5jwKUUtBF"
      },
      "outputs": [],
      "source": [
        "def var(lst):\n",
        "  mu = sum(lst) / len(lst)\n",
        "  variance = 0\n",
        "  for x in lst:\n",
        "    variance += (x-mu)**2\n",
        "  return variance / len(lst)"
      ]
    },
    {
      "cell_type": "code",
      "execution_count": null,
      "metadata": {
        "id": "0R6-7TW9Up4J"
      },
      "outputs": [],
      "source": [
        "lst1 = [8, 2, 4, 0, 5, 6, 0, 5, 6, 3]\n",
        "print(var(lst1))"
      ]
    },
    {
      "cell_type": "markdown",
      "metadata": {
        "id": "9ZgJ8LKbWW43"
      },
      "source": [
        "<!-- JPN -->\n",
        "　関数を作ることで、ほかの配列がやってきてもそのまま分散を計算することが可能になる。以下は自明に分散が0であるケースである。"
      ]
    },
    {
      "cell_type": "markdown",
      "metadata": {
        "id": "I_aw3tlSrUs1"
      },
      "source": [
        "<!-- ENG -->\n",
        "　By creating a function, it is possible to calculate the variance as it is even if another array comes in. The following is the case where the variance is 0, which is self-evident."
      ]
    },
    {
      "cell_type": "code",
      "execution_count": null,
      "metadata": {
        "id": "RIF0GaoRVpJ5"
      },
      "outputs": [],
      "source": [
        "lst2 = [3, 3, 3, 3, 3]\n",
        "print(var(lst2))"
      ]
    },
    {
      "cell_type": "markdown",
      "metadata": {
        "id": "-PVXqlSQWnSJ"
      },
      "source": [
        "<!-- JPN -->\n",
        "##### 課題8\n",
        "　奇数個の要素の中央値とは、ちょうど真ん中の順位の要素（例えば要素が 5 つあるなら 3 番目に大きい/小さい要素）の値のことである。そこで、まず**配列を昇順あるいは降順に並びかえ**、その中で**ちょうど真ん中にある要素をとればよい**のだが、「ちょうど真ん中にある要素」をどうとればよいかが問題になる。\n",
        "\n",
        "　5つの要素からなる配列 `lst` について考えると、真ん中の要素は `lst[2]` となる（添え字は0から始まっていることを思い出せ）。7つの要素なら `lst[3]` である。これを一般化すると、次のことがわかる。\n",
        "\n",
        "　　**2k+1件の要素からなる配列 `lst` の真ん中の要素は `lst[k]` である**\n",
        "\n",
        "これをもっとも短く計算するには、切り捨て除算 `//` を使うのが良い。例えば、 `5 // 2 = 2`となり、これは先ほどの事実と一致している。"
      ]
    },
    {
      "cell_type": "markdown",
      "metadata": {
        "id": "HuDpVRNSrUs2"
      },
      "source": [
        "<!-- ENG -->\n",
        "##### Exercise 8\n",
        "　The median of an odd number of elements is the value of the element exactly in the middle of the sequence (e.g., the third largest/smallest element if there are five elements). The first step is to **rearrange the array in ascending or descending order** and **take the element that is right in the middle**. However, the question is how to take the \"element that is right in the middle\".\n",
        "\n",
        "　If we consider the array `lst`, which consists of five elements, the middle element is `lst[2]` (remember that the index starts from 0). It is `lst[3]` if there are seven elements. Generalizing this, we find the following.\n",
        "\n",
        "　　**The middle element of the array `lst` consisting of 2k + 1 elements is `lst[k]`**\n",
        "\n",
        "The shortest way to calculate this is to use floor division `//`. For example, `5 // 2 = 2`, which is consistent with the previous fact."
      ]
    },
    {
      "cell_type": "code",
      "execution_count": null,
      "metadata": {
        "id": "cYOwed62XAu1"
      },
      "outputs": [],
      "source": [
        "def median(lst):\n",
        "  sorted_lst = sorted(lst)\n",
        "  center = len(lst)//2\n",
        "  return sorted_lst[center]"
      ]
    },
    {
      "cell_type": "code",
      "execution_count": null,
      "metadata": {
        "id": "PiyuY71cWe8N"
      },
      "outputs": [],
      "source": [
        "lst2 = [5, 3, 2, 5, 7, 10, 10, 5, 0, 9, 3, 1, 6, 6, 0]\n",
        "median(lst2)"
      ]
    },
    {
      "cell_type": "markdown",
      "metadata": {
        "id": "PGm-ahsDpb1A"
      },
      "source": [
        "<!-- JPN -->\n",
        "##### 課題9\n",
        "　この課題では、整数の各桁の和を求める関数`sum_of_digits()`を実装するとよい。\n",
        "\n",
        "　整数の1の位の値を求めるには **剰余 `%`** を利用して `num % 10`とすればよい。10の位の値を求める場合は、あらかじめ整数を10で切り捨て除算してから `num % 10`を行う。 `while` 文を用いて `num` が $0$ になるまでこれを繰り返し、和を取ることで与えられた整数の各桁の和を求められる。"
      ]
    },
    {
      "cell_type": "markdown",
      "metadata": {
        "id": "fj1Hgulfpb1A"
      },
      "source": [
        "<!-- ENG -->\n",
        "##### Exercise 9\n",
        "　`sum_of_digits()` function that returns the sum of each digit of a given integer should be implemented.\n",
        "\n",
        "　The **remainder** of an integer divided by 10 `num % 10` gives the number of digits to the first place, and the number of digits to the second place is found by dividing the number by 10 and getting remainder of divided number. Using the `while` statement, this is repeated until `num` reaches $0$, and the sum of each digit of the given integer is obtained by taking the sum of them."
      ]
    },
    {
      "cell_type": "code",
      "execution_count": null,
      "metadata": {
        "id": "aMaZ2N2Epb1A"
      },
      "outputs": [],
      "source": [
        "def sum_of_digits(num):\n",
        "  total = 0\n",
        "  while num > 0:\n",
        "    total += num%10\n",
        "    num //= 10\n",
        "  return total"
      ]
    },
    {
      "cell_type": "code",
      "execution_count": null,
      "metadata": {
        "id": "WRxutdRrpb1A"
      },
      "outputs": [],
      "source": [
        "N = 20\n",
        "A = 2\n",
        "B = 5\n",
        "\n",
        "result = 0\n",
        "for i in range(1, N+1):\n",
        "  total = sum_of_digits(i)\n",
        "  if total >= A and total <= B:\n",
        "    result += i\n",
        "\n",
        "print(result)"
      ]
    }
  ],
  "metadata": {
    "colab": {
      "provenance": [],
      "toc_visible": true
    },
    "kernelspec": {
      "display_name": "Python 3.8.6 64-bit ('3.8.6')",
      "language": "python",
      "name": "python3"
    },
    "language_info": {
      "codemirror_mode": {
        "name": "ipython",
        "version": 3
      },
      "file_extension": ".py",
      "mimetype": "text/x-python",
      "name": "python",
      "nbconvert_exporter": "python",
      "pygments_lexer": "ipython3",
      "version": "3.8.6"
    },
    "vscode": {
      "interpreter": {
        "hash": "fce7b22881d22482fab33d6da0cac88ea436f53eb555fb1ae13fe94070cdfae0"
      }
    }
  },
  "nbformat": 4,
  "nbformat_minor": 0
}