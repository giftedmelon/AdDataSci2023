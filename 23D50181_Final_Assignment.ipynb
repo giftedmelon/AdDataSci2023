{
  "cells": [
    {
      "cell_type": "markdown",
      "metadata": {
        "id": "uDdFsXXMY2xz"
      },
      "source": [
        "<!-- JPN -->\n",
        "# 総合演習"
      ]
    },
    {
      "cell_type": "markdown",
      "metadata": {
        "id": "fVWFK95Enwtw"
      },
      "source": [
        "<!-- ENG -->\n",
        "# Comprehensive exercise"
      ]
    },
    {
      "cell_type": "markdown",
      "metadata": {
        "id": "6wynwCYM5nQf"
      },
      "source": [
        "<!-- JPN -->\n",
        "授業では主に分類問題を取り扱ってきたが、この課題では回帰問題に取り組むことで各種の手法が分類問題ではなく回帰問題にも適用できることを理解しておきたい。\n",
        "なお、いくつか実数値を解答する課題があるが、**誤差は0.01まで許容する**ので、適宜桁数を削減して解答せよ。"
      ]
    },
    {
      "cell_type": "markdown",
      "metadata": {
        "id": "GDNdG4JBn32S"
      },
      "source": [
        "<!-- ENG -->\n",
        "In previous classes, we have mainly dealt with classification problems. But in the exercise, we will try regression problems to understand that learned methods can be applied to regression problems as well as classification problems.\n",
        "\n",
        "When real numbers are required as the answer, **errors are allowed up to 0.01**. Reduce the number of digits as appropriate."
      ]
    },
    {
      "cell_type": "markdown",
      "metadata": {
        "id": "3LnbP4nQ7F4Z"
      },
      "source": [
        "------------"
      ]
    },
    {
      "cell_type": "markdown",
      "metadata": {
        "id": "Ov3Lps6z5grx"
      },
      "source": [
        "<!-- JPN -->\n",
        "## 1 | データセットの構築、データクレンジング"
      ]
    },
    {
      "cell_type": "markdown",
      "metadata": {
        "id": "T3XyNr7_prrN"
      },
      "source": [
        "<!-- ENG -->\n",
        "## 1 | Data set construction & data cleansing"
      ]
    },
    {
      "cell_type": "markdown",
      "metadata": {
        "id": "nMzs-1tDw4ep"
      },
      "source": [
        "<!-- JPN -->\n",
        "この課題では、\"Auto MPG Data Set\" を元としたデータセット `mpg_dataset.csv` を用いる。このデータセットには1970年から1982年までに製造された車について、複数の車の性能情報と、その車の燃費がまとめられている。"
      ]
    },
    {
      "cell_type": "markdown",
      "metadata": {
        "id": "6lNgskdLp7k0"
      },
      "source": [
        "<!-- ENG -->\n",
        "For this assignment, we use the dataset `mpg_dataset.csv`, which is based on the \"Auto MPG Data Set\". This dataset contains the performance information of several cars manufactured between 1970 and 1982, as well as the fuel consumption of those cars."
      ]
    },
    {
      "cell_type": "markdown",
      "metadata": {
        "id": "vUD4URXUxL-D"
      },
      "source": [
        "<!-- JPN -->\n",
        "まずは pandas を利用して、このデータセットを読み込む。"
      ]
    },
    {
      "cell_type": "markdown",
      "metadata": {
        "id": "wfEG4Ol_qBUo"
      },
      "source": [
        "<!-- ENG -->\n",
        "First, we read this data set using pandas."
      ]
    },
    {
      "cell_type": "code",
      "execution_count": 1,
      "metadata": {
        "id": "7pNRIWMj3Yoq"
      },
      "outputs": [],
      "source": [
        "import pandas as pd"
      ]
    },
    {
      "cell_type": "code",
      "execution_count": 2,
      "metadata": {
        "id": "V2berNSOw0Gf"
      },
      "outputs": [],
      "source": [
        "# Please do not change the file path (because of auto-grading)\n",
        "# Use of packages dedicated to google drive is also not allowed\n",
        "df = pd.read_csv(\"mpg_dataset.csv\")"
      ]
    },
    {
      "cell_type": "code",
      "execution_count": 3,
      "metadata": {
        "id": "qesxA2Rbmar5",
        "outputId": "de79e342-b238-4e2c-ff67-ce84ab08c501",
        "colab": {
          "base_uri": "https://localhost:8080/"
        }
      },
      "outputs": [
        {
          "output_type": "stream",
          "name": "stdout",
          "text": [
            "    MPG  Cylinders  Displacement  Horsepower  Acceleration  Model Year  \\\n",
            "0  18.0          8         307.0       130.0          12.0          70   \n",
            "1  15.0          8         350.0       165.0          11.5          70   \n",
            "2  18.0          8         318.0       150.0          11.0          70   \n",
            "3  16.0          8         304.0       150.0          12.0          70   \n",
            "4  17.0          8         302.0       140.0          10.5          70   \n",
            "\n",
            "   Origin  Weight Category  \n",
            "0       1                3  \n",
            "1       1                3  \n",
            "2       1                3  \n",
            "3       1                3  \n",
            "4       1                3  \n"
          ]
        }
      ],
      "source": [
        "print(df.head())"
      ]
    },
    {
      "cell_type": "code",
      "execution_count": 4,
      "metadata": {
        "id": "B92U74ez6Q6o",
        "colab": {
          "base_uri": "https://localhost:8080/"
        },
        "outputId": "0a3ed96b-a6c0-4dcf-d780-4453c80113a1"
      },
      "outputs": [
        {
          "output_type": "stream",
          "name": "stdout",
          "text": [
            "Index(['MPG', 'Cylinders', 'Displacement', 'Horsepower', 'Acceleration',\n",
            "       'Model Year', 'Origin', 'Weight Category'],\n",
            "      dtype='object')\n"
          ]
        }
      ],
      "source": [
        "print(df.columns) # Show all column names"
      ]
    },
    {
      "cell_type": "markdown",
      "metadata": {
        "id": "TAvopHRbwlOD"
      },
      "source": [
        "<!-- JPN -->\n",
        "\n",
        "このデータセットが持つ変数（特徴量）の説明を簡単に記載する。\n",
        "\n",
        "|  変数  | 説明  |\n",
        "| ---- | ---- |\n",
        "|  MPG  |  燃費（1ガロンで何マイル走れるか）  |\n",
        "|  Cylinders  | 気筒数 |\n",
        "| Displacement | 排気量 |\n",
        "| Horsepower | 馬力 |\n",
        "|Acceleration | 加速度 |\n",
        "|Model Year| モデル年式（製造年）|\n",
        "|Origin| 製造企業の所在地（1 アメリカ、2 ヨーロッパ、3 日本）|\n",
        "|Weight Category | 車体の重量 （1 2000ポンド未満、2 2000-3000ポンド、3 3000-4000ポンド、4 4000ポンド以上）|\n"
      ]
    },
    {
      "cell_type": "markdown",
      "metadata": {
        "id": "SWKYdPTG6Jv0"
      },
      "source": [
        "<!-- ENG -->\n",
        "The following is a brief description of the variables (features) that this data set has.\n",
        "\n",
        "| Variable | Description\n",
        "| ---- | ---- |\n",
        "| MPG | Fuel consumption (how many miles you can drive in one gallon) |\n",
        "| Cylinders | Number of cylinders |\n",
        "| Displacement | Engine displacement |\n",
        "| Horsepower | Engine power |\n",
        "|Acceleration | Acceleration performance |\n",
        "|Model Year| Model Year (year of manufacture) |\n",
        "|Origin| Manufacturer's Location (1 USA, 2 Europe, 3 Japan) |\n",
        "|Weight Category | Vehicle Weight (1 Less than 2000 lbs, 2 2000-3000 lbs, 3 3000-4000 lbs, 4 More than 4000 lbs) |\n"
      ]
    },
    {
      "cell_type": "markdown",
      "metadata": {
        "id": "1KsZGc337O-H"
      },
      "source": [
        "----------------"
      ]
    },
    {
      "cell_type": "markdown",
      "metadata": {
        "deletable": false,
        "editable": false,
        "id": "zhDLKsLF7EMf"
      },
      "source": [
        "<!-- JPN -->\n",
        "### 課題 1.1"
      ]
    },
    {
      "cell_type": "markdown",
      "metadata": {
        "deletable": false,
        "editable": false,
        "id": "JF6wT_meq-iI"
      },
      "source": [
        "<!-- ENG -->\n",
        "### Exercise 1.1"
      ]
    },
    {
      "cell_type": "markdown",
      "metadata": {
        "deletable": false,
        "editable": false,
        "id": "63z6FaKMxrls"
      },
      "source": [
        "<!-- JPN -->\n",
        "このデータセットが持つ変数（特徴量）のうち、欠損値を含む列名を全てまとめた配列を `variables_with_missing_values` に代入せよ。\n"
      ]
    },
    {
      "cell_type": "markdown",
      "metadata": {
        "deletable": false,
        "editable": false,
        "id": "jDoKiyqyq7oD"
      },
      "source": [
        "<!-- ENG -->\n",
        "Which of the variables (features) in this data set contain missing values? Create a list of the name of variables and assign it to `variables_with_missing_values`."
      ]
    },
    {
      "cell_type": "code",
      "execution_count": 8,
      "metadata": {
        "tags": [],
        "id": "zcIJrBzCGeSL",
        "colab": {
          "base_uri": "https://localhost:8080/"
        },
        "outputId": "f7dd9aff-bc12-4901-dd1f-5d4545d144ff"
      },
      "outputs": [
        {
          "output_type": "stream",
          "name": "stdout",
          "text": [
            "Horsepower    True\n",
            "dtype: bool ['Horsepower']\n"
          ]
        }
      ],
      "source": [
        "# CODE CELL FOR YOUR ANSWER\n",
        "import pandas as pd\n",
        "\n",
        "# Please do not change the file path (because of auto-grading)\n",
        "# Use of packages dedicated to google drive is also not allowed\n",
        "df = pd.read_csv(\"mpg_dataset.csv\")\n",
        "\n",
        "\n",
        "variables_with_missing_values = df.isna().any()[df.isna().any()].index.tolist()\n",
        "\n",
        "print(variables_with_missing_values)\n"
      ]
    },
    {
      "cell_type": "markdown",
      "metadata": {
        "id": "fIVp6A3b7ArI"
      },
      "source": [
        "----------------------"
      ]
    },
    {
      "cell_type": "markdown",
      "metadata": {
        "id": "ssHsRRsdDepX"
      },
      "source": [
        "<!-- JPN -->\n",
        "ここでは、欠損値を含む車のデータは（全体の2,3%程度なので）削除してしまおう。"
      ]
    },
    {
      "cell_type": "markdown",
      "metadata": {
        "id": "VPOz0e2ZrEmJ"
      },
      "source": [
        "<!-- ENG -->\n",
        "Here, let's delete the data of cars that contain missing values (since they are only 2 or 3% of the total)."
      ]
    },
    {
      "cell_type": "code",
      "execution_count": 9,
      "metadata": {
        "id": "1E2Ivjl0Dmg3"
      },
      "outputs": [],
      "source": [
        "df = df.dropna()"
      ]
    },
    {
      "cell_type": "markdown",
      "metadata": {
        "id": "XIUQsyLqDavW"
      },
      "source": [
        "<!-- JPN -->\n",
        "今回用いる特徴量は、一部**連続値として用いるのが不適**なものが存在する。このような特徴量に対しては、**one-hot encoding** を行うことが最も単純な対策となる。この操作は、ある特徴量を複数の0,1で表現するものである。\n",
        "\n",
        "　例えば、ある特徴量は \"h\", \"l\", \"s\" のいずれか1文字で表現されていたとする。文字をそのまま機械学習に用いることができないため、1つの特徴量を3つの数値で表現することで学習可能な情報に変換する。"
      ]
    },
    {
      "cell_type": "markdown",
      "metadata": {
        "id": "vy6oO4o7seVQ"
      },
      "source": [
        "<!-- ENG -->\n",
        "Some of the features used in this assignment are **not suitable for use as continuous values**. For such features, the simplest solution is to perform **one-hot encoding**. In this operation, a feature is represented by multiple 0s and 1s.\n",
        "\n",
        "　For example, suppose a feature is represented by one of the letters \"h\", \"l\", or \"s\". Since the letters cannot be used directly for machine learning, the feature is converted to learnable information by expressing it as three numbers."
      ]
    },
    {
      "cell_type": "markdown",
      "metadata": {
        "id": "mwglAA258vA-"
      },
      "source": [
        "$$\n",
        "  h \\rightarrow [1,0,0] \\\\\n",
        "  l \\rightarrow [0,1,0] \\\\\n",
        "  s \\rightarrow [0,0,1]\n",
        "$$\n"
      ]
    },
    {
      "cell_type": "markdown",
      "metadata": {
        "id": "CZA5BQbU8Vbc"
      },
      "source": [
        "<!-- JPN -->\n",
        "このような文字列を0,1列に変換する one-hot encoding は、pandasでは `pd.get_dummies()` で行うことができる。"
      ]
    },
    {
      "cell_type": "markdown",
      "metadata": {
        "id": "udl4im5ns1LO"
      },
      "source": [
        "<!-- ENG -->\n",
        "One-hot encoding, converting a string into 0,1 columns, can be done with `pd.get_dummies()` in pandas."
      ]
    },
    {
      "cell_type": "markdown",
      "metadata": {
        "id": "94BK3rackXpc"
      },
      "source": [
        "<!-- JPN -->\n",
        "　ここでは、与えられたデータセットの特徴量のうち、\"Origin\" と \"Weight Category\" について one-hot encoding を行うことにする。ただし、 \"Origin\" も \"Weight Category\" も、データセットの中では数値で表現されているが、 `pd.get_dummies()` は元々数値である特徴量を one-hot encoding の対象にしない。数値を一旦文字列に変換し、その後に `pd.get_dummies()` 関数を用いることで one-hot encoding を実現する。"
      ]
    },
    {
      "cell_type": "markdown",
      "metadata": {
        "id": "m48PUf0VtXbk"
      },
      "source": [
        "<!-- ENG -->\n",
        "　Here, we perform one-hot encoding for the features \"Origin\" and \"Weight Category\" in the given dataset. While \"Origin\" and \"Weight Category\" are both represented as numbers in the dataset, `pd.get_dummies()` does not perform one-hot encoding on features that are originally numbers. So, converting numeric values to strings and then using the `pd.get_dummies()` function will realize one-hot encoding."
      ]
    },
    {
      "cell_type": "code",
      "execution_count": 10,
      "metadata": {
        "id": "09AmFY6JE1Cr",
        "colab": {
          "base_uri": "https://localhost:8080/"
        },
        "outputId": "d7d5fca0-b47a-4306-898d-dccfcfd00f5b"
      },
      "outputs": [
        {
          "output_type": "stream",
          "name": "stdout",
          "text": [
            "Index(['MPG', 'Cylinders', 'Displacement', 'Horsepower', 'Acceleration',\n",
            "       'Model Year', 'Origin', 'Weight Category'],\n",
            "      dtype='object')\n"
          ]
        }
      ],
      "source": [
        "# one-hot encoding by get_dummies() without casting numerical values to string\n",
        "df = pd.get_dummies(df)\n",
        "# it will not affect numerical columns\n",
        "print(df.columns)"
      ]
    },
    {
      "cell_type": "code",
      "execution_count": 11,
      "metadata": {
        "id": "2rRf2d0MUG9l"
      },
      "outputs": [],
      "source": [
        "# cast from numerical value to string\n",
        "df[\"Origin\"] = df[\"Origin\"].astype(str)\n",
        "df[\"Weight Category\"] = df[\"Weight Category\"].astype(str)"
      ]
    },
    {
      "cell_type": "code",
      "execution_count": 12,
      "metadata": {
        "id": "jAKwef-t2d11",
        "colab": {
          "base_uri": "https://localhost:8080/"
        },
        "outputId": "2180c92c-d48d-457c-dc55-02a3569fafc3"
      },
      "outputs": [
        {
          "output_type": "stream",
          "name": "stdout",
          "text": [
            "Index(['MPG', 'Cylinders', 'Displacement', 'Horsepower', 'Acceleration',\n",
            "       'Model Year', 'Origin_1', 'Origin_2', 'Origin_3', 'Weight Category_1',\n",
            "       'Weight Category_2', 'Weight Category_3', 'Weight Category_4'],\n",
            "      dtype='object')\n"
          ]
        }
      ],
      "source": [
        "df = pd.get_dummies(df)\n",
        "print(df.columns)"
      ]
    },
    {
      "cell_type": "markdown",
      "metadata": {
        "id": "Cqlou-DW37f0"
      },
      "source": [
        "<!-- JPN -->\n",
        "　これにより、例えば \"Origin\" は \"Origin_1\", \"Origin_2\", \"Origin_3\" の3つの特徴量に分割されたことがわかる。そのうち必ず1つが `1` になっており、その他は `0` となっていることは各自確認してほしい（課題ではない）。"
      ]
    },
    {
      "cell_type": "markdown",
      "metadata": {
        "id": "OTDzxV2htlen"
      },
      "source": [
        "<!-- ENG -->\n",
        "　We can now see that, for example, \"Origin\" has been split into three features: \"Origin_1\", \"Origin_2\", and \"Origin_3\". Please check that one of them is always `1` and the others are `0` (not an assignment)."
      ]
    },
    {
      "cell_type": "markdown",
      "metadata": {
        "id": "6uJK4nXdRj7V"
      },
      "source": [
        "<!-- JPN -->\n",
        "　続いて、このデータを訓練データとテストデータに分割しよう。ここでは、授業で取り扱った `train_test_split()` を用いる代わりに、 **\"Model Year\" が80未満（1970年代）のものを訓練データ、\"Model Year\" が80以上（1980年代）のものをテストデータ**とする。"
      ]
    },
    {
      "cell_type": "markdown",
      "metadata": {
        "id": "GkSFeE6ft1Ia"
      },
      "source": [
        "<!-- ENG -->\n",
        "　Next, let's split this dataset into training data and test data. Here, instead of using `train_test_split()` as we did in the lecture, let's use **the data whose \"Model Year\" is less than 80 (1970s) as the training data, and the data whose \"Model Year\" is equal to or more than 80 (1980s) as the test data**."
      ]
    },
    {
      "cell_type": "code",
      "execution_count": 13,
      "metadata": {
        "id": "i2n6DvmpSCoW"
      },
      "outputs": [],
      "source": [
        "train_df = df[df[\"Model Year\"] <  80]\n",
        "test_df  = df[df[\"Model Year\"] >= 80]"
      ]
    },
    {
      "cell_type": "markdown",
      "metadata": {
        "id": "71cQJcask7e-"
      },
      "source": [
        "<!-- JPN -->\n",
        "これで、訓練データとテストデータの準備が完了した。"
      ]
    },
    {
      "cell_type": "markdown",
      "metadata": {
        "id": "i7Ag-wO9t6za"
      },
      "source": [
        "<!-- ENG -->\n",
        "Now, the training and test data are ready."
      ]
    },
    {
      "cell_type": "markdown",
      "metadata": {
        "id": "T0OBZRM4_Far"
      },
      "source": [
        "<!-- JPN -->\n",
        "　データセットの準備の仕上げとして、それぞれのデータを説明変数 `X` と目的変数 `y` に分割しよう。（事後の処理を簡単にするために、pandas DataFrameのまま `X` を準備する。これでもこの後のscikit-learnをそのまま使えるので覚えておこう）"
      ]
    },
    {
      "cell_type": "markdown",
      "metadata": {
        "id": "ts1houvzueQE"
      },
      "source": [
        "<!-- ENG -->\n",
        "　Finally, let's split each dataset into explanatory variables `X` and objective variables `y`. (To simplify the following process, let's prepare `X` as a pandas DataFrame (Keep in mind that this is still possible to use directly with scikit-learn)."
      ]
    },
    {
      "cell_type": "code",
      "execution_count": 14,
      "metadata": {
        "id": "Qck7yotu_scH"
      },
      "outputs": [],
      "source": [
        "# MPG is the objective value\n",
        "\n",
        "train_X = train_df.drop(\"MPG\", axis=1)\n",
        "test_X  = test_df.drop(\"MPG\", axis=1)\n",
        "\n",
        "train_y = train_df[\"MPG\"].to_numpy()\n",
        "test_y  = test_df[\"MPG\"].to_numpy()"
      ]
    },
    {
      "cell_type": "markdown",
      "metadata": {
        "id": "n3dBv59o-iOT"
      },
      "source": [
        "------"
      ]
    },
    {
      "cell_type": "markdown",
      "metadata": {
        "id": "vTVNOvnsN1Yl"
      },
      "source": [
        "<!-- JPN -->\n",
        "### 課題 1.2\n",
        "\n",
        "　ここでは、\"Origin\" と \"Weight Category\" について one-hot encoding を実施した。このうち、\"Origin\" について、何故 one-hot encoding しなければならないか、選択肢から最も適切なものを選択せよ。\n",
        "\n",
        "1. 目的変数である \"MPG\" と \"Origin\" との間に十分な相関が観測できなかったから\n",
        "2. 製造国を識別するための記号であり、その数値の大小関係に意味がないから\n",
        "3. \"Origin\" の値に大きな偏りがあり、 one-hot encoding をすることでその偏りを低減できるから\n"
      ]
    },
    {
      "cell_type": "markdown",
      "metadata": {
        "id": "6pWFdz6Xu4wV"
      },
      "source": [
        "<!-- ENG -->\n",
        "### Exercise 1.2\n",
        "\n",
        "　In this section, one-hot encoding was performed for \"Origin\" and \"Weight Category\". For \"Origin\", choose the most appropriate reason why one-hot encoding must be performed.\n",
        "\n",
        "1. Because we could not observe a sufficient correlation between the objective variable \"MPG\" and the variable \"Origin\"\n",
        "2. Because it is a symbol used to identify the country of manufacture, and the magnitude of the values is meaningless\n",
        "3. There is a large bias in the value of \"Origin\" and one-hot encoding can reduce the bias.\n"
      ]
    },
    {
      "cell_type": "markdown",
      "metadata": {
        "id": "6sIOQpO1GeSm"
      },
      "source": [
        "<!-- JPN -->\n",
        "<font color=orange> **このテキストセルに答案を記述せよ。** </font>"
      ]
    },
    {
      "cell_type": "markdown",
      "metadata": {
        "id": "FjUnGYRUGeSm"
      },
      "source": [
        "<!-- ENG -->\n",
        "<font color=orange> **Write your answer in this text cell.** </font>\n",
        "\n",
        "Because it is a symbol used to identify the country of manufacture, and the magnitude of the values is meaningless"
      ]
    },
    {
      "cell_type": "markdown",
      "metadata": {
        "id": "PTvB4p-5-je1"
      },
      "source": [
        "------"
      ]
    },
    {
      "cell_type": "markdown",
      "metadata": {
        "id": "ZeMLVp9oPB4y"
      },
      "source": [
        "<!-- JPN -->\n",
        "### 課題 1.3（発展）\n",
        "\n",
        "　線形回帰や多項式回帰、ニューラルネットワーク、主成分分析などを用いる際には \"Weight Category\" は one-hot encoding することが適切である。一方で**決定木に基づく方法（ランダムフォレストなどを含む）の場合は \"Weight Category\" は必ずしも one-hot encoding する必要がない**。理由を答えよ。\n"
      ]
    },
    {
      "cell_type": "markdown",
      "metadata": {
        "id": "lW7RkBWevEYo"
      },
      "source": [
        "<!-- ENG -->\n",
        "### Exercise 1.3 (Advanced)\n",
        "\n",
        "　When using linear regression, polynomial regression, neural networks, principal component analysis, etc., it is appropriate to use one-hot encoding for the \"Weight Category\". On the other hand, **for methods based on decision trees (including random forests, etc.), \"Weight Category\" does not necessarily need to be one-hot encoded**. Answer why.\n"
      ]
    },
    {
      "cell_type": "markdown",
      "metadata": {
        "id": "TnfiyjHlGeSo"
      },
      "source": [
        "<!-- JPN -->\n",
        "<font color=orange> **このテキストセルに答案を記述せよ。** </font>"
      ]
    },
    {
      "cell_type": "markdown",
      "metadata": {
        "id": "62apCCRoGeSo"
      },
      "source": [
        "<!-- ENG -->\n",
        "<font color=orange> **Write your answer in this text cell.** </font>\n",
        "\n",
        "In decision tree-based methods like random forests, one-hot encoding for \"Weight Category\" is not necessary because these algorithms can naturally handle categorical variables. Decision trees split the data based on categories without the need for one-hot encoding, making it more straightforward to work with categorical data without expanding feature dimensions."
      ]
    },
    {
      "cell_type": "markdown",
      "metadata": {
        "id": "vvlwO6fA-1X4"
      },
      "source": [
        "----------------"
      ]
    },
    {
      "cell_type": "markdown",
      "metadata": {
        "id": "gaNiBoxURqkh"
      },
      "source": [
        "<!-- JPN -->\n",
        "### 課題 1.4\n",
        "\n",
        "　製造年などの時系列に基づいてデータを分割することは、`train_test_split()` を用いるよりも一般的には好ましい。理由として最も適切ものを選択肢から選択せよ。\n",
        "\n",
        "1. `train_test_split()` はランダム性があるために毎回結果が異なるが、時系列に基づくデータ分割は常に同じ分割結果となるため\n",
        "2. 時系列に基づくデータ分割を行うことで、予測精度を下げ、より厳密に手法を比較することができるようになるため\n",
        "3. 過去のデータから未来を予測するという関係が現実の応用に即しているため\n"
      ]
    },
    {
      "cell_type": "markdown",
      "metadata": {
        "id": "w418PoTJv0B7"
      },
      "source": [
        "<!-- ENG -->\n",
        "### Exercise 1.4\n",
        "\n",
        "　Splitting data based on a time series, such as year of manufacture, is generally preferable to using `train_test_split()`. Choose the most appropriate reason from the choices.\n",
        "\n",
        "1. Because the result of `train_test_split()` varies each time due to randomness, but the result of splitting data based on time series is always the same.\n",
        "2. Because time-series based data splitting reduces the prediction accuracy and allows us to compare methods more rigorously.\n",
        "3. Because the relationship of predicting the future from the past data is consistent with real-world applications.\n"
      ]
    },
    {
      "cell_type": "markdown",
      "metadata": {
        "id": "T6OT1zGQGeSp"
      },
      "source": [
        "<!-- JPN -->\n",
        "<font color=orange> **このテキストセルに答案を記述せよ。** </font>"
      ]
    },
    {
      "cell_type": "markdown",
      "metadata": {
        "id": "cOIT5RMKGeSq"
      },
      "source": [
        "<!-- ENG -->\n",
        "<font color=orange> **Write your answer in this text cell.** </font>\n",
        "\n",
        "Because the relationship of predicting the future from the past data is consistent with real-world applications."
      ]
    },
    {
      "cell_type": "markdown",
      "metadata": {
        "id": "UT7lMmxS_EMk"
      },
      "source": [
        "-------"
      ]
    },
    {
      "cell_type": "markdown",
      "metadata": {
        "id": "YI94oZABA4F6"
      },
      "source": [
        "<!-- JPN -->\n",
        "## 2 | 教師なし学習：主成分分析による可視化"
      ]
    },
    {
      "cell_type": "markdown",
      "metadata": {
        "id": "loImNk5fpX53"
      },
      "source": [
        "<!-- ENG -->\n",
        "## 2 | Unsupervised learning: visualization by principal component analysis"
      ]
    },
    {
      "cell_type": "markdown",
      "metadata": {
        "id": "Eiap8aUUBPPg"
      },
      "source": [
        "<!-- JPN -->\n",
        "　準備されたデータセットは10個以上の特徴量から構成されているため、視覚的にわかりやすい散布図を作ることは難しい。その代わりに、**主成分分析による次元削減**を通してどのようなデータ点の分布になっているのかを確認する。"
      ]
    },
    {
      "cell_type": "markdown",
      "metadata": {
        "id": "1XYldXKzpjyb"
      },
      "source": [
        "<!-- ENG -->\n",
        "  Since the prepared data set consists of more than 10 features, it is difficult to create a scatter plot that is easy to understand visually. Instead, we will check how the data points are distributed through **dimensionality reduction by principal component analysis (PCA)**."
      ]
    },
    {
      "cell_type": "markdown",
      "metadata": {
        "id": "_u_ggAPyB1yG"
      },
      "source": [
        "<!-- JPN -->\n",
        "　今回のデータでは値の範囲が各特徴量で大きく異なり、主成分分析の寄与率の算出に悪影響を与えるため、ここでは各特徴量の標準化を行った上で主成分分析を行うことにする。なお、以下のコードで出てくる `fit_transform()` とは、同一の入力データに対して `fit()` を行ってから `transform()` を行うメソッド（関数）である。"
      ]
    },
    {
      "cell_type": "markdown",
      "metadata": {
        "id": "BUT7rK1ZY_KC"
      },
      "source": [
        "<!-- ENG -->\n",
        "In this data, the range of values differs greatly for each feature, which adversely affects the calculation of the explained variance ratio of PCA. Therefore, we will standardize each feature before performing principal component analysis. Note that `fit_transform()` in the following code is the method (function) that performs `fit()` and then `transform()` for the same input data."
      ]
    },
    {
      "cell_type": "code",
      "execution_count": 15,
      "metadata": {
        "id": "z6v0AJCimmKR"
      },
      "outputs": [],
      "source": [
        "# standardization of features\n",
        "from sklearn.preprocessing import StandardScaler\n",
        "\n",
        "ss = StandardScaler()\n",
        "train_std_X = ss.fit_transform(train_X)\n",
        "test_std_X  = ss.transform(test_X)"
      ]
    },
    {
      "cell_type": "code",
      "execution_count": 16,
      "metadata": {
        "id": "Gto9RLH6nOv4"
      },
      "outputs": [],
      "source": [
        "# principal component analysis\n",
        "from sklearn.decomposition import PCA\n",
        "\n",
        "pca = PCA(n_components=2)\n",
        "train_std_pca_X = pca.fit_transform(train_std_X)\n",
        "test_std_pca_X  = pca.transform(test_std_X)"
      ]
    },
    {
      "cell_type": "code",
      "execution_count": 17,
      "metadata": {
        "id": "Iw1xXKNgnoTR",
        "colab": {
          "base_uri": "https://localhost:8080/",
          "height": 449
        },
        "outputId": "020580e0-850d-4b9d-b910-f3a1eda7a8e4"
      },
      "outputs": [
        {
          "output_type": "display_data",
          "data": {
            "text/plain": [
              "<Figure size 640x480 with 1 Axes>"
            ],
            "image/png": "[encoded data removed]"
          },
          "metadata": {}
        }
      ],
      "source": [
        "# scatter plot with two principal components\n",
        "import matplotlib.pyplot as plt\n",
        "plt.scatter(train_std_pca_X[:,0], train_std_pca_X[:,1], label=\"training dataset\")\n",
        "plt.scatter(test_std_pca_X[:,0],  test_std_pca_X[:,1],  label=\"test dataset\")\n",
        "plt.xlabel(\"PC1\")\n",
        "plt.ylabel(\"PC2\")\n",
        "plt.legend()\n",
        "plt.show()"
      ]
    },
    {
      "cell_type": "markdown",
      "metadata": {
        "id": "3IyPC7HYb5oE"
      },
      "source": [
        "<!-- JPN -->\n",
        "　訓練データとテストデータを同じ空間に描画すると、テストデータの各点は訓練データの近くに存在しているようだ。この場合には学習したモデルがテストデータを適切に予測してくれる可能性が高い（より詳細な議論は「適用領域 applicability domain」などで検索すると良い）。"
      ]
    },
    {
      "cell_type": "markdown",
      "metadata": {
        "id": "symo5P11bDPv"
      },
      "source": [
        "<!-- ENG -->\n",
        "When the training and test data are drawn in the same space, each point of the test data seems to exist close to the training data. In this case, the trained model is more likely to predict the test data appropriately (for more detailed discussion, search for \"applicability domain\" etc.)"
      ]
    },
    {
      "cell_type": "markdown",
      "metadata": {
        "id": "rm6hxohPqHMe"
      },
      "source": [
        "<!-- JPN -->\n",
        "　しかしながら、**訓練データとテストデータが主成分分析の射影空間上で近傍にあるだけでは予測がうまく行く条件としては不十分**である。なぜなら、これらの**主成分が目的変数の予測に有用とは限らない**からだ。そこで、ここでは訓練データの各点がどのような目的変数 MPG であるかを合わせて描画し、予測モデルが十分に機能しそうかを評価してみる。"
      ]
    },
    {
      "cell_type": "markdown",
      "metadata": {
        "id": "T82juMkMdIqT"
      },
      "source": [
        "<!-- ENG -->\n",
        "　However, the mere fact that **training and test data are close together in the projection space of principal component analysis** is not a sufficient condition for successful prediction. This is because these **principal components are not always useful for predicting the target variable**. In this section, we will try to evaluate whether the prediction model works well by drawing the MPG (the target variable) on each point in the training data."
      ]
    },
    {
      "cell_type": "code",
      "execution_count": 18,
      "metadata": {
        "id": "Grsr_GlIrT4F",
        "colab": {
          "base_uri": "https://localhost:8080/",
          "height": 472
        },
        "outputId": "67728698-255e-4df2-d43d-b187d458d516"
      },
      "outputs": [
        {
          "output_type": "display_data",
          "data": {
            "text/plain": [
              "<Figure size 640x480 with 2 Axes>"
            ],
            "image/png": "[encoded data removed]"
          },
          "metadata": {}
        }
      ],
      "source": [
        "plt.scatter(train_std_pca_X[:,0], train_std_pca_X[:,1], c=train_y, cmap=\"jet\")\n",
        "plt.colorbar()\n",
        "plt.xlabel(\"PC1\")\n",
        "plt.ylabel(\"PC2\")\n",
        "plt.title(\"MPG (training dataset)\")\n",
        "plt.show()"
      ]
    },
    {
      "cell_type": "markdown",
      "metadata": {
        "id": "RC0cZ_-ZrBFW"
      },
      "source": [
        "<!-- JPN -->\n",
        "　この図を見る限り、大まかに「PC1の値が高いほど燃費が悪く（MPGの値が低く）」、「PC2の値が高いほど燃費が良い（MPGの値が高い）」という傾向が見られ、**目的変数の予測がこの2つの主成分から行えることが示唆**された。"
      ]
    },
    {
      "cell_type": "markdown",
      "metadata": {
        "id": "LtJgNWqydlzw"
      },
      "source": [
        "<!-- ENG -->\n",
        "　This figure shows a general trend that the higher the value of PC1, the worse the fuel economy (lower value of MPG), and the higher the value of PC2, the better the fuel economy (higher value of MPG), suggesting that **the objective variable can be predicted from these two principal components**."
      ]
    },
    {
      "cell_type": "markdown",
      "metadata": {
        "id": "J09fMfZLsy0v"
      },
      "source": [
        "<!-- JPN -->\n",
        "　以上の議論から、以下2点の事実がわかった。\n",
        "\n",
        "- 訓練データとテストデータは、第1主成分および第2主成分からなる**射影空間中で隣接**しあっている。\n",
        "- 第1主成分および第2主成分はMPGの推定に有用である。すなわち、**第1主成分および第2主成分が似通ったデータは似通ったMPGの値を有すると推測**される。\n",
        "\n",
        "これら2つの事実から、**訓練データから学習されたモデルはテストデータも適切に予測することが可能**であると推定される。"
      ]
    },
    {
      "cell_type": "markdown",
      "metadata": {
        "id": "f5-ooM3_sW6t"
      },
      "source": [
        "<!-- ENG -->\n",
        "From the above discussion, the following two facts were found.\n",
        "\n",
        "* The training data and the test data are adjacent to each other in the projective space consisting of the first and second principal components.\n",
        "* The first and second principal components are useful for MPG estimation. That is, data with similar first and second principal components are estimated to have similar MPG values.\n",
        "\n",
        "From these two facts, it can be inferred that the model trained from the training data can also predict the test data adequately."
      ]
    },
    {
      "cell_type": "markdown",
      "metadata": {
        "id": "gKta-rbqniQ0"
      },
      "source": [
        "------"
      ]
    },
    {
      "cell_type": "markdown",
      "metadata": {
        "id": "l5PTjtu3bdl6"
      },
      "source": [
        "<!-- JPN -->\n",
        "### 課題 2.1\n",
        "\n",
        "以下の空欄に適切な数値を記入せよ。\n",
        "\n",
        "```\n",
        "標準化 standardization とは、各特徴量について、平均 [ ]、分散 [ ] になるように値を変換する操作のことを指す。\n",
        "```"
      ]
    },
    {
      "cell_type": "markdown",
      "metadata": {
        "id": "7b6Yuw3ystY6"
      },
      "source": [
        "<!-- ENG -->\n",
        "### Exercise 2.1\n",
        "\n",
        "Fill in the blanks below with the appropriate numbers.\n",
        "\n",
        "```\n",
        "Standardization refers to the operation of transforming the values for each feature so that the mean [ ] and variance [ ].\n",
        "```"
      ]
    },
    {
      "cell_type": "markdown",
      "metadata": {
        "id": "JJF-yMCDGeSw"
      },
      "source": [
        "<!-- JPN -->\n",
        "<font color=orange> **このテキストセルに答案を記述せよ。** </font>"
      ]
    },
    {
      "cell_type": "markdown",
      "metadata": {
        "id": "RYYvO3AAGeSw"
      },
      "source": [
        "<!-- ENG -->\n",
        "<font color=orange> **Write your answer in this text cell.** </font>\n",
        "\n",
        "Standardization refers to the operation of transforming the values for each feature so that the mean [ 0 ] and variance [ 1 ]."
      ]
    },
    {
      "cell_type": "markdown",
      "metadata": {
        "id": "4qumgTkrnj7u"
      },
      "source": [
        "------"
      ]
    },
    {
      "cell_type": "markdown",
      "metadata": {
        "deletable": false,
        "editable": false,
        "id": "lyPg1erWamD3"
      },
      "source": [
        "<!-- JPN -->\n",
        "### 課題 2.2\n",
        "\n",
        "PCAで累積寄与率が80%を越える最小の次元数 `n_minimum_pcs` を求めよ。ただし、PCAは標準化後の説明変数に対して行え。"
      ]
    },
    {
      "cell_type": "markdown",
      "metadata": {
        "deletable": false,
        "editable": false,
        "id": "RwplDx5_tK9p"
      },
      "source": [
        "<!-- ENG -->\n",
        "### Exercise 2.2\n",
        "\n",
        "Find the minimum number of dimensions `n_minimum_pcs` for which the cumulative contribution exceeds 80% in PCA? Note that PCA should be performed for the standardized explanatory variables."
      ]
    },
    {
      "cell_type": "code",
      "execution_count": 21,
      "metadata": {
        "tags": [],
        "id": "PioD33-2GeSx",
        "colab": {
          "base_uri": "https://localhost:8080/"
        },
        "outputId": "97ed1aa9-b904-48b6-8a3d-6b84f73d6b96"
      },
      "outputs": [
        {
          "output_type": "stream",
          "name": "stdout",
          "text": [
            "1\n"
          ]
        }
      ],
      "source": [
        "# CODE CELL FOR YOUR ANSWER\n",
        "\n",
        "from sklearn.decomposition import PCA\n",
        "import numpy as np\n",
        "\n",
        "pca = PCA(n_components=2)\n",
        "pca.fit_transform(train_std_X)\n",
        "cumulative_explained_variance = np.cumsum(pca.explained_variance_ratio_)\n",
        "n_minimum_pcs = np.argmax(cumulative_explained_variance >= 0.8) + 1\n",
        "\n",
        "print(n_minimum_pcs)"
      ]
    },
    {
      "cell_type": "markdown",
      "metadata": {
        "id": "gFV9KTfXnkrk"
      },
      "source": [
        "------"
      ]
    },
    {
      "cell_type": "markdown",
      "metadata": {
        "id": "8Dirg2h0uRXA"
      },
      "source": [
        "<!-- JPN -->\n",
        "### 課題 2.3（発展）\n",
        "\n",
        "今回の解析では、テストデータの説明変数 `test_X` があらかじめわかっていることを前提としていたが、現実の問題では必ずしもそうであるとは限らない。例えば、センサーの情報から機械が正常に動作しているか否かを予測する場合、実際に予測するタイミングになるまでセンサーの値 `test_X` を得ることができない。\n",
        "\n",
        "　予測モデルの構築時に**既に予測すべきデータの説明変数の値があらかじめわかっている**場合の例と、**予測モデルの構築時に予測すべきデータの説明変数の値がまだわからない**場合の例をそれぞれ答えよ。"
      ]
    },
    {
      "cell_type": "markdown",
      "metadata": {
        "id": "gIVDXtXttUer"
      },
      "source": [
        "<!-- ENG -->\n",
        "### Exercise 2.3 (Advanced)\n",
        "\n",
        "In this analysis, it was assumed that the explanatory variables of the test data `test_X` were known in advance, but this is not always the case in real problems. For example, when predicting whether or not a machine is working correctly based on sensor information, the sensor value `test_X` cannot be obtained until the actual timing of the prediction.\n",
        "\n",
        "　Give an example of a case where the explanatory variables of the data to be predicted **are already known in advance** when building the prediction model, and an example of a case where the explanatory variables of the data to be predicted **are not yet known** when building the prediction model, respectively."
      ]
    },
    {
      "cell_type": "markdown",
      "metadata": {
        "id": "yD97wZPJGeSz"
      },
      "source": [
        "<!-- JPN -->\n",
        "<font color=orange> **このテキストセルに答案を記述せよ。** </font>"
      ]
    },
    {
      "cell_type": "markdown",
      "metadata": {
        "id": "P6wFcE7wGeS0"
      },
      "source": [
        "<!-- ENG -->\n",
        "<font color=orange> **Write your answer in this text cell.** </font>\n",
        "\n",
        "Explanatory variables known in advance: In weather forecasting, historical weather data is used to predict future conditions. Explanatory variables (e.g., temperature, humidity) are available before making predictions.\n",
        "\n",
        "Explanatory variables not known in advance: Predicting stock prices, where future stock values depend on unknown market conditions, and explanatory variables (e.g., market news) are not available at the time of model building."
      ]
    },
    {
      "cell_type": "markdown",
      "metadata": {
        "id": "93ke1EsduPkj"
      },
      "source": [
        "------"
      ]
    },
    {
      "cell_type": "markdown",
      "metadata": {
        "id": "SQOShFL2v70v"
      },
      "source": [
        "<!-- JPN -->\n",
        "## 3 | 教師あり学習：ランダムフォレストとハイパーパラメータ探索"
      ]
    },
    {
      "cell_type": "markdown",
      "metadata": {
        "id": "UDKHviyOtqDQ"
      },
      "source": [
        "<!-- ENG -->\n",
        "## 3 | Supervised Learning: Random Forest and Hyperparameter Search"
      ]
    },
    {
      "cell_type": "markdown",
      "metadata": {
        "id": "OpALekmBwBlP"
      },
      "source": [
        "<!-- JPN -->\n",
        "　最後にランダムフォレストを用いた教師あり学習を行い、どの程度の精度が出るかを評価する。授業では `RandomForestClassifier()` を用いたが、これは Classifier つまり分類のためのモデルであるが、今回は回帰問題を取り扱っている。この時には `RandomForestRegressor()` を使う。まずは一回予測を行ってみよう。"
      ]
    },
    {
      "cell_type": "markdown",
      "metadata": {
        "id": "QCBOuxfetu_s"
      },
      "source": [
        "<!-- ENG -->\n",
        "　Finally, we will perform supervised learning using random forest and evaluate the accuracy we can achieve. In the class, we used `RandomForestClassifier()`, which refers a model for classification, but this time we are dealing with a regression problem. In this case, we will use `RandomForestRegressor()`. First, let's make a prediction once."
      ]
    },
    {
      "cell_type": "code",
      "execution_count": 22,
      "metadata": {
        "id": "Lmg72wlvwitT"
      },
      "outputs": [],
      "source": [
        "# construct regression model\n",
        "from sklearn.ensemble import RandomForestRegressor\n",
        "\n",
        "rfr = RandomForestRegressor(n_estimators=10, max_depth=None, random_state=0)"
      ]
    },
    {
      "cell_type": "code",
      "execution_count": 23,
      "metadata": {
        "id": "_lVuYhMTxAv_",
        "colab": {
          "base_uri": "https://localhost:8080/",
          "height": 75
        },
        "outputId": "69d028b3-4930-4b2b-d427-9191b3a072ec"
      },
      "outputs": [
        {
          "output_type": "execute_result",
          "data": {
            "text/plain": [
              "RandomForestRegressor(n_estimators=10, random_state=0)"
            ],
            "text/html": [
              "<style>#sk-container-id-1 {color: black;background-color: white;}#sk-container-id-1 pre{padding: 0;}#sk-container-id-1 div.sk-toggleable {background-color: white;}#sk-container-id-1 label.sk-toggleable__label {cursor: pointer;display: block;width: 100%;margin-bottom: 0;padding: 0.3em;box-sizing: border-box;text-align: center;}#sk-container-id-1 label.sk-toggleable__label-arrow:before {content: \"▸\";float: left;margin-right: 0.25em;color: #696969;}#sk-container-id-1 label.sk-toggleable__label-arrow:hover:before {color: black;}#sk-container-id-1 div.sk-estimator:hover label.sk-toggleable__label-arrow:before {color: black;}#sk-container-id-1 div.sk-toggleable__content {max-height: 0;max-width: 0;overflow: hidden;text-align: left;background-color: #f0f8ff;}#sk-container-id-1 div.sk-toggleable__content pre {margin: 0.2em;color: black;border-radius: 0.25em;background-color: #f0f8ff;}#sk-container-id-1 input.sk-toggleable__control:checked~div.sk-toggleable__content {max-height: 200px;max-width: 100%;overflow: auto;}#sk-container-id-1 input.sk-toggleable__control:checked~label.sk-toggleable__label-arrow:before {content: \"▾\";}#sk-container-id-1 div.sk-estimator input.sk-toggleable__control:checked~label.sk-toggleable__label {background-color: #d4ebff;}#sk-container-id-1 div.sk-label input.sk-toggleable__control:checked~label.sk-toggleable__label {background-color: #d4ebff;}#sk-container-id-1 input.sk-hidden--visually {border: 0;clip: rect(1px 1px 1px 1px);clip: rect(1px, 1px, 1px, 1px);height: 1px;margin: -1px;overflow: hidden;padding: 0;position: absolute;width: 1px;}#sk-container-id-1 div.sk-estimator {font-family: monospace;background-color: #f0f8ff;border: 1px dotted black;border-radius: 0.25em;box-sizing: border-box;margin-bottom: 0.5em;}#sk-container-id-1 div.sk-estimator:hover {background-color: #d4ebff;}#sk-container-id-1 div.sk-parallel-item::after {content: \"\";width: 100%;border-bottom: 1px solid gray;flex-grow: 1;}#sk-container-id-1 div.sk-label:hover label.sk-toggleable__label {background-color: #d4ebff;}#sk-container-id-1 div.sk-serial::before {content: \"\";position: absolute;border-left: 1px solid gray;box-sizing: border-box;top: 0;bottom: 0;left: 50%;z-index: 0;}#sk-container-id-1 div.sk-serial {display: flex;flex-direction: column;align-items: center;background-color: white;padding-right: 0.2em;padding-left: 0.2em;position: relative;}#sk-container-id-1 div.sk-item {position: relative;z-index: 1;}#sk-container-id-1 div.sk-parallel {display: flex;align-items: stretch;justify-content: center;background-color: white;position: relative;}#sk-container-id-1 div.sk-item::before, #sk-container-id-1 div.sk-parallel-item::before {content: \"\";position: absolute;border-left: 1px solid gray;box-sizing: border-box;top: 0;bottom: 0;left: 50%;z-index: -1;}#sk-container-id-1 div.sk-parallel-item {display: flex;flex-direction: column;z-index: 1;position: relative;background-color: white;}#sk-container-id-1 div.sk-parallel-item:first-child::after {align-self: flex-end;width: 50%;}#sk-container-id-1 div.sk-parallel-item:last-child::after {align-self: flex-start;width: 50%;}#sk-container-id-1 div.sk-parallel-item:only-child::after {width: 0;}#sk-container-id-1 div.sk-dashed-wrapped {border: 1px dashed gray;margin: 0 0.4em 0.5em 0.4em;box-sizing: border-box;padding-bottom: 0.4em;background-color: white;}#sk-container-id-1 div.sk-label label {font-family: monospace;font-weight: bold;display: inline-block;line-height: 1.2em;}#sk-container-id-1 div.sk-label-container {text-align: center;}#sk-container-id-1 div.sk-container {/* jupyter's `normalize.less` sets `[hidden] { display: none; }` but bootstrap.min.css set `[hidden] { display: none !important; }` so we also need the `!important` here to be able to override the default hidden behavior on the sphinx rendered scikit-learn.org. See: https://github.com/scikit-learn/scikit-learn/issues/21755 */display: inline-block !important;position: relative;}#sk-container-id-1 div.sk-text-repr-fallback {display: none;}</style><div id=\"sk-container-id-1\" class=\"sk-top-container\"><div class=\"sk-text-repr-fallback\"><pre>RandomForestRegressor(n_estimators=10, random_state=0)</pre><b>In a Jupyter environment, please rerun this cell to show the HTML representation or trust the notebook. <br />On GitHub, the HTML representation is unable to render, please try loading this page with nbviewer.org.</b></div><div class=\"sk-container\" hidden><div class=\"sk-item\"><div class=\"sk-estimator sk-toggleable\"><input class=\"sk-toggleable__control sk-hidden--visually\" id=\"sk-estimator-id-1\" type=\"checkbox\" checked><label for=\"sk-estimator-id-1\" class=\"sk-toggleable__label sk-toggleable__label-arrow\">RandomForestRegressor</label><div class=\"sk-toggleable__content\"><pre>RandomForestRegressor(n_estimators=10, random_state=0)</pre></div></div></div></div></div>"
            ]
          },
          "metadata": {},
          "execution_count": 23
        }
      ],
      "source": [
        "rfr.fit(train_X, train_y)"
      ]
    },
    {
      "cell_type": "code",
      "execution_count": 24,
      "metadata": {
        "id": "hzAsUtJ0xM6F"
      },
      "outputs": [],
      "source": [
        "predicted = rfr.predict(test_X)"
      ]
    },
    {
      "cell_type": "code",
      "execution_count": 25,
      "metadata": {
        "id": "ziYA5XnGxP-e",
        "colab": {
          "base_uri": "https://localhost:8080/"
        },
        "outputId": "05fac52c-2261-41f4-eb68-a85d43323b9a"
      },
      "outputs": [
        {
          "output_type": "stream",
          "name": "stdout",
          "text": [
            "[31.19 33.44 34.32 33.8  26.79 23.65 24.36 19.82 30.7  27.61 25.78 27.86\n",
            " 28.34 33.8  26.98 32.81 41.26 41.26 28.69 28.08 34.89 32.85 34.62 19.95\n",
            " 27.12 26.17 27.24 27.44 26.37 28.81 22.77 28.76 33.38 33.4  33.58 32.85\n",
            " 33.1  33.77 35.19 34.35 33.51 32.78 31.32 29.34 27.12 25.51 25.6  24.87\n",
            " 20.28 22.99 21.68 20.79 20.68 20.46 20.85 24.53 24.43 25.64 28.46 27.44\n",
            " 25.85 26.5  30.75 34.85 34.81 34.51 32.86 28.46 29.34 31.82 34.33 34.79\n",
            " 34.43 21.16 20.4  28.81 20.05 26.68 28.76 26.18 26.92 37.66 28.76 26.45\n",
            " 27.17]\n"
          ]
        }
      ],
      "source": [
        "print(predicted)"
      ]
    },
    {
      "cell_type": "markdown",
      "metadata": {
        "id": "d7bOMVc-xSXT"
      },
      "source": [
        "<!-- JPN -->\n",
        "　予測結果が出力された。先ほど目視したMPGの数値からは大きく外れてはいないことがわかる。実際に予測がどの程度正確なのか、評価を行う。評価指標としては平均二乗誤差 (mean squared error; MSE) 、MSEの平方根 (root MSE; RMSE) 、平均絶対誤差 (mean absolute error; MAE) が主に用いられる。"
      ]
    },
    {
      "cell_type": "markdown",
      "metadata": {
        "id": "aJ1jj8TVusMu"
      },
      "source": [
        "<!-- ENG -->\n",
        "　The prediction results were output. We can see that it is not far off from the MPG values we saw earlier. Here we can evaluate how accurate the prediction is. The main evaluation metrics used are mean squared error (MSE), root MSE (RMSE), and mean absolute error (MAE)."
      ]
    },
    {
      "cell_type": "markdown",
      "metadata": {
        "id": "F_oYkoCnunmy"
      },
      "source": [
        "$$ \\begin{align*}\n",
        " \\mathrm{MSE}  &= \\frac{\\sum_{k=1}^N (y-\\hat{y})^2}{N}\\\\\n",
        " \\mathrm{RMSE} &= \\sqrt{\\mathstrut \\mathrm{MSE}} = \\sqrt{\\frac{\\sum_{k=1}^N (y-\\hat{y})^2}{N}} \\\\\n",
        " \\mathrm{MAE}  &= \\frac{\\sum_{k=1}^N |y-\\hat{y}|}{N}\n",
        "\\end{align*} $$\n"
      ]
    },
    {
      "cell_type": "markdown",
      "metadata": {
        "id": "PfNBTP3JupJg"
      },
      "source": [
        "<!-- JPN -->\n",
        "上記の式からわかるように、 **MSE は二乗値がそのまま出力される**ことに注意せよ。\n",
        "\n",
        "　また、これらとは別に、相関係数 $r$ や決定係数 $r^2$ が使われることも多い。この課題では扱わないが、各自確認してほしい。"
      ]
    },
    {
      "cell_type": "markdown",
      "metadata": {
        "id": "-2erTUmhvbEJ"
      },
      "source": [
        "<!-- ENG -->\n",
        "As can be seen from the above equation, note that **the MSE outputs the squared value as it is**.\n",
        "\n",
        "　Apart from these, the correlation coefficient $r$ and the coefficient of determination $r^2$ are also often used. These are not covered in this assignment, but please check them on your own.\n"
      ]
    },
    {
      "cell_type": "code",
      "execution_count": 26,
      "metadata": {
        "id": "-1hE2Gsawx5d"
      },
      "outputs": [],
      "source": [
        "# define error functions\n",
        "import numpy as np\n",
        "def mse(true_y, pred_y):\n",
        "  return np.mean( (true_y-pred_y)**2 )\n",
        "def rmse(true_y, pred_y):\n",
        "  return np.sqrt(mse(true_y, pred_y))\n",
        "def mae(true_y, pred_y):\n",
        "  return np.mean( np.abs(true_y-pred_y) )"
      ]
    },
    {
      "cell_type": "code",
      "execution_count": 27,
      "metadata": {
        "id": "_6gF6iG20TyG",
        "colab": {
          "base_uri": "https://localhost:8080/"
        },
        "outputId": "f4307011-f6da-41b3-c3b9-58774a92d304"
      },
      "outputs": [
        {
          "output_type": "stream",
          "name": "stdout",
          "text": [
            "mse : 26.368\n",
            "rmse: 5.135\n",
            "mae : 3.989\n"
          ]
        }
      ],
      "source": [
        "mse_val  = mse(test_y, predicted)\n",
        "rmse_val = rmse(test_y, predicted)\n",
        "mae_val  = mae(test_y, predicted)\n",
        "\n",
        "# {var:.3f} displayes up to 3rd decimal place\n",
        "# .3 means two numbers from decimal point\n",
        "# f  means \"for floating point variable (real value)\"\n",
        "print(f\"mse : {mse_val:.3f}\")\n",
        "print(f\"rmse: {rmse_val:.3f}\")\n",
        "print(f\"mae : {mae_val:.3f}\")"
      ]
    },
    {
      "cell_type": "code",
      "execution_count": 28,
      "metadata": {
        "id": "4HbPPakN32kZ",
        "colab": {
          "base_uri": "https://localhost:8080/"
        },
        "outputId": "c9875a4b-563b-4d53-d98e-f0c4be2bfa47"
      },
      "outputs": [
        {
          "output_type": "stream",
          "name": "stdout",
          "text": [
            "mse: 26.368\n",
            "mae: 3.989\n"
          ]
        }
      ],
      "source": [
        "# MSE and MAE are implemented in scikit-learn\n",
        "from sklearn.metrics import mean_squared_error, mean_absolute_error\n",
        "\n",
        "mse_sklearn_val  = mean_squared_error(test_y, predicted)\n",
        "mae_sklearn_val  = mean_absolute_error(test_y, predicted)\n",
        "\n",
        "print(f\"mse: {mse_sklearn_val:.3f}\")\n",
        "print(f\"mae: {mae_sklearn_val:.3f}\")\n"
      ]
    },
    {
      "cell_type": "markdown",
      "metadata": {
        "id": "SfVxa0146BFC"
      },
      "source": [
        "-------"
      ]
    },
    {
      "cell_type": "markdown",
      "metadata": {
        "deletable": false,
        "editable": false,
        "id": "Q8FQBhCW2P_D"
      },
      "source": [
        "<!-- JPN -->\n",
        "### 課題 3.1\n",
        "\n",
        "交差検証法を用いて、ランダムフォレストに対する適切なハイパーパラメータを決定しよう。以下のコードの続きを記述することで、訓練データを用いた**5-fold 交差検証法**を行い、**MAEを最小にする**パラメータを `rf_best_parameters` に代入せよ。MAEを最小とするハイパーパラメータ探索は `GridSearchCV(..., scoring=\"neg_mean_absolute_error\")` とすることで実現できる。\n",
        "\n",
        "　探索するハイパーパラメータは以下の通りとする。この計算には1分程度の時間を要するので注意せよ。\n",
        "\n",
        "|  変数  | パラメータの範囲  |\n",
        "| ---- | ---- |\n",
        "|  `n_estimators` | `10, 20, 50, 100, 200, 500`  |\n",
        "|  `max_depth`  | `2, 4, 6, 8, 10, 12, 14, 16, 18, 20` |"
      ]
    },
    {
      "cell_type": "markdown",
      "metadata": {
        "deletable": false,
        "editable": false,
        "id": "F82HMbp9Y7Wx"
      },
      "source": [
        "<!-- ENG -->\n",
        "### Exercise 3.1\n",
        "\n",
        "Use the cross-validation method to determine the appropriate hyperparameters for the random forest. By completing the following code, perform the **5-fold cross-validation method** on the training data and assign the parameters to `rf_best_parameters` that **minimizes the MAE** with `GridSearchCV(..., scoring=\"neg_mean_absolute_error\")`.\n",
        "\n",
        "Here, the hyperparameters to be explored should be as follows. Note that it will takes a minute.\n",
        "\n",
        "| variables | range of parameters |\n",
        "| ---- | ---- |\n",
        "| `n_estimators` | `10, 20, 50, 100, 200, 500` |\n",
        "| `max_depth` | `2, 4, 6, 8, 10, 12, 14, 16, 18, 20` |"
      ]
    },
    {
      "cell_type": "code",
      "execution_count": 31,
      "metadata": {
        "id": "DYtABpD82unj",
        "tags": [],
        "colab": {
          "base_uri": "https://localhost:8080/"
        },
        "outputId": "c2f1c74f-7f6d-4431-9364-8c1a4ed5a242"
      },
      "outputs": [
        {
          "output_type": "stream",
          "name": "stdout",
          "text": [
            "{'max_depth': 2, 'n_estimators': 10}\n"
          ]
        }
      ],
      "source": [
        "# CODE CELL FOR YOUR ANSWER\n",
        "\n",
        "from sklearn.ensemble import RandomForestRegressor\n",
        "from sklearn.model_selection import GridSearchCV\n",
        "\n",
        "rfr = RandomForestRegressor(random_state=0)\n",
        "\n",
        "param_grid = {\n",
        "    'n_estimators': [10, 20, 50, 100, 200, 500],\n",
        "    'max_depth': [2, 4, 6, 8, 10, 12, 14, 16, 18, 20]\n",
        "}\n",
        "grid_search = GridSearchCV(estimator=rfr, param_grid=param_grid, scoring=\"neg_mean_absolute_error\", cv=5)\n",
        "grid_search.fit(train_std_pca_X, train_y)\n",
        "\n",
        "rf_best_parameters = grid_search.best_params_\n",
        "print(rf_best_parameters)"
      ]
    },
    {
      "cell_type": "markdown",
      "metadata": {
        "id": "B1R6LzRG6WtM"
      },
      "source": [
        "-----------"
      ]
    },
    {
      "cell_type": "markdown",
      "metadata": {
        "deletable": false,
        "editable": false,
        "id": "L8L1xL78kSp1"
      },
      "source": [
        "<!-- JPN -->\n",
        "### 課題 3.2\n",
        "\n",
        "課題 3.1 で得られた最適ハイパーパラメータ `best_n_estimators` および `best_max_depth` を用いて、訓練データ全件を用いて改めて学習済みモデルを構築し、テストデータに対する平均絶対誤差 MAE (mean absolute error) `test_mae_random_forest` を計算せよ（MSEではない）。**実行の際には `RandomForestRegressor()` に `random_state=0` を与えることを忘れないようにせよ（この後の課題に影響を及ぼす可能性がある）。**"
      ]
    },
    {
      "cell_type": "markdown",
      "metadata": {
        "deletable": false,
        "editable": false,
        "id": "MvuBAgJTZX5p"
      },
      "source": [
        "<!-- ENG -->\n",
        "### Exercise 3.2\n",
        "\n",
        "Using the optimal hyperparameters `best_n_estimators` and `best_max_depth` obtained in exercise 3.1, build the trained model again using all the training data, and calculate the mean absolute error (MAE) `test_mae_random_forest` for the test data (not to calculate MSE). **Don't forget to give `random_state=0` to `RandomForestRegressor()` when you run it (it may affect the following exercises)**."
      ]
    },
    {
      "cell_type": "code",
      "execution_count": 33,
      "metadata": {
        "tags": [],
        "id": "vfsNd2CRGeS8",
        "colab": {
          "base_uri": "https://localhost:8080/"
        },
        "outputId": "9f589aed-c457-414d-dff8-2ab0b6618698"
      },
      "outputs": [
        {
          "output_type": "stream",
          "name": "stdout",
          "text": [
            "5.290343042199217\n"
          ]
        }
      ],
      "source": [
        "# CODE CELL FOR YOUR ANSWER\n",
        "\n",
        "from sklearn.ensemble import RandomForestRegressor\n",
        "from sklearn.metrics import mean_absolute_error\n",
        "\n",
        "best_n_estimators = 10\n",
        "best_max_depth = 2\n",
        "\n",
        "rfr = RandomForestRegressor(n_estimators=best_n_estimators, max_depth=best_max_depth, random_state=0)\n",
        "\n",
        "rfr.fit(train_std_pca_X, train_y)\n",
        "\n",
        "test_predictions = rfr.predict(test_std_pca_X)\n",
        "\n",
        "test_mae_random_forest = mean_absolute_error(test_y, test_predictions)\n",
        "\n",
        "print(test_mae_random_forest)\n"
      ]
    },
    {
      "cell_type": "markdown",
      "metadata": {
        "id": "4_J-G_mN6YIZ"
      },
      "source": [
        "-------------"
      ]
    },
    {
      "cell_type": "markdown",
      "metadata": {
        "deletable": false,
        "editable": false,
        "id": "H7Jhau6QZZoF"
      },
      "source": [
        "<!-- JPN -->\n",
        "### 課題 3.3\n",
        "\n",
        "ランダムフォレストの重要度が高かった3つの特徴量 `important_features` を答えよ。"
      ]
    },
    {
      "cell_type": "markdown",
      "metadata": {
        "deletable": false,
        "editable": false,
        "id": "sPy8f7ArZzOJ"
      },
      "source": [
        "<!-- ENG -->\n",
        "### Exercise 3.3\n",
        "\n",
        "Answer three the most important features `important_features` according to the feature importances of the random forest.\n"
      ]
    },
    {
      "cell_type": "code",
      "execution_count": 35,
      "metadata": {
        "tags": [],
        "id": "X5uHS5OhGeS-",
        "colab": {
          "base_uri": "https://localhost:8080/"
        },
        "outputId": "b2edda82-0777-467a-d10e-11a325609370"
      },
      "outputs": [
        {
          "output_type": "stream",
          "name": "stdout",
          "text": [
            "Index(['MPG', 'Cylinders'], dtype='object')\n"
          ]
        }
      ],
      "source": [
        "# CODE CELL FOR YOUR ANSWER\n",
        "\n",
        "import numpy as np\n",
        "\n",
        "top_n = 3\n",
        "\n",
        "feature_importances = rfr.feature_importances_\n",
        "\n",
        "top_feature_indices = np.argsort(feature_importances)[::-1][:top_n]\n",
        "\n",
        "important_features = df.columns[top_feature_indices]\n",
        "\n",
        "print(important_features)\n"
      ]
    },
    {
      "cell_type": "markdown",
      "metadata": {
        "id": "4mlnycDk7dvc"
      },
      "source": [
        "------"
      ]
    },
    {
      "cell_type": "markdown",
      "metadata": {
        "id": "ppR-EilHaImK"
      },
      "source": [
        "<!-- JPN -->\n",
        "### 課題 3.4（発展）\n",
        "\n",
        "なぜそれらの特徴量は重要なのか？（変数間の相関関係ではなく）現実世界における理由を考察せよ。"
      ]
    },
    {
      "cell_type": "markdown",
      "metadata": {
        "id": "2A4C0Jh_aC0A"
      },
      "source": [
        "<!-- ENG -->\n",
        "### Exercise 3.4 (Advanced)\n",
        "\n",
        "Why are those features important? Consider the reasons in the real world (not correlations between variables.)"
      ]
    },
    {
      "cell_type": "markdown",
      "metadata": {
        "id": "SuDtvtA8GeS_"
      },
      "source": [
        "<!-- JPN -->\n",
        "<font color=orange> **このテキストセルに答案を記述せよ。** </font>"
      ]
    },
    {
      "cell_type": "markdown",
      "metadata": {
        "id": "-jm-fSccGeS_"
      },
      "source": [
        "<!-- ENG -->\n",
        "<font color=orange> **Write your answer in this text cell.** </font>\n",
        "\n",
        "The importance of features identified by a random forest is based on their ability to make accurate predictions. In the real world, these features are likely essential for predicting the target variable, providing valuable information or characteristics that strongly influence the outcome, regardless of specific correlations between variables."
      ]
    },
    {
      "cell_type": "markdown",
      "metadata": {
        "id": "FjjM8vcy7eqX"
      },
      "source": [
        "------"
      ]
    },
    {
      "cell_type": "markdown",
      "metadata": {
        "id": "8AD-Sj1j7Ouj"
      },
      "source": [
        "<!-- JPN -->\n",
        "### 課題 3.5（発展）\n",
        "交差検証法以外の最良モデル選択方法は存在するか、議論せよ。必要に応じて追加実験を行い、課題 3.2で得られたテストデータに対する予測精度と比較しても良い。（その場合は適宜コードセルを追加して構わない）"
      ]
    },
    {
      "cell_type": "markdown",
      "metadata": {
        "id": "2JVfomgGaNcw"
      },
      "source": [
        "<!-- ENG -->\n",
        "### Exercise 3.5 (Advanced)\n",
        "Discuss whether there is a best model selection method other than the cross-validation. If necessary, you may conduct additional experiments and compare your prediction accuracy with that of the test data obtained in exercise 3.2 (addition of code cells is allowed for this exercise)."
      ]
    },
    {
      "cell_type": "markdown",
      "metadata": {
        "id": "SB9UT5nxGeTA"
      },
      "source": [
        "<!-- JPN -->\n",
        "<font color=orange> **このテキストセルに答案を記述せよ。** </font>"
      ]
    },
    {
      "cell_type": "markdown",
      "metadata": {
        "id": "x18Y1UB4GeTA"
      },
      "source": [
        "<!-- ENG -->\n",
        "<font color=orange> **Write your answer in this text cell.** </font>\n",
        "\n",
        "Cross-validation is a widely accepted and robust method for model selection, but other improved method that I investigated  like Leave-One-Out Cross-Validation can be considered. The experiment by using Leave-One-Out Cross-Validation conducted below.\n",
        "\n",
        "Comparing prediction accuracy with the test data, as demonstrated in exercise 3.2, while ensuring randomness control (random_state=0). Leave-One-Out Cross-Validation had a much better prediction accuracy (2.47) than Cross-validation (5.29)."
      ]
    },
    {
      "cell_type": "code",
      "source": [
        "from sklearn.ensemble import RandomForestRegressor\n",
        "from sklearn.metrics import mean_absolute_error\n",
        "from sklearn.model_selection import LeaveOneOut\n",
        "\n",
        "loocv = LeaveOneOut()\n",
        "\n",
        "best_n_estimators = 10\n",
        "best_max_depth = 2\n",
        "\n",
        "mae_results = []\n",
        "\n",
        "for train_index, validation_index in loocv.split(train_std_pca_X):\n",
        "\n",
        "    X_train, X_validation = train_std_pca_X[train_index], train_std_pca_X[validation_index]\n",
        "    y_train, y_validation = train_y[train_index], train_y[validation_index]\n",
        "\n",
        "    rfr = RandomForestRegressor(n_estimators=best_n_estimators, max_depth=best_max_depth, random_state=0)\n",
        "    rfr.fit(X_train, y_train)\n",
        "\n",
        "    validation_predictions = rfr.predict(X_validation)\n",
        "\n",
        "    mae = mean_absolute_error(y_validation, validation_predictions)\n",
        "\n",
        "    mae_results.append(mae)\n",
        "\n",
        "mean_mae = np.mean(mae_results)\n",
        "\n",
        "print(f\"Mean MAE over {len(mae_results)} folds: {mean_mae}\")"
      ],
      "metadata": {
        "colab": {
          "base_uri": "https://localhost:8080/"
        },
        "id": "JzV_L3M7NSaR",
        "outputId": "7e959be4-71d6-4401-c581-7fee16dcc50f"
      },
      "execution_count": 40,
      "outputs": [
        {
          "output_type": "stream",
          "name": "stdout",
          "text": [
            "Mean MAE over 307 folds: 2.4794449005692982\n"
          ]
        }
      ]
    },
    {
      "cell_type": "markdown",
      "metadata": {
        "id": "ACqzebzYh8Do"
      },
      "source": [
        "----------"
      ]
    },
    {
      "cell_type": "markdown",
      "metadata": {
        "id": "_ZCP0M6jwydK"
      },
      "source": [
        "<!-- JPN -->\n",
        "## 4 | 教師あり学習①：線形回帰・多項式回帰\n"
      ]
    },
    {
      "cell_type": "markdown",
      "metadata": {
        "id": "OMPgWhRvkWDL"
      },
      "source": [
        "<!-- ENG -->\n",
        "## 4 | Supervised learning 1: Linear and polynomial regression"
      ]
    },
    {
      "cell_type": "markdown",
      "metadata": {
        "id": "ToknqMI4-ilL"
      },
      "source": [
        "<!-- JPN -->\n",
        "　この課題では、線形回帰、多項式回帰、ニューラルネットワークを用いた回帰の3つに取り組む。これらのモデルを適切に評価・比較するために、まずは検証データの作成を行う。ここでは、訓練データのうち、製造年が1978年～1979年である車のデータを検証データとし、残りの訓練データ、すなわち製造年が1970年～1977年である車のデータを部分訓練データと呼ぶことにする。"
      ]
    },
    {
      "cell_type": "markdown",
      "metadata": {
        "id": "3p8_FBDgxfXJ"
      },
      "source": [
        "<!-- ENG -->\n",
        "In this exercise, we will work on three types of regression: linear regression, polynomial regression, and regression using neural networks. In order to properly evaluate and compare these models, we first prepare the validation data. Here, among the training data, we refer to the data of cars whose year of manufacture is 1978-1979 as the validation data, and the rest of the training data, i.e., the data of cars whose year of manufacture is 1970-1977, as the partial training data."
      ]
    },
    {
      "cell_type": "code",
      "execution_count": null,
      "metadata": {
        "id": "OBmApsRg_PLz"
      },
      "outputs": [],
      "source": [
        "train_sub_X = train_X[train_X[\"Model Year\"] <  78]\n",
        "train_sub_y = train_y[train_X[\"Model Year\"] <  78]\n",
        "valid_X     = train_X[train_X[\"Model Year\"] >= 78]\n",
        "valid_y     = train_y[train_X[\"Model Year\"] >= 78]"
      ]
    },
    {
      "cell_type": "markdown",
      "metadata": {
        "id": "iNElc7xOAU8W"
      },
      "source": [
        "<!-- JPN -->\n",
        "　これから線形回帰を行うのだが、その前に目的変数 MPG の予測に線形回帰が適しているのかどうかについて検討しよう。\n",
        "線形回帰は、各説明変数（特徴量）と目的変数との間に線形の関係があるという仮定に基づいたモデルであった。\n"
      ]
    },
    {
      "cell_type": "markdown",
      "metadata": {
        "id": "CTfW2xMFyPIp"
      },
      "source": [
        "<!-- ENG -->\n",
        "　We will now perform a linear regression, but before that, let us consider whether linear regression is suitable for predicting the objective variable MPG.\n",
        "Linear regression is a model based on the assumption that there is a linear relationship between each explanatory variable (feature) and the objective variable."
      ]
    },
    {
      "cell_type": "markdown",
      "metadata": {
        "id": "pn9qboEvyP-N"
      },
      "source": [
        "$$\n",
        "  \\hat{y} = \\sum_{k=0}^K \\hat{w}_kx_k\n",
        "$$"
      ]
    },
    {
      "cell_type": "markdown",
      "metadata": {
        "id": "Cgh2GjEPyUhc"
      },
      "source": [
        "<!-- JPN -->\n",
        "これは、各説明変数と目的変数との間に非線形な関係がある場合には、たとえ**変数間に非線形だが明確な関係性があったとしても線形回帰モデルでは表現できない**ことを意味する。\n",
        "\n",
        "　以上の議論から、各説明変数と目的変数を2軸とした散布図を描画し、これが線形な関係にあるかどうかを見ることで、線形回帰に基づく予測が機能するか否かの判断材料にできる。実際にやってみよう。"
      ]
    },
    {
      "cell_type": "markdown",
      "metadata": {
        "id": "_ue17108yVhw"
      },
      "source": [
        "<!-- ENG -->\n",
        "This means that if there is a nonlinear relationship between each explanatory variable and the objective variable, **it cannot be represented by a linear regression model, even if there is a obvious relationship between the variables**.\n",
        "\n",
        "　From the above discussion, by drawing a scatter plot with each explanatory variable and the objective variable as the two axes, and seeing whether or not there is a linear relationship between them, we can use this as a basis for judging whether or not predictions based on linear regression will work. Let's do this."
      ]
    },
    {
      "cell_type": "code",
      "execution_count": null,
      "metadata": {
        "id": "jkFXQJiFB58p"
      },
      "outputs": [],
      "source": [
        "# draw figures: it's quite difficult...\n",
        "import matplotlib.pyplot as plt\n",
        "import numpy as np\n",
        "\n",
        "n_features = len(train_sub_X.columns)\n",
        "ncols = 4\n",
        "nrows = int(np.ceil(n_features/ncols))\n",
        "fig = plt.figure(figsize=(2*ncols, 2*nrows))\n",
        "\n",
        "for i, col in enumerate(train_sub_X.columns):\n",
        "  ax = fig.add_subplot(nrows, ncols, i+1)\n",
        "  ax.scatter(train_sub_X[col], train_sub_y)\n",
        "  ax.set_title(col)\n",
        "  plt.tight_layout()"
      ]
    },
    {
      "cell_type": "markdown",
      "metadata": {
        "id": "etxotXXcE5kC"
      },
      "source": [
        "<!-- JPN -->\n",
        "大まかに各説明変数と目的変数は線形の関係を持つようだが、一部の説明変数は線形とは異なる、曲線的な関係を持つようだ。これに留意しながら、以下の課題に取り組んでほしい。"
      ]
    },
    {
      "cell_type": "markdown",
      "metadata": {
        "id": "hix3WaHHzTKI"
      },
      "source": [
        "<!-- ENG -->\n",
        "It seems that each explanatory variable and the objective variable have a roughly linear relationship, but some explanatory variables seem to have a non-linear relationship. Please keep this in mind as you work on the following exercise."
      ]
    },
    {
      "cell_type": "markdown",
      "metadata": {
        "id": "Yh5oJgPXFOID"
      },
      "source": [
        "------"
      ]
    },
    {
      "cell_type": "markdown",
      "metadata": {
        "deletable": false,
        "editable": false,
        "id": "4NUXigh4jyCd"
      },
      "source": [
        "<!-- JPN -->\n",
        "### 課題 4.1\n",
        "\n",
        "部分訓練データを用いて線形回帰予測モデルを構築し、部分訓練データ、検証データそれぞれに対する平均絶対誤差 MAE (mean absolute error) `mae_lr_train` および `mae_lr_valid` を求めよ。なお、MAEは `sklearn.metrics.mean_absolute_error()` で計算が可能である。\n"
      ]
    },
    {
      "cell_type": "markdown",
      "metadata": {
        "deletable": false,
        "editable": false,
        "id": "9GAO2qu5zU8Y"
      },
      "source": [
        "<!-- ENG -->\n",
        "### Exercise 4.1\n",
        "\n",
        "Construct a linear regression model using the partial training data, and calculate the mean absolute error (MAE) for the partial training data `mae_lr_train` and the validation data `mae_lr_valid`. MAE can be calculated with `sklearn.metrics.mean_absolute_error()`."
      ]
    },
    {
      "cell_type": "code",
      "execution_count": null,
      "metadata": {
        "tags": [],
        "id": "YpZzREzoGeTI"
      },
      "outputs": [],
      "source": [
        "# CODE CELL FOR YOUR ANSWER\n",
        "\n",
        "from sklearn.linear_model import LinearRegression\n",
        "from sklearn.metrics import mean_absolute_error\n",
        "\n",
        "...\n",
        "mae_lr_train = ...\n",
        "mae_lr_valid = ..."
      ]
    },
    {
      "cell_type": "markdown",
      "metadata": {
        "id": "z8R4tJFiFM5S"
      },
      "source": [
        "-----"
      ]
    },
    {
      "cell_type": "markdown",
      "metadata": {
        "deletable": false,
        "editable": false,
        "id": "urrhGQi4lM-j"
      },
      "source": [
        "<!-- JPN -->\n",
        "### 課題 4.2\n",
        "\n",
        "部分訓練データを用いて**交互作用項を含む2次の項までを利用した多項式回帰予測モデル**を構築し、部分訓練データ、検証データそれぞれに対する平均絶対誤差 MAE `mae_pr_train` および `mae_pr_valid` を求めよ。"
      ]
    },
    {
      "cell_type": "markdown",
      "metadata": {
        "deletable": false,
        "editable": false,
        "id": "EPtsxj0Zd8O_"
      },
      "source": [
        "<!-- ENG -->\n",
        "### Exercise 4.2\n",
        "\n",
        "Construct a **polynomial regression** model using partial training data **up to the second order term including the interaction term**, and calculate the mean absolute error MAE for the partial training data `mae_pr_train` and the validation data `mae_pr_valid`."
      ]
    },
    {
      "cell_type": "code",
      "execution_count": null,
      "metadata": {
        "tags": [],
        "id": "d0yyo5OyGeTJ"
      },
      "outputs": [],
      "source": [
        "# CODE CELL FOR YOUR ANSWER\n",
        "\n",
        "...\n",
        "mae_pr_train = ...\n",
        "mae_pr_valid = ..."
      ]
    },
    {
      "cell_type": "markdown",
      "metadata": {
        "id": "TfEd-KFWID-4"
      },
      "source": [
        "------"
      ]
    },
    {
      "cell_type": "markdown",
      "metadata": {
        "deletable": false,
        "editable": false,
        "id": "FDTGQbnBpCnx"
      },
      "source": [
        "<!-- JPN -->\n",
        "### 課題 4.3\n",
        "\n",
        "Ridge正則化を導入し、**交互作用項を含む2次の項までを利用した多項式Ridge回帰予測モデル**を構築し、部分訓練データ、検証データそれぞれに対する平均絶対誤差 MAE を求めよ。ただし、Ridge回帰の正則化項に対する重み $\\alpha$ は 0.1 とせよ。\n",
        "この際、 `make_pipeline` を用いることで、**Ridge回帰を行う直前**に特徴量の標準化を行うことを忘れないようにせよ。\n"
      ]
    },
    {
      "cell_type": "markdown",
      "metadata": {
        "deletable": false,
        "editable": false,
        "id": "na3uXuyEeYZf"
      },
      "source": [
        "<!-- ENG -->\n",
        "### Exercise 4.3\n",
        "\n",
        "Construct a **polynomial Ridge regression** model using partial training data **up to the second order term including the interaction term**, and calculate the mean absolute error MAE for the partial training data and the validation data. Note that the weight $\\alpha$ for the regularization term of Ridge regression should be 0.1.\n",
        "Do not forget to standardize the features just before performing the Ridge regression by using `make_pipeline`.\n"
      ]
    },
    {
      "cell_type": "code",
      "execution_count": null,
      "metadata": {
        "tags": [],
        "id": "GSS9Ex8dGeTL"
      },
      "outputs": [],
      "source": [
        "# CODE CELL FOR YOUR ANSWER\n",
        "\n",
        "...\n",
        "mae_ridge_train = ...\n",
        "mae_ridge_valid = ...\n"
      ]
    },
    {
      "cell_type": "markdown",
      "metadata": {
        "id": "l4LCMqtqGSH3"
      },
      "source": [
        "-----"
      ]
    },
    {
      "cell_type": "markdown",
      "metadata": {
        "id": "HMpx4yzXANxm"
      },
      "source": [
        "<!-- JPN -->\n",
        "### 課題 4.4\n",
        "\n",
        "Ridge回帰の直前に行うべき操作である **標準化 standardization** とはどのようなものだったか。以下の空欄に適切な数値を記入せよ。\n",
        "\n",
        "```\n",
        "標準化 standardization とは、各特徴量について、平均 [ ]、分散 [ ] になるように値を変換する操作のことを指す。\n",
        "```"
      ]
    },
    {
      "cell_type": "markdown",
      "metadata": {
        "id": "CXmm7SRZjFPg"
      },
      "source": [
        "<!-- ENG -->\n",
        "### Exercise 4.4\n",
        "\n",
        "What was **standardization**, the operation that should have been performed just before the Ridge regression? Fill in the blanks below with the appropriate numbers.\n",
        "\n",
        "```\n",
        "Standardization refers to the operation of transforming the values for each feature so that the mean [ ] and variance [ ].\n",
        "```"
      ]
    },
    {
      "cell_type": "markdown",
      "metadata": {
        "id": "QZ9ul11RGeTL"
      },
      "source": [
        "<!-- JPN -->\n",
        "<font color=orange> **このテキストセルに答案を記述せよ。** </font>"
      ]
    },
    {
      "cell_type": "markdown",
      "metadata": {
        "id": "Ru61xJFVGeTM"
      },
      "source": [
        "<!-- ENG -->\n",
        "<font color=orange> **Write your answer in this text cell.** </font>"
      ]
    },
    {
      "cell_type": "markdown",
      "metadata": {
        "id": "jEXB_qisFpSk"
      },
      "source": [
        "----------"
      ]
    },
    {
      "cell_type": "markdown",
      "metadata": {
        "id": "C0wZFdFmlen6"
      },
      "source": [
        "<!-- JPN -->\n",
        "### 課題 4.5\n",
        "\n",
        "課題 4.1 ～ 4.3 の結果から、どれが「最も良いモデル」と言えるだろうか。\n",
        "\n",
        "- 線形回帰予測モデル\n",
        "- 多項式回帰予測モデル\n",
        "- 多項式Ridge回帰予測モデル\n",
        "- 最良は決定できない"
      ]
    },
    {
      "cell_type": "markdown",
      "metadata": {
        "id": "HMU1oJldjlTh"
      },
      "source": [
        "<!-- ENG -->\n",
        "### Exercise 4.5\n",
        "\n",
        "Based on the results of exercises 4.1-4.3, which of the following is the \"best model\"?\n",
        "\n",
        "- Linear regression model.\n",
        "- Polynomial regression model.\n",
        "- Polynomial Ridge regression model.\n",
        "- The best cannot be determined."
      ]
    },
    {
      "cell_type": "markdown",
      "metadata": {
        "id": "mUQAZAFmGeTN"
      },
      "source": [
        "<!-- JPN -->\n",
        "<font color=orange> **このテキストセルに答案を記述せよ。** </font>"
      ]
    },
    {
      "cell_type": "markdown",
      "metadata": {
        "id": "k1AP3mWRGeTN"
      },
      "source": [
        "<!-- ENG -->\n",
        "<font color=orange> **Write your answer in this text cell.** </font>"
      ]
    },
    {
      "cell_type": "markdown",
      "metadata": {
        "id": "QDZeMGUKqXET"
      },
      "source": [
        "-------"
      ]
    },
    {
      "cell_type": "markdown",
      "metadata": {
        "deletable": false,
        "editable": false,
        "id": "u4CNoIS-pKXX"
      },
      "source": [
        "<!-- JPN -->\n",
        "### 課題 4.6（発展）\n",
        "今回のように、あらかじめ訓練データと検証データを分割した場合、 `GridSearchCV()` を単純に利用することができない。**多項式Ridge回帰について**、何らかの方法を用いて、以下のハイパーパラメータ空間（21通りの組み合わせがある）を探索し、**検証データに対するMAEを最小とする**最適なハイパーパラメータ `best_p` および `best_alpha` を報告せよ。\n",
        "\n",
        "|  変数  | パラメータの範囲  |\n",
        "| ---- | ---- |\n",
        "|  次元数 `p` | `1, 2, 3`  |\n",
        "|  正則化項の重み `alpha`  | `0.001, 0.01, 0.1, 1, 10, 100, 1000` |"
      ]
    },
    {
      "cell_type": "markdown",
      "metadata": {
        "deletable": false,
        "editable": false,
        "id": "bcz4m8D7j_DR"
      },
      "source": [
        "<!-- ENG -->\n",
        "### Exercise 4.6 (Advanced)\n",
        "\n",
        "When the training and validation data are split in advance, as in this case, we cannot simply use `GridSearchCV()`. **For polynomial Ridge regression**, using some method, explore the following hyperparameter space (21 combinations) and report the optimal hyperparameters `best_p` and `best_alpha` **which minimizes MAE for validation data**.\n",
        "\n",
        "| Variables | Range of parameters |\n",
        "| ---- | ---- |\n",
        "| number of dimensions `p` | `1, 2, 3` |\n",
        "| weight of the regularization term `alpha` | `0.001, 0.01, 0.1, 1, 10, 100, 1000` |"
      ]
    },
    {
      "cell_type": "code",
      "execution_count": null,
      "metadata": {
        "tags": [],
        "id": "nUGs1rPaGeTO"
      },
      "outputs": [],
      "source": [
        "# CODE CELL FOR YOUR ANSWER\n",
        "\n",
        "\n",
        "best_p = ...\n",
        "best_alpha = ...\n",
        "print(best_p, best_alpha)\n"
      ]
    },
    {
      "cell_type": "markdown",
      "metadata": {
        "id": "lPqUk3e5qYwd"
      },
      "source": [
        "-----"
      ]
    },
    {
      "cell_type": "markdown",
      "metadata": {
        "id": "M8ahFMlNINk5"
      },
      "source": [
        "<!-- JPN -->\n",
        "## 5 | 教師あり学習②：ニューラルネットワークによる回帰予測"
      ]
    },
    {
      "cell_type": "markdown",
      "metadata": {
        "id": "O_SRHbOFlbme"
      },
      "source": [
        "<!-- ENG -->\n",
        "## 5 | Supervised Learning 2: Regression with Neural Networks"
      ]
    },
    {
      "cell_type": "markdown",
      "metadata": {
        "id": "JzkKPbUfITU6"
      },
      "source": [
        "<!-- JPN -->\n",
        "　基盤人工知能演習では、分類問題のみを用いてニューラルネットワークを学習したが、ニューラルネットワークを回帰問題に適用することが可能である。このセクションでは、課題に解答しながら回帰問題への適用方法を学ぼう。"
      ]
    },
    {
      "cell_type": "markdown",
      "metadata": {
        "id": "1RGVgzYtleAw"
      },
      "source": [
        "<!-- ENG -->\n",
        "　In the Exercise on Fundamental Artificial Intelligence, we learned neural networks only for classification problems, but it is possible to apply neural networks to regression problems. In this section, we will learn how to apply them to regression problems by doing the exercise."
      ]
    },
    {
      "cell_type": "markdown",
      "metadata": {
        "id": "151EVrlfqZlI"
      },
      "source": [
        "<!-- JPN -->\n",
        "　以下にデータの準備および各種関数の準備を行う。分類予測ではなく回帰予測を行う際に注意すべき点は以下の通りである。\n",
        "\n",
        "- ニューラルネットワークに入力する特徴量はあらかじめ標準化（あるいは正規化）しておく（これは分類予測でも同様である）。\n",
        "- 入力特徴量、出力特徴量共に `torch.float` にしておく。\n",
        "- 1つの値を予測したいので、出力は1次元とする。\n",
        "- 損失関数を `torch.nn.L1Loss` にする。"
      ]
    },
    {
      "cell_type": "markdown",
      "metadata": {
        "id": "EQIdn7Jpm4PD"
      },
      "source": [
        "<!-- ENG -->\n",
        "　In the following, we will prepare the data and various functions. The points to be noted when performing regression prediction instead of classification prediction are as follows.\n",
        "\n",
        "- The features to be input to the neural network should be standardized (or normalized) in advance (This should be also true for classification).\n",
        "- Both input and output features should be `torch.float`.\n",
        "- The output should be one-dimensional because we want to predict a single value.\n",
        "- Set the loss function to `torch.nn.L1Loss`."
      ]
    },
    {
      "cell_type": "code",
      "execution_count": null,
      "metadata": {
        "id": "DYyAvUNNME6b"
      },
      "outputs": [],
      "source": [
        "# install livelossplot\n",
        "!pip install livelossplot"
      ]
    },
    {
      "cell_type": "code",
      "execution_count": null,
      "metadata": {
        "id": "5kEts-3XuQKJ"
      },
      "outputs": [],
      "source": [
        "# standardization of features\n",
        "from sklearn.preprocessing import StandardScaler\n",
        "\n",
        "ss = StandardScaler()\n",
        "train_sub_std_X = ss.fit_transform(train_sub_X)\n",
        "valid_std_X     = ss.transform(valid_X)"
      ]
    },
    {
      "cell_type": "code",
      "execution_count": null,
      "metadata": {
        "id": "gXrQdohuLSHS"
      },
      "outputs": [],
      "source": [
        "# prepare data\n",
        "import torch\n",
        "batch_size = 32\n",
        "\n",
        "train_X_torch = torch.tensor(train_sub_std_X, dtype=torch.float)\n",
        "valid_X_torch = torch.tensor(valid_std_X, dtype=torch.float)\n",
        "\n",
        "# convert a vector to a matrix by reshape\n",
        "train_Y_torch = torch.tensor(train_sub_y.reshape(-1, 1), dtype=torch.float)\n",
        "valid_Y_torch = torch.tensor(valid_y.reshape(-1,1), dtype=torch.float)\n",
        "\n",
        "train_dataset = torch.utils.data.TensorDataset(train_X_torch, train_Y_torch)\n",
        "valid_dataset = torch.utils.data.TensorDataset(valid_X_torch, valid_Y_torch)\n",
        "\n",
        "train_loader = torch.utils.data.DataLoader(train_dataset, batch_size=batch_size, shuffle=True)\n",
        "valid_loader = torch.utils.data.DataLoader(valid_dataset, batch_size=batch_size, shuffle=True)"
      ]
    },
    {
      "cell_type": "code",
      "execution_count": null,
      "metadata": {
        "id": "Q4LyjEyzr5oJ"
      },
      "outputs": [],
      "source": [
        "def calculate(model, loss_fn, loader, opt=None):\n",
        "  if opt is None:\n",
        "    model.eval()\n",
        "\n",
        "  whole_loss = 0\n",
        "  count = len(loader.dataset)\n",
        "\n",
        "  for X, y in loader:\n",
        "    # X, y = X.cuda(), y.cuda() # Transfer data to the GPU\n",
        "    y_pred = model(X) # Predict y from X\n",
        "\n",
        "    loss = loss_fn(y_pred, y)  # Calculate the average of the losses in a mini-batch\n",
        "    whole_loss += loss.item()*len(y) # Calculate the total loss for the entire epoch\n",
        "\n",
        "    # Update weights\n",
        "    if opt is not None:\n",
        "      opt.zero_grad()\n",
        "      loss.backward()\n",
        "      opt.step()\n",
        "\n",
        "  mean_loss = whole_loss / count\n",
        "\n",
        "  if opt is None:\n",
        "    model.train()\n",
        "\n",
        "  return mean_loss"
      ]
    },
    {
      "cell_type": "code",
      "execution_count": null,
      "metadata": {
        "id": "1rIsJSBGKk8l"
      },
      "outputs": [],
      "source": [
        "from livelossplot import PlotLosses\n",
        "def train(model, loss_fn, opt, train_loader, valid_loader, epoch=50):\n",
        "  liveloss = PlotLosses() # Initialize the drawing\n",
        "  for i in range(epoch):\n",
        "    train_loss = calculate(model, loss_fn, train_loader, opt)\n",
        "    valid_loss = calculate(model, loss_fn, valid_loader)\n",
        "\n",
        "    # Visualize the loss and accuracy values.\n",
        "    liveloss.update({\n",
        "        'loss': train_loss,\n",
        "        'val_loss': valid_loss,\n",
        "    })\n",
        "    liveloss.draw()\n",
        "  return model # Return the trained model"
      ]
    },
    {
      "cell_type": "code",
      "execution_count": null,
      "metadata": {
        "id": "pt67XOnKMNrF"
      },
      "outputs": [],
      "source": [
        "torch.manual_seed(0) # Ensure reproducibility of training results\n",
        "\n",
        "mlp = torch.nn.Sequential(\n",
        "    torch.nn.Linear(12, 24),\n",
        "    torch.nn.ReLU(),\n",
        "    torch.nn.Linear(24, 1)\n",
        ")\n",
        "# mlp.cuda() # Transfer the model to the GPU\n",
        "\n",
        "# Prepare loss functions and optimization methods\n",
        "loss_fn = torch.nn.L1Loss()\n",
        "optimizer = torch.optim.SGD(mlp.parameters(), lr=0.01)"
      ]
    },
    {
      "cell_type": "code",
      "execution_count": null,
      "metadata": {
        "id": "V40vjFsTMfu9"
      },
      "outputs": [],
      "source": [
        "# Run training\n",
        "trained_model = train(mlp, loss_fn, optimizer, train_loader, valid_loader, epoch=200)"
      ]
    },
    {
      "cell_type": "markdown",
      "metadata": {
        "id": "3c2ulxzR1_8w"
      },
      "source": [
        "----"
      ]
    },
    {
      "cell_type": "markdown",
      "metadata": {
        "id": "8C81Dyuhqp3f"
      },
      "source": [
        "<!-- JPN -->\n",
        "### 課題 5.1（発展）\n",
        "分類問題では損失関数は `BCEWithLogitsLoss` や `CrossEntropyLoss` を用いていた。何故回帰問題では `L1Loss` など、異なる損失関数を使う必要があるのか述べよ。"
      ]
    },
    {
      "cell_type": "markdown",
      "metadata": {
        "id": "vxX2SdNroC72"
      },
      "source": [
        "<!-- ENG -->\n",
        "### Exercise 5.1 (Advanced)\n",
        "\n",
        "In the classification problem, the loss functions were `BCEWithLogitsLoss` and `CrossEntropyLoss`. Discuss why it is necessary to use different loss functions such as `L1Loss` for regression problem."
      ]
    },
    {
      "cell_type": "markdown",
      "metadata": {
        "id": "T4ZGu82SGeTU"
      },
      "source": [
        "<!-- JPN -->\n",
        "<font color=orange> **このテキストセルに答案を記述せよ。** </font>"
      ]
    },
    {
      "cell_type": "markdown",
      "metadata": {
        "id": "Z_SAnrXPGeTU"
      },
      "source": [
        "<!-- ENG -->\n",
        "<font color=orange> **Write your answer in this text cell.** </font>"
      ]
    },
    {
      "cell_type": "markdown",
      "metadata": {
        "id": "pshbF_Fo1_Kc"
      },
      "source": [
        "----"
      ]
    },
    {
      "cell_type": "markdown",
      "metadata": {
        "deletable": false,
        "editable": false,
        "id": "Z7W-pcUrsC-F"
      },
      "source": [
        "<!-- JPN -->\n",
        "### 課題 5.2\n",
        "学習済みモデルを用いて、以下の値を報告せよ。\n",
        "\n",
        "- 部分訓練データに対する平均絶対誤差 MAE `mae_mlp_train`\n",
        "- 検証データに対する平均絶対誤差 MAE `mae_mlp_valid`\n",
        "- テストデータに対する平均絶対誤差 MAE `mae_mlp_test`\n",
        "\n",
        "なお、テストデータの準備は行っていないため、適宜予測・評価を行うための準備をせよ。"
      ]
    },
    {
      "cell_type": "markdown",
      "metadata": {
        "deletable": false,
        "editable": false,
        "id": "cyLv_orcobfb"
      },
      "source": [
        "<!-- ENG -->\n",
        "### Exercise 5.2\n",
        "\n",
        "Using the trained model, report the following values.\n",
        "\n",
        "- MAE (mean absolute error) for partial training data `mae_mlp_train`\n",
        "- MAE for validation data `mae_mlp_valid`\n",
        "- MAE for test data `mae_mlp_test`\n",
        "\n",
        "Note that preparation of the test data has not been done, so prepare for prediction and evaluation."
      ]
    },
    {
      "cell_type": "code",
      "execution_count": null,
      "metadata": {
        "id": "etxotXXcE5fe",
        "tags": []
      },
      "outputs": [],
      "source": [
        "# CODE CELL FOR YOUR ANSWER\n",
        "\n",
        "# test data preparation\n",
        "...\n",
        "\n",
        "mae_mlp_train = ...\n",
        "mae_mlp_valid = ...\n",
        "mae_mlp_test  = ...\n",
        "print(mae_mlp_train, mae_mlp_valid, mae_mlp_test)"
      ]
    },
    {
      "cell_type": "markdown",
      "metadata": {
        "id": "-gYO1s5c1-iy"
      },
      "source": [
        "----"
      ]
    },
    {
      "cell_type": "markdown",
      "metadata": {
        "id": "83HXVw9ct9RU"
      },
      "source": [
        "<!-- JPN -->\n",
        "### 課題 5.3\n",
        "\n",
        "このデータに対しては畳み込みニューラルネットワーク CNN を適用することができない（利用することは不適である）。その理由を簡潔に答えよ。"
      ]
    },
    {
      "cell_type": "markdown",
      "metadata": {
        "id": "lz5rYAVfohqO"
      },
      "source": [
        "<!-- ENG -->\n",
        "### Exercise 5.3\n",
        "\n",
        "The convolutional neural network (CNN) cannot be applied to this data (it is unsuitable to use). Briefly answer the reason."
      ]
    },
    {
      "cell_type": "markdown",
      "metadata": {
        "id": "FSFzhGi8GeTX"
      },
      "source": [
        "<!-- JPN -->\n",
        "<font color=orange> **このテキストセルに答案を記述せよ。** </font>"
      ]
    },
    {
      "cell_type": "markdown",
      "metadata": {
        "id": "7aJ4hs0tGeTX"
      },
      "source": [
        "<!-- ENG -->\n",
        "<font color=orange> **Write your answer in this text cell.** </font>"
      ]
    },
    {
      "cell_type": "markdown",
      "metadata": {
        "id": "w7JzTaqo17iC"
      },
      "source": [
        "----"
      ]
    },
    {
      "cell_type": "markdown",
      "metadata": {
        "id": "MbDLN28JagjO"
      },
      "source": [
        "<!-- JPN -->\n",
        "## 6 | 自由課題\n"
      ]
    },
    {
      "cell_type": "markdown",
      "metadata": {
        "id": "y34o2jAHotU7"
      },
      "source": [
        "<!-- ENG -->\n",
        "## 6 | Application to your own task\n"
      ]
    },
    {
      "cell_type": "markdown",
      "metadata": {
        "id": "3t2uLT4abZfL"
      },
      "source": [
        "<!-- JPN -->\n",
        "### 課題 6（実践）\n",
        "各自で準備したデータセットに対して、本演習で学んだ内容やその他の機械学習手法を用いて何らかの学習・予測を行え。提出の際には**新規のipynbファイルを作成**し、可能であればデータセットのcsvファイルも併せて提出せよ。"
      ]
    },
    {
      "cell_type": "markdown",
      "metadata": {
        "id": "QSa3Wgx7o72n"
      },
      "source": [
        "<!-- ENG -->\n",
        "### Exercise 6 (Practical)\n",
        "On the dataset you prepared, apply what you learned in this exercise and other machine learning methods to train and predict. When submitting, **create a new ipynb file**, and if possible, submit a csv file of the dataset as well."
      ]
    },
    {
      "cell_type": "markdown",
      "metadata": {
        "id": "JGtKLO13owov"
      },
      "source": [
        "---"
      ]
    }
  ],
  "metadata": {
    "accelerator": "GPU",
    "colab": {
      "provenance": []
    },
    "kernelspec": {
      "display_name": "Python 3.9.12 ('base')",
      "language": "python",
      "name": "python3"
    },
    "language_info": {
      "codemirror_mode": {
        "name": "ipython",
        "version": 3
      },
      "file_extension": ".py",
      "mimetype": "text/x-python",
      "name": "python",
      "nbconvert_exporter": "python",
      "pygments_lexer": "ipython3",
      "version": "3.9.12"
    },
    "otter": {
      "OK_FORMAT": true,
      "tests": {
        "q1-1": {
          "name": "q1-1",
          "points": 4,
          "suites": [
            {
              "cases": [],
              "scored": true,
              "setup": "",
              "teardown": "",
              "type": "doctest"
            }
          ]
        },
        "q2-2": {
          "name": "q2-2",
          "points": 4,
          "suites": [
            {
              "cases": [],
              "scored": true,
              "setup": "",
              "teardown": "",
              "type": "doctest"
            }
          ]
        },
        "q3-1": {
          "name": "q3-1",
          "points": 5,
          "suites": [
            {
              "cases": [],
              "scored": true,
              "setup": "",
              "teardown": "",
              "type": "doctest"
            }
          ]
        },
        "q3-2": {
          "name": "q3-2",
          "points": 4,
          "suites": [
            {
              "cases": [],
              "scored": true,
              "setup": "",
              "teardown": "",
              "type": "doctest"
            }
          ]
        },
        "q3-3": {
          "name": "q3-3",
          "points": 3,
          "suites": [
            {
              "cases": [],
              "scored": true,
              "setup": "",
              "teardown": "",
              "type": "doctest"
            }
          ]
        },
        "q4-1": {
          "name": "q4-1",
          "points": 3,
          "suites": [
            {
              "cases": [],
              "scored": true,
              "setup": "",
              "teardown": "",
              "type": "doctest"
            }
          ]
        },
        "q4-2": {
          "name": "q4-2",
          "points": 3,
          "suites": [
            {
              "cases": [],
              "scored": true,
              "setup": "",
              "teardown": "",
              "type": "doctest"
            }
          ]
        },
        "q4-3": {
          "name": "q4-3",
          "points": 2,
          "suites": [
            {
              "cases": [],
              "scored": true,
              "setup": "",
              "teardown": "",
              "type": "doctest"
            }
          ]
        },
        "q4-6": {
          "name": "q4-6",
          "points": 3,
          "suites": [
            {
              "cases": [],
              "scored": true,
              "setup": "",
              "teardown": "",
              "type": "doctest"
            }
          ]
        },
        "q5-2": {
          "name": "q5-2",
          "points": 5,
          "suites": [
            {
              "cases": [],
              "scored": true,
              "setup": "",
              "teardown": "",
              "type": "doctest"
            }
          ]
        }
      }
    },
    "vscode": {
      "interpreter": {
        "hash": "d4d1e4263499bec80672ea0156c357c1ee493ec2b1c70f0acce89fc37c4a6abe"
      }
    }
  },
  "nbformat": 4,
  "nbformat_minor": 0
}