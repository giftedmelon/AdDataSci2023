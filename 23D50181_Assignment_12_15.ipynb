{
  "cells": [
    {
      "cell_type": "markdown",
      "metadata": {
        "id": "o73mQgz3Bwet"
      },
      "source": [
        "<!-- JPN -->\n",
        "# NumPyによる線形代数\n",
        "\n",
        "※本演習資料の二次配布・再配布はお断り致します。"
      ]
    },
    {
      "cell_type": "markdown",
      "metadata": {
        "id": "VFunUakIkGRN"
      },
      "source": [
        "<!-- ENG -->\n",
        "# Linear algebra using NumPy\n",
        "\n",
        "※Distribution or redistribution of these exercise materials without the copyright holder's permission is not permitted."
      ]
    },
    {
      "cell_type": "markdown",
      "metadata": {
        "id": "NvCguxKoBxkC"
      },
      "source": [
        "<!-- JPN -->\n",
        "　本日は、講義で機械学習等で用いることの多い線形代数を学んだ。演習では、**NumPy**と呼ばれるPythonライブラリ（便利なツールセットのようなもの）について学習し、データの処理や講義で学んだ固有値分解などを実際に行ってみることにする。\n",
        "\n",
        "　併せて、講義において学んだ「数式的な」結果とは異なり、コンピュータが一般的に行う「数値的な」結果には微妙な誤差が含まれることも、ここで確認していきたい。"
      ]
    },
    {
      "cell_type": "markdown",
      "metadata": {
        "id": "yUaEdjGJkGRS"
      },
      "source": [
        "<!-- ENG -->\n",
        "　This time, in the lecture, we learned about linear algebra, which is often used in machine learning and other applications. In the exercises, we will learn about a Python library called **NumPy** (a useful toolset) and try to process data and perform processings such as eigendecomposition, which we learned in the lecture.\n",
        "\n",
        "　At the same time, we would like to confirm that, unlike the \"mathematical\" results we learned in the lecture, the \"numerical\" results that computers generally produce contain subtle errors."
      ]
    },
    {
      "cell_type": "markdown",
      "metadata": {
        "id": "rEZL_Kcdy_8d"
      },
      "source": [
        "<!-- JPN -->\n",
        "## 1 | NumPy入門\n",
        "\n",
        "　ベクトルや行列などの表現をはじめとして、Pythonでデータを処理するときに極めてよく使われるのがNumPyである。ここでは、基盤人工知能演習・基盤データサイエンス演習で必要になりうる機能や関数に絞って、使い方を紹介する。より詳細なチュートリアルは以下の資料を見ると良い。\n",
        "\n",
        "* [Chainer NumPy入門（日本語）](https://tutorials.chainer.org/ja/08_Introduction_to_NumPy.html)\n",
        "* [NumPy公式チュートリアル（英語）](https://docs.scipy.org/doc/numpy/user/quickstart.html)\n",
        "\n"
      ]
    },
    {
      "cell_type": "markdown",
      "metadata": {
        "id": "Jlqu6X9bkGRV"
      },
      "source": [
        "<!-- ENG -->\n",
        "## 1 | Introduction to NumPy\n",
        "\n",
        "　NumPy is commonly used all the time to process data in Python, including vectors, matrices, and other representations. In this section, we will focus on functions and features that may be required for the Exercise in Fundamentals of Artificial Intelligence / Exercise in Fundamentals of Data Science, as well as introduce their usage. A more detailed tutorial can be found in the following materials:\n",
        "\n",
        "* [Intro to NumPy in Chainer Tutorial (Japanese)](https://tutorials.chainer.org/ja/08_Introduction_to_NumPy.html)\n",
        "* [NumPy quickstart (English)](https://docs.scipy.org/doc/numpy/user/quickstart.html)\n",
        "\n"
      ]
    },
    {
      "cell_type": "markdown",
      "metadata": {
        "id": "MRXn-u6SVcgm"
      },
      "source": [
        "<!-- JPN -->\n",
        "　NumPyのデータ構造や関数（メソッド）を用いる場合は、最初に以下のimport文を書く必要がある。`np`はそれ以外の名称にすることも可能だが、慣例的に`np`とされている。"
      ]
    },
    {
      "cell_type": "markdown",
      "metadata": {
        "id": "mUscgYPlkGRZ"
      },
      "source": [
        "<!-- ENG -->\n",
        "　When using NumPy data structures and functions (methods), the following import statement must be written first. The `np` can be called something else, but it is conventionally called `np`."
      ]
    },
    {
      "cell_type": "code",
      "execution_count": 2,
      "metadata": {
        "id": "ZVres9eB0sBV"
      },
      "outputs": [],
      "source": [
        "import numpy as np # It means you use NumPy in the name of np"
      ]
    },
    {
      "cell_type": "markdown",
      "metadata": {
        "id": "clFlOuKshLJX"
      },
      "source": [
        "<!-- JPN -->\n",
        "### 1.1 | NumPy配列\n",
        "\n",
        "　NumPyの根幹をなすものがNumPyの配列 `np.array` である。 `np.array` はPythonの最初から準備されている配列とは大きく異なり、様々な便利な挙動を示す（補足資料 **※1**）。"
      ]
    },
    {
      "cell_type": "markdown",
      "metadata": {
        "id": "qMW5pggkkGRg"
      },
      "source": [
        "<!-- ENG -->\n",
        "### 1.1 | NumPy arrays\n",
        "\n",
        "　The basis of NumPy is the NumPy arrays, `np.array`. `np.array` is very different from the built-in arrays in Python, and shows various useful behaviors (Supplementary Material **S1**)."
      ]
    },
    {
      "cell_type": "markdown",
      "metadata": {
        "id": "9HUtJEzmk4y3"
      },
      "source": [
        "<!-- JPN -->\n",
        "　まずは、NumPy配列を定義してみる。 `np.array()` という関数のようなものの引数にpythonの配列を入れることで作ることができる（補足資料 **※2**）。"
      ]
    },
    {
      "cell_type": "markdown",
      "metadata": {
        "id": "BOzDaYURkGRk"
      },
      "source": [
        "<!-- ENG -->\n",
        "　First, we try to define a NumPy array. It can be created by putting a Python array in the argument of something like a function called `np.array()` (Supplementary Material **S2**)."
      ]
    },
    {
      "cell_type": "code",
      "execution_count": 3,
      "metadata": {
        "id": "rd9b4IwylIws",
        "colab": {
          "base_uri": "https://localhost:8080/"
        },
        "outputId": "b8bf2584-0014-4963-ef7c-2350893a5bc7"
      },
      "outputs": [
        {
          "output_type": "stream",
          "name": "stdout",
          "text": [
            "[1 2 3]\n",
            "(3,)\n"
          ]
        }
      ],
      "source": [
        "arr = np.array([1, 2, 3])\n",
        "print(arr)\n",
        "print(arr.shape) # Check the shape of arr"
      ]
    },
    {
      "cell_type": "markdown",
      "metadata": {
        "id": "guz8IBUplFVD"
      },
      "source": [
        "<!-- JPN -->\n",
        "　同様に、行列のような縦横二次元の配列も表現することができる。"
      ]
    },
    {
      "cell_type": "markdown",
      "metadata": {
        "id": "EP7NLhbukGRn"
      },
      "source": [
        "<!-- ENG -->\n",
        "　Similarly, a two-dimensional array such as a matrix can be represented."
      ]
    },
    {
      "cell_type": "code",
      "execution_count": 4,
      "metadata": {
        "id": "uDQGW4mPlgVg",
        "colab": {
          "base_uri": "https://localhost:8080/"
        },
        "outputId": "179fca92-4e75-4dff-8eb8-118b863d4fb1"
      },
      "outputs": [
        {
          "output_type": "stream",
          "name": "stdout",
          "text": [
            "[[1 2]\n",
            " [3 4]\n",
            " [5 6]]\n",
            "(3, 2)\n"
          ]
        }
      ],
      "source": [
        "arr = np.array([[1, 2],\n",
        "                [3, 4],\n",
        "                [5, 6]])\n",
        "print(arr)\n",
        "print(arr.shape) # Check the shape of arr"
      ]
    },
    {
      "cell_type": "markdown",
      "metadata": {
        "id": "o5xhI7AYmXBm"
      },
      "source": [
        "<!-- JPN -->\n",
        "　次に、arr同士の加減乗除を行ってみる。Pythonの配列とは全く異なる挙動を示すことを確認してほしい。"
      ]
    },
    {
      "cell_type": "markdown",
      "metadata": {
        "id": "Tm-CRyowkGRo"
      },
      "source": [
        "<!-- ENG -->\n",
        "　Next, we try to add, subtract, multiply and divide the arrays themselves. You should see that it behaves quite differently from Python arrays."
      ]
    },
    {
      "cell_type": "code",
      "execution_count": 5,
      "metadata": {
        "id": "CYTdZBIfmomZ",
        "colab": {
          "base_uri": "https://localhost:8080/"
        },
        "outputId": "06200fca-f2b5-4000-b0a3-b62e3baf9ab7"
      },
      "outputs": [
        {
          "output_type": "stream",
          "name": "stdout",
          "text": [
            "[5 7 9]\n",
            "[-3 -3 -3]\n",
            "[ 4 10 18]\n",
            "[0.25 0.4  0.5 ]\n"
          ]
        }
      ],
      "source": [
        "arr1 = np.array([1,2,3])\n",
        "arr2 = np.array([4,5,6])\n",
        "print(arr1 + arr2)\n",
        "print(arr1 - arr2)\n",
        "print(arr1 * arr2)\n",
        "print(arr1 / arr2)"
      ]
    },
    {
      "cell_type": "markdown",
      "metadata": {
        "id": "ejvZRIUZmoJf"
      },
      "source": [
        "<!-- JPN -->\n",
        "　上のセルの結果を見ると、2つの `np.array` 、 `arr1` と `arr2` の加減乗除はいずれも要素ごとの計算が行われている。"
      ]
    },
    {
      "cell_type": "markdown",
      "metadata": {
        "id": "Z7r4iPUjkGRq"
      },
      "source": [
        "<!-- ENG -->\n",
        "　Looking at the results in the cell above, addition, subtraction, multiplication, and division of the two `np.array`, `arr1` and `arr2`, are all calculated element by element."
      ]
    },
    {
      "cell_type": "markdown",
      "metadata": {
        "id": "YWUOst2SDJI3"
      },
      "source": [
        "<!-- JPN -->\n",
        "　なお、この **`np.array` の挙動はPythonに元から定義されているリスト `list` とは大きく異なっている**。以下に算術演算子を用いた結果をまとめて記述する。\n",
        "\n",
        "| 演算 | `list` | `np.array` |\n",
        "| ---- | ------ | ---------- |\n",
        "| `+`  | [1, 2, 3, 4, 5, 6] | [5, 7, 9] |\n",
        "| `-`  | （エラー） | [-3, -3, -3] |\n",
        "| `*`  | （エラー） | [4, 10, 18] |\n",
        "| `/`  | （エラー） | [0.25, 0.4, 0.5] |\n"
      ]
    },
    {
      "cell_type": "markdown",
      "metadata": {
        "id": "3PHi9WIgkGRr"
      },
      "source": [
        "<!-- ENG -->\n",
        "　Note that **the behavior of `np.array` is very different from the Python `list`**. The following is a summary of the results of using arithmetic operators.\n",
        "\n",
        "| Operators | `list` | `np.array` |\n",
        "| ---- | ------ | ---------- |\n",
        "| `+`  | [1, 2, 3, 4, 5, 6] | [5, 7, 9] |\n",
        "| `-`  | (Error) | [-3, -3, -3] |\n",
        "| `*`  | (Error) | [4, 10, 18] |\n",
        "| `/`  | (Error) | [0.25, 0.4, 0.5] |\n"
      ]
    },
    {
      "cell_type": "markdown",
      "metadata": {
        "id": "llzAKjBIoSQo"
      },
      "source": [
        "<!-- JPN -->\n",
        "　もちろん、 `np.array` で定義された二次元の配列についても同様に要素ごとの加減乗除が行われる。"
      ]
    },
    {
      "cell_type": "markdown",
      "metadata": {
        "id": "gB7gUCTFkGRs"
      },
      "source": [
        "<!-- ENG -->\n",
        "　Of course, the two dimensional array defined in `np.array` is also added, subtracted, multiplied, and divided for each element."
      ]
    },
    {
      "cell_type": "code",
      "execution_count": 6,
      "metadata": {
        "id": "Tfy67Z4NohIj",
        "colab": {
          "base_uri": "https://localhost:8080/"
        },
        "outputId": "fd528e23-5e81-47dd-87d0-a2a682923f78"
      },
      "outputs": [
        {
          "output_type": "stream",
          "name": "stdout",
          "text": [
            "[[ 3  5  7]\n",
            " [ 9 11 13]]\n",
            "[[-1 -1 -1]\n",
            " [-1 -1 -1]]\n",
            "[[ 2  6 12]\n",
            " [20 30 42]]\n",
            "[[0.5        0.66666667 0.75      ]\n",
            " [0.8        0.83333333 0.85714286]]\n"
          ]
        }
      ],
      "source": [
        "arr1 = np.array([[1,2,3],\n",
        "                 [4,5,6]])\n",
        "arr2 = np.array([[2,3,4],\n",
        "                 [5,6,7]])\n",
        "print(arr1 + arr2)\n",
        "print(arr1 - arr2)\n",
        "print(arr1 * arr2)\n",
        "print(arr1 / arr2)"
      ]
    },
    {
      "cell_type": "markdown",
      "metadata": {
        "id": "0UO6yUmzo1te"
      },
      "source": [
        "<!-- JPN -->\n",
        "　次に、 `np.array` とスカラー値との四則演算を行ってみよう。"
      ]
    },
    {
      "cell_type": "markdown",
      "metadata": {
        "id": "53Ol_eK4kGRu"
      },
      "source": [
        "<!-- ENG -->\n",
        "　Next, let's perform four arithmetic operations on `np.array` with scalar values."
      ]
    },
    {
      "cell_type": "code",
      "execution_count": 7,
      "metadata": {
        "id": "A5PM4x-Mo-71",
        "colab": {
          "base_uri": "https://localhost:8080/"
        },
        "outputId": "db1021cf-9b34-4c9a-8ca9-8760f527be1d"
      },
      "outputs": [
        {
          "output_type": "stream",
          "name": "stdout",
          "text": [
            "[3 4 5]\n",
            "[-1  0  1]\n",
            "[2 4 6]\n",
            "[0.5 1.  1.5]\n"
          ]
        }
      ],
      "source": [
        "arr1 = np.array([1,2,3])\n",
        "print(arr1 + 2)\n",
        "print(arr1 - 2)\n",
        "print(arr1 * 2)\n",
        "print(arr1 / 2)"
      ]
    },
    {
      "cell_type": "code",
      "execution_count": 8,
      "metadata": {
        "id": "Tgd-VI8FpMG_",
        "colab": {
          "base_uri": "https://localhost:8080/"
        },
        "outputId": "7812d89a-d36f-4e5a-fd3b-9e7d1d0d4f44"
      },
      "outputs": [
        {
          "output_type": "stream",
          "name": "stdout",
          "text": [
            "[[3 4 5]\n",
            " [6 7 8]]\n",
            "[[-1  0  1]\n",
            " [ 2  3  4]]\n",
            "[[ 2  4  6]\n",
            " [ 8 10 12]]\n",
            "[[0.5 1.  1.5]\n",
            " [2.  2.5 3. ]]\n"
          ]
        }
      ],
      "source": [
        "arr2 = np.array([[1,2,3],\n",
        "                 [4,5,6]])\n",
        "print(arr2 + 2)\n",
        "print(arr2 - 2)\n",
        "print(arr2 * 2)\n",
        "print(arr2 / 2)"
      ]
    },
    {
      "cell_type": "markdown",
      "metadata": {
        "id": "DECMDhzLpi54"
      },
      "source": [
        "<!-- JPN -->\n",
        "　このように、各要素に対する計算が行われる。"
      ]
    },
    {
      "cell_type": "markdown",
      "metadata": {
        "id": "tk6tZ7lzkGRv"
      },
      "source": [
        "<!-- ENG -->\n",
        "　In this way, calculations for each element are performed."
      ]
    },
    {
      "cell_type": "markdown",
      "metadata": {
        "id": "dsG5cpNjLHZb"
      },
      "source": [
        "<!-- JPN -->\n",
        "### 1.2 | `np.array` 内の要素の取得と編集\n",
        "\n"
      ]
    },
    {
      "cell_type": "markdown",
      "metadata": {
        "id": "SfqoWYAakGRw"
      },
      "source": [
        "<!-- ENG -->\n",
        "### 1.2 | Getting and editing elements from `np.array`\n",
        "\n"
      ]
    },
    {
      "cell_type": "markdown",
      "metadata": {
        "id": "G8X41i5xI5WI"
      },
      "source": [
        "<!-- JPN -->\n",
        "　`np.array` の各要素は、以下のように1つ1つの値を出力したり、書き換えることが可能である。"
      ]
    },
    {
      "cell_type": "markdown",
      "metadata": {
        "id": "bYVh6a0QkGRx"
      },
      "source": [
        "<!-- ENG -->\n",
        "　Each `np.array` element can be output or replaced one by one as follows."
      ]
    },
    {
      "cell_type": "code",
      "execution_count": 9,
      "metadata": {
        "id": "JbQ7c6-ELd1L",
        "colab": {
          "base_uri": "https://localhost:8080/"
        },
        "outputId": "3fc0ada6-3c2e-4780-9443-b7b5d75a2655"
      },
      "outputs": [
        {
          "output_type": "stream",
          "name": "stdout",
          "text": [
            "[[1 2]\n",
            " [3 4]]\n"
          ]
        }
      ],
      "source": [
        "arr = np.array([[1,2], [3,4]])\n",
        "print(arr)"
      ]
    },
    {
      "cell_type": "code",
      "execution_count": 10,
      "metadata": {
        "id": "2JdwBAMBJDEC",
        "colab": {
          "base_uri": "https://localhost:8080/"
        },
        "outputId": "3ad9d45a-93ca-4050-e281-7fe6758bcf09"
      },
      "outputs": [
        {
          "output_type": "stream",
          "name": "stdout",
          "text": [
            "4\n"
          ]
        }
      ],
      "source": [
        "print(arr[1,1]) # It extracts the element at row 1 and column 1 (it means SECOND row, SECOND column) by putting values separated by commas.\n",
        "                # Note that the top-left element is the 0th position."
      ]
    },
    {
      "cell_type": "code",
      "execution_count": 11,
      "metadata": {
        "id": "MviKwlSaJP20",
        "colab": {
          "base_uri": "https://localhost:8080/"
        },
        "outputId": "5df87a68-ddef-4f89-f0af-044d0aa4af2f"
      },
      "outputs": [
        {
          "output_type": "stream",
          "name": "stdout",
          "text": [
            "[[  1   2]\n",
            " [100   4]]\n"
          ]
        }
      ],
      "source": [
        "arr[1,0] = 100 # Replace a value\n",
        "print(arr)     # Check the replacement has been reflected"
      ]
    },
    {
      "cell_type": "markdown",
      "metadata": {
        "id": "x6sQmdZsKwEF"
      },
      "source": [
        "<!-- JPN -->\n",
        "　また、ある1列、1行だけを取り出したい場合にはコロン <code>:</code>を利用する。"
      ]
    },
    {
      "cell_type": "markdown",
      "metadata": {
        "id": "jE_s-3KOkGR0"
      },
      "source": [
        "<!-- ENG -->\n",
        "　Also, if you want to extract only one column or one row, use a colon <code>:</code>."
      ]
    },
    {
      "cell_type": "code",
      "execution_count": 12,
      "metadata": {
        "id": "yYS4F8GWK55c",
        "colab": {
          "base_uri": "https://localhost:8080/"
        },
        "outputId": "966b9ed8-9e99-49f1-a93f-bd0bd4079d52"
      },
      "outputs": [
        {
          "output_type": "stream",
          "name": "stdout",
          "text": [
            "[1 2]\n",
            "[  1 100]\n"
          ]
        }
      ],
      "source": [
        "print(arr[0, :]) # Extract row 0 (note that it will be a one dimensional array, not a two dimensional array)\n",
        "print(arr[:, 0]) # Extract column 0 (note that it will be a one dimensional array, not a two dimensional array)"
      ]
    },
    {
      "cell_type": "markdown",
      "metadata": {
        "id": "b2x8BSP-9hRY"
      },
      "source": [
        "<!-- JPN -->\n",
        "### 1.3 | 1次元配列の列（縦）ベクトル化、行（横）ベクトル化\n",
        "\n",
        "　`np.array`の1次元配列を列ベクトル、あるいは行ベクトルに書き換える必要が時々発生する（詳細は後述するが、 `np.array` の1次元配列は列ベクトルとも行ベクトルともつかない、難解な挙動を示す）。その場合は、以下のように `reshape()` を利用すると良い。"
      ]
    },
    {
      "cell_type": "markdown",
      "metadata": {
        "id": "jPHb7K4IkGR1"
      },
      "source": [
        "<!-- ENG -->\n",
        "### 1.3 | One dimensional array column (vertical) vectorization, row (horizontal) vectorization\n",
        "\n",
        "　It is sometimes necessary to reshape `np.array` one dimensional arrays as column vectors or row vectors (as we will see in detail later, `np.array` one dimensional arrays can show a strange behavior that is neither a column vector nor a row vector). In such a case, you can use `reshape()` as follows."
      ]
    },
    {
      "cell_type": "code",
      "execution_count": 13,
      "metadata": {
        "id": "d4ThkXW0-WE5",
        "colab": {
          "base_uri": "https://localhost:8080/"
        },
        "outputId": "e0b52ac9-29c4-401e-ee9d-089dc1348496"
      },
      "outputs": [
        {
          "output_type": "stream",
          "name": "stdout",
          "text": [
            "[[1]\n",
            " [2]\n",
            " [3]]\n"
          ]
        }
      ],
      "source": [
        "arr = np.array([1, 2, 3])\n",
        "v_vec = arr.reshape(-1, 1) # Make it a column vector (a matrix of n rows and one column), setting the n part to -1.\n",
        "print(v_vec)"
      ]
    },
    {
      "cell_type": "code",
      "execution_count": 14,
      "metadata": {
        "id": "XqT9bcPdMGqm",
        "colab": {
          "base_uri": "https://localhost:8080/"
        },
        "outputId": "cfa7ab93-3a33-4c81-ba21-5614f07e142c"
      },
      "outputs": [
        {
          "output_type": "stream",
          "name": "stdout",
          "text": [
            "[[4 5 6]]\n"
          ]
        }
      ],
      "source": [
        "arr = np.array([4, 5, 6])\n",
        "h_vec = arr.reshape(1, -1) # Make it a row vector (a matrix of 1 row and n columns), setting the n part to -1.\n",
        "print(h_vec)"
      ]
    },
    {
      "cell_type": "markdown",
      "metadata": {
        "id": "MYZdAvMm9KV9"
      },
      "source": [
        "<!-- JPN -->\n",
        "### 1.4 | 行列と行列、行列とベクトル、行列と1次元配列の結合\n",
        "\n",
        "　`np.concatenate()`, `np.vstack()`, `np.hstack()` を使うことで2つ以上の行列の結合を行うことができる。"
      ]
    },
    {
      "cell_type": "markdown",
      "metadata": {
        "id": "vkm-PrWtkGR3"
      },
      "source": [
        "<!-- ENG -->\n",
        "### 1.4 |  Combining matrices and matrices, matrices and vectors, matrices and one dimensional arrays\n",
        "\n",
        "　Two or more matrices can be combined by using `np.concatenate()`, `np.vstack()`, and `np.hstack()`."
      ]
    },
    {
      "cell_type": "code",
      "execution_count": 15,
      "metadata": {
        "id": "X7PE20EX8g3x",
        "colab": {
          "base_uri": "https://localhost:8080/"
        },
        "outputId": "6d1b54e0-bb4e-4f2c-bbb6-a0801ed64276"
      },
      "outputs": [
        {
          "output_type": "stream",
          "name": "stdout",
          "text": [
            "[[1 2]\n",
            " [3 4]\n",
            " [5 6]\n",
            " [7 8]]\n",
            "[[1 2]\n",
            " [3 4]\n",
            " [5 6]\n",
            " [7 8]]\n",
            "[[1 2 5 6]\n",
            " [3 4 7 8]]\n",
            "[[1 2 5 6]\n",
            " [3 4 7 8]]\n"
          ]
        }
      ],
      "source": [
        "mat1 = np.array([[1, 2],\n",
        "                 [3, 4]])\n",
        "mat2 = np.array([[5, 6],\n",
        "                 [7, 8]])\n",
        "print(np.vstack([mat1, mat2]))              # Combine vertically\n",
        "print(np.concatenate([mat1, mat2], axis=0)) # Combine vertically, the same as np.vstack\n",
        "\n",
        "print(np.hstack([mat1, mat2]))              # Combine horizontally\n",
        "print(np.concatenate([mat1, mat2], axis=1)) # Combine horizontally, the same as np.hstack\n"
      ]
    },
    {
      "cell_type": "markdown",
      "metadata": {
        "id": "OG8TlvF4KfAs"
      },
      "source": [
        "<img src=\"https://i.imgur.com/Qwz4EaW.png\" width=500>"
      ]
    },
    {
      "cell_type": "markdown",
      "metadata": {
        "id": "hBD6Ju1M9ZOL"
      },
      "source": [
        "<!-- JPN -->\n",
        "　**`np.concatenate` や `np.vstack`, `np.hstack`は2次元配列同士にしか適用できない**ため、行列と1次元配列を結合する場合は 1.3節 の方法を用いて列ベクトルか行ベクトルに変換する必要がある。行列や、結合する方向を意識して、列ベクトルにするか行ベクトルにするか考えて結合させよう。"
      ]
    },
    {
      "cell_type": "markdown",
      "metadata": {
        "id": "ZLC98osgkGR4"
      },
      "source": [
        "<!-- ENG -->\n",
        "　Since **`np.concatenate`, `np.vstack`, and `np.hstack` can only be applied to between two dimensional arrays**, if you want to combine a matrix with a one dimensional array, you need to convert it to a column vector or a row vector using the method indicated in section 1.3. You should combine them together thinking whether to make it a column vector or a row vector. Be aware of the matrix shape and the orientation when combining."
      ]
    },
    {
      "cell_type": "code",
      "execution_count": 16,
      "metadata": {
        "id": "FlwD3w5t_x8H",
        "colab": {
          "base_uri": "https://localhost:8080/"
        },
        "outputId": "f7446bf2-900b-4839-dabb-965af1a4f946"
      },
      "outputs": [
        {
          "output_type": "stream",
          "name": "stdout",
          "text": [
            "[[1 2]\n",
            " [3 4]\n",
            " [5 6]]\n",
            "[[1 2 5]\n",
            " [3 4 6]]\n"
          ]
        }
      ],
      "source": [
        "mat = np.array([[1,2],\n",
        "                [3,4]])\n",
        "arr = np.array([5,6])\n",
        "h_vec = arr.reshape(1, -1)\n",
        "v_vec = arr.reshape(-1, 1)\n",
        "\n",
        "print(np.vstack([mat, h_vec])) # Combine vertically\n",
        "print(np.hstack([mat, v_vec])) # Combine horizontally"
      ]
    },
    {
      "cell_type": "markdown",
      "metadata": {
        "id": "Hqos8HzRRW2L"
      },
      "source": [
        "<!-- JPN -->\n",
        "### 1.5 | 行列の列単位・行単位の計算\n",
        "\n",
        "　Pythonにおける機械学習では、1行ごとに1つのデータ（例：英語・数学・化学・物理の得点）を置くことで行列を構成し、その行列に対する演算を行うようなことが多々発生する。そんなときに便利な機能をいくつか説明していく。"
      ]
    },
    {
      "cell_type": "markdown",
      "metadata": {
        "id": "WO4cXtKJkGR5"
      },
      "source": [
        "<!-- ENG -->\n",
        "### 1.5 | Column-wise and row-wise calculation of matrices\n",
        "\n",
        "　Machine learning in Python often involves constructing matrices by putting one item of data per row (e.g., English, math, chemistry, and physics scores) and performing operations on the matrices. We will see some of the functions that are useful in such cases."
      ]
    },
    {
      "cell_type": "code",
      "execution_count": 17,
      "metadata": {
        "id": "ECQwvHuZTSCZ"
      },
      "outputs": [],
      "source": [
        "# An example of data set\n",
        "scores = np.array([[50, 50, 60, 50],  # The first person's scores in English, math, chemistry, and physics\n",
        "                   [40, 80, 20, 10],  # The second person's scores in English, math, chemistry, and physics\n",
        "                   [90, 20, 40, 40]]) # The third person's scores"
      ]
    },
    {
      "cell_type": "markdown",
      "metadata": {
        "id": "2iF1nwR3U7Ad"
      },
      "source": [
        "<!-- JPN -->\n",
        "#### 列方向・行方向の集計\n",
        "\n",
        "　例えば、上記のような試験結果（＝サンプル）があるときに、以下のような値を求めたいとする。\n",
        "\n",
        "* 各教科の平均点\n",
        "* 各学生の合計点\n",
        "\n",
        "　これらを算出するには、行列の各列、あるいは各行の総和や平均値をとる必要があるが、これは以下のように計算を行うことができる。"
      ]
    },
    {
      "cell_type": "markdown",
      "metadata": {
        "id": "7evX0qrgkGR7"
      },
      "source": [
        "<!-- ENG -->\n",
        "#### Column and row calculation\n",
        "\n",
        "　For example, suppose you want to find the following values ​​when you have the above test results (= sample data).\n",
        "\n",
        "* Average score for each subject\n",
        "* Total score for each student\n",
        "\n",
        "　To calculate these, it is necessary to take the sum or average value of each column or row of the matrix, which can be calculated as follows."
      ]
    },
    {
      "cell_type": "code",
      "execution_count": 18,
      "metadata": {
        "id": "-RhDh_FPUS1N",
        "colab": {
          "base_uri": "https://localhost:8080/"
        },
        "outputId": "8748d070-bfdf-49a9-b9f9-b3606a3de11b"
      },
      "outputs": [
        {
          "output_type": "stream",
          "name": "stdout",
          "text": [
            "[60.         50.         40.         33.33333333]\n"
          ]
        }
      ],
      "source": [
        "# Average score for each subject\n",
        "print(scores.mean(axis=0)) # Find the average of each column\n",
        "# print(np.mean(scores, axis=0)) # Can do the same with this code"
      ]
    },
    {
      "cell_type": "code",
      "execution_count": 19,
      "metadata": {
        "id": "vfUB5qxhUjGo",
        "colab": {
          "base_uri": "https://localhost:8080/"
        },
        "outputId": "bf2bb07b-81d4-47a4-8539-50c851d36712"
      },
      "outputs": [
        {
          "output_type": "stream",
          "name": "stdout",
          "text": [
            "[210 150 190]\n"
          ]
        }
      ],
      "source": [
        "# Total score for each student\n",
        "print(scores.sum(axis=1)) # Find the sum of each row\n",
        "# print(np.sum(scores, axis=1)) # Can do the same with this code"
      ]
    },
    {
      "cell_type": "markdown",
      "metadata": {
        "id": "RGl26y3hKfAt"
      },
      "source": [
        "<img src=\"https://i.imgur.com/STyCbNN.png\" width=500>"
      ]
    },
    {
      "cell_type": "markdown",
      "metadata": {
        "id": "e7xf6IzLUr8n"
      },
      "source": [
        "<!-- JPN -->\n",
        "　このように、`axis`を指定することで、各列、各行の集計を簡単に行うことができる。"
      ]
    },
    {
      "cell_type": "markdown",
      "metadata": {
        "id": "ZoUHQlPskGR8"
      },
      "source": [
        "<!-- ENG -->\n",
        "　In this way, you can easily calculate each column and each row by specifying the `axis`."
      ]
    },
    {
      "cell_type": "markdown",
      "metadata": {
        "id": "5jknARI8OPzr"
      },
      "source": [
        "<!-- JPN -->\n",
        "#### ブロードキャスト：各列・各行への算術演算\n",
        "\n",
        "　次に、それぞれの学生の各教科の得点が、各教科の平均点からどれほど高いのか、あるいは低いのか計算したい場合を考える。\n",
        "\n",
        "　まず各教科の平均点を計算する。"
      ]
    },
    {
      "cell_type": "markdown",
      "metadata": {
        "id": "blz1PI0RkGR9"
      },
      "source": [
        "<!-- ENG -->\n",
        "#### Broadcasting: arithmetic operation for each column and row\n",
        "\n",
        "　Next, consider the case where you want to calculate how much higher or lower each student's score in each subject is from the average score in each subject.\n",
        "\n",
        "　First, calculate the average score for each subject."
      ]
    },
    {
      "cell_type": "code",
      "execution_count": 20,
      "metadata": {
        "id": "IdJEAfBjVsDR"
      },
      "outputs": [],
      "source": [
        "averages = scores.mean(axis=0)"
      ]
    },
    {
      "cell_type": "markdown",
      "metadata": {
        "id": "-o6hjnjtV0Es"
      },
      "source": [
        "<!-- JPN -->\n",
        "　次に、それぞれの学生の各教科の得点と、平均点との差を計算するのだが、これは以下のように簡単に計算することができる。"
      ]
    },
    {
      "cell_type": "markdown",
      "metadata": {
        "id": "Md_Xlr8ikGR-"
      },
      "source": [
        "<!-- ENG -->\n",
        "　The next step is to calculate the difference between each student's score in each subject and the average score, which can be easily calculated as follows."
      ]
    },
    {
      "cell_type": "code",
      "execution_count": 21,
      "metadata": {
        "id": "31M75oqtWEqQ",
        "colab": {
          "base_uri": "https://localhost:8080/"
        },
        "outputId": "c90e9291-57e6-47fd-cb65-1578943a5141"
      },
      "outputs": [
        {
          "output_type": "stream",
          "name": "stdout",
          "text": [
            "[[-10.           0.          20.          16.66666667]\n",
            " [-20.          30.         -20.         -23.33333333]\n",
            " [ 30.         -30.           0.           6.66666667]]\n"
          ]
        }
      ],
      "source": [
        "print(scores - averages)"
      ]
    },
    {
      "cell_type": "markdown",
      "metadata": {
        "id": "5YjzQjd4WH9V"
      },
      "source": [
        "<!-- JPN -->\n",
        "　この引き算は行列 `scores` と 1次元配列 `averages` との間で行われていることに注意しなければならない。\n",
        "NumPyでは**行列の列数と1次元配列の要素数が一致している場合**に限り、**行列の各行に対して**1次元配列との算術演算が行える（**補足資料 ※3**）。これを**ブロードキャスト**と言う。\n",
        "\n",
        "　ブロードキャストは極めて便利である一方、**行列、ベクトル、1次元配列のサイズの意識がおろそかになり、行と列を間違えた計算を引き起こす原因にもなる**。行列などのサイズを意識し、**想定通りの結果になっているかどうか、適宜 `print()` を行いながらコードを記述することが大切**である。"
      ]
    },
    {
      "cell_type": "markdown",
      "metadata": {
        "id": "bQ1a6e0lkGR_"
      },
      "source": [
        "<!-- ENG -->\n",
        "　Note that this subtraction is performed between the matrix `scores` and the one dimensional array `averages`.\n",
        "In NumPy, arithmetic operations with one dimensional arrays can be performed **for each row of a matrix** only **when the number of columns of the matrix and the number of elements of the one dimensional array are the same** (**Supplementary Material S3**). This is called **broadcasting**.\n",
        "\n",
        "　While broadcasting is extremely convenient, **it leads to carelessness of the size of matrices, vectors, and one dimensional arrays, and can cause miscalculations due to confusion between rows and columns**. It is important to be aware of the size of matrices, etc., and **to write the code while performing `print()` as appropriate to see if the results are as expected**."
      ]
    },
    {
      "cell_type": "markdown",
      "metadata": {
        "id": "50nMRpgJKfAu"
      },
      "source": [
        "<img src=\"https://i.imgur.com/gkwvtJ3.png\" width=500>"
      ]
    },
    {
      "cell_type": "markdown",
      "metadata": {
        "id": "OO4pvVVNFeZb"
      },
      "source": [
        "<!-- JPN -->\n",
        "　例えば、以下のような**axis指定を忘れた**というコードミスを行ってみよう。`mean()`でaxis指定を忘れると、**行列内の全要素の平均値**を算出してしまう。"
      ]
    },
    {
      "cell_type": "markdown",
      "metadata": {
        "id": "XKMlqRsSkGR_"
      },
      "source": [
        "<!-- ENG -->\n",
        "　For example, try to make a coding mistake of **forgetting to specify the axis** as follows. If you forget to specify the axis in `mean()`, it will calculate **the average value of all elements in the matrix**."
      ]
    },
    {
      "cell_type": "code",
      "execution_count": 22,
      "metadata": {
        "id": "0ck9JTpZFwR7",
        "colab": {
          "base_uri": "https://localhost:8080/"
        },
        "outputId": "8bea3305-1730-45b5-928b-0f12d37fea2d"
      },
      "outputs": [
        {
          "output_type": "stream",
          "name": "stdout",
          "text": [
            "[[  4.16666667   4.16666667  14.16666667   4.16666667]\n",
            " [ -5.83333333  34.16666667 -25.83333333 -35.83333333]\n",
            " [ 44.16666667 -25.83333333  -5.83333333  -5.83333333]]\n"
          ]
        }
      ],
      "source": [
        "# Try forgetting to specify the axis\n",
        "averages = scores.mean() # Oh!\n",
        "print(scores - averages) # No errors were encountered, however, it was not the answer we had expected"
      ]
    },
    {
      "cell_type": "markdown",
      "metadata": {
        "id": "jCp3faCHHJjy"
      },
      "source": [
        "<!-- JPN -->\n",
        "　axis指定を行わない `mean()` は全要素の平均を算出するので、スカラー値になる。行列とスカラー値の減算は第1章で説明した通りに実行できてしまうので、**エラーは発生しない**。しかし、その結果は各教科の平均点からの差分、という当初の目的とは異なったものになっている。このように**「文法は合っているが、論理的には間違っている」バグは発見が難しい**ので、先ほど述べたように `print()` を行うなどして間違っていないか確認するようにしよう。"
      ]
    },
    {
      "cell_type": "markdown",
      "metadata": {
        "id": "8FDj4ldYkGSA"
      },
      "source": [
        "<!-- ENG -->\n",
        "　`mean()` without an axis specification calculates the average of all elements, so it will be a scalar value. The subtraction of matrices and scalar values can be performed as described in 1, so **no error will occur**. However, the results are different from the original purpose of our exercise, which is to find the difference from the average score of each subject. **This kind of \"syntax correct, but logically wrong\" bug is difficult to detect**, so make sure to check for it by using `print()` as mentioned earlier."
      ]
    },
    {
      "cell_type": "code",
      "execution_count": 23,
      "metadata": {
        "id": "L6agywxrIm8d",
        "colab": {
          "base_uri": "https://localhost:8080/"
        },
        "outputId": "059ee2db-376c-447e-f124-fdec0bc66f69"
      },
      "outputs": [
        {
          "output_type": "stream",
          "name": "stdout",
          "text": [
            "45.833333333333336\n"
          ]
        }
      ],
      "source": [
        "print(scores.mean()) # Huh, we're only getting one value, not what we were expecting. It's a bug!"
      ]
    },
    {
      "cell_type": "markdown",
      "metadata": {
        "id": "5KK6Ac8fQ0Qc"
      },
      "source": [
        "-----"
      ]
    },
    {
      "cell_type": "markdown",
      "metadata": {
        "deletable": false,
        "editable": false,
        "id": "oXdKDGKqmHkM"
      },
      "source": [
        "<!-- JPN -->\n",
        "##### 課題 1\n",
        "\n",
        "　上記 `scores` を用いて、各教科の平均点 `averages` 、各教科の標準偏差 `stds` 、および3人の各教科の偏差値 `t_scores` を算出するコードを作成せよ。"
      ]
    },
    {
      "cell_type": "markdown",
      "metadata": {
        "deletable": false,
        "editable": false,
        "id": "dabqNixZkGSB"
      },
      "source": [
        "<!-- ENG -->\n",
        "##### Exercise 1\n",
        "\n",
        "　Using the above `scores`, calculate the average score of each subject `averages`, the standard deviation of each subject `stds`, and the deviation in each subject for these three students `t_scores`."
      ]
    },
    {
      "cell_type": "markdown",
      "metadata": {
        "deletable": false,
        "editable": false,
        "id": "np9xZk-N_M4_"
      },
      "source": [
        "<!-- JPN -->\n",
        "　なお、学生 $i$ の教科 $x$ における偏差値は以下の計算式で計算できる。$x_i$ は学生 $i$ の 教科 $x$ の得点、$\\mu_x, \\sigma_x$は教科 $x$ の平均点と標準偏差である。"
      ]
    },
    {
      "cell_type": "markdown",
      "metadata": {
        "deletable": false,
        "editable": false,
        "id": "FTtxiVV0_XDe"
      },
      "source": [
        "<!-- ENG -->\n",
        "　Note that the deviation of student $i$ in subject $x$ can be calculated using the following formula. $x_i$ is the score of student $i$ in subject $x$, and $\\mu_x, \\sigma_x$ are the mean score and standard deviation of subject $x$."
      ]
    },
    {
      "cell_type": "markdown",
      "metadata": {
        "deletable": false,
        "editable": false,
        "id": "6qxF58lBmIy1"
      },
      "source": [
        "<!-- BOTH -->\n",
        "$$\n",
        "T_{i, x} = \\frac{10(x_i - \\mu_x)}{\\sigma_x} + 50\n",
        "$$"
      ]
    },
    {
      "cell_type": "markdown",
      "metadata": {
        "deletable": false,
        "editable": false,
        "id": "3OqqU2CDXmgx"
      },
      "source": [
        "<!-- JPN -->\n",
        "また、標準偏差の計算には標本分散を利用せよ。"
      ]
    },
    {
      "cell_type": "markdown",
      "metadata": {
        "deletable": false,
        "editable": false,
        "id": "63RrgbKGkGSB"
      },
      "source": [
        "<!-- ENG -->\n",
        "Use sample variance for the calculation of standard deviation."
      ]
    },
    {
      "cell_type": "code",
      "execution_count": 27,
      "metadata": {
        "tags": [],
        "id": "sU3LuxNHi4F-",
        "colab": {
          "base_uri": "https://localhost:8080/"
        },
        "outputId": "dc38dedf-b731-45bd-e892-f072d8e03c14"
      },
      "outputs": [
        {
          "output_type": "stream",
          "name": "stdout",
          "text": [
            "Averages: [60.         50.         40.         33.33333333]\n",
            "Standard deviations: [26.45751311 30.         20.         20.81665999]\n",
            "T-scores:\n",
            " [[46.22035527 50.         60.         58.00640769]\n",
            " [42.44071054 60.         40.         38.79102923]\n",
            " [61.33893419 40.         50.         53.20256308]]\n"
          ]
        }
      ],
      "source": [
        "# Write your answers here\n",
        "import numpy as np\n",
        "\n",
        "scores = np.array([[50, 50, 60, 50],  # The first person's scores in English, math, chemistry, and physics\n",
        "                   [40, 80, 20, 10],  # The second person's scores in English, math, chemistry, and physics\n",
        "                   [90, 20, 40, 40]]) # The third person's scores\n",
        "\n",
        "averages = np.mean(scores, axis=0)\n",
        "stds     = np.std(scores, axis=0, ddof=1)\n",
        "t_scores = 10 * ((scores - averages) / stds) + 50\n",
        "\n",
        "print(\"Averages:\", averages)\n",
        "print(\"Standard deviations:\", stds)\n",
        "print(\"T-scores:\\n\", t_scores)"
      ]
    },
    {
      "cell_type": "markdown",
      "metadata": {
        "id": "qwIzNW7zPq8b"
      },
      "source": [
        "-----"
      ]
    },
    {
      "cell_type": "markdown",
      "metadata": {
        "id": "JuxkXyU8Kl9A"
      },
      "source": [
        "<!-- JPN -->\n",
        "## 2 | NumPyによる線形代数"
      ]
    },
    {
      "cell_type": "markdown",
      "metadata": {
        "id": "hil3Q7c0kGSC"
      },
      "source": [
        "<!-- ENG -->\n",
        "## 2 | Linear algebra using NumPy"
      ]
    },
    {
      "cell_type": "markdown",
      "metadata": {
        "id": "Yffb_lDZ0IQ8"
      },
      "source": [
        "<!-- JPN -->\n",
        "### 2.1 | ベクトルと行列\n",
        "\n",
        "　ここまで、 `np.array` のデータの取り扱いや四則演算に関する挙動を見てきたが、線形代数では例えば**行列積の計算**や、**行列とベクトルの積**、あるいは**ベクトル同士の内積**等を行う必要がある。\n",
        "\n",
        "　なお、**線形代数におけるベクトルを定義する際には、列ベクトルか行ベクトルかを明示的にするために、2次元配列として定義してほしい**（例えば、列ベクトルはn行1列の行列として扱う、など）。\n",
        "\n"
      ]
    },
    {
      "cell_type": "markdown",
      "metadata": {
        "id": "RWAr52mPkGSD"
      },
      "source": [
        "<!-- ENG -->\n",
        "### 2.1 | Vectors and matrices\n",
        "\n",
        "　So far, we have seen the handling of `np.array` data and the behavior related to the four arithmetic operations, but in linear algebra, for example, it is necessary to calculate **the matrix product**, **the product of the matrix and the vector**, or **the internal product of the vectors**.\n",
        "\n",
        "　**When defining vectors in linear algebra, please define them as two dimensional arrays in order to make it explicit whether they are column vectors or row vectors** (For example, a column vector is treated as a matrix of n rows and one column, etc.).\n",
        "\n"
      ]
    },
    {
      "cell_type": "code",
      "execution_count": 28,
      "metadata": {
        "id": "HFwSl49Z08eN",
        "colab": {
          "base_uri": "https://localhost:8080/"
        },
        "outputId": "7953464b-5c67-4a9d-8082-92d20d20e225"
      },
      "outputs": [
        {
          "output_type": "stream",
          "name": "stdout",
          "text": [
            "print(vector)\n",
            "[[1]\n",
            " [2]\n",
            " [3]]\n",
            "print(matrix)\n",
            "[[1 2]\n",
            " [3 4]\n",
            " [5 6]]\n"
          ]
        }
      ],
      "source": [
        "vector = np.array([[1],\n",
        "                   [2],\n",
        "                   [3]]) # Column vector consisting of three elements\n",
        "matrix = np.array([[1, 2],\n",
        "                   [3, 4],\n",
        "                   [5, 6]])  # A matrix with three rows and two columns\n",
        "print(\"print(vector)\")\n",
        "print(vector)\n",
        "print(\"print(matrix)\")\n",
        "print(matrix)"
      ]
    },
    {
      "cell_type": "markdown",
      "metadata": {
        "id": "clvor9uyOKfN"
      },
      "source": [
        "<!-- JPN -->\n",
        "　作成したベクトルや行列の形状は`vector.shape`、`matrix.shape`で確認可能である。"
      ]
    },
    {
      "cell_type": "markdown",
      "metadata": {
        "id": "hjzbTdeQkGSE"
      },
      "source": [
        "<!-- ENG -->\n",
        "　The shapes of the created vectors and matrices can be checked in `vector.shape` and `matrix.shape`."
      ]
    },
    {
      "cell_type": "code",
      "execution_count": 29,
      "metadata": {
        "id": "fWowpyjqOWcM",
        "colab": {
          "base_uri": "https://localhost:8080/"
        },
        "outputId": "1c516b5d-2283-48c9-de6d-65d1cfa01ad8"
      },
      "outputs": [
        {
          "output_type": "stream",
          "name": "stdout",
          "text": [
            "(3, 1)\n",
            "(3, 2)\n"
          ]
        }
      ],
      "source": [
        "print(vector.shape) # Column vector with three elements -> (3, 1)\n",
        "print(matrix.shape) # A matrix with three rows and two columns  -> (3, 2)"
      ]
    },
    {
      "cell_type": "markdown",
      "metadata": {
        "id": "n4Pq5jbnAf8W"
      },
      "source": [
        "<!-- JPN -->\n",
        "### 2.2 | 行列・ベクトルの転置\n",
        "\n",
        "　行列の転置は非常に簡単であり、 `mat.T` `vec.T` とすれば転置した行列を得ることができる。\n"
      ]
    },
    {
      "cell_type": "markdown",
      "metadata": {
        "id": "CkF9HQE5kGSE"
      },
      "source": [
        "<!-- ENG -->\n",
        "### 2.2 | Transposition of matrices and vectors\n",
        "\n",
        "　The transposition of the matrix is very simple, and we can get the transposed matrix by setting `mat.T` or `vec.T`.\n"
      ]
    },
    {
      "cell_type": "code",
      "execution_count": 30,
      "metadata": {
        "id": "ruhmldL_AuTV",
        "colab": {
          "base_uri": "https://localhost:8080/"
        },
        "outputId": "148d55db-4a2d-4af2-cc26-a1440394f834"
      },
      "outputs": [
        {
          "output_type": "stream",
          "name": "stdout",
          "text": [
            "[[1 2]\n",
            " [3 4]]\n",
            "[[1 3]\n",
            " [2 4]]\n"
          ]
        }
      ],
      "source": [
        "mat = np.array([[1,2],\n",
        "                [3,4]])\n",
        "print(mat)\n",
        "print(mat.T)"
      ]
    },
    {
      "cell_type": "markdown",
      "metadata": {
        "id": "bt5sXZsnHDHQ"
      },
      "source": [
        "<!-- JPN -->\n",
        "　正しく、$\\mathrm{mat}^\\mathrm{T} = \\begin{bmatrix}\n",
        "1 & 2 \\\\\n",
        "3 & 4 \\\\\n",
        "\\end{bmatrix}^\\mathrm{T} = \\begin{bmatrix}\n",
        "1 & 3 \\\\\n",
        "2 & 4 \\\\\n",
        "\\end{bmatrix}$ となっている。"
      ]
    },
    {
      "cell_type": "markdown",
      "metadata": {
        "id": "1cJC7e4ykGSF"
      },
      "source": [
        "<!-- ENG -->\n",
        "　See that we have a correct output: $\\mathrm{mat}^\\mathrm{T} = \\begin{bmatrix}\n",
        "1 & 2 \\\\\n",
        "3 & 4 \\\\\n",
        "\\end{bmatrix}^\\mathrm{T} = \\begin{bmatrix}\n",
        "1 & 3 \\\\\n",
        "2 & 4 \\\\\n",
        "\\end{bmatrix}$."
      ]
    },
    {
      "cell_type": "markdown",
      "metadata": {
        "id": "8IT23rtR6qa6"
      },
      "source": [
        "<!-- JPN -->\n",
        "### 2.3 | 行列積、行列とベクトルの積、ベクトル間の内積\n",
        "　1.1節で説明したように、2次元配列の`np.array`同士の積を `mat * mat` と記述しても、要素ごとの積を行ってしまい、**行列積を行うことはできない**。"
      ]
    },
    {
      "cell_type": "markdown",
      "metadata": {
        "id": "Sirb4FudkGSG"
      },
      "source": [
        "<!-- ENG -->\n",
        "### 2.3 | Matrix product, product of a matrix and a vector, inner product between vectors\n",
        "　As explained in Section 1.1, writing `mat * mat` as a product between `np.arrays` of two dimensional arrays will calculate an element by element product and **not a matrix product**."
      ]
    },
    {
      "cell_type": "code",
      "execution_count": 31,
      "metadata": {
        "id": "sdomFPRD7crI",
        "colab": {
          "base_uri": "https://localhost:8080/"
        },
        "outputId": "cfa77b26-b10e-4fa3-e4f9-2554d2a20042"
      },
      "outputs": [
        {
          "output_type": "stream",
          "name": "stdout",
          "text": [
            "[[ 5 12]\n",
            " [21 32]]\n"
          ]
        }
      ],
      "source": [
        "mat1 = np.array([[1, 2],\n",
        "                 [3, 4]])\n",
        "mat2 = np.array([[5, 6],\n",
        "                 [7, 8]])\n",
        "print(mat1 * mat2) # Check the results"
      ]
    },
    {
      "cell_type": "markdown",
      "metadata": {
        "id": "vQM0rLMM7zLS"
      },
      "source": [
        "<!-- JPN -->\n",
        "　行列積を行う場合には、以下のように、`np.dot()` あるいは`arr.dot()` を利用する（`mat1 @ mat2` としても計算できるが、直感的ではないので本演習では非推奨とする）。"
      ]
    },
    {
      "cell_type": "markdown",
      "metadata": {
        "id": "QEr0r1wmkGSG"
      },
      "source": [
        "<!-- ENG -->\n",
        "　To do matrix products, use `np.dot()` or `arr.dot()` as follows (it can also be calculated as `mat1 @ mat2`, but not recommended for this exercise as it is not intuitive)."
      ]
    },
    {
      "cell_type": "code",
      "execution_count": 32,
      "metadata": {
        "id": "XvTrMOKs8DEg",
        "colab": {
          "base_uri": "https://localhost:8080/"
        },
        "outputId": "23770a4c-a937-4788-b770-ce3b00f6d108"
      },
      "outputs": [
        {
          "output_type": "stream",
          "name": "stdout",
          "text": [
            "[[19 22]\n",
            " [43 50]]\n",
            "[[19 22]\n",
            " [43 50]]\n"
          ]
        }
      ],
      "source": [
        "print(mat1.dot(mat2))     # Matrix product of mat1 and mat2\n",
        "print(np.dot(mat1, mat2)) # Same meaning as above"
      ]
    },
    {
      "cell_type": "code",
      "execution_count": 33,
      "metadata": {
        "id": "TfoFbVtkuVIQ",
        "colab": {
          "base_uri": "https://localhost:8080/"
        },
        "outputId": "dbb1ff9b-bc22-42c9-cd5b-625df79553c7"
      },
      "outputs": [
        {
          "output_type": "stream",
          "name": "stdout",
          "text": [
            "[[23 34]\n",
            " [31 46]]\n",
            "[[23 34]\n",
            " [31 46]]\n"
          ]
        }
      ],
      "source": [
        "print(mat2.dot(mat1))      # The product of a matrix depends on the order\n",
        "print(np.dot(mat2, mat1))"
      ]
    },
    {
      "cell_type": "markdown",
      "metadata": {
        "id": "1o9Tlg_auaoT"
      },
      "source": [
        "<!-- JPN -->\n",
        "　同様に、行列とベクトルの積、ベクトル間の内積も `dot` を利用する。"
      ]
    },
    {
      "cell_type": "markdown",
      "metadata": {
        "id": "_rbZEpa-kGSH"
      },
      "source": [
        "<!-- ENG -->\n",
        "　In the same way, products of matrices and vectors and inner products between vectors also use `dot`."
      ]
    },
    {
      "cell_type": "code",
      "execution_count": 34,
      "metadata": {
        "id": "uHqtFVEMuf_Z",
        "colab": {
          "base_uri": "https://localhost:8080/"
        },
        "outputId": "8f2170d9-2074-48d1-a3bf-2face93a7ba0"
      },
      "outputs": [
        {
          "output_type": "stream",
          "name": "stdout",
          "text": [
            "[[ 5]\n",
            " [11]\n",
            " [17]]\n",
            "[[5]]\n"
          ]
        }
      ],
      "source": [
        "mat = np.array([[1,2],\n",
        "                [3,4],\n",
        "                [5,6]])\n",
        "vec = np.array([[1,2]]).T\n",
        "print(mat.dot(vec))   # The answer will be three rows and one column\n",
        "print(vec.T.dot(vec)) # The answer will be a matrix with one row and one column. Note that it is a two dimensional array, not a scalar value"
      ]
    },
    {
      "cell_type": "markdown",
      "metadata": {
        "id": "Sy42o2rvv5nm"
      },
      "source": [
        "<!-- JPN -->\n",
        "　もしベクトルの内積をスカラー値として取り出したい場合は、以下のように明示的に値を取り出そう。"
      ]
    },
    {
      "cell_type": "markdown",
      "metadata": {
        "id": "ChSce28ukGSI"
      },
      "source": [
        "<!-- ENG -->\n",
        "　If you want to extract the inner product of vectors as a scalar value, extract the value explicitly as follows."
      ]
    },
    {
      "cell_type": "code",
      "execution_count": 35,
      "metadata": {
        "id": "NBuCkFYVwG3l",
        "colab": {
          "base_uri": "https://localhost:8080/"
        },
        "outputId": "86ed6c0f-63fc-4d30-fbd4-c54e82e47392"
      },
      "outputs": [
        {
          "output_type": "execute_result",
          "data": {
            "text/plain": [
              "5"
            ]
          },
          "metadata": {},
          "execution_count": 35
        }
      ],
      "source": [
        "vec.T.dot(vec)[0,0] # Extract an element at row 0 and column 0 from the calculation results"
      ]
    },
    {
      "cell_type": "markdown",
      "metadata": {
        "id": "tjh4oS_KRCGq"
      },
      "source": [
        "-----"
      ]
    },
    {
      "cell_type": "markdown",
      "metadata": {
        "deletable": false,
        "editable": false,
        "id": "8DqOzuKDDDNy"
      },
      "source": [
        "<!-- JPN -->\n",
        "##### 課題 2\n",
        "\n",
        "$A$ および $\\boldsymbol{b}$ を入力とし、 $A^T b$ を計算する関数 `multiply1(mat_a, vec_b)` を実装せよ。"
      ]
    },
    {
      "cell_type": "markdown",
      "metadata": {
        "deletable": false,
        "editable": false,
        "id": "TuW2EZUjkGSJ"
      },
      "source": [
        "<!-- ENG -->\n",
        "##### Exercise 2\n",
        "　Implement `multiply1(mat_a, vec_b)` which outputs $A^T b$ with $A$ and $\\boldsymbol{b}$ as inputs."
      ]
    },
    {
      "cell_type": "code",
      "execution_count": 36,
      "metadata": {
        "tags": [],
        "id": "-kR7vD97i4F_"
      },
      "outputs": [],
      "source": [
        "# Write your answers here\n",
        "def multiply1(mat_a, vec_b):\n",
        "  result = np.dot(mat_a.T, vec_b)\n",
        "  return result"
      ]
    },
    {
      "cell_type": "markdown",
      "metadata": {
        "id": "OphJPARWRFKr"
      },
      "source": [
        "--------------"
      ]
    },
    {
      "cell_type": "markdown",
      "metadata": {
        "deletable": false,
        "editable": false,
        "id": "NHrknZbtFhi_"
      },
      "source": [
        "<!-- JPN -->\n",
        "##### 課題 3\n",
        "\n",
        "$X$ および $Y$ を入力とし、 $(X Y)^T$ を計算する関数 `multiply2(x, y)` を実装せよ。**ただし、 `x` および `y` は行列であるときもベクトルであるときも `multiply2()` 関数が正常に動作するようにすること。**"
      ]
    },
    {
      "cell_type": "markdown",
      "metadata": {
        "deletable": false,
        "editable": false,
        "id": "W-m6io1_kGSJ"
      },
      "source": [
        "<!-- ENG -->\n",
        "##### Exercise 3\n",
        "　Implement `multiply2(x, y)` which outputs $(X Y)^T$ with $X$ and $Y$ as inputs. **Note that the `multiply2` function should work correctly when `x` and `y` are both matrices or vectors.**"
      ]
    },
    {
      "cell_type": "code",
      "execution_count": 37,
      "metadata": {
        "tags": [],
        "id": "GSAeoOi4i4GA"
      },
      "outputs": [],
      "source": [
        "# Write your answers here\n",
        "def multiply2(x, y):\n",
        "  result = np.dot(x, y)\n",
        "  if isinstance(result, np.ndarray):\n",
        "    return result.T\n",
        "  else:\n",
        "    return result"
      ]
    },
    {
      "cell_type": "markdown",
      "metadata": {
        "id": "RWidQ9DCQK4e"
      },
      "source": [
        "-------"
      ]
    },
    {
      "cell_type": "markdown",
      "metadata": {
        "id": "nEGxlZ9aA1rm"
      },
      "source": [
        "<!-- JPN -->\n",
        "### 2.4 | 逆行列の計算\n",
        "\n",
        "　逆行列の計算は `np.linalg.inv()` 関数を用いる。linalgとは、linear algebra （線形代数）の略であり、複雑な演算が多数定義されている。"
      ]
    },
    {
      "cell_type": "markdown",
      "metadata": {
        "id": "1mLFL8WikGSJ"
      },
      "source": [
        "<!-- ENG -->\n",
        "### 2.4 | Inverse matrix calculations\n",
        "\n",
        "　Use the `np.linalg.inv()` function to calculate the inverse matrix. linalg is an abbreviation for linear algebra, which defines many complex operations."
      ]
    },
    {
      "cell_type": "code",
      "execution_count": 38,
      "metadata": {
        "id": "ENwfw9jZA_hY"
      },
      "outputs": [],
      "source": [
        "mat1 = np.array([[1,2],\n",
        "                 [3,4]]) # Regular matrix"
      ]
    },
    {
      "cell_type": "code",
      "execution_count": 39,
      "metadata": {
        "id": "I9GfXX8GBR97",
        "colab": {
          "base_uri": "https://localhost:8080/"
        },
        "outputId": "07082ce0-2510-4365-d989-c6201cb0c103"
      },
      "outputs": [
        {
          "output_type": "stream",
          "name": "stdout",
          "text": [
            "[[-2.   1. ]\n",
            " [ 1.5 -0.5]]\n",
            "[[1.00000000e+00 0.00000000e+00]\n",
            " [1.11022302e-16 1.00000000e+00]]\n"
          ]
        }
      ],
      "source": [
        "print(np.linalg.inv(mat1))\n",
        "print(np.linalg.inv(mat1).dot(mat1))  # Check that it is an inverse matrix"
      ]
    },
    {
      "cell_type": "markdown",
      "metadata": {
        "id": "hi5Zr-b5CI_N"
      },
      "source": [
        "<!-- JPN -->\n",
        "　Pythonの実数値は有限の桁数で計算を行うため、厳密には逆行列との行列積は単位行列にはならなかったが、 $1.11 \\times 10^{-16}$ は極めて小さな値なので0と見なして問題ない。このようなことはプログラミングにおける数値計算ではよくあることなので、**実数値を扱う時には微妙に値がずれることがある**ことを覚えておこう。\n",
        "\n",
        "　**逆行列の計算は次回の基盤人工知能演習で利用する**など、機械学習との関連性が深いため、後述の固有値・固有ベクトルの演算と共に、データサイエンスや機械学習を行う上で必須の知識と言ってよい。"
      ]
    },
    {
      "cell_type": "markdown",
      "metadata": {
        "id": "BBjox22SkGSM"
      },
      "source": [
        "<!-- ENG -->\n",
        "　The matrix product of the original matrix and its inverse matrix is not strictly an identity matrix because real numbers in Python are calculated with a finite number of digits, but since $1.11\\times 10^{-16}$ is an extremely small value, it can be safely assumed to be zero. This is a common occurrence in numerical calculations in programming, so keep in mind that **the values may be slightly different when dealing with real numbers**.\n",
        "\n",
        "　**Inverse matrix calculations are closely related to machine learning, and will be used in the next Exercises in Fundamental Artificial Intelligence**, so it is essential knowledge for data science and machine learning, along with eigenvalue and eigenvector operations that are described later."
      ]
    },
    {
      "cell_type": "markdown",
      "metadata": {
        "id": "h-yJW8h-_v5A"
      },
      "source": [
        "<!-- JPN -->\n",
        "　ところで、逆行列が存在しないようなケースで、この関数はどういう挙動を示すだろうか。「正則でない正方行列」「正方でない行列」で試してみると、（正しく）エラーを発生させることが確認できる。"
      ]
    },
    {
      "cell_type": "markdown",
      "metadata": {
        "id": "OdHuUBQnkGSN"
      },
      "source": [
        "<!-- ENG -->\n",
        "　By the way, how would this function behave in a case where there is no inverse matrix? If you try it with a \"singular matrix\" and \"non-square matrix\", you will see that it generates errors (correctly)."
      ]
    },
    {
      "cell_type": "code",
      "execution_count": 40,
      "metadata": {
        "id": "Ix_wYQ_HBSyQ",
        "colab": {
          "base_uri": "https://localhost:8080/",
          "height": 410
        },
        "outputId": "0a38e2a5-f7f1-46bc-9fdc-58752b83f7ba"
      },
      "outputs": [
        {
          "output_type": "stream",
          "name": "stdout",
          "text": [
            "[[1. 1.]\n",
            " [1. 1.]]\n"
          ]
        },
        {
          "output_type": "error",
          "ename": "LinAlgError",
          "evalue": "ignored",
          "traceback": [
            "\u001b[0;31m---------------------------------------------------------------------------\u001b[0m",
            "\u001b[0;31mLinAlgError\u001b[0m                               Traceback (most recent call last)",
            "\u001b[0;32m<ipython-input-40-5b638091d187>\u001b[0m in \u001b[0;36m<cell line: 3>\u001b[0;34m()\u001b[0m\n\u001b[1;32m      1\u001b[0m \u001b[0mmat2\u001b[0m \u001b[0;34m=\u001b[0m \u001b[0mnp\u001b[0m\u001b[0;34m.\u001b[0m\u001b[0mones\u001b[0m\u001b[0;34m(\u001b[0m\u001b[0;34m(\u001b[0m\u001b[0;36m2\u001b[0m\u001b[0;34m,\u001b[0m\u001b[0;36m2\u001b[0m\u001b[0;34m)\u001b[0m\u001b[0;34m)\u001b[0m       \u001b[0;31m# Create a matrix filled with 2 rows and 2 columns of 1's, but this is a square matrix that is not regular\u001b[0m\u001b[0;34m\u001b[0m\u001b[0;34m\u001b[0m\u001b[0m\n\u001b[1;32m      2\u001b[0m \u001b[0mprint\u001b[0m\u001b[0;34m(\u001b[0m\u001b[0mmat2\u001b[0m\u001b[0;34m)\u001b[0m\u001b[0;34m\u001b[0m\u001b[0;34m\u001b[0m\u001b[0m\n\u001b[0;32m----> 3\u001b[0;31m \u001b[0mprint\u001b[0m\u001b[0;34m(\u001b[0m\u001b[0mnp\u001b[0m\u001b[0;34m.\u001b[0m\u001b[0mlinalg\u001b[0m\u001b[0;34m.\u001b[0m\u001b[0minv\u001b[0m\u001b[0;34m(\u001b[0m\u001b[0mmat2\u001b[0m\u001b[0;34m)\u001b[0m\u001b[0;34m)\u001b[0m  \u001b[0;31m# LinAlgError is generated because it is not regular\u001b[0m\u001b[0;34m\u001b[0m\u001b[0;34m\u001b[0m\u001b[0m\n\u001b[0m",
            "\u001b[0;32m/usr/local/lib/python3.10/dist-packages/numpy/core/overrides.py\u001b[0m in \u001b[0;36minv\u001b[0;34m(*args, **kwargs)\u001b[0m\n",
            "\u001b[0;32m/usr/local/lib/python3.10/dist-packages/numpy/linalg/linalg.py\u001b[0m in \u001b[0;36minv\u001b[0;34m(a)\u001b[0m\n\u001b[1;32m    550\u001b[0m     \u001b[0msignature\u001b[0m \u001b[0;34m=\u001b[0m \u001b[0;34m'D->D'\u001b[0m \u001b[0;32mif\u001b[0m \u001b[0misComplexType\u001b[0m\u001b[0;34m(\u001b[0m\u001b[0mt\u001b[0m\u001b[0;34m)\u001b[0m \u001b[0;32melse\u001b[0m \u001b[0;34m'd->d'\u001b[0m\u001b[0;34m\u001b[0m\u001b[0;34m\u001b[0m\u001b[0m\n\u001b[1;32m    551\u001b[0m     \u001b[0mextobj\u001b[0m \u001b[0;34m=\u001b[0m \u001b[0mget_linalg_error_extobj\u001b[0m\u001b[0;34m(\u001b[0m\u001b[0m_raise_linalgerror_singular\u001b[0m\u001b[0;34m)\u001b[0m\u001b[0;34m\u001b[0m\u001b[0;34m\u001b[0m\u001b[0m\n\u001b[0;32m--> 552\u001b[0;31m     \u001b[0mainv\u001b[0m \u001b[0;34m=\u001b[0m \u001b[0m_umath_linalg\u001b[0m\u001b[0;34m.\u001b[0m\u001b[0minv\u001b[0m\u001b[0;34m(\u001b[0m\u001b[0ma\u001b[0m\u001b[0;34m,\u001b[0m \u001b[0msignature\u001b[0m\u001b[0;34m=\u001b[0m\u001b[0msignature\u001b[0m\u001b[0;34m,\u001b[0m \u001b[0mextobj\u001b[0m\u001b[0;34m=\u001b[0m\u001b[0mextobj\u001b[0m\u001b[0;34m)\u001b[0m\u001b[0;34m\u001b[0m\u001b[0;34m\u001b[0m\u001b[0m\n\u001b[0m\u001b[1;32m    553\u001b[0m     \u001b[0;32mreturn\u001b[0m \u001b[0mwrap\u001b[0m\u001b[0;34m(\u001b[0m\u001b[0mainv\u001b[0m\u001b[0;34m.\u001b[0m\u001b[0mastype\u001b[0m\u001b[0;34m(\u001b[0m\u001b[0mresult_t\u001b[0m\u001b[0;34m,\u001b[0m \u001b[0mcopy\u001b[0m\u001b[0;34m=\u001b[0m\u001b[0;32mFalse\u001b[0m\u001b[0;34m)\u001b[0m\u001b[0;34m)\u001b[0m\u001b[0;34m\u001b[0m\u001b[0;34m\u001b[0m\u001b[0m\n\u001b[1;32m    554\u001b[0m \u001b[0;34m\u001b[0m\u001b[0m\n",
            "\u001b[0;32m/usr/local/lib/python3.10/dist-packages/numpy/linalg/linalg.py\u001b[0m in \u001b[0;36m_raise_linalgerror_singular\u001b[0;34m(err, flag)\u001b[0m\n\u001b[1;32m     87\u001b[0m \u001b[0;34m\u001b[0m\u001b[0m\n\u001b[1;32m     88\u001b[0m \u001b[0;32mdef\u001b[0m \u001b[0m_raise_linalgerror_singular\u001b[0m\u001b[0;34m(\u001b[0m\u001b[0merr\u001b[0m\u001b[0;34m,\u001b[0m \u001b[0mflag\u001b[0m\u001b[0;34m)\u001b[0m\u001b[0;34m:\u001b[0m\u001b[0;34m\u001b[0m\u001b[0;34m\u001b[0m\u001b[0m\n\u001b[0;32m---> 89\u001b[0;31m     \u001b[0;32mraise\u001b[0m \u001b[0mLinAlgError\u001b[0m\u001b[0;34m(\u001b[0m\u001b[0;34m\"Singular matrix\"\u001b[0m\u001b[0;34m)\u001b[0m\u001b[0;34m\u001b[0m\u001b[0;34m\u001b[0m\u001b[0m\n\u001b[0m\u001b[1;32m     90\u001b[0m \u001b[0;34m\u001b[0m\u001b[0m\n\u001b[1;32m     91\u001b[0m \u001b[0;32mdef\u001b[0m \u001b[0m_raise_linalgerror_nonposdef\u001b[0m\u001b[0;34m(\u001b[0m\u001b[0merr\u001b[0m\u001b[0;34m,\u001b[0m \u001b[0mflag\u001b[0m\u001b[0;34m)\u001b[0m\u001b[0;34m:\u001b[0m\u001b[0;34m\u001b[0m\u001b[0;34m\u001b[0m\u001b[0m\n",
            "\u001b[0;31mLinAlgError\u001b[0m: Singular matrix"
          ]
        }
      ],
      "source": [
        "mat2 = np.ones((2,2))       # Create a matrix filled with 2 rows and 2 columns of 1's, but this is a square matrix that is not regular\n",
        "print(mat2)\n",
        "print(np.linalg.inv(mat2))  # LinAlgError is generated because it is not regular"
      ]
    },
    {
      "cell_type": "code",
      "execution_count": 41,
      "metadata": {
        "id": "8F7S4mD6BVDh",
        "colab": {
          "base_uri": "https://localhost:8080/",
          "height": 410
        },
        "outputId": "d3e7b773-5977-4e31-98d6-3bf60f9f19af"
      },
      "outputs": [
        {
          "output_type": "stream",
          "name": "stdout",
          "text": [
            "[[1. 1. 1.]\n",
            " [1. 1. 1.]]\n"
          ]
        },
        {
          "output_type": "error",
          "ename": "LinAlgError",
          "evalue": "ignored",
          "traceback": [
            "\u001b[0;31m---------------------------------------------------------------------------\u001b[0m",
            "\u001b[0;31mLinAlgError\u001b[0m                               Traceback (most recent call last)",
            "\u001b[0;32m<ipython-input-41-f1a457720ebf>\u001b[0m in \u001b[0;36m<cell line: 3>\u001b[0;34m()\u001b[0m\n\u001b[1;32m      1\u001b[0m \u001b[0mmat3\u001b[0m \u001b[0;34m=\u001b[0m \u001b[0mnp\u001b[0m\u001b[0;34m.\u001b[0m\u001b[0mones\u001b[0m\u001b[0;34m(\u001b[0m\u001b[0;34m(\u001b[0m\u001b[0;36m2\u001b[0m\u001b[0;34m,\u001b[0m \u001b[0;36m3\u001b[0m\u001b[0;34m)\u001b[0m\u001b[0;34m)\u001b[0m      \u001b[0;31m# Non-square matrix\u001b[0m\u001b[0;34m\u001b[0m\u001b[0;34m\u001b[0m\u001b[0m\n\u001b[1;32m      2\u001b[0m \u001b[0mprint\u001b[0m\u001b[0;34m(\u001b[0m\u001b[0mmat3\u001b[0m\u001b[0;34m)\u001b[0m\u001b[0;34m\u001b[0m\u001b[0;34m\u001b[0m\u001b[0m\n\u001b[0;32m----> 3\u001b[0;31m \u001b[0mprint\u001b[0m\u001b[0;34m(\u001b[0m\u001b[0mnp\u001b[0m\u001b[0;34m.\u001b[0m\u001b[0mlinalg\u001b[0m\u001b[0;34m.\u001b[0m\u001b[0minv\u001b[0m\u001b[0;34m(\u001b[0m\u001b[0mmat3\u001b[0m\u001b[0;34m)\u001b[0m\u001b[0;34m)\u001b[0m  \u001b[0;31m# LinAlgError is generated because it is not a square matrix\u001b[0m\u001b[0;34m\u001b[0m\u001b[0;34m\u001b[0m\u001b[0m\n\u001b[0m",
            "\u001b[0;32m/usr/local/lib/python3.10/dist-packages/numpy/core/overrides.py\u001b[0m in \u001b[0;36minv\u001b[0;34m(*args, **kwargs)\u001b[0m\n",
            "\u001b[0;32m/usr/local/lib/python3.10/dist-packages/numpy/linalg/linalg.py\u001b[0m in \u001b[0;36minv\u001b[0;34m(a)\u001b[0m\n\u001b[1;32m    545\u001b[0m     \u001b[0ma\u001b[0m\u001b[0;34m,\u001b[0m \u001b[0mwrap\u001b[0m \u001b[0;34m=\u001b[0m \u001b[0m_makearray\u001b[0m\u001b[0;34m(\u001b[0m\u001b[0ma\u001b[0m\u001b[0;34m)\u001b[0m\u001b[0;34m\u001b[0m\u001b[0;34m\u001b[0m\u001b[0m\n\u001b[1;32m    546\u001b[0m     \u001b[0m_assert_stacked_2d\u001b[0m\u001b[0;34m(\u001b[0m\u001b[0ma\u001b[0m\u001b[0;34m)\u001b[0m\u001b[0;34m\u001b[0m\u001b[0;34m\u001b[0m\u001b[0m\n\u001b[0;32m--> 547\u001b[0;31m     \u001b[0m_assert_stacked_square\u001b[0m\u001b[0;34m(\u001b[0m\u001b[0ma\u001b[0m\u001b[0;34m)\u001b[0m\u001b[0;34m\u001b[0m\u001b[0;34m\u001b[0m\u001b[0m\n\u001b[0m\u001b[1;32m    548\u001b[0m     \u001b[0mt\u001b[0m\u001b[0;34m,\u001b[0m \u001b[0mresult_t\u001b[0m \u001b[0;34m=\u001b[0m \u001b[0m_commonType\u001b[0m\u001b[0;34m(\u001b[0m\u001b[0ma\u001b[0m\u001b[0;34m)\u001b[0m\u001b[0;34m\u001b[0m\u001b[0;34m\u001b[0m\u001b[0m\n\u001b[1;32m    549\u001b[0m \u001b[0;34m\u001b[0m\u001b[0m\n",
            "\u001b[0;32m/usr/local/lib/python3.10/dist-packages/numpy/linalg/linalg.py\u001b[0m in \u001b[0;36m_assert_stacked_square\u001b[0;34m(*arrays)\u001b[0m\n\u001b[1;32m    202\u001b[0m         \u001b[0mm\u001b[0m\u001b[0;34m,\u001b[0m \u001b[0mn\u001b[0m \u001b[0;34m=\u001b[0m \u001b[0ma\u001b[0m\u001b[0;34m.\u001b[0m\u001b[0mshape\u001b[0m\u001b[0;34m[\u001b[0m\u001b[0;34m-\u001b[0m\u001b[0;36m2\u001b[0m\u001b[0;34m:\u001b[0m\u001b[0;34m]\u001b[0m\u001b[0;34m\u001b[0m\u001b[0;34m\u001b[0m\u001b[0m\n\u001b[1;32m    203\u001b[0m         \u001b[0;32mif\u001b[0m \u001b[0mm\u001b[0m \u001b[0;34m!=\u001b[0m \u001b[0mn\u001b[0m\u001b[0;34m:\u001b[0m\u001b[0;34m\u001b[0m\u001b[0;34m\u001b[0m\u001b[0m\n\u001b[0;32m--> 204\u001b[0;31m             \u001b[0;32mraise\u001b[0m \u001b[0mLinAlgError\u001b[0m\u001b[0;34m(\u001b[0m\u001b[0;34m'Last 2 dimensions of the array must be square'\u001b[0m\u001b[0;34m)\u001b[0m\u001b[0;34m\u001b[0m\u001b[0;34m\u001b[0m\u001b[0m\n\u001b[0m\u001b[1;32m    205\u001b[0m \u001b[0;34m\u001b[0m\u001b[0m\n\u001b[1;32m    206\u001b[0m \u001b[0;32mdef\u001b[0m \u001b[0m_assert_finite\u001b[0m\u001b[0;34m(\u001b[0m\u001b[0;34m*\u001b[0m\u001b[0marrays\u001b[0m\u001b[0;34m)\u001b[0m\u001b[0;34m:\u001b[0m\u001b[0;34m\u001b[0m\u001b[0;34m\u001b[0m\u001b[0m\n",
            "\u001b[0;31mLinAlgError\u001b[0m: Last 2 dimensions of the array must be square"
          ]
        }
      ],
      "source": [
        "mat3 = np.ones((2, 3))      # Non-square matrix\n",
        "print(mat3)\n",
        "print(np.linalg.inv(mat3))  # LinAlgError is generated because it is not a square matrix"
      ]
    },
    {
      "cell_type": "markdown",
      "metadata": {
        "id": "H3PEMDPp4lqs"
      },
      "source": [
        "<!-- JPN -->\n",
        "### 2.5 | 固有値分解：固有値・固有ベクトルの算出\n",
        "　次に、`np.linalg.eig()`を利用して、正方行列$A$の固有値・固有ベクトルを求めてみる。固有値、固有ベクトルとは、正方行列$A$に対して、$A \\boldsymbol{x} = \\lambda \\boldsymbol{x}$ を満たすスカラー値 $\\lambda$ とベクトル $\\boldsymbol{x} (\\boldsymbol{x}\\neq\\boldsymbol{0})$ のことを指す。\n"
      ]
    },
    {
      "cell_type": "markdown",
      "metadata": {
        "id": "2UuOcGWfkGSO"
      },
      "source": [
        "<!-- ENG -->\n",
        "### 2.5 | Eigendecomposition: computing eigenvalues and eigenvectors\n",
        "　Next, we will use `np.linalg.eig()` to find the eigenvalues and eigenvectors of the square matrix $A$. The eigenvalues ​​and eigenvectors refer to the scalar value $\\lambda$ and the vector $\\boldsymbol{x} (\\boldsymbol{x}\\neq\\boldsymbol{0})$ that satisfy $A \\boldsymbol{x} = \\lambda \\boldsymbol{x}$ for the square matrix $A$.\n"
      ]
    },
    {
      "cell_type": "code",
      "execution_count": 42,
      "metadata": {
        "id": "6QI6CGPC655b",
        "colab": {
          "base_uri": "https://localhost:8080/"
        },
        "outputId": "69e5983b-1109-4474-80ed-e0171e14d754"
      },
      "outputs": [
        {
          "output_type": "stream",
          "name": "stdout",
          "text": [
            "3.0000000000000004 [0.70710678 0.70710678]\n",
            "-0.9999999999999996 [-0.70710678  0.70710678]\n"
          ]
        }
      ],
      "source": [
        "mat = np.array([[1,2],\n",
        "                [2,1]])\n",
        "lambdas, xs = np.linalg.eig(mat)\n",
        "print(lambdas[0], xs[:,0])\n",
        "print(lambdas[1], xs[:,1])"
      ]
    },
    {
      "cell_type": "markdown",
      "metadata": {
        "id": "LRV0aQvUl6qD"
      },
      "source": [
        "<!-- JPN -->\n",
        "　逆行列を求めた時と同様に微妙な誤差が発生しているが、以下の2つの等号が成り立っているようである。"
      ]
    },
    {
      "cell_type": "markdown",
      "metadata": {
        "id": "RubIzRKLkGSO"
      },
      "source": [
        "<!-- ENG -->\n",
        "　As with finding the inverse matrix, there are subtle errors, but it seems that the following two equations are satisfied."
      ]
    },
    {
      "cell_type": "markdown",
      "metadata": {
        "id": "ppb4JrWH7f5a"
      },
      "source": [
        "<!-- BOTH -->\n",
        "$$\n",
        "\\begin{aligned}\n",
        "A \\left[\\frac{1}{\\sqrt{2}}, \\frac{1}{\\sqrt{2}} \\right]^T &= 3 \\left[\\frac{1}{\\sqrt{2}}, \\frac{1}{\\sqrt{2}} \\right]^T \\\\\n",
        "A \\left[-\\frac{1}{\\sqrt{2}}, \\frac{1}{\\sqrt{2}} \\right]^T &= -1 \\left[-\\frac{1}{\\sqrt{2}}, \\frac{1}{\\sqrt{2}} \\right]^T\n",
        "\\end{aligned}\n",
        "$$"
      ]
    },
    {
      "cell_type": "markdown",
      "metadata": {
        "id": "lcLkJ1rq8_4D"
      },
      "source": [
        "<!-- JPN -->\n",
        "　一応、実際にこの等号が成り立っているか確認してみよう。"
      ]
    },
    {
      "cell_type": "markdown",
      "metadata": {
        "id": "0l8pLrBQkGSP"
      },
      "source": [
        "<!-- ENG -->\n",
        "　Let's see if these equations are actually satisfied."
      ]
    },
    {
      "cell_type": "code",
      "execution_count": 43,
      "metadata": {
        "id": "_YpFg_IV9BK7",
        "colab": {
          "base_uri": "https://localhost:8080/"
        },
        "outputId": "2ef2cab6-6717-46fb-d88e-bdc6cc4fcdac"
      },
      "outputs": [
        {
          "output_type": "stream",
          "name": "stdout",
          "text": [
            "[2.12132034 2.12132034]\n",
            "[2.12132034 2.12132034]\n",
            "----------\n",
            "[ 0.70710678 -0.70710678]\n",
            "[ 0.70710678 -0.70710678]\n"
          ]
        }
      ],
      "source": [
        "print(mat.dot(xs[:,0]))     # Left side of the first equation\n",
        "print(lambdas[0] * xs[:,0]) # Right side of the first equation\n",
        "\n",
        "print(\"----------\")\n",
        "\n",
        "print(mat.dot(xs[:,1]))     # Left side of the second equation\n",
        "print(lambdas[1] * xs[:,1]) # Right side of the second equation"
      ]
    },
    {
      "cell_type": "code",
      "execution_count": 44,
      "metadata": {
        "id": "NJNiFtig-3km",
        "colab": {
          "base_uri": "https://localhost:8080/"
        },
        "outputId": "d66bc14a-92f7-482d-cbbf-7386b0af79ce"
      },
      "outputs": [
        {
          "output_type": "stream",
          "name": "stdout",
          "text": [
            "[[ 2.12132034  0.70710678]\n",
            " [ 2.12132034 -0.70710678]]\n",
            "[[ 2.12132034  0.70710678]\n",
            " [ 2.12132034 -0.70710678]]\n"
          ]
        }
      ],
      "source": [
        "# It can actually be calculated together\n",
        "# The results of each calculation are obtained for each column\n",
        "print(mat.dot(xs))\n",
        "print(lambdas * xs)"
      ]
    },
    {
      "cell_type": "markdown",
      "metadata": {
        "id": "HDZk7qth6vFf"
      },
      "source": [
        "<!-- JPN -->\n",
        "　出力される固有ベクトルは**列ベクトルが複数横に並べられた形**になっていることに注意して欲しい。\n",
        "\n",
        "　固有値や固有ベクトルは、（基盤人工知能ではなく）基盤データサイエンスで講義が予定されている**「主成分分析 (Principal Component Analysis; PCA) 」**などの手法で利用されるので、しっかりとおさえておきたい。"
      ]
    },
    {
      "cell_type": "markdown",
      "metadata": {
        "id": "s52G1OZKkGSQ"
      },
      "source": [
        "<!-- ENG -->\n",
        "　Note that the eigenvectors that are output are **in the form of multiple column vectors arranged side by side**.\n",
        "\n",
        "　Eigenvalues and eigenvectors are used in methods such as **Principal Component Analysis (PCA)**, which is planned to be taught in Fundamental Data Science (not Fundamental Artificial Intelligence), so it is important to be familiar with them."
      ]
    },
    {
      "cell_type": "markdown",
      "metadata": {
        "id": "yqcwDioiRMyF"
      },
      "source": [
        "------"
      ]
    },
    {
      "cell_type": "markdown",
      "metadata": {
        "deletable": false,
        "editable": false,
        "id": "UMdfdYcoXjLn"
      },
      "source": [
        "<!-- JPN -->\n",
        "##### 課題 4\n",
        "\n",
        "疑似逆行列 $(X^TX)^{-1}X^T$ を求める関数 `pseudo_inv(X)` を実装せよ。"
      ]
    },
    {
      "cell_type": "markdown",
      "metadata": {
        "deletable": false,
        "editable": false,
        "id": "7OZLWsd8kGSQ"
      },
      "source": [
        "<!-- ENG -->\n",
        "##### Exercise 4\n",
        "　Implement the function `pseudo_inv(X)` which computes the pseudo-inverse matrix $(X^TX)^{-1}X^T$."
      ]
    },
    {
      "cell_type": "code",
      "execution_count": 45,
      "metadata": {
        "tags": [],
        "id": "uIRCNZERi4GB"
      },
      "outputs": [],
      "source": [
        "# Write your answers here\n",
        "def pseudo_inv(X):\n",
        "  pseudo_inverse = np.linalg.pinv(X)\n",
        "  return pseudo_inverse"
      ]
    },
    {
      "cell_type": "markdown",
      "metadata": {
        "id": "NQRS_xUdRP-j"
      },
      "source": [
        "------"
      ]
    },
    {
      "cell_type": "markdown",
      "metadata": {
        "id": "bupU5bNcR7LX"
      },
      "source": [
        "<!-- JPN -->\n",
        "##### 課題 5\n",
        "\n",
        "　行列のサイズが $N \\times N$ であるとする。$N$が変化するとき、**逆行列の計算に必要な時間はどのように変化するだろうか？ 計算時間がおおよそ $N$ の何乗に比例するかを整数で答えよ**（ヒント： $N=2000$ の場合に1秒以下、$N=8000$ の場合には50秒程度の計算時間を要するので、その周辺で数回計算を行い、計算速度を推定するのが良い）。この課題については、各自のPCで実行するとウェブブラウザや他のプログラムに影響されてしまうため、**Google Colab上で実行せよ**。\n",
        "\n",
        "　時間計測は以下のコードで行うことができるので、適宜利用せよ。\n"
      ]
    },
    {
      "cell_type": "markdown",
      "metadata": {
        "id": "ejqM6fbckGSR"
      },
      "source": [
        "<!-- ENG -->\n",
        "##### Exercise 5\n",
        "\n",
        "　Suppose the size of the matrix is $N \\times N$. When $N$ varies, **how is the time required to calculate the inverse matrix changed? Answer an integer $k$ when calculation time $t$ is approximately proportional to $k$-th power of $N$**. (Hint: It takes less than 1 second for $N=2000$, and about 50 seconds for $N=8000$, so it's better to do a few calculations around there and estimate the calculation speed.) **This exercise must be done with Google Colab** since web browsers or other applications affect the results on your own PC.\n",
        "\n",
        "　Time measurement can be performed with the following code, so use it accordingly.\n"
      ]
    },
    {
      "cell_type": "code",
      "execution_count": 47,
      "metadata": {
        "id": "oWHG0FLU5RrV",
        "colab": {
          "base_uri": "https://localhost:8080/"
        },
        "outputId": "a7c73c36-dd04-4804-edbb-65d8b053d55d"
      },
      "outputs": [
        {
          "output_type": "stream",
          "name": "stdout",
          "text": [
            "33.71249866485596\n"
          ]
        }
      ],
      "source": [
        "import time\n",
        "import numpy as np\n",
        "ident = np.eye(8000) # np.eye(k): Create an identity matrix of k rows and k columns\n",
        "\n",
        "st = time.time() # Measurement of start time\n",
        "ident_inv = np.linalg.inv(ident)\n",
        "ed = time.time() # Measurement of end time\n",
        "print(ed - st) # Calculate the difference in seconds"
      ]
    },
    {
      "cell_type": "code",
      "source": [
        "import time\n",
        "import numpy as np\n",
        "ident = np.eye(2000) # np.eye(k): Create an identity matrix of k rows and k columns\n",
        "\n",
        "st = time.time() # Measurement of start time\n",
        "ident_inv = np.linalg.inv(ident)\n",
        "ed = time.time() # Measurement of end time\n",
        "print(ed - st) # Calculate the difference in seconds"
      ],
      "metadata": {
        "colab": {
          "base_uri": "https://localhost:8080/"
        },
        "id": "XRKeTOokVto1",
        "outputId": "68e8b4ed-a499-4895-a40f-603e9ab3fae1"
      },
      "execution_count": 50,
      "outputs": [
        {
          "output_type": "stream",
          "name": "stdout",
          "text": [
            "0.5713083744049072\n"
          ]
        }
      ]
    },
    {
      "cell_type": "markdown",
      "metadata": {
        "id": "Rdc4bQM-KwWM"
      },
      "source": [
        "<!-- JPN -->\n",
        "　なお、計算を行うためにかかる時間のことを**時間計算量 (time complexity)** と呼び、計算すべきデータのサイズ $N$ に対して、$N^2$ に比例する時間か、それ未満で計算できる場合は **時間計算量は $O(N^2)$ である** などと表現する（$O(\\cdot)$ をビッグオー記法と言う）。"
      ]
    },
    {
      "cell_type": "markdown",
      "metadata": {
        "id": "bsH2zJVxkGSR"
      },
      "source": [
        "<!-- ENG -->\n",
        "　The time it takes to perform a calculation is called **time complexity**, and if the calculation can be performed in a time proportional to or less than $N^2$ for a data size $N$ to be calculated, it is described that **the time complexity is $O(N^2)$** ($O(\\cdot)$ is referred to as Big O notation)."
      ]
    },
    {
      "cell_type": "markdown",
      "metadata": {
        "id": "hSEtOzrQi4GB"
      },
      "source": [
        "<!-- JPN -->\n",
        "<font color=orange> **このテキストセルに答案を記述せよ。** </font>"
      ]
    },
    {
      "cell_type": "markdown",
      "metadata": {
        "id": "jtORusomi4GB"
      },
      "source": [
        "<!-- ENG -->\n",
        "<font color=orange> **Write your answer in this text cell.** </font>\n",
        "\n",
        "The ratio of time taken for $N = 8000$ (33.71s) to $N = 2000$ (0.57s) is approximately $33.71/0.57 = 59.14$.\n",
        "\n",
        "$8000/2000 = 4$, indicating a factor of 4 increase in $N$.\n",
        "\n",
        "So, $k \\approx \\log _{4}(59.14) \\approx 2.94$.\n",
        "\n",
        "Rounded to the nearest integer, $k \\approx 3$.\n",
        "\n",
        "Hence, the calculation time $t$ is approximately proportional to the $t$-th power of $N$, where $k = 3$.\n",
        "\n",
        "\n"
      ]
    },
    {
      "cell_type": "markdown",
      "metadata": {
        "id": "iI7wXQOBVUg_"
      },
      "source": [
        "---------"
      ]
    },
    {
      "cell_type": "markdown",
      "metadata": {
        "id": "PDGf6BSzzM-q"
      },
      "source": [
        "<!-- JPN -->\n",
        "## 補足資料\n",
        "\n",
        "\n"
      ]
    },
    {
      "cell_type": "markdown",
      "metadata": {
        "id": "o6iw5pgmkGSU"
      },
      "source": [
        "<!-- ENG -->\n",
        "## Supplementary Material\n",
        "\n",
        "\n"
      ]
    },
    {
      "cell_type": "markdown",
      "metadata": {
        "id": "eix6-yXoFvvD"
      },
      "source": [
        "<!-- JPN -->\n",
        "### ※1 `np.array`と`np.matrix`\n",
        "　線形代数を行う上では要素積よりも行列積を行うことが多い。このような場合には `np.matrix` を用いると良く、これは `A * B` と記述するだけで `A`と`B`の行列積を算出してくれる。一方、本演習では、線形代数の文脈においても `np.array` を用いることとしている。これには以下のような理由がある。\n",
        "\n",
        "- 線形代数を行う以外にも、機械学習を行うためのデータの管理等でNumPyを使う。この場合は要素積を取る方が都合の良いケースがある。\n",
        "- 初めてNumPyに触れる受講生に`np.array` と `np.matrix` の使い分けを要求することは困難である。\n",
        "- `np.array` を用いた実例が世の中にあふれており、自学自習がより容易である。"
      ]
    },
    {
      "cell_type": "markdown",
      "metadata": {
        "id": "CcpL5LT3kGSU"
      },
      "source": [
        "<!-- ENG -->\n",
        "### S1 `np.array` and `np.matrix`\n",
        "　In doing linear algebra, we often do matrix products rather than element products. In such a case, you can use `np.matrix`, which will calculate the matrix product of `A` and `B` by simply writing `A * B`. However, in this exercise, we also use `np.array` in the context of linear algebra. There are several reasons for this.\n",
        "\n",
        "- In addition to doing linear algebra, NumPy is used to manage data, etc. for machine learning. Given this, there are cases in which it is more convenient to take the element product.\n",
        "- It is difficult to ask students who are new to NumPy to distinguish between `np.array` and `np.matrix`.\n",
        "- There are a lot of examples in the world where `np.arrays` can be used, and it makes self-study much easier."
      ]
    },
    {
      "cell_type": "markdown",
      "metadata": {
        "id": "xRDd51SmN7D2"
      },
      "source": [
        "<!-- JPN -->\n",
        "### ※2 `np.array()`の正体\n",
        "　本文では「関数のようなもの」と表現したが、実際には`np.array`は**クラス**であり、`np.array()`クラスの**コンストラクタ**、それによって作られる`vec`や`mat`などは**インスタンス**と呼ばれるものである。\n",
        "\n",
        "　このあたりについては、「オブジェクト指向」という単語でGoogle検索を行うと、理解が深まるかもしれない。"
      ]
    },
    {
      "cell_type": "markdown",
      "metadata": {
        "id": "FJzJdvZNkGSU"
      },
      "source": [
        "<!-- ENG -->\n",
        "### S2 What an `np.array ()` is\n",
        "　In this course text, we described it as \"something like a function\", but in reality, `np.array` is a **class**, and the **constructors** of the `np.array()` class and the `vec`, `mat`, etc. created by it are called **instances**.\n",
        "\n",
        "　For a better understanding of this, a Google search on the word \"object-oriented\" may help."
      ]
    },
    {
      "cell_type": "markdown",
      "metadata": {
        "id": "zxb6V-KgN59r"
      },
      "source": [
        "<!-- JPN -->\n",
        "### ※3 ブロードキャストについて\n",
        "　本文中で記載したブロードキャストが行われる条件は正確には不十分であり、ChainerのNumPy入門の説明を借りると「**2つの配列の各次元が同じ大きさになっているか、どちらかが1である**」ときにブロードキャストが可能である。"
      ]
    },
    {
      "cell_type": "markdown",
      "metadata": {
        "id": "sApRKY_8kGSV"
      },
      "source": [
        "<!-- ENG -->\n",
        "### S3 Broadcasting\n",
        "　The conditions for broadcast described in the text are not exactly sufficient. To borrow from the Intro to NumPy in Chainer Tutorial, broadcast is possible when **\"each dimension of the two arrays has the same size, if not one of them should be 1\"**."
      ]
    },
    {
      "cell_type": "code",
      "execution_count": 51,
      "metadata": {
        "id": "CqoMRWgCNmGM",
        "colab": {
          "base_uri": "https://localhost:8080/"
        },
        "outputId": "16700d0d-b9fb-434f-d484-a9acb8751628"
      },
      "outputs": [
        {
          "output_type": "stream",
          "name": "stdout",
          "text": [
            "(3, 2)\n",
            "(1, 2)\n",
            "(2, 1)\n"
          ]
        }
      ],
      "source": [
        "Ma = np.array([[1, 2], [3, 4], [5, 6]])\n",
        "Mb = np.array([[7, 8]])\n",
        "Mc = np.array([[9],[10]])\n",
        "print(Ma.shape)\n",
        "print(Mb.shape)\n",
        "print(Mc.shape)"
      ]
    },
    {
      "cell_type": "code",
      "execution_count": 52,
      "metadata": {
        "id": "L5_C1uF9NfJb",
        "colab": {
          "base_uri": "https://localhost:8080/"
        },
        "outputId": "8b5db49f-50bd-4eb2-b3e1-1a259d0e1aca"
      },
      "outputs": [
        {
          "output_type": "stream",
          "name": "stdout",
          "text": [
            "[[ 8 10]\n",
            " [10 12]\n",
            " [12 14]]\n"
          ]
        }
      ],
      "source": [
        "print(Ma + Mb) # (3,2) and (1,2) satisfy the conditions and can be calculated"
      ]
    },
    {
      "cell_type": "code",
      "execution_count": 53,
      "metadata": {
        "id": "Q5uoxqxJPEdI",
        "colab": {
          "base_uri": "https://localhost:8080/",
          "height": 184
        },
        "outputId": "2ce4b9ed-16c4-49ab-9ab8-891e3150b2cb"
      },
      "outputs": [
        {
          "output_type": "error",
          "ename": "ValueError",
          "evalue": "ignored",
          "traceback": [
            "\u001b[0;31m---------------------------------------------------------------------------\u001b[0m",
            "\u001b[0;31mValueError\u001b[0m                                Traceback (most recent call last)",
            "\u001b[0;32m<ipython-input-53-e8adaf4ce480>\u001b[0m in \u001b[0;36m<cell line: 1>\u001b[0;34m()\u001b[0m\n\u001b[0;32m----> 1\u001b[0;31m \u001b[0mprint\u001b[0m\u001b[0;34m(\u001b[0m\u001b[0mMa\u001b[0m \u001b[0;34m+\u001b[0m \u001b[0mMc\u001b[0m\u001b[0;34m)\u001b[0m \u001b[0;31m# Error occurred because (3,2) and (2,1) do not satisfy the conditions\u001b[0m\u001b[0;34m\u001b[0m\u001b[0;34m\u001b[0m\u001b[0m\n\u001b[0m",
            "\u001b[0;31mValueError\u001b[0m: operands could not be broadcast together with shapes (3,2) (2,1) "
          ]
        }
      ],
      "source": [
        "print(Ma + Mc) # Error occurred because (3,2) and (2,1) do not satisfy the conditions"
      ]
    },
    {
      "cell_type": "markdown",
      "metadata": {
        "id": "jLxOgrg6PLkB"
      },
      "source": [
        "<!-- JPN -->\n",
        "　2次元配列と1次元配列の間のブロードキャストの場合、**次元数の少ないベクトル側を`.reshape()`で行列にして**、同じ演算を行う。"
      ]
    },
    {
      "cell_type": "markdown",
      "metadata": {
        "id": "a4eXvYr3kGSW"
      },
      "source": [
        "<!-- ENG -->\n",
        "　In the case of a broadcast between a two dimensional array and a one dimensional array, perform the same operation **by making the vector that has fewer dimensions into a matrix using `.reshape()`**."
      ]
    },
    {
      "cell_type": "code",
      "execution_count": 54,
      "metadata": {
        "id": "DSl1Qgn6PI0Z",
        "colab": {
          "base_uri": "https://localhost:8080/"
        },
        "outputId": "60685a4d-1255-441e-eef8-6bad3e98fbe6"
      },
      "outputs": [
        {
          "output_type": "stream",
          "name": "stdout",
          "text": [
            "(2, 3)\n",
            "(3,)\n"
          ]
        }
      ],
      "source": [
        "M = np.array([[1, 2, 3], [4, 5, 6]])\n",
        "v = np.array([7, 8, 9])\n",
        "print(M.shape)\n",
        "print(v.shape)"
      ]
    },
    {
      "cell_type": "code",
      "execution_count": 55,
      "metadata": {
        "id": "UMBtXSwGP4pP",
        "colab": {
          "base_uri": "https://localhost:8080/"
        },
        "outputId": "d1d8a6e4-714b-421c-8de7-a391e0123e87"
      },
      "outputs": [
        {
          "output_type": "stream",
          "name": "stdout",
          "text": [
            "[[ 8 10 12]\n",
            " [11 13 15]]\n",
            "[[ 8 10 12]\n",
            " [11 13 15]]\n"
          ]
        }
      ],
      "source": [
        "print(M + v)\n",
        "print(M + v.reshape(1,-1)) # Same meaning"
      ]
    },
    {
      "cell_type": "markdown",
      "metadata": {
        "id": "Z9AYnkob4OMz"
      },
      "source": [
        "<!-- JPN -->\n",
        "　より詳しい情報は[公式リファレンス](https://docs.scipy.org/doc/numpy/user/basics.broadcasting.html)を参照してほしい。"
      ]
    },
    {
      "cell_type": "markdown",
      "metadata": {
        "id": "CxoXvj4tkGSX"
      },
      "source": [
        "<!-- ENG -->\n",
        "　For more detailed information, please refer to [the official reference](https://docs.scipy.org/doc/numpy/user/basics.broadcasting.html)."
      ]
    }
  ],
  "metadata": {
    "colab": {
      "provenance": []
    },
    "kernelspec": {
      "display_name": "Python 3.9.2 64-bit",
      "language": "python",
      "name": "python3"
    },
    "language_info": {
      "codemirror_mode": {
        "name": "ipython",
        "version": 3
      },
      "file_extension": ".py",
      "mimetype": "text/x-python",
      "name": "python",
      "nbconvert_exporter": "python",
      "pygments_lexer": "ipython3",
      "version": "3.6.13"
    },
    "otter": {
      "OK_FORMAT": true,
      "tests": {
        "q1": {
          "name": "q1",
          "points": 3,
          "suites": [
            {
              "cases": [],
              "scored": true,
              "setup": "",
              "teardown": "",
              "type": "doctest"
            }
          ]
        },
        "q2": {
          "name": "q2",
          "points": 2,
          "suites": [
            {
              "cases": [],
              "scored": true,
              "setup": "",
              "teardown": "",
              "type": "doctest"
            }
          ]
        },
        "q3": {
          "name": "q3",
          "points": 3,
          "suites": [
            {
              "cases": [],
              "scored": true,
              "setup": "",
              "teardown": "",
              "type": "doctest"
            }
          ]
        },
        "q4": {
          "name": "q4",
          "points": 3,
          "suites": [
            {
              "cases": [],
              "scored": true,
              "setup": "",
              "teardown": "",
              "type": "doctest"
            }
          ]
        }
      }
    },
    "vscode": {
      "interpreter": {
        "hash": "31f2aee4e71d21fbe5cf8b01ff0e069b9275f58929596ceb00d14d90e3e16cd6"
      }
    }
  },
  "nbformat": 4,
  "nbformat_minor": 0
}