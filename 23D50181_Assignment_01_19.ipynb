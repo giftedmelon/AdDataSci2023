{
  "cells": [
    {
      "cell_type": "markdown",
      "metadata": {
        "id": "1m2cM919WnWi"
      },
      "source": [
        "<!-- JPN -->\n",
        "# ニューラルネットワーク (Neural network)\n",
        "\n",
        "※本演習資料の二次配布・再配布はお断り致します。"
      ]
    },
    {
      "cell_type": "markdown",
      "metadata": {
        "id": "bpwwbs14torT"
      },
      "source": [
        "<!-- ENG -->\n",
        "# Neural network\n",
        "\n",
        "※Distribution or redistribution of these exercise materials without the copyright holder's permission is not permitted."
      ]
    },
    {
      "cell_type": "markdown",
      "metadata": {
        "id": "hJeDusaem7Qw"
      },
      "source": [
        "<!-- JPN -->\n",
        "　今回から、PyTorchを用いたニューラルネットワーク (Neural network) を用いた分類問題を学んでいく。本日の内容は以下の通りである。\n",
        "\n",
        "- **1 | 勾配降下法のおさらい**\n",
        "- **2 | PyTorchに向けたデータセットの準備**\n",
        "- **3 | `torch.nn.Linear()`を利用した単層パーセプトロンの実装**\n",
        "- **4 | `torch.tensor`を利用した単層パーセプトロン (Single layer perceptron) の実装**"
      ]
    },
    {
      "cell_type": "markdown",
      "metadata": {
        "id": "0c9Y1d00torZ"
      },
      "source": [
        "<!-- ENG -->\n",
        "　We will learn classification problems using neural networks with PyTorch. Today's contents are as follows.\n",
        "\n",
        "- **1 | Reviewing the steepest gradient descent**\n",
        "- **2 | Preparing a data set for PyTorch**\n",
        "- **3 | Implementing a single layer perceptron using `torch.nn.Linear()`.**\n",
        "- **4 | Implementing of a single layer perceptron using `torch.tensor`**\n"
      ]
    },
    {
      "cell_type": "markdown",
      "metadata": {
        "id": "gjDKatrppQz6"
      },
      "source": [
        "<!-- JPN -->\n",
        "## 1 | 勾配降下法のおさらい\n",
        "\n",
        "　ロジスティック回帰の内部実装で「勾配降下法 (steepest gradient descent)」に基づいて重みを最適化したことを覚えているだろうか。\n",
        "**勾配降下法はニューラルネットワークでも極めて重要**であるため、まずは勾配降下法のおさらいをしてみる。"
      ]
    },
    {
      "cell_type": "markdown",
      "metadata": {
        "id": "Hg_9DLCvtord"
      },
      "source": [
        "<!-- ENG -->\n",
        "## 1 | Reviewing the steepest gradient descent\n",
        "\n",
        "　Do you remember when we optimized the weights based on the steepest gradient descent in the internal implementation of logistic regression?\n",
        "Since **the steepest gradient descent is also extremely important in neural networks**, we will first review steepest gradient descent."
      ]
    },
    {
      "cell_type": "markdown",
      "metadata": {
        "id": "TQbXenIhxF-b"
      },
      "source": [
        "--------"
      ]
    },
    {
      "cell_type": "markdown",
      "metadata": {
        "deletable": false,
        "editable": false,
        "id": "lWEy4tlsnYH3"
      },
      "source": [
        "<!-- JPN -->\n",
        "##### 課題 1\n",
        "\n",
        "　勾配降下法は以下の式で重み $w$ を更新していくものだった。"
      ]
    },
    {
      "cell_type": "markdown",
      "metadata": {
        "deletable": false,
        "editable": false,
        "id": "1yuMiq5storg"
      },
      "source": [
        "<!-- ENG -->\n",
        "##### Exercise 1\n",
        "　Steepest gradient descent uses the following equation to update the weights $w$."
      ]
    },
    {
      "cell_type": "markdown",
      "metadata": {
        "deletable": false,
        "editable": false,
        "id": "6HDZKDxwnZdZ"
      },
      "source": [
        "$$ \\boldsymbol{w}^{(t+1)} = \\boldsymbol{w}^{(t)} - \\eta \\left.\\frac{\\partial J(\\boldsymbol{w})}{\\partial \\boldsymbol{w}}\\right|_{\\boldsymbol{w}=\\boldsymbol{w}^{(t)}}$$\n"
      ]
    },
    {
      "cell_type": "markdown",
      "metadata": {
        "deletable": false,
        "editable": false,
        "id": "agfJlMjzqp0y"
      },
      "source": [
        "<!-- JPN -->\n",
        "　$w$ は1次元で $J(w) = w^2 + 2w$ であるとき、以下のコードを埋めて勾配降下法の関数 `optimize()` を完成させよ。（ $w=-1$ に収束することを確認することで実装が正しいか推定すると良い）"
      ]
    },
    {
      "cell_type": "markdown",
      "metadata": {
        "deletable": false,
        "editable": false,
        "id": "cKYgcxl9tork"
      },
      "source": [
        "<!-- ENG -->\n",
        "　When $w$ is one dimensional and $J(w) = w^2 + 2w$, complete the steepest gradient descent `optimize()` by filling ellipses in the following code. (It is good to estimate whether the implementation is correct by confirming that it converges to $w=-1$)"
      ]
    },
    {
      "cell_type": "code",
      "execution_count": 1,
      "metadata": {
        "id": "28Q4l06xqpN3",
        "tags": [],
        "colab": {
          "base_uri": "https://localhost:8080/"
        },
        "outputId": "c30d7e56-3789-444f-9b5e-2ab87a350b3d"
      },
      "outputs": [
        {
          "output_type": "stream",
          "name": "stdout",
          "text": [
            "-0.9999999995925928\n"
          ]
        }
      ],
      "source": [
        "# CODE CELL FOR YOUR ANSWER\n",
        "\n",
        "# Function to calculate gradient\n",
        "# Differentiate dJ(w)/dw and implement gradient() according to the result.\n",
        "def gradient(w):\n",
        "    return 2 * w + 2\n",
        "\n",
        "def optimize(w_initial, eta=0.1, steps=100):\n",
        "    w_now = w_initial\n",
        "    for i in range(steps):\n",
        "        gradient_at_w = gradient(w_now)\n",
        "        w_now = w_now - eta * gradient_at_w\n",
        "\n",
        "    return w_now\n",
        "\n",
        "print(optimize(1))"
      ]
    },
    {
      "cell_type": "markdown",
      "metadata": {
        "id": "p3wDWM-ztrs9"
      },
      "source": [
        "--------------"
      ]
    },
    {
      "cell_type": "markdown",
      "metadata": {
        "id": "AdgWW_m_d2oN"
      },
      "source": [
        "<!-- JPN -->\n",
        "## 2 | PyTorchに向けたデータセットの準備"
      ]
    },
    {
      "cell_type": "markdown",
      "metadata": {
        "id": "kCfq3_Catorm"
      },
      "source": [
        "<!-- ENG -->\n",
        "## 2 | Preparing a data set for PyTorch"
      ]
    },
    {
      "cell_type": "markdown",
      "metadata": {
        "id": "fYfNzyR5FEop"
      },
      "source": [
        "<!-- JPN -->\n",
        "### 2.1 | PyTorchの準備\n",
        "\n",
        "　この演習においては、ニューラルネットワークを構築するためのPythonライブラリとして、PyTorchを利用する（**補足資料 ※1**）。ニューラルネットワークのライブラリはバージョンが頻繁に更新されるため、再現性の担保のためにも常にバージョンを確認しておくと良い。\n"
      ]
    },
    {
      "cell_type": "markdown",
      "metadata": {
        "id": "JpekWP8Rtorm"
      },
      "source": [
        "<!-- ENG -->\n",
        "### 2.1 | Preparing PyTorch\n",
        "\n",
        "　In this exercise, we will use PyTorch as a Python library for building neural networks (**Supplementary Material S1**). Since neural network library versions are frequently updated, it is always a good idea to check the version to ensure reproducibility.\n"
      ]
    },
    {
      "cell_type": "code",
      "execution_count": 2,
      "metadata": {
        "id": "ef-hlG7AG_XN"
      },
      "outputs": [],
      "source": [
        "# In Google Colab, PyTorch is installed from the beginning.\n",
        "import torch"
      ]
    },
    {
      "cell_type": "code",
      "execution_count": 3,
      "metadata": {
        "id": "ZBjcPa-aHy0t",
        "colab": {
          "base_uri": "https://localhost:8080/"
        },
        "outputId": "78e50f1b-9203-4def-af86-4de6751c89bf"
      },
      "outputs": [
        {
          "output_type": "stream",
          "name": "stdout",
          "text": [
            "2.1.0+cu121\n"
          ]
        }
      ],
      "source": [
        "# Check the library version\n",
        "print(torch.__version__)"
      ]
    },
    {
      "cell_type": "markdown",
      "metadata": {
        "id": "L-gPrKaY18Tk"
      },
      "source": [
        "<!-- JPN -->\n",
        "### 2.2 | データセットの作成"
      ]
    },
    {
      "cell_type": "markdown",
      "metadata": {
        "id": "b3vR5jFWtorn"
      },
      "source": [
        "<!-- ENG -->\n",
        "### 2.2 | Creating a data set"
      ]
    },
    {
      "cell_type": "markdown",
      "metadata": {
        "id": "QQ1kUQbExF-e"
      },
      "source": [
        "<!-- JPN -->\n",
        "　ここでは、仮想的なデータセットを作成して、これを題材にニューラルネットワークを学んでいくことにする。"
      ]
    },
    {
      "cell_type": "markdown",
      "metadata": {
        "id": "EPlu6sx3xF-e"
      },
      "source": [
        "<!-- ENG -->\n",
        "　Here, we will create a virtual data set, and use this as a subject to learn about neural networks."
      ]
    },
    {
      "cell_type": "code",
      "execution_count": 4,
      "metadata": {
        "id": "Dw4JberG2nAe"
      },
      "outputs": [],
      "source": [
        "# import packages\n",
        "import numpy as np\n",
        "import matplotlib.pyplot as plt"
      ]
    },
    {
      "cell_type": "code",
      "execution_count": 5,
      "metadata": {
        "id": "L1nwXMbu2v96",
        "colab": {
          "base_uri": "https://localhost:8080/",
          "height": 450
        },
        "outputId": "a37829f6-84dd-4063-f97d-0c8f3ba5a8f9"
      },
      "outputs": [
        {
          "output_type": "display_data",
          "data": {
            "text/plain": [
              "<Figure size 640x480 with 1 Axes>"
            ],
            "image/png": "[encoded data removed]"
          },
          "metadata": {}
        }
      ],
      "source": [
        "# Create virtual training data\n",
        "np.random.seed(0)\n",
        "n = 40\n",
        "X_train = np.random.randn(n, 2)\n",
        "\n",
        "noise = 1.6 * np.random.randn(n)                        # The result(s) contains noise\n",
        "y_train = - X_train[:,0] + 2 * X_train[:,1] + noise > 0 # -x1 + 2 x2 > 0 is defined as positive\n",
        "\n",
        "# Show a scatter plot of the observed data\n",
        "plt.scatter(X_train[:,0][y_train==True],X_train[:,1][y_train==True],\n",
        "            marker=\"o\", label=\"positives\")           # Show positive (y = True) for o\n",
        "plt.scatter(X_train[:,0][y_train==False],X_train[:,1][y_train==False],\n",
        "            marker=\"x\", label=\"negatives\")           # Show negative (y = False) for x\n",
        "plt.xlabel('$x_1$')\n",
        "plt.ylabel('$x_2$')\n",
        "plt.legend(loc=\"lower left\")\n",
        "plt.show()"
      ]
    },
    {
      "cell_type": "markdown",
      "metadata": {
        "id": "8IqA6htpRgSl"
      },
      "source": [
        "<!-- JPN -->\n",
        "### 2.3 | PyTorch用のデータセットの準備\n",
        "\n",
        "　PyTorchでは、学習に用いる入力 $X$ および出力 $y$ について、以下の条件を満たす必要がある。\n",
        "\n",
        "* 入力・出力はいずれもPyTorchのデータ形式である `torch.tensor` で表現されている\n",
        "* 入力・出力は**いずれも 行列**である\n",
        "\n",
        "特に、**出力 $y$ の形式はscikit-learnと異なって行列**である必要があることに注意しよう。この条件を満たすように、作成したデータ `X_train` および `y_train` をPyTorch用に変換する。\n",
        "\n"
      ]
    },
    {
      "cell_type": "markdown",
      "metadata": {
        "id": "8jm8gLfwtorp"
      },
      "source": [
        "<!-- ENG -->\n",
        "### 2.3 | Preparing a data set for PyTorch\n",
        "\n",
        "　PyTorch requires the following conditions to be satisfied for the input $X$ and output $y$ used for training.\n",
        "\n",
        "* Both input and output are represented in the PyTorch data format, `torch.tensor`.\n",
        "* Both input and output are **matrices**.\n",
        "\n",
        "In particular, note that **the format of the output $y$ needs to be a matrix, unlike in scikit-learn**. To satisfy this condition, we will convert the created data, `X_train` and `y_train`, for PyTorch.\n",
        "\n"
      ]
    },
    {
      "cell_type": "code",
      "execution_count": 6,
      "metadata": {
        "id": "VEcVqEvFbQSK"
      },
      "outputs": [],
      "source": [
        "###### Prepare the data ######\n",
        "\n",
        "# Convert y from a vector to a matrix\n",
        "Y_train = y_train.reshape(-1,1)\n",
        "\n",
        "# Convert NumPy arrays into a data format for PyTorch\n",
        "# For training, X and Y are represented by real values (dtype=torch.float)\n",
        "X_torch = torch.tensor(X_train, dtype=torch.float)\n",
        "Y_torch = torch.tensor(Y_train, dtype=torch.float)"
      ]
    },
    {
      "cell_type": "markdown",
      "metadata": {
        "id": "hQSe-n7wF3fY"
      },
      "source": [
        "<!-- JPN -->\n",
        "`torch.tensor` は、現時点ではPyTorch用の `np.array` のようなものであると考えればよい。\n",
        "\n",
        "　`Y_torch` を実数値 `float` で定義していることに違和感を持つ人もいるかもしれない。`y_train`を生成した段階では**正例は1、負例は0という0/1値で表現していた**が、この **`Y_torch` の場合は、正例である確率が保存されている**と考えてほしい。正例として生成したデータの正例である確率は1.0、負例として生成したデータの正例である確率は0.0なので、「たまたま」元の0/1値を実数値化すれば確率と考えることができる。"
      ]
    },
    {
      "cell_type": "markdown",
      "metadata": {
        "id": "dAK8F1Fttorp"
      },
      "source": [
        "<!-- ENG -->\n",
        "You can think of `torch.tensor` as being like `np.array` for PyTorch at this point.\n",
        "\n",
        "　Some people may feel confused about the fact that `Y_torch` is defined as a real-value `float`. At the stage where `y_train` was created, **the positive example was represented by 1 and the negative example was represented by 0**, which is a 0/1 value, but **in the case of `Y_torch`, imagine that the probability of being a positive example is stored**. Since the probability of the data generated as a positive example is 1.0, and the probability of the data generated as a negative example is 0.0, we can think of it as a probability that \"happened\" to be created simply by converting the original 0/1 value into a real value."
      ]
    },
    {
      "cell_type": "markdown",
      "metadata": {
        "id": "AD-S_9eIKGUb"
      },
      "source": [
        "<!-- JPN -->\n",
        "　これで必要最低限PyTorchで処理できるような状態になったが、ニューラルネットワークでは一般的にデータの順番をランダムに変えて、何度も学習を行う。 `X` と `Y` の対応関係がぐちゃぐちゃになってしまわないような仕組みとしてPytorchには `Dataset` と `DataLoader` という仕組みが用意されているので、これも準備しよう。"
      ]
    },
    {
      "cell_type": "markdown",
      "metadata": {
        "id": "5T7tg3r3torq"
      },
      "source": [
        "<!-- ENG -->\n",
        "　Now that it can be processed by PyTorch at the necessary minimum, neural networks generally change the order of data randomly and perform training many times. Pytorch has a `Dataset` and `DataLoader` mechanism to prevent the correspondence between `X` and `Y` from getting messed up, so let's prepare these as well."
      ]
    },
    {
      "cell_type": "code",
      "execution_count": 7,
      "metadata": {
        "id": "2jiSSKysKFYi"
      },
      "outputs": [],
      "source": [
        "# This will hold the combination of X and Y.\n",
        "dataset = torch.utils.data.TensorDataset(X_torch, Y_torch)\n",
        "\n",
        "# Output (batch_size) combinations each of X and Y.\n",
        "# shuffle=True: Change the order of the data each time\n",
        "dataloader = torch.utils.data.DataLoader(dataset, batch_size=1, shuffle=True)"
      ]
    },
    {
      "cell_type": "markdown",
      "metadata": {
        "id": "_Zp1OxoVAH_o"
      },
      "source": [
        "<img src=\"https://i.imgur.com/Gdb5Zev.png\" width=50%>"
      ]
    },
    {
      "cell_type": "markdown",
      "metadata": {
        "id": "HV7jH5AqtVpI"
      },
      "source": [
        "<!-- JPN -->\n",
        "　試しに使ってみよう。"
      ]
    },
    {
      "cell_type": "markdown",
      "metadata": {
        "id": "aVTvJCYftorr"
      },
      "source": [
        "<!-- ENG -->\n",
        "　Let's try it out."
      ]
    },
    {
      "cell_type": "code",
      "execution_count": 8,
      "metadata": {
        "id": "7cjrYbtEtKLk",
        "colab": {
          "base_uri": "https://localhost:8080/"
        },
        "outputId": "c0dd169f-f563-4dcb-89ac-72101cdfbaa3"
      },
      "outputs": [
        {
          "output_type": "stream",
          "name": "stdout",
          "text": [
            "======\n",
            "X is tensor([[0.1440, 1.4543]])\n",
            "Y is tensor([[1.]])\n",
            "======\n",
            "X is tensor([[-0.5108, -1.1806]])\n",
            "Y is tensor([[0.]])\n",
            "======\n",
            "X is tensor([[0.4439, 0.3337]])\n",
            "Y is tensor([[0.]])\n",
            "======\n",
            "X is tensor([[1.2303, 1.2024]])\n",
            "Y is tensor([[1.]])\n",
            "======\n",
            "X is tensor([[-1.0486, -1.4200]])\n",
            "Y is tensor([[1.]])\n",
            "======\n",
            "X is tensor([[-1.7063,  1.9508]])\n",
            "Y is tensor([[1.]])\n",
            "======\n",
            "X is tensor([[-0.6725, -0.3596]])\n",
            "Y is tensor([[1.]])\n",
            "======\n",
            "X is tensor([[1.7641, 0.4002]])\n",
            "Y is tensor([[0.]])\n",
            "======\n",
            "X is tensor([[-0.3873, -0.3023]])\n",
            "Y is tensor([[1.]])\n",
            "======\n",
            "X is tensor([[0.1549, 0.3782]])\n",
            "Y is tensor([[1.]])\n",
            "======\n",
            "X is tensor([[ 0.4023, -0.6848]])\n",
            "Y is tensor([[0.]])\n",
            "======\n",
            "X is tensor([[-0.8708, -0.5788]])\n",
            "Y is tensor([[1.]])\n",
            "======\n",
            "X is tensor([[-0.3479,  0.1563]])\n",
            "Y is tensor([[1.]])\n",
            "======\n",
            "X is tensor([[0.9787, 2.2409]])\n",
            "Y is tensor([[1.]])\n",
            "======\n",
            "X is tensor([[-0.8131, -1.7263]])\n",
            "Y is tensor([[0.]])\n",
            "======\n",
            "X is tensor([[-1.6139, -0.2127]])\n",
            "Y is tensor([[0.]])\n",
            "======\n",
            "X is tensor([[ 1.1394, -1.2348]])\n",
            "Y is tensor([[0.]])\n",
            "======\n",
            "X is tensor([[ 1.8676, -0.9773]])\n",
            "Y is tensor([[0.]])\n",
            "======\n",
            "X is tensor([[ 0.8644, -0.7422]])\n",
            "Y is tensor([[0.]])\n",
            "======\n",
            "X is tensor([[ 0.9501, -0.1514]])\n",
            "Y is tensor([[0.]])\n",
            "======\n",
            "X is tensor([[-0.3116,  0.0562]])\n",
            "Y is tensor([[1.]])\n",
            "======\n",
            "X is tensor([[ 0.0458, -0.1872]])\n",
            "Y is tensor([[1.]])\n",
            "======\n",
            "X is tensor([[0.0665, 0.3025]])\n",
            "Y is tensor([[1.]])\n",
            "======\n",
            "X is tensor([[ 0.3131, -0.8541]])\n",
            "Y is tensor([[0.]])\n",
            "======\n",
            "X is tensor([[ 0.1774, -0.4018]])\n",
            "Y is tensor([[0.]])\n",
            "======\n",
            "X is tensor([[ 2.2698, -1.4544]])\n",
            "Y is tensor([[0.]])\n",
            "======\n",
            "X is tensor([[-0.6343, -0.3627]])\n",
            "Y is tensor([[1.]])\n",
            "======\n",
            "X is tensor([[0.7291, 0.1290]])\n",
            "Y is tensor([[1.]])\n",
            "======\n",
            "X is tensor([[-0.0282,  0.4283]])\n",
            "Y is tensor([[0.]])\n",
            "======\n",
            "X is tensor([[-1.2528,  0.7775]])\n",
            "Y is tensor([[1.]])\n",
            "======\n",
            "X is tensor([[-0.8955,  0.3869]])\n",
            "Y is tensor([[1.]])\n",
            "======\n",
            "X is tensor([[ 1.4941, -0.2052]])\n",
            "Y is tensor([[0.]])\n",
            "======\n",
            "X is tensor([[1.5328, 1.4694]])\n",
            "Y is tensor([[1.]])\n",
            "======\n",
            "X is tensor([[-0.9073,  0.0519]])\n",
            "Y is tensor([[1.]])\n",
            "======\n",
            "X is tensor([[-0.5097, -0.4381]])\n",
            "Y is tensor([[0.]])\n",
            "======\n",
            "X is tensor([[-2.5530,  0.6536]])\n",
            "Y is tensor([[1.]])\n",
            "======\n",
            "X is tensor([[0.7610, 0.1217]])\n",
            "Y is tensor([[1.]])\n",
            "======\n",
            "X is tensor([[-1.6302,  0.4628]])\n",
            "Y is tensor([[1.]])\n",
            "======\n",
            "X is tensor([[-0.1032,  0.4106]])\n",
            "Y is tensor([[1.]])\n",
            "======\n",
            "X is tensor([[-0.8878, -1.9808]])\n",
            "Y is tensor([[0.]])\n"
          ]
        }
      ],
      "source": [
        "## dataloader can be used like an array in a 'for' loop\n",
        "## If shuffle=True, the order of the data will change each time it is executed.\n",
        "for X, Y in dataloader:\n",
        "  print(\"======\")\n",
        "  print(\"X is\", X)\n",
        "  print(\"Y is\", Y)"
      ]
    },
    {
      "cell_type": "markdown",
      "metadata": {
        "id": "H43NDBU2fd7R"
      },
      "source": [
        "<!-- JPN -->\n",
        "## 3 | `torch.nn.Linear()`を利用した単層パーセプトロンの実装\n",
        "\n",
        "　それでは、さっそく単層パーセプトロン (single layer perceptron; SLP) を使った学習と予測を行おう。"
      ]
    },
    {
      "cell_type": "markdown",
      "metadata": {
        "id": "FUcKfuN7torr"
      },
      "source": [
        "<!-- ENG -->\n",
        "## 3 | Implementation of a single layer perceptron using `torch.nn.Linear()`\n",
        "\n",
        "　Let's get started on training and prediction using the single layer perceptron (SLP)."
      ]
    },
    {
      "cell_type": "markdown",
      "metadata": {
        "id": "ISy-Skcaeh1E"
      },
      "source": [
        "<!-- JPN -->\n",
        "### 3.1 | 単層パーセプトロンの準備\n"
      ]
    },
    {
      "cell_type": "markdown",
      "metadata": {
        "id": "DDssyWtptorr"
      },
      "source": [
        "<!-- ENG -->\n",
        "### 3.1 | Preparing a single layer perceptron\n"
      ]
    },
    {
      "cell_type": "markdown",
      "metadata": {
        "id": "Wb2GdZfrNxTF"
      },
      "source": [
        "<!-- JPN -->\n",
        "　ニューラルネットワークはこれまでに学んだ予測手法に比べると設定の自由度が格段に高く（設定しなければならない事項が格段に多く）、例えば単層パーセプトロンで学習・予測を行うためには以下の要素が必要になる。\n",
        "\n",
        "- 単層パーセプトロンのモデルの定義\n",
        "- 誤差関数の定義\n",
        "- 重み $\\boldsymbol{w}$ の更新方法の決定\n",
        "\n",
        "これらを1つずつ設定していこう。"
      ]
    },
    {
      "cell_type": "markdown",
      "metadata": {
        "id": "LSYuCUmttors"
      },
      "source": [
        "<!-- ENG -->\n",
        "　Neural networks have a much higher degree of freedom in their configuration than the prediction methods we have learned so far (there are much more things that need to be configured), and for example, the following are required in order to train and predict with a single layer perceptron.\n",
        "\n",
        "- Define the model of a single layer perceptron\n",
        "- Define the loss function\n",
        "- Determine how to update the $\\boldsymbol{w}$ (weights)\n",
        "\n",
        "Let's set these up one by one."
      ]
    },
    {
      "cell_type": "markdown",
      "metadata": {
        "id": "7UfcI4EtUauh"
      },
      "source": [
        "<!-- JPN -->\n",
        "#### 3.1.1 | 単層パーセプトロンのモデルの定義"
      ]
    },
    {
      "cell_type": "markdown",
      "metadata": {
        "id": "_hN0FR4otors"
      },
      "source": [
        "<!-- ENG -->\n",
        "#### 3.1.1 | Define the model of a single layer perceptron"
      ]
    },
    {
      "cell_type": "code",
      "execution_count": 9,
      "metadata": {
        "id": "QGsa_D6XXtre"
      },
      "outputs": [],
      "source": [
        "torch.manual_seed(0) # Make sure you get the same results.\n",
        "\n",
        "# Define the single layer NN (2 inputs, 1 output, with constant term)\n",
        "slp = torch.nn.Sequential(\n",
        "  torch.nn.Linear(2, 1, bias=True),\n",
        ")\n",
        "\n",
        "## Same as the following code\n",
        "# slp = torch.nn.Sequential()\n",
        "# slp.add_module(\"fc1\", torch.nn.Linear(2, 1, bias=True))"
      ]
    },
    {
      "cell_type": "markdown",
      "metadata": {
        "id": "-DH63r5unc3c"
      },
      "source": [
        "<!-- JPN -->\n",
        "　以上のコードにより、変数 `slp` に1層のパーセプトロンが準備された。"
      ]
    },
    {
      "cell_type": "markdown",
      "metadata": {
        "id": "cBzsD742tort"
      },
      "source": [
        "<!-- ENG -->\n",
        "　With the above code, a single layer perceptron was prepared for the variable `slp`."
      ]
    },
    {
      "cell_type": "markdown",
      "metadata": {
        "id": "uqbaTYQOAUB0"
      },
      "source": [
        "<!-- BOTH -->\n",
        "![Figure 1](https://i.imgur.com/nd35Ebm.png)"
      ]
    },
    {
      "cell_type": "markdown",
      "metadata": {
        "id": "HcS6PW0dZK72"
      },
      "source": [
        "<!-- JPN -->\n",
        "　PyTorchの実装では **`torch.nn.Linear` の中に重みパラメータ $\\boldsymbol{w}, b$ に対応する `weight` および `bias` が存在**しており、ランダムな値で初期化されている。"
      ]
    },
    {
      "cell_type": "markdown",
      "metadata": {
        "id": "C39dE6Sitort"
      },
      "source": [
        "<!-- ENG -->\n",
        "　In PyTorch implementation, **there are `weights` and `bias` corresponding to the weight parameters $\\boldsymbol{w}, b$ in `torch.nn.Linear`**, and they are initialized with random values."
      ]
    },
    {
      "cell_type": "code",
      "execution_count": 10,
      "metadata": {
        "id": "xgf4ih0AA9Aq",
        "colab": {
          "base_uri": "https://localhost:8080/"
        },
        "outputId": "71c8c182-32df-439f-940a-66d4ad9e9110"
      },
      "outputs": [
        {
          "output_type": "stream",
          "name": "stdout",
          "text": [
            "OrderedDict([('0.weight', tensor([[-0.0053,  0.3793]])), ('0.bias', tensor([-0.5820]))])\n"
          ]
        }
      ],
      "source": [
        "# Check the values of weight and bias\n",
        "print(slp.state_dict())"
      ]
    },
    {
      "cell_type": "markdown",
      "metadata": {
        "id": "eaKPR__4UhYH"
      },
      "source": [
        "<!-- JPN -->\n",
        "　`0.weight`などと書かれているが、これは、0層目（一番最初の層）の重み $\\boldsymbol{w}$ という意味である。また、`0.bias`とは一番最初の層のバイアス項である。この層は $y = \\boldsymbol{w}^T \\cdot \\boldsymbol{x} + b$ を計算することになる。"
      ]
    },
    {
      "cell_type": "markdown",
      "metadata": {
        "id": "H2oVf1qHtoru"
      },
      "source": [
        "<!-- ENG -->\n",
        "　`0.weight` means the weight of the 0 layer (the first layer) $\\boldsymbol{w}$. Also, `0.bias` is the bias term of the first layer. This layer involves calculating $y = \\boldsymbol{w}^T \\cdot \\boldsymbol{x} + b$."
      ]
    },
    {
      "cell_type": "markdown",
      "metadata": {
        "id": "MMC3giNqUq3n"
      },
      "source": [
        "<!-- JPN -->\n",
        "#### 3.1.2 | 誤差関数の定義"
      ]
    },
    {
      "cell_type": "markdown",
      "metadata": {
        "id": "WAQp7t5ftoru"
      },
      "source": [
        "<!-- ENG -->\n",
        "#### 3.1.2 | Define the loss function"
      ]
    },
    {
      "cell_type": "markdown",
      "metadata": {
        "id": "0ha6BlDHXCb_"
      },
      "source": [
        "<!-- JPN -->\n",
        "　**分類予測の損失関数（誤差関数）は交差エントロピー誤差 (cross entropy loss, $H(y, \\hat{y})$)** が一般的に使われる。二値分類の場合は $y$ が「正例である真の確率（正例であれば1、負例であれば0）」、$\\hat y$ が「予測された正例である確率」として、以下のようになる。"
      ]
    },
    {
      "cell_type": "markdown",
      "metadata": {
        "id": "aSybec0CxF-l"
      },
      "source": [
        "<!-- ENG -->\n",
        "　**The cross entropy loss $H(y, \\hat{y})$) is commonly used as the error function (loss function) for classification prediction**. In the case of binary classification, $y$ is the \"true probability of being a positive example (1 for positive examples, 0 for negative examples)\" and $\\hat y$ is the \"predicted probability of being a positive example\", as follows."
      ]
    },
    {
      "cell_type": "markdown",
      "metadata": {
        "id": "6e2CrklkxF-l"
      },
      "source": [
        "$$\\begin{aligned}\n",
        "H(y, \\hat{y}) & = -y\\log(\\hat{y}) -(1-y)\\log(1-\\hat{y})\n",
        "\\end{aligned}$$"
      ]
    },
    {
      "cell_type": "markdown",
      "metadata": {
        "id": "XPLPrGsTxF-l"
      },
      "source": [
        "<!-- JPN -->\n",
        "ただし、ニューラルネットワークの出力は確率の定義（ $0 \\le p \\le 1$ ）を満たさない可能性があるので、あらかじめ**シグモイド関数 $\\sigma(a) = \\frac{1}{1+e^{-a}}$ に通して確率の定義を満たさせた $\\hat y_{proba}$ に変換してから**、交差エントロピー誤差を計算する。"
      ]
    },
    {
      "cell_type": "markdown",
      "metadata": {
        "id": "njhheGlWtorv"
      },
      "source": [
        "<!-- ENG -->\n",
        "However, since the output of the neural network may not satisfy the definition of probability ($0 \\le p \\le 1$), **it is converted to $\\hat y_{proba}$, which is passed through the sigmoid function $\\sigma(a) = \\frac{1}{1+e^{-a}}$ in advance to satisfy the definition of probability**, and then the cross entropy loss is calculated."
      ]
    },
    {
      "cell_type": "code",
      "execution_count": 11,
      "metadata": {
        "id": "9TR-IZjaUzR7"
      },
      "outputs": [],
      "source": [
        "# Define a function to calculate the cross entropy loss\n",
        "# Binary Cross Entropy is abbreviated as BCE.\n",
        "# Numerical conversion by sigmoid function is also carried out in this function\n",
        "loss_fn = torch.nn.BCEWithLogitsLoss()"
      ]
    },
    {
      "cell_type": "markdown",
      "metadata": {
        "id": "1TSja2lJUxOp"
      },
      "source": [
        "<!-- JPN -->\n",
        "#### 3.1.3 | 重み $\\boldsymbol{w}$ の更新方法の決定"
      ]
    },
    {
      "cell_type": "markdown",
      "metadata": {
        "id": "COLQC1BBtorv"
      },
      "source": [
        "<!-- ENG -->\n",
        "#### 3.1.3 | Determine how to update the $\\boldsymbol{w}$ (weights)"
      ]
    },
    {
      "cell_type": "markdown",
      "metadata": {
        "id": "0sD_97SlYSnH"
      },
      "source": [
        "<!-- JPN -->\n",
        "　重みの更新方法を定義したものをoptimizerと呼ぶ。ここでは最も単純な**確率的勾配降下法 (stochastic gradient descent; SGD)** を行うためのoptimizerを準備する。"
      ]
    },
    {
      "cell_type": "markdown",
      "metadata": {
        "id": "ICvHiFzrtorv"
      },
      "source": [
        "<!-- ENG -->\n",
        "　The definition of how to update the weights is called the optimizer. Here, we will prepare an optimizer to perform the simplest **stochastic gradient descent (SGD) method**."
      ]
    },
    {
      "cell_type": "code",
      "execution_count": 12,
      "metadata": {
        "id": "V6cg-cJiJ_vh"
      },
      "outputs": [],
      "source": [
        "# Optimization of w using stochastic gradient descent (SGD)\n",
        "# The lr (learning rate) corresponds to eta\n",
        "optimizer = torch.optim.SGD(slp.parameters(), lr=0.1)"
      ]
    },
    {
      "cell_type": "markdown",
      "metadata": {
        "id": "8H-kDayeenoa"
      },
      "source": [
        "<!-- JPN -->\n",
        "### 3.2 | 学習と予測の実行\n"
      ]
    },
    {
      "cell_type": "markdown",
      "metadata": {
        "id": "2THA40j-torw"
      },
      "source": [
        "<!-- ENG -->\n",
        "### 3.2 | Training and prediction execution\n"
      ]
    },
    {
      "cell_type": "markdown",
      "metadata": {
        "id": "5JXgx0JZBEAL"
      },
      "source": [
        "<!-- JPN -->\n",
        "　それでは、次に示すコードを用いて学習を行ってみる。このコードは以下のような手順を踏んでいる。\n",
        "1. 以下2.-6.をepoch数だけ繰り返す\n",
        "2. 以下3.-6.をデータの個数だけ繰り返す\n",
        "3. あるデータ `data_X` を単層パーセプトロンに入力し、予測結果 `Y_pred_val` を取得する\n",
        "4. 実際の `data_Y` と予測結果を比較し、損失 `loss` を計算する。\n",
        "5. 損失を元に、誤差逆伝播法 (backpropagation) で勾配 $\\frac{\\partial J(\\boldsymbol{w})}{\\partial \\boldsymbol{w}}$を計算する (`loss.backward()`)\n",
        "6. `loss.backward()` の結果を見て、モデル内部の `weight` や `bias` を更新する (`optimizer.step()`)"
      ]
    },
    {
      "cell_type": "markdown",
      "metadata": {
        "id": "FtiCXHQ1torw"
      },
      "source": [
        "<!-- ENG -->\n",
        "　Now, let's try training with the following code. This code goes through the following steps.\n",
        "1. Repeat steps 2-6 below for the number of epochs\n",
        "2. Repeat steps 3-6 below for the number of data\n",
        "3. Input some data for `data_X` into a single layer perceptron and get the prediction result `Y_pred_val`\n",
        "4. Compare the actual `data_Y` with the prediction results and calculate the `loss`\n",
        "5. Based on the loss, calculate the gradient $\\frac{\\partial J(\\boldsymbol{w})}{\\partial \\boldsymbol{w}}$ using backpropagation (`loss.backward()`)\n",
        "6. Update the `weight` and `bias` in the model by looking at the result of `loss.backward()` (`optimizer.step()`)"
      ]
    },
    {
      "cell_type": "code",
      "execution_count": 13,
      "metadata": {
        "id": "-cS9u2D91Xy_",
        "colab": {
          "base_uri": "https://localhost:8080/"
        },
        "outputId": "ddb304c7-6114-41e2-875e-a6dfac60d99a"
      },
      "outputs": [
        {
          "output_type": "stream",
          "name": "stdout",
          "text": [
            "0 OrderedDict([('0.weight', tensor([[-0.4291,  0.8612]])), ('0.bias', tensor([-0.0903]))])\n",
            "1 OrderedDict([('0.weight', tensor([[-0.7104,  1.1327]])), ('0.bias', tensor([0.2964]))])\n",
            "2 OrderedDict([('0.weight', tensor([[-0.8498,  1.3803]])), ('0.bias', tensor([0.4238]))])\n",
            "3 OrderedDict([('0.weight', tensor([[-0.9965,  1.5339]])), ('0.bias', tensor([0.4870]))])\n",
            "4 OrderedDict([('0.weight', tensor([[-1.0449,  1.6876]])), ('0.bias', tensor([0.4925]))])\n",
            "5 OrderedDict([('0.weight', tensor([[-1.1165,  1.7779]])), ('0.bias', tensor([0.5403]))])\n",
            "6 OrderedDict([('0.weight', tensor([[-1.1430,  1.8785]])), ('0.bias', tensor([0.5804]))])\n",
            "7 OrderedDict([('0.weight', tensor([[-1.2274,  1.9339]])), ('0.bias', tensor([0.5965]))])\n",
            "8 OrderedDict([('0.weight', tensor([[-1.2451,  2.0194]])), ('0.bias', tensor([0.6380]))])\n",
            "9 OrderedDict([('0.weight', tensor([[-1.2939,  2.0790]])), ('0.bias', tensor([0.6521]))])\n",
            "10 OrderedDict([('0.weight', tensor([[-1.3374,  2.1135]])), ('0.bias', tensor([0.6507]))])\n",
            "11 OrderedDict([('0.weight', tensor([[-1.3701,  2.1674]])), ('0.bias', tensor([0.6483]))])\n",
            "12 OrderedDict([('0.weight', tensor([[-1.4060,  2.1681]])), ('0.bias', tensor([0.7243]))])\n",
            "13 OrderedDict([('0.weight', tensor([[-1.4464,  2.1779]])), ('0.bias', tensor([0.7092]))])\n",
            "14 OrderedDict([('0.weight', tensor([[-1.4599,  2.1966]])), ('0.bias', tensor([0.7352]))])\n",
            "15 OrderedDict([('0.weight', tensor([[-1.4836,  2.2279]])), ('0.bias', tensor([0.7079]))])\n",
            "16 OrderedDict([('0.weight', tensor([[-1.4670,  2.2668]])), ('0.bias', tensor([0.7032]))])\n",
            "17 OrderedDict([('0.weight', tensor([[-1.4637,  2.3049]])), ('0.bias', tensor([0.6554]))])\n",
            "18 OrderedDict([('0.weight', tensor([[-1.4751,  2.3147]])), ('0.bias', tensor([0.6814]))])\n",
            "19 OrderedDict([('0.weight', tensor([[-1.5187,  2.3021]])), ('0.bias', tensor([0.7256]))])\n",
            "20 OrderedDict([('0.weight', tensor([[-1.5068,  2.3313]])), ('0.bias', tensor([0.7419]))])\n",
            "21 OrderedDict([('0.weight', tensor([[-1.5270,  2.3407]])), ('0.bias', tensor([0.7453]))])\n",
            "22 OrderedDict([('0.weight', tensor([[-1.5157,  2.3494]])), ('0.bias', tensor([0.7747]))])\n",
            "23 OrderedDict([('0.weight', tensor([[-1.5521,  2.3474]])), ('0.bias', tensor([0.7675]))])\n",
            "24 OrderedDict([('0.weight', tensor([[-1.5693,  2.3417]])), ('0.bias', tensor([0.7913]))])\n",
            "25 OrderedDict([('0.weight', tensor([[-1.5483,  2.3686]])), ('0.bias', tensor([0.7432]))])\n",
            "26 OrderedDict([('0.weight', tensor([[-1.5487,  2.3798]])), ('0.bias', tensor([0.7369]))])\n",
            "27 OrderedDict([('0.weight', tensor([[-1.5467,  2.3824]])), ('0.bias', tensor([0.7602]))])\n",
            "28 OrderedDict([('0.weight', tensor([[-1.5647,  2.3719]])), ('0.bias', tensor([0.7875]))])\n",
            "29 OrderedDict([('0.weight', tensor([[-1.5568,  2.3995]])), ('0.bias', tensor([0.7375]))])\n",
            "30 OrderedDict([('0.weight', tensor([[-1.5559,  2.4103]])), ('0.bias', tensor([0.7294]))])\n",
            "31 OrderedDict([('0.weight', tensor([[-1.5725,  2.4013]])), ('0.bias', tensor([0.7563]))])\n",
            "32 OrderedDict([('0.weight', tensor([[-1.5415,  2.4334]])), ('0.bias', tensor([0.7274]))])\n",
            "33 OrderedDict([('0.weight', tensor([[-1.5374,  2.4351]])), ('0.bias', tensor([0.7183]))])\n",
            "34 OrderedDict([('0.weight', tensor([[-1.5571,  2.4168]])), ('0.bias', tensor([0.7597]))])\n",
            "35 OrderedDict([('0.weight', tensor([[-1.5387,  2.4324]])), ('0.bias', tensor([0.7453]))])\n",
            "36 OrderedDict([('0.weight', tensor([[-1.5500,  2.4305]])), ('0.bias', tensor([0.7547]))])\n",
            "37 OrderedDict([('0.weight', tensor([[-1.5079,  2.4667]])), ('0.bias', tensor([0.7313]))])\n",
            "38 OrderedDict([('0.weight', tensor([[-1.5379,  2.4481]])), ('0.bias', tensor([0.7281]))])\n",
            "39 OrderedDict([('0.weight', tensor([[-1.5244,  2.4609]])), ('0.bias', tensor([0.6864]))])\n",
            "40 OrderedDict([('0.weight', tensor([[-1.5361,  2.4463]])), ('0.bias', tensor([0.7007]))])\n",
            "41 OrderedDict([('0.weight', tensor([[-1.5256,  2.4428]])), ('0.bias', tensor([0.7414]))])\n",
            "42 OrderedDict([('0.weight', tensor([[-1.4989,  2.4732]])), ('0.bias', tensor([0.7244]))])\n",
            "43 OrderedDict([('0.weight', tensor([[-1.5058,  2.4919]])), ('0.bias', tensor([0.6713]))])\n",
            "44 OrderedDict([('0.weight', tensor([[-1.5380,  2.4615]])), ('0.bias', tensor([0.6888]))])\n",
            "45 OrderedDict([('0.weight', tensor([[-1.5169,  2.4572]])), ('0.bias', tensor([0.7063]))])\n",
            "46 OrderedDict([('0.weight', tensor([[-1.5210,  2.4518]])), ('0.bias', tensor([0.7084]))])\n",
            "47 OrderedDict([('0.weight', tensor([[-1.5210,  2.4590]])), ('0.bias', tensor([0.6704]))])\n",
            "48 OrderedDict([('0.weight', tensor([[-1.5576,  2.4235]])), ('0.bias', tensor([0.7104]))])\n",
            "49 OrderedDict([('0.weight', tensor([[-1.5600,  2.4391]])), ('0.bias', tensor([0.6962]))])\n"
          ]
        }
      ],
      "source": [
        "###### Run training #######\n",
        "torch.manual_seed(0) # Make sure you get the same results.\n",
        "\n",
        "nEpoch = 50\n",
        "for t in range(nEpoch):\n",
        "  for data_X, data_Y in dataloader:\n",
        "    Y_pred_val = slp(data_X)           # 3. Make predictions\n",
        "    loss = loss_fn(Y_pred_val, data_Y) # 4. Calculate the loss\n",
        "    #print(t, loss.item())\n",
        "\n",
        "    optimizer.zero_grad() # Initialize to calculate the slope\n",
        "    loss.backward()       # 5. For each w, calculate dJ(w)/dw using backpropagation\n",
        "    optimizer.step()      # 6. Update w according to the SGD update formula\n",
        "\n",
        "  print(t, slp.state_dict())   # Output weight and bias to check the training progress."
      ]
    },
    {
      "cell_type": "markdown",
      "metadata": {
        "id": "TwmuvRZzDKb6"
      },
      "source": [
        "<!-- JPN -->\n",
        "　これで学習を行うことができた。この学習済みの `slp` を用いて、訓練データの予測を行ってみよう。正しく学習できていれば、正解率は高くなるはずだ。"
      ]
    },
    {
      "cell_type": "markdown",
      "metadata": {
        "id": "bYhhlvHwtorw"
      },
      "source": [
        "<!-- ENG -->\n",
        "　This allows for training to take place. Let's use this trained `slp` to predict the training data. If trained correctly, you will get higher accuracy."
      ]
    },
    {
      "cell_type": "code",
      "execution_count": 14,
      "metadata": {
        "id": "n51Y2eUtShSx",
        "colab": {
          "base_uri": "https://localhost:8080/"
        },
        "outputId": "78642c0b-6ddf-4d5f-ade8-ede3462514fa"
      },
      "outputs": [
        {
          "output_type": "stream",
          "name": "stdout",
          "text": [
            "tensor([[0.2536],\n",
            "        [0.9904],\n",
            "        [0.0099],\n",
            "        [0.2396],\n",
            "        [0.8651],\n",
            "        [0.9823],\n",
            "        [0.4516],\n",
            "        [0.6937],\n",
            "        [0.1057],\n",
            "        [0.1329],\n",
            "        [0.9981],\n",
            "        [0.0785],\n",
            "        [0.0017],\n",
            "        [0.5420],\n",
            "        [0.8686],\n",
            "        [0.7985],\n",
            "        [0.0601],\n",
            "        [0.8348],\n",
            "        [0.8468],\n",
            "        [0.6372],\n",
            "        [0.2439],\n",
            "        [0.9997],\n",
            "        [0.6041],\n",
            "        [0.9895],\n",
            "        [0.9367],\n",
            "        [0.9542],\n",
            "        [0.1999],\n",
            "        [0.8563],\n",
            "        [0.7909],\n",
            "        [0.6902],\n",
            "        [0.7044],\n",
            "        [0.0957],\n",
            "        [0.3634],\n",
            "        [0.9875],\n",
            "        [0.9036],\n",
            "        [0.4684],\n",
            "        [0.0164],\n",
            "        [0.1677],\n",
            "        [0.6554],\n",
            "        [0.7890]], grad_fn=<SigmoidBackward0>)\n",
            "0.825\n"
          ]
        }
      ],
      "source": [
        "###### Calculating prediction accuracy ######\n",
        "\n",
        "# Calculate the prediction accuracy from multiple predictions and multiple correct answers.\n",
        "# Using the fact that it is processed as True -> 1, False -> 0,\n",
        "# we can use mean() to calculate the prediction accuracy.\n",
        "def accuracy(Y_pred, Y_true):\n",
        "  results = (Y_pred == Y_true).numpy() # Convert to np.array\n",
        "  return results.mean()\n",
        "\n",
        "Y_pred_proba = slp(X_torch).sigmoid() # Make prediction(s) (converted to probabilities by sigmoid())\n",
        "Y_pred = Y_pred_proba > 0.5           # Predict positive/negative based on whether the probability is more or less than 0.5.\n",
        "print(Y_pred_proba)\n",
        "print(accuracy(Y_pred, Y_torch))      # Calculate prediction accuracy"
      ]
    },
    {
      "cell_type": "markdown",
      "metadata": {
        "id": "Zs7uXHwgcF1g"
      },
      "source": [
        "<!-- JPN -->\n",
        "　これによりそれぞれのデータ `X` に対する正例である確率を計算し、その確率にしたがって〇/×の予測を行うことができた。\n",
        "\n",
        "　ところで、なぜ**確率的**勾配降下法という名称がついているかだが、今回行ったように一部のデータの損失から重み $\\boldsymbol{w}$ を繰り返し更新していく。データによって勾配の方向は異なるが「全体のデータの傾向として一定の方向へ重みを更新していく」ことから、「**確率論的**に重みを更新していく」ということで、このような名前がついている。"
      ]
    },
    {
      "cell_type": "markdown",
      "metadata": {
        "id": "PN2G6yUQtorx"
      },
      "source": [
        "<!-- ENG -->\n",
        "　This allowed us to calculate the probability of having a positive example for each data `X`, and to make a positive/negative prediction according to that probability.\n",
        "\n",
        "　By the way, the reason why it is called the **stochastic** gradient descent is that it repeatedly updates the weights $\\boldsymbol{w}$ from the loss of some data as we did this time. Although the direction of the gradient differs depending on the data, the weights are updated in a certain direction as a trend of the overall data, hence the name **stochastic** updating of the weights."
      ]
    },
    {
      "cell_type": "markdown",
      "metadata": {
        "id": "HOz6MwvODYJp"
      },
      "source": [
        "<img src=\"https://i.imgur.com/RoeXR6H.png\" width=50%>"
      ]
    },
    {
      "cell_type": "markdown",
      "metadata": {
        "id": "G6jyQUgXxF-m"
      },
      "source": [
        "-----"
      ]
    },
    {
      "cell_type": "markdown",
      "metadata": {
        "deletable": false,
        "editable": false,
        "id": "or4XJTylAtNB"
      },
      "source": [
        "<!-- JPN -->\n",
        "##### 課題 2\n",
        "\n",
        "　$\\boldsymbol{x}_{new} = (1,0)$ という新しい入力を与えた時の、`slp_y_pred_proba`の値を計算せよ。"
      ]
    },
    {
      "cell_type": "markdown",
      "metadata": {
        "deletable": false,
        "editable": false,
        "id": "faHKcrxptorx"
      },
      "source": [
        "<!-- ENG -->\n",
        "##### Exercise 2\n",
        "\n",
        "　Calculate the value of `slp_y_pred_proba` when it is given the new input $\\boldsymbol{x}_{new} = (1,0)$."
      ]
    },
    {
      "cell_type": "code",
      "execution_count": 15,
      "metadata": {
        "id": "JLlyvj_GxF-n",
        "tags": [],
        "colab": {
          "base_uri": "https://localhost:8080/"
        },
        "outputId": "6eb19c2c-23b9-4180-a5f8-8d7c9e8cb3cc"
      },
      "outputs": [
        {
          "output_type": "stream",
          "name": "stdout",
          "text": [
            "tensor([[0.2965]], grad_fn=<SigmoidBackward0>)\n"
          ]
        }
      ],
      "source": [
        "# CODE CELL FOR YOUR ANSWER\n",
        "\n",
        "new_input = torch.tensor([[1.0, 0.0]])\n",
        "slp_y_pred_proba = slp(new_input).sigmoid()\n",
        "\n",
        "print(slp_y_pred_proba)"
      ]
    },
    {
      "cell_type": "markdown",
      "metadata": {
        "id": "wDV9u4VxxF-n"
      },
      "source": [
        "<!-- JPN -->\n",
        "##### 課題 3\n",
        "\n",
        "　課題2の結果から、この $\\boldsymbol{x}_{new}$ はどちらのクラスに属すると予想されるか答えよ。\n"
      ]
    },
    {
      "cell_type": "markdown",
      "metadata": {
        "id": "s0tAaFvgxF-n"
      },
      "source": [
        "<!-- ENG -->\n",
        "##### Exercise 3\n",
        "\n",
        "　Based on the results of exercise 2, answer which class this $\\boldsymbol{x}_{new}$ is expected to belong to."
      ]
    },
    {
      "cell_type": "markdown",
      "metadata": {
        "id": "iFHJ7G0RxF-n"
      },
      "source": [
        "<!-- JPN -->\n",
        "<font color=orange> **このテキストセルをダブルクリックし答案を記述せよ。** </font>\n",
        "<!-- この下の行から答案を記述 -->\n"
      ]
    },
    {
      "cell_type": "markdown",
      "metadata": {
        "id": "DnhlGaDNxF-n"
      },
      "source": [
        "<!-- ENG -->\n",
        "<font color=orange> **Double-click this text cell and write your answer.** </font>\n",
        "<!-- From the next line, write your answer -->\n",
        "\n",
        "Based on the given result of the probability is less than 0.5 (0.2965), the expected class for the input (1, 0) is the negative class.\n"
      ]
    },
    {
      "cell_type": "markdown",
      "metadata": {
        "id": "g1Ciw0Wiap1g"
      },
      "source": [
        "------"
      ]
    },
    {
      "cell_type": "markdown",
      "metadata": {
        "id": "bREy-lsmq5nX"
      },
      "source": [
        "<!-- JPN -->\n",
        "### 3.3 | 分類予測空間の可視化"
      ]
    },
    {
      "cell_type": "markdown",
      "metadata": {
        "id": "6APGgHfytorx"
      },
      "source": [
        "<!-- ENG -->\n",
        "### 3.3 | Visualizing classification prediction space"
      ]
    },
    {
      "cell_type": "markdown",
      "metadata": {
        "id": "E1ut90qwvo_d"
      },
      "source": [
        "<!-- JPN -->\n",
        "　最後に、この単層パーセプトロンのモデル `slp` の予測結果が、どのように $x_1, x_2$ に依存しているか見てみよう。以下の `draw()` は $x_1, x_2$ の空間に予測された正例（〇）確率を等高線で表示する関数になっている。"
      ]
    },
    {
      "cell_type": "markdown",
      "metadata": {
        "id": "Wis5o3ROtorx"
      },
      "source": [
        "<!-- ENG -->\n",
        "　Finally, let's see how the prediction results of this single-layer perceptron model, `slp`, depend on $x_1, x_2$. The following `draw()` is a function that displays the predicted positive probability in the $x_1, x_2$ space as contour lines."
      ]
    },
    {
      "cell_type": "code",
      "execution_count": 16,
      "metadata": {
        "id": "tGBMR4nZ2t1n"
      },
      "outputs": [],
      "source": [
        "import matplotlib.pyplot as plt\n",
        "import numpy as np\n",
        "\n",
        "def draw(aModel, X, y):\n",
        "  # Draw gradients using 'aModel'\n",
        "  xx1 = np.arange(-3,3,0.1)\n",
        "  xx2 = np.arange(-3,3,0.1)\n",
        "  XX1,XX2 = np.meshgrid(xx1, xx2)\n",
        "  XX = torch.tensor(\n",
        "      np.hstack([XX1.reshape(-1,1),\n",
        "                       XX2.reshape(-1,1)]),\n",
        "  dtype=torch.float\n",
        "  )\n",
        "  YY = aModel(XX).sigmoid().detach().numpy().reshape(*XX1.shape)\n",
        "  plt.contourf(XX1, XX2, YY, levels=[0.0,0.25,0.5,0.75,1.00])\n",
        "  plt.colorbar()\n",
        "\n",
        "  # Data point plots used for training\n",
        "  plt.scatter(X[:,0][y==True],  X[:,1][y==True],  label=\"positives\")\n",
        "  plt.scatter(X[:,0][y==False], X[:,1][y==False], label=\"negatives\")\n",
        "\n",
        "  plt.xlabel('$x_1$')\n",
        "  plt.ylabel('$x_2$')\n",
        "  plt.legend()\n",
        "  plt.show()"
      ]
    },
    {
      "cell_type": "code",
      "execution_count": 17,
      "metadata": {
        "id": "7FHR8LgHdygT",
        "colab": {
          "base_uri": "https://localhost:8080/",
          "height": 455
        },
        "outputId": "3450da20-e56b-4636-c346-e4dbfb00ee1f"
      },
      "outputs": [
        {
          "output_type": "display_data",
          "data": {
            "text/plain": [
              "<Figure size 640x480 with 2 Axes>"
            ],
            "image/png": "[encoded data removed]"
          },
          "metadata": {}
        }
      ],
      "source": [
        "draw(slp, X_train, y_train) # Draw the training results of a single layer perceptron."
      ]
    },
    {
      "cell_type": "markdown",
      "metadata": {
        "id": "b5xodAIKxNtL"
      },
      "source": [
        "<!-- JPN -->\n",
        "　結果はどうなったであろうか。直線的な等高線が描画されたはずである。このように単層パーセプトロンはロジスティック回帰と同様に**線形モデル**である。"
      ]
    },
    {
      "cell_type": "markdown",
      "metadata": {
        "id": "sbfOtuovtory"
      },
      "source": [
        "<!-- ENG -->\n",
        "　What was the result? A linear contour line should have been drawn. As you can see, the single layer perceptron is **a linear model**, just like the logistic regression."
      ]
    },
    {
      "cell_type": "markdown",
      "metadata": {
        "id": "df5OGZNtxF-o"
      },
      "source": [
        "-----"
      ]
    },
    {
      "cell_type": "markdown",
      "metadata": {
        "id": "zjTo41KH68Nx"
      },
      "source": [
        "<!-- JPN -->\n",
        "##### 課題 4\n",
        "\n",
        "　以下に示す多層パーセプトロンモデルについて、学習を行い、同様に等高線を描き、等高線が直線であるか曲線であるかを答えよ。"
      ]
    },
    {
      "cell_type": "markdown",
      "metadata": {
        "id": "6kaoJaiStory"
      },
      "source": [
        "<!-- ENG -->\n",
        "##### Exercise 4\n",
        "\n",
        "　For the multi layer perceptron model shown below, train it, draw the contour lines in the same way, and answer whether the contour lines are straight or curved."
      ]
    },
    {
      "cell_type": "code",
      "execution_count": 18,
      "metadata": {
        "id": "xXL2MQvU7y30"
      },
      "outputs": [],
      "source": [
        "# Multi Layer Perceptron (MLP)\n",
        "# Don't forget to put Sigmoid() in the middle\n",
        "torch.manual_seed(0) # Fix the result\n",
        "\n",
        "mlp = torch.nn.Sequential(\n",
        "  torch.nn.Linear(2, 2),   # 2 variables → 2 variables\n",
        "  torch.nn.Sigmoid(),\n",
        "  torch.nn.Linear(2, 1),   # 2 variables → 1 variable\n",
        ")\n",
        "\n",
        "loss_fn = torch.nn.BCEWithLogitsLoss()\n",
        "optimizer = torch.optim.SGD(mlp.parameters(), lr=0.1) # Don't forget to change this to mlp.paramters()"
      ]
    },
    {
      "cell_type": "code",
      "execution_count": 19,
      "metadata": {
        "id": "V1UNC3mgxpIT"
      },
      "outputs": [],
      "source": [
        "###### Run training ######\n",
        "nEpoch = 250 # Increased the number of epochs\n",
        "for t in range(nEpoch):\n",
        "  for data_X, data_Y in dataloader:\n",
        "\n",
        "    ... # Implement the training code here\n"
      ]
    },
    {
      "cell_type": "code",
      "execution_count": 20,
      "metadata": {
        "id": "Jz7zQXyYxufj",
        "colab": {
          "base_uri": "https://localhost:8080/",
          "height": 455
        },
        "outputId": "fa8f2dca-6bac-4837-dd97-dbce2e812724"
      },
      "outputs": [
        {
          "output_type": "display_data",
          "data": {
            "text/plain": [
              "<Figure size 640x480 with 2 Axes>"
            ],
            "image/png": "[encoded data removed]"
          },
          "metadata": {}
        }
      ],
      "source": [
        "###### Draw contour lines ######\n",
        "draw(mlp, X_train, y_train) # Draw the training results of a multi layer perceptron"
      ]
    },
    {
      "cell_type": "code",
      "source": [],
      "metadata": {
        "id": "-GPvbvRt28Hb"
      },
      "execution_count": null,
      "outputs": []
    },
    {
      "cell_type": "markdown",
      "metadata": {
        "id": "yHQK7wLjxF-o"
      },
      "source": [
        "<!-- JPN -->\n",
        "<font color=orange> **このテキストセルをダブルクリックし答案を記述せよ。** </font>\n",
        "<!-- この下の行から答案を記述 -->\n"
      ]
    },
    {
      "cell_type": "markdown",
      "metadata": {
        "id": "CZKy-BdExF-o"
      },
      "source": [
        "<!-- ENG -->\n",
        "<font color=orange> **Double-click this text cell and write your answer.** </font>\n",
        "<!-- From the next line, write your answer -->\n",
        "\n",
        "The contour lines for the MLP is curved."
      ]
    },
    {
      "cell_type": "markdown",
      "metadata": {
        "id": "p7fT1FgH5kN4"
      },
      "source": [
        "------"
      ]
    },
    {
      "cell_type": "markdown",
      "metadata": {
        "id": "Kv9qfdjsY6xC"
      },
      "source": [
        "<!-- JPN -->\n",
        "##### 課題 5\n",
        "\n",
        "　中間層に`Sigmoid()`を入れ忘れてしまった多層パーセプトロンの学習を行った時の等高線を描画せよ。また、この時の等高線は直線的だろうか曲線だろうか。なぜこのようになるのか、考察せよ。"
      ]
    },
    {
      "cell_type": "markdown",
      "metadata": {
        "id": "_nQsmUJ4torz"
      },
      "source": [
        "<!-- ENG -->\n",
        "##### Exercise 5\n",
        "\n",
        "　Draw the contour lines of a trained multi layer perceptron that was forgotten to be included in `Sigmoid()` in the middle layer. Also, would the contour lines be straight or curved at this time? Discuss why this is the case."
      ]
    },
    {
      "cell_type": "code",
      "execution_count": 21,
      "metadata": {
        "id": "sswo3Lc3Y5t8"
      },
      "outputs": [],
      "source": [
        "# A multi layer perceptron where input of sigmoid was forgotten\n",
        "torch.manual_seed(0) # Fix the result\n",
        "\n",
        "mlp_wo_sigmoid = torch.nn.Sequential(\n",
        "  torch.nn.Linear(2, 2),   # 2 variables → 2 variables\n",
        "  torch.nn.Linear(2, 1),   # 2 variables → 1 variable\n",
        ")"
      ]
    },
    {
      "cell_type": "code",
      "execution_count": 22,
      "metadata": {
        "id": "Bsfpd1b6xF-p"
      },
      "outputs": [],
      "source": [
        "###### RUN training ######\n",
        "loss_fn = torch.nn.BCEWithLogitsLoss()\n",
        "optimizer = torch.optim.SGD(mlp_wo_sigmoid.parameters(), lr=0.1)\n",
        "\n",
        "nEpoch = 250\n",
        "for t in range(nEpoch):\n",
        "    for data_X, data_Y in dataloader:\n",
        "        Y_pred_val = mlp_wo_sigmoid(data_X)\n",
        "        loss = loss_fn(Y_pred_val, data_Y)\n",
        "\n",
        "        optimizer.zero_grad()\n",
        "        loss.backward()\n",
        "        optimizer.step()"
      ]
    },
    {
      "cell_type": "code",
      "execution_count": 23,
      "metadata": {
        "id": "CpkCplnwxF-p",
        "colab": {
          "base_uri": "https://localhost:8080/",
          "height": 455
        },
        "outputId": "22a99ab2-b05d-4f15-bde8-eebf3bbbc4b2"
      },
      "outputs": [
        {
          "output_type": "display_data",
          "data": {
            "text/plain": [
              "<Figure size 640x480 with 2 Axes>"
            ],
            "image/png": "[encoded data removed]"
          },
          "metadata": {}
        }
      ],
      "source": [
        "###### Draw contour lines ######\n",
        "draw(mlp_wo_sigmoid, X_train, y_train) # Draw the training results"
      ]
    },
    {
      "cell_type": "markdown",
      "metadata": {
        "id": "mYUYRAhixF-p"
      },
      "source": [
        "<!-- JPN -->\n",
        "<font color=orange> **このテキストセルをダブルクリックし答案を記述せよ。** </font>\n",
        "<!-- この下の行から答案を記述 -->\n"
      ]
    },
    {
      "cell_type": "markdown",
      "metadata": {
        "id": "ufFWVxeUxF-p"
      },
      "source": [
        "<!-- ENG -->\n",
        "<font color=orange> **Double-click this text cell and write your answer.** </font>\n",
        "<!-- From the next line, write your answer -->\n",
        "\n",
        "The contour lines for this trained MLP without `Sigmoid()` is straight, indicating that the decision boundaries are linear.\n",
        "\n",
        "The absence of activation functions `Sigmoid()` means that the model is incapable of introducing non-linearities, and thus, the overall behavior becomes linear.\n"
      ]
    },
    {
      "cell_type": "markdown",
      "metadata": {
        "id": "x9mNuKcH8OyS"
      },
      "source": [
        "---------------------"
      ]
    },
    {
      "cell_type": "markdown",
      "metadata": {
        "id": "A5ISBIe8rY3E"
      },
      "source": [
        "<!-- JPN -->\n",
        "## 4 | `torch.tensor`を利用した単層パーセプトロンの実装\n",
        "\n",
        "　ここまでで、PyTorchの機能を最大限使って単層パーセプトロンによる学習を行えるようになった。しかし、 `torch.tensor` は何者なのか、確率的勾配降下法 SGD の内部におけるパラメータの更新など、まだまだ触れていないポイントが多数存在する。\n",
        "\n",
        "　ここでは、 `torch.tensor` による勾配計算を確実におさえ、`torch.nn.Linear` を利用**しない**単層パーセプトロンの実装を発展的な内容として紹介する。"
      ]
    },
    {
      "cell_type": "markdown",
      "metadata": {
        "id": "Wu5O7eaptor2"
      },
      "source": [
        "<!-- ENG -->\n",
        "## 4 | Implementation of a single layer perceptron using `torch.tensor`\n",
        "\n",
        "　At this point, you can use PyTorch's capabilities to build and train a single layer perceptron. However, there are still many points that we have not talked about, such as what `torch.tensor` is and how to update parameters inside the stochastic gradient descent.\n",
        "\n",
        "　Here, we will certainly understand the gradient calculation by `torch.tensor`, and discuss the implementation of a single layer perceptron that **does not** use `torch.nn.Linear` as an advanced section."
      ]
    },
    {
      "cell_type": "markdown",
      "metadata": {
        "id": "5dbAlkLAG3yF"
      },
      "source": [
        "<!-- JPN -->\n",
        "### 4.1 | `torch.tensor`の利用\n",
        "\n",
        "　PyTorchを使う上で、データは `torch.tensor` を使う必要があった。先ほどは `np.array` のようなものである、と記述したが、**`np.array`がさらに賢くなったものが`torch.tensor`**である、と考えると良い。"
      ]
    },
    {
      "cell_type": "markdown",
      "metadata": {
        "id": "9ODhMwcVtor2"
      },
      "source": [
        "<!-- ENG -->\n",
        "### 4.1 | Using `torch.tensor`\n",
        "\n",
        "　When using PyTorch, we needed to use `torch.tensor` for the data. We have learned that it is like `np.array` earlier, but you can think of **`torch.tensor` as being a smarter version of `np.array`**."
      ]
    },
    {
      "cell_type": "code",
      "execution_count": 24,
      "metadata": {
        "id": "IETibDt0JS1H",
        "colab": {
          "base_uri": "https://localhost:8080/"
        },
        "outputId": "55d6b3e6-2184-41b3-d1e3-2945272dab1d"
      },
      "outputs": [
        {
          "output_type": "stream",
          "name": "stdout",
          "text": [
            "tensor([[1, 2],\n",
            "        [3, 4]])\n",
            "2\n",
            "torch.Size([2, 2])\n",
            "tensor(1)\n"
          ]
        }
      ],
      "source": [
        "A = torch.tensor([[1,2], [3,4]])\n",
        "print(A)\n",
        "print(A.dim())\n",
        "print(A.shape)\n",
        "print(A[0,0]) # A single element is also represented by a tensor"
      ]
    },
    {
      "cell_type": "markdown",
      "metadata": {
        "id": "IKnZhllFKKwV"
      },
      "source": [
        "<!-- JPN -->\n",
        "　どのような点が `np.array` よりも賢くなっているのだろうか。 `torch.tensor`が最も効果を発揮するのは、**勾配 (gradient) の計算**である。以下のコードを実行して、$y = wx$ の $(x, w) = (1, 2)$ における勾配 $\\frac{\\partial y}{\\partial x}, \\frac{\\partial y}{\\partial w}$を計算してみる。"
      ]
    },
    {
      "cell_type": "markdown",
      "metadata": {
        "id": "DCW-qyi2tor3"
      },
      "source": [
        "<!-- ENG -->\n",
        "　In what ways is it smarter than `np.array`? `torch.tensor` is most effective when **calculating gradients**. Let's run the following code to calculate the gradients $\\frac{\\partial y}{\\partial x}, \\frac{\\partial y}{\\partial w}$ for $y = wx$ at $(x, w) = (1, 2)$."
      ]
    },
    {
      "cell_type": "code",
      "execution_count": 25,
      "metadata": {
        "id": "t9lBOuVDJmpb",
        "colab": {
          "base_uri": "https://localhost:8080/"
        },
        "outputId": "e2a711f0-0343-4ee9-9a07-d60819fa8a23"
      },
      "outputs": [
        {
          "output_type": "stream",
          "name": "stdout",
          "text": [
            "tensor(2., grad_fn=<MulBackward0>)\n",
            "dy/dx (w=2) = tensor(2.)\n",
            "dy/dw (x=1) = tensor(1.)\n"
          ]
        }
      ],
      "source": [
        "# Specify the target of the gradient calculation by setting requires_grad=True\n",
        "# The input value must be a real value\n",
        "# An error occurs when entering an integer value\n",
        "x = torch.tensor(1.0, requires_grad=True)\n",
        "w = torch.tensor(2.0, requires_grad=True)\n",
        "\n",
        "y = w * x\n",
        "print(y)\n",
        "\n",
        "# Calculate the gradients\n",
        "# Since it is used for backpropagation in neural networks,\n",
        "# the name of the method is backward, meaning in the opposite direction\n",
        "y.backward()\n",
        "\n",
        "# Output gradient for x, w\n",
        "print(\"dy/dx (w=2) =\", x.grad)\n",
        "print(\"dy/dw (x=1) =\", w.grad)"
      ]
    },
    {
      "cell_type": "markdown",
      "metadata": {
        "id": "oCpwFThHLMKz"
      },
      "source": [
        "<!-- JPN -->\n",
        "　これだけのコードで勾配の値を求めることができた。もう少し複雑な場合も実行してみる。"
      ]
    },
    {
      "cell_type": "markdown",
      "metadata": {
        "id": "z9zpz8XKtor3"
      },
      "source": [
        "<!-- ENG -->\n",
        "　We were able to find the value of the gradient by using only these codes. I'll try to run a more complex case."
      ]
    },
    {
      "cell_type": "code",
      "execution_count": 26,
      "metadata": {
        "id": "Jr-z1hNtOwjb",
        "colab": {
          "base_uri": "https://localhost:8080/"
        },
        "outputId": "94974025-016a-44f3-e194-c4e5fecdc9a7"
      },
      "outputs": [
        {
          "output_type": "stream",
          "name": "stdout",
          "text": [
            "tensor(5.4366)\n"
          ]
        }
      ],
      "source": [
        "x = torch.tensor(1.0, requires_grad=True)\n",
        "\n",
        "y = torch.exp(x*x)\n",
        "y.backward()\n",
        "print(x.grad)"
      ]
    },
    {
      "cell_type": "markdown",
      "metadata": {
        "id": "o9Box19WPdBA"
      },
      "source": [
        "<!-- JPN -->\n",
        "　$y = e^{x^2}$ の時、 $\\frac{d y}{d x} = 2xe^{x^2}$ なので、$x=1$ の時の値は $2e = 5.43656...$ である。\n",
        "\n"
      ]
    },
    {
      "cell_type": "markdown",
      "metadata": {
        "id": "dJelgoXetor3"
      },
      "source": [
        "<!-- ENG -->\n",
        "　When $y = e^{x^2}$, $\\frac{d y}{d x} = 2xe^{x^2}$, so the value at $x=1$ is $2e = 5.43656...$\n",
        "\n"
      ]
    },
    {
      "cell_type": "markdown",
      "metadata": {
        "id": "CrnbFjVmn-ld"
      },
      "source": [
        "<!-- JPN -->\n",
        "　また、行列計算に対しても、勾配を求めることができる。\n",
        "以下の例は、行列 $A$ と行列 $B$ の行列積のトレース $tr(AB)$ について、$A$ の勾配を求めている。（これは $\\frac{\\partial tr(AB)}{\\partial A} = B^T$ となる）"
      ]
    },
    {
      "cell_type": "markdown",
      "metadata": {
        "id": "aj-9bx6Xtor4"
      },
      "source": [
        "<!-- ENG -->\n",
        "　In addition, the gradient can be obtained for matrix calculation.\n",
        "The following example finds the gradient of $A$ for the trace $tr(AB)$ of the matrix product of matrix $A$ and matrix $B$, which is $\\frac{\\partial tr(AB)}{\\partial A} = B^T$."
      ]
    },
    {
      "cell_type": "code",
      "execution_count": 27,
      "metadata": {
        "id": "t1EYrldVoEkx",
        "colab": {
          "base_uri": "https://localhost:8080/"
        },
        "outputId": "3a5ddb75-8227-48d0-f3cb-674183e025ca"
      },
      "outputs": [
        {
          "output_type": "stream",
          "name": "stdout",
          "text": [
            "tensor([[5., 7.],\n",
            "        [6., 8.]])\n"
          ]
        }
      ],
      "source": [
        "mat_A = torch.tensor([[1.0, 2.0], [3.0, 4.0]], requires_grad=True)\n",
        "mat_B = torch.tensor([[5.0, 6.0], [7.0, 8.0]])\n",
        "\n",
        "mat_C = mat_A.mm(mat_B) # mm means calculation the matrix product of matrix A and matrix B.\n",
        "tr = mat_C.trace()\n",
        "tr.backward() # Calculate the gradient for the sum of diagonal components\n",
        "print(mat_A.grad) # mat_A gradient"
      ]
    },
    {
      "cell_type": "markdown",
      "metadata": {
        "id": "lwU0zgNOn9t_"
      },
      "source": [
        "<!-- JPN -->\n",
        "　ちなみに、**`torch.tensor`に対しては、NumPyの関数は使わず、PyTorchの関数を利用しなければならない**。そうしないと、勾配が計算できなくなってしまうからだ（エラー表示としては、`torch.tensor`を`numpy.array`に直してからNumPy関数を使え、という誤解を生みやすいメッセージが表示されるので注意）。"
      ]
    },
    {
      "cell_type": "markdown",
      "metadata": {
        "id": "WgAu6Feutor4"
      },
      "source": [
        "<!-- ENG -->\n",
        "　By the way, **for `torch.tensor`, you must use the PyTorch function, not the NumPy function**. If you don't, you will not be able to compute the gradient (note that the error message will mislead you to change `torch.tensor` to `numpy.array` and then use the NumPy function)."
      ]
    },
    {
      "cell_type": "code",
      "execution_count": 28,
      "metadata": {
        "id": "jJ1su0R3QZvd",
        "colab": {
          "base_uri": "https://localhost:8080/",
          "height": 379
        },
        "outputId": "e25476ff-fc21-4029-a0c0-773df4db23d6"
      },
      "outputs": [
        {
          "output_type": "error",
          "ename": "RuntimeError",
          "evalue": "Can't call numpy() on Tensor that requires grad. Use tensor.detach().numpy() instead.",
          "traceback": [
            "\u001b[0;31m---------------------------------------------------------------------------\u001b[0m",
            "\u001b[0;31mRuntimeError\u001b[0m                              Traceback (most recent call last)",
            "\u001b[0;32m<ipython-input-28-803ff729aadd>\u001b[0m in \u001b[0;36m<cell line: 5>\u001b[0;34m()\u001b[0m\n\u001b[1;32m      3\u001b[0m \u001b[0mx\u001b[0m \u001b[0;34m=\u001b[0m \u001b[0mtorch\u001b[0m\u001b[0;34m.\u001b[0m\u001b[0mtensor\u001b[0m\u001b[0;34m(\u001b[0m\u001b[0;36m1.0\u001b[0m\u001b[0;34m,\u001b[0m \u001b[0mrequires_grad\u001b[0m\u001b[0;34m=\u001b[0m\u001b[0;32mTrue\u001b[0m\u001b[0;34m)\u001b[0m\u001b[0;34m\u001b[0m\u001b[0;34m\u001b[0m\u001b[0m\n\u001b[1;32m      4\u001b[0m \u001b[0;34m\u001b[0m\u001b[0m\n\u001b[0;32m----> 5\u001b[0;31m \u001b[0my\u001b[0m \u001b[0;34m=\u001b[0m \u001b[0mnp\u001b[0m\u001b[0;34m.\u001b[0m\u001b[0mexp\u001b[0m\u001b[0;34m(\u001b[0m\u001b[0mx\u001b[0m\u001b[0;34m*\u001b[0m\u001b[0mx\u001b[0m\u001b[0;34m)\u001b[0m\u001b[0;34m\u001b[0m\u001b[0;34m\u001b[0m\u001b[0m\n\u001b[0m\u001b[1;32m      6\u001b[0m \u001b[0my\u001b[0m\u001b[0;34m.\u001b[0m\u001b[0mbackward\u001b[0m\u001b[0;34m(\u001b[0m\u001b[0;34m)\u001b[0m\u001b[0;34m\u001b[0m\u001b[0;34m\u001b[0m\u001b[0m\n\u001b[1;32m      7\u001b[0m \u001b[0mprint\u001b[0m\u001b[0;34m(\u001b[0m\u001b[0mx\u001b[0m\u001b[0;34m.\u001b[0m\u001b[0mgrad\u001b[0m\u001b[0;34m)\u001b[0m\u001b[0;34m\u001b[0m\u001b[0;34m\u001b[0m\u001b[0m\n",
            "\u001b[0;32m/usr/local/lib/python3.10/dist-packages/torch/_tensor.py\u001b[0m in \u001b[0;36m__array__\u001b[0;34m(self, dtype)\u001b[0m\n\u001b[1;32m   1028\u001b[0m             \u001b[0;32mreturn\u001b[0m \u001b[0mhandle_torch_function\u001b[0m\u001b[0;34m(\u001b[0m\u001b[0mTensor\u001b[0m\u001b[0;34m.\u001b[0m\u001b[0m__array__\u001b[0m\u001b[0;34m,\u001b[0m \u001b[0;34m(\u001b[0m\u001b[0mself\u001b[0m\u001b[0;34m,\u001b[0m\u001b[0;34m)\u001b[0m\u001b[0;34m,\u001b[0m \u001b[0mself\u001b[0m\u001b[0;34m,\u001b[0m \u001b[0mdtype\u001b[0m\u001b[0;34m=\u001b[0m\u001b[0mdtype\u001b[0m\u001b[0;34m)\u001b[0m\u001b[0;34m\u001b[0m\u001b[0;34m\u001b[0m\u001b[0m\n\u001b[1;32m   1029\u001b[0m         \u001b[0;32mif\u001b[0m \u001b[0mdtype\u001b[0m \u001b[0;32mis\u001b[0m \u001b[0;32mNone\u001b[0m\u001b[0;34m:\u001b[0m\u001b[0;34m\u001b[0m\u001b[0;34m\u001b[0m\u001b[0m\n\u001b[0;32m-> 1030\u001b[0;31m             \u001b[0;32mreturn\u001b[0m \u001b[0mself\u001b[0m\u001b[0;34m.\u001b[0m\u001b[0mnumpy\u001b[0m\u001b[0;34m(\u001b[0m\u001b[0;34m)\u001b[0m\u001b[0;34m\u001b[0m\u001b[0;34m\u001b[0m\u001b[0m\n\u001b[0m\u001b[1;32m   1031\u001b[0m         \u001b[0;32melse\u001b[0m\u001b[0;34m:\u001b[0m\u001b[0;34m\u001b[0m\u001b[0;34m\u001b[0m\u001b[0m\n\u001b[1;32m   1032\u001b[0m             \u001b[0;32mreturn\u001b[0m \u001b[0mself\u001b[0m\u001b[0;34m.\u001b[0m\u001b[0mnumpy\u001b[0m\u001b[0;34m(\u001b[0m\u001b[0;34m)\u001b[0m\u001b[0;34m.\u001b[0m\u001b[0mastype\u001b[0m\u001b[0;34m(\u001b[0m\u001b[0mdtype\u001b[0m\u001b[0;34m,\u001b[0m \u001b[0mcopy\u001b[0m\u001b[0;34m=\u001b[0m\u001b[0;32mFalse\u001b[0m\u001b[0;34m)\u001b[0m\u001b[0;34m\u001b[0m\u001b[0;34m\u001b[0m\u001b[0m\n",
            "\u001b[0;31mRuntimeError\u001b[0m: Can't call numpy() on Tensor that requires grad. Use tensor.detach().numpy() instead."
          ]
        }
      ],
      "source": [
        "# Bad example: RuntimeError occurs\n",
        "import numpy as np\n",
        "x = torch.tensor(1.0, requires_grad=True)\n",
        "\n",
        "y = np.exp(x*x)\n",
        "y.backward()\n",
        "print(x.grad)"
      ]
    },
    {
      "cell_type": "markdown",
      "metadata": {
        "id": "R_NRNvvnxF-q"
      },
      "source": [
        "------"
      ]
    },
    {
      "cell_type": "markdown",
      "metadata": {
        "deletable": false,
        "editable": false,
        "id": "07k9q4UJSSJk"
      },
      "source": [
        "<!-- JPN -->\n",
        "##### 課題 6\n"
      ]
    },
    {
      "cell_type": "markdown",
      "metadata": {
        "deletable": false,
        "editable": false,
        "id": "9Mfec8Eztor5"
      },
      "source": [
        "<!-- ENG -->\n",
        "##### Exercise 6\n"
      ]
    },
    {
      "cell_type": "markdown",
      "metadata": {
        "deletable": false,
        "editable": false,
        "id": "XQ4LzStDxF-r"
      },
      "source": [
        "<!-- JPN -->\n",
        "　シグモイド関数 $\\sigma(a) = \\frac{1}{1+e^{-a}}$ について、 以下のコードを埋めることで、$a=1$ の勾配 $\\frac{d \\sigma(a)}{d a}$ を`torch.tensor`を利用して求めよ。**ただし、`a.sigmoid()`は用いないこと**。\n",
        "\n"
      ]
    },
    {
      "cell_type": "markdown",
      "metadata": {
        "deletable": false,
        "editable": false,
        "id": "8A62OFqSxF-r"
      },
      "source": [
        "<!-- ENG -->\n",
        "　For the sigmoid function $\\sigma(a) = \\frac{1}{1+e^{-a}}$, find the gradient $\\frac{d \\sigma(a)}{d a}$ at $a=1$ using `torch.tensor` by filling out the code below. **Do not use `a.sigmoid()`**.\n",
        "\n"
      ]
    },
    {
      "cell_type": "code",
      "execution_count": 32,
      "metadata": {
        "id": "cy5phPyGTcRD",
        "tags": [],
        "colab": {
          "base_uri": "https://localhost:8080/"
        },
        "outputId": "88fd6ba5-45ab-49c3-fec5-a5c8ba0f7059"
      },
      "outputs": [
        {
          "output_type": "stream",
          "name": "stdout",
          "text": [
            "tensor(-0.0909)\n"
          ]
        }
      ],
      "source": [
        "# CODE CELL FOR YOUR ANSWER\n",
        "import torch\n",
        "\n",
        "a = torch.tensor(1.0, requires_grad=True)\n",
        "sigma = 1 / (1 + torch.exp(-a))\n",
        "sigma = sigma * (1 - sigma)\n",
        "sigma.backward()\n",
        "\n",
        "print(a.grad)"
      ]
    },
    {
      "cell_type": "markdown",
      "metadata": {
        "id": "cuk0n-fGUVyj"
      },
      "source": [
        "-------"
      ]
    },
    {
      "cell_type": "markdown",
      "metadata": {
        "id": "t-e-tzAbRBbO"
      },
      "source": [
        "<!-- JPN -->\n",
        "### 4.2 | `torch.tensor`を利用した単層パーセプトロンの実装（発展）\n",
        "\n",
        "　それでは、これまで使い方を簡単に見てきた`torch.tensor`を利用して、単層パーセプトロン (Single layer perceptron; SLP) の実装を行ってみる。\n"
      ]
    },
    {
      "cell_type": "markdown",
      "metadata": {
        "id": "pyC4n-q3tor5"
      },
      "source": [
        "<!-- ENG -->\n",
        "### 4.2 | Implementing a single layer perceptron using `torch.tensor` (Advanced)\n",
        "\n",
        "　Now, let's try to implement a single layer perceptron using `torch.tensor`, which we have briefly seen how to use.\n"
      ]
    },
    {
      "cell_type": "markdown",
      "metadata": {
        "id": "gPnu6-UgktMf"
      },
      "source": [
        "<!-- JPN -->\n",
        "#### 4.2.1 | 重み $\\boldsymbol{w}$ の定義\n",
        "\n",
        "　それでは単層パーセプトロンの重みを表現する $\\boldsymbol{w}$ を定義しよう（簡単のために、定数項 `bias` は考えない）。今回の場合は<font color=\"red\">2</font>つの値から<font color=\"blue\">1</font>つの値を予測するので、 $\\boldsymbol{w}$ は <font color=\"red\">2</font>×<font color=\"blue\">1</font> の行列で表現されるべきだ（行列なので、コードでは大文字の`W`で表現する）。"
      ]
    },
    {
      "cell_type": "markdown",
      "metadata": {
        "id": "kT1Gwl43tor5"
      },
      "source": [
        "<!-- ENG -->\n",
        "#### 4.2.1 | Define the weights $\\boldsymbol{w}$\n",
        "\n",
        "　Let's define $\\boldsymbol{w}$ that represents the weights of the single layer perceptron (for simplicity, we will not consider the constant term `bias`). In this case, since we are predicting <font color=\"blue\">one</font> value from <font color=\"red\">two</font> values, $\\boldsymbol{w}$ should be represented as a <font color=\"red\">2</font>×<font color=\"blue\">1</font> matrix (since it is a matrix, it is represented by the upper case letter `W` in the code)."
      ]
    },
    {
      "cell_type": "code",
      "execution_count": 33,
      "metadata": {
        "id": "7l0G1Bh1emsm",
        "colab": {
          "base_uri": "https://localhost:8080/"
        },
        "outputId": "126d358e-c7ee-49bc-f27e-34544161f243"
      },
      "outputs": [
        {
          "output_type": "stream",
          "name": "stdout",
          "text": [
            "tensor([[ 1.5410],\n",
            "        [-0.2934]], requires_grad=True)\n"
          ]
        }
      ],
      "source": [
        "torch.manual_seed(0) # Fix the random numbers to get the same execution result every time.\n",
        "\n",
        "# Define W (initialize with random number)\n",
        "W = torch.randn(2, 1, dtype=torch.float, requires_grad=True)\n",
        "print(W)"
      ]
    },
    {
      "cell_type": "markdown",
      "metadata": {
        "id": "pXdaKkS7fkBC"
      },
      "source": [
        "<!-- JPN -->\n",
        "#### 4.2.2 | 学習のコードの作成\n",
        "\n",
        "　次に、学習のコードを記述する。 `torch.nn.Linear()` を使った実装と同様に、6ステップから構成されるコードを書くが、損失の計算や重みの更新などを自前で準備しているので、より複雑になっている。"
      ]
    },
    {
      "cell_type": "markdown",
      "metadata": {
        "id": "aWnnxE8Ztor6"
      },
      "source": [
        "<!-- ENG -->\n",
        "#### 4.2.2 | Create the code for training\n",
        "\n",
        "　Next, write the training code. Similar to the implementation using `torch.nn.Linear()`, we write a code consisting of 6 steps, but it is more complicated because we prepare the loss calculation and weight update by ourselves."
      ]
    },
    {
      "cell_type": "markdown",
      "metadata": {
        "id": "6uz-C7txlMsZ"
      },
      "source": [
        "<!-- JPN -->\n",
        "1. 以下2.-6.をepoch数だけ繰り返す\n",
        "2. 以下3.-6.をデータの個数だけ繰り返す\n",
        "3. あるデータ $x$ について、現在の重み $\\boldsymbol{w}$ を使って、$y = 1$ の確率 $\\hat{y} = $ $p(y=1|\\boldsymbol{x}, \\boldsymbol{w})$ を計算する。\n",
        "4. 実際の $y$ と予測結果を比較し、損失を計算する。\n",
        "5. 損失を元に、誤差逆伝播法 (backpropagation) で勾配 $\\frac{\\partial L(\\boldsymbol{w})}{\\partial \\boldsymbol{w}}$を計算する。\n",
        "6. 学習率 $\\eta$ を使って、勾配降下法と同一の更新式 $\\boldsymbol{w}^{(t+1)} = \\boldsymbol{w}^{(t)} - \\eta \\frac{\\partial L(\\boldsymbol{w})}{\\partial \\boldsymbol{w}}$ で重み $\\boldsymbol{w}$ を更新する。\n"
      ]
    },
    {
      "cell_type": "markdown",
      "metadata": {
        "id": "_sGJ5PPator6"
      },
      "source": [
        "<!-- ENG -->\n",
        "1. Repeat steps 2-6 below for the number of epochs\n",
        "2. Repeat steps 3-6 below for the number of data\n",
        "3. For some data $x$, calculate the probability $\\hat{y} = $ $p(y=1|\\boldsymbol{x}, \\boldsymbol{w})$ at $y = 1$ using the current weights $\\boldsymbol{w}$.\n",
        "4. Compare the actual $y$ with the prediction result and calculate the loss.\n",
        "5. Based on the loss, calculate the gradient $\\frac{\\partial L(\\boldsymbol{w})}{\\partial \\boldsymbol{w}}$ using backpropagation.\n",
        "6. Using the learning rate $\\eta$, we update the weights $\\boldsymbol{w}$ by the update formula $\\boldsymbol{w}^{(t+1)} = \\boldsymbol{w}^{(t)} - \\eta \\frac{\\partial L(\\boldsymbol{w})}{\\partial \\boldsymbol{w}}$, which is the same as the steepest gradient descent.\n"
      ]
    },
    {
      "cell_type": "code",
      "execution_count": 34,
      "metadata": {
        "id": "0qjtFEMEfur9"
      },
      "outputs": [],
      "source": [
        "# A function that takes multiple X data as inputs and returns the degree of correctness y_pred_val for each data\n",
        "# You can convert it to a positive probability by using y_pred_val.sigmoid()\n",
        "# input: matrix X, matrix W\n",
        "# output: one dimensional array y_pred_val\n",
        "def predict_val(X, W):\n",
        "  y_pred_val = torch.mm(X, W)\n",
        "  return y_pred_val\n",
        "\n",
        "# Calculate the cross entropy loss\n",
        "def binary_cross_entropy(y_pred, y_true):\n",
        "  ret = 0\n",
        "  ret -=    y_true  * torch.log(    y_pred) # for y=1\n",
        "  ret -= (1-y_true) * torch.log(1 - y_pred) # for y=0\n",
        "  return ret\n",
        "\n",
        "def train(X, Y, W_original, eta=0.01, epoch = 100):\n",
        "  torch.manual_seed(0) ## Make sure you get the same result every time\n",
        "\n",
        "  # A trick that does not rewrite the W itself given as input\n",
        "  W = W_original.clone().detach().requires_grad_(True)\n",
        "\n",
        "  # 1. Repeat for the number of epochs\n",
        "  for t in range(epoch):\n",
        "    # 2. Repeat for the number of data\n",
        "    for data_X, data_Y in dataloader: # Extract X and Y simultaneously from dataloader\n",
        "      # 3. Find p(y=1|x,w)\n",
        "      y_proba = predict_val(data_X, W).sigmoid()\n",
        "      # 4. Calculate the loss\n",
        "      loss = binary_cross_entropy(y_proba, data_Y)\n",
        "      # 5. Run backpropagation\n",
        "      # This will calculate the W.grad\n",
        "      loss.backward()\n",
        "\n",
        "      # Temporarily suspend (only within the with statement) the gradient calculation.\n",
        "      with torch.no_grad():\n",
        "        # 6. Update weights using calculated gradient and learning rate eta\n",
        "        W -= eta * W.grad\n",
        "        W.grad.zero_() # Reset the contents of W.grad to 0\n",
        "  return W"
      ]
    },
    {
      "cell_type": "markdown",
      "metadata": {
        "id": "8Qnj2bM0ubxV"
      },
      "source": [
        "<!-- JPN -->\n",
        "#### 4.2.3 | 学習の実行と学習結果の確認\n",
        "\n",
        "　それでは、先ほど作成した `train()` 関数を用いて学習を実行してみるのだが、その前に、未学習の時点での予測正解率を確認してみよう。\n",
        "\n",
        "　データの予測は、以下のコードで行うことができる。"
      ]
    },
    {
      "cell_type": "markdown",
      "metadata": {
        "id": "pQ1J_DaOtor6"
      },
      "source": [
        "<!-- ENG -->\n",
        "#### 4.2.3 | Run the training and check the results\n",
        "\n",
        "　Now, let's try to train using the `train()` function we created earlier, but before that, let's check the predicted accuracy prior to training.\n",
        "\n",
        "　Data prediction can be performed with the following code."
      ]
    },
    {
      "cell_type": "code",
      "execution_count": 35,
      "metadata": {
        "id": "4hXuwbS08JPR",
        "colab": {
          "base_uri": "https://localhost:8080/"
        },
        "outputId": "16bbf75b-edf3-48a4-9bc8-f9d79b55f149"
      },
      "outputs": [
        {
          "output_type": "stream",
          "name": "stdout",
          "text": [
            "14 / 40\n"
          ]
        }
      ],
      "source": [
        "count_ok  = 0\n",
        "count_all = 0\n",
        "\n",
        "for data_X, data_Y in dataloader:\n",
        "  y_pred_proba = predict_val(data_X, W).sigmoid() # W is the weight before training\n",
        "  y_pred = y_pred_proba > 0.5\n",
        "  result = (y_pred == data_Y)\n",
        "  count_ok += result.numpy()[0,0] # It becomes true -> 1, false -> 0\n",
        "print(count_ok, \"/\", len(Y_torch))"
      ]
    },
    {
      "cell_type": "markdown",
      "metadata": {
        "id": "AOvSwSrN8Vfq"
      },
      "source": [
        "<!-- JPN -->\n",
        "　資料作成時にテストした際は、ほぼランダム予測な予測精度となっている。\n",
        "\n",
        "　それでは、気を取り直して学習を行う。これまで書いてきた関数 `train()` を利用することで、簡単に学習が可能なはずである。"
      ]
    },
    {
      "cell_type": "markdown",
      "metadata": {
        "id": "_O3cx73gtor7"
      },
      "source": [
        "<!-- ENG -->\n",
        "　When creating this material, the prediction accuracy is almost the same as a random prediction.\n",
        "\n",
        "　Now, let's compose ourselves and start training. By using the function `train()` that we have written so far, it should be easy to train."
      ]
    },
    {
      "cell_type": "code",
      "execution_count": 36,
      "metadata": {
        "id": "-Ymu4GeCudwe",
        "colab": {
          "base_uri": "https://localhost:8080/"
        },
        "outputId": "88df9c75-b0bf-4801-bebf-8bae077930b9"
      },
      "outputs": [
        {
          "output_type": "stream",
          "name": "stdout",
          "text": [
            "tensor([[-1.2189],\n",
            "        [ 1.9061]], requires_grad=True)\n"
          ]
        }
      ],
      "source": [
        "W_hat = train(X_torch, Y_torch, W)\n",
        "print(W_hat)"
      ]
    },
    {
      "cell_type": "markdown",
      "metadata": {
        "id": "8SxM0ZCyvZlB"
      },
      "source": [
        "<!-- JPN -->\n",
        "　学習が行われ、`W_hat`が作成された。\n",
        "これを元に、学習で利用したデータを予測してみる。"
      ]
    },
    {
      "cell_type": "markdown",
      "metadata": {
        "id": "TgIJMPVTtor7"
      },
      "source": [
        "<!-- ENG -->\n",
        "　Training has taken place and `W_hat` has been created.\n",
        "Based on this, we will try to predict the training data."
      ]
    },
    {
      "cell_type": "code",
      "execution_count": 37,
      "metadata": {
        "id": "upBzppMEwgIn",
        "colab": {
          "base_uri": "https://localhost:8080/"
        },
        "outputId": "175962e4-0f55-4ef4-84b6-376cbaf92a40"
      },
      "outputs": [
        {
          "output_type": "stream",
          "name": "stdout",
          "text": [
            "31 / 40\n"
          ]
        }
      ],
      "source": [
        "count_ok  = 0\n",
        "count_all = 0\n",
        "\n",
        "for data_X, data_Y in dataloader:\n",
        "  y_pred_proba = predict_val(data_X, W_hat).sigmoid()\n",
        "  y_pred = y_pred_proba > 0.5\n",
        "  result = y_pred == data_Y\n",
        "  count_ok += result.numpy()[0,0] # It becomes true -> 1, false -> 0\n",
        "print(count_ok, \"/\", len(Y_torch))"
      ]
    },
    {
      "cell_type": "markdown",
      "metadata": {
        "id": "xLw9O0mhzujh"
      },
      "source": [
        "<!-- JPN -->\n",
        "　40個のデータのうち、32個は正しく予測ができるようになった。ちゃんと学習できているようだ。"
      ]
    },
    {
      "cell_type": "markdown",
      "metadata": {
        "id": "kj0B7Lvgtor8"
      },
      "source": [
        "<!-- ENG -->\n",
        "　Of the 40 items of data, 32 were able to be predicted correctly. It seems to be training properly."
      ]
    },
    {
      "cell_type": "markdown",
      "metadata": {
        "id": "tkrOO--GxF-t"
      },
      "source": [
        "----"
      ]
    },
    {
      "cell_type": "markdown",
      "metadata": {
        "id": "JRG94YFMVwGX"
      },
      "source": [
        "<!-- JPN -->\n",
        "# 補足資料"
      ]
    },
    {
      "cell_type": "markdown",
      "metadata": {
        "id": "3uParUFdtor9"
      },
      "source": [
        "<!-- ENG -->\n",
        "# Supplementary Material"
      ]
    },
    {
      "cell_type": "markdown",
      "metadata": {
        "id": "L7qmXCLX-K4B"
      },
      "source": [
        "<!-- JPN -->\n",
        "## ※1 | PyTorchのもうちょっと真面目な勉強資料\n",
        "\n",
        "　今回の講義では、時間の都合でいろんな知識を飛ばして教えている。\n",
        "より詳しく知りたい場合は、以下の資料を読んでみると良い\n",
        "- [公式ドキュメント](https://pytorch.org/docs/stable/index.html)\n",
        "- チュートリアル系\n",
        "  - [公式tutorial](https://pytorch.org/tutorials/)\n",
        "  - [yunjeyによる非公式なtutorial](https://github.com/yunjey/pytorch-tutorial)\n",
        "\n",
        "　日本語の書籍も存在する（例：「現場で使える！PyTorch開発入門―深層学習モデルの作成とアプリケーションへの実装」翔泳社）が、ニューラルネットワーク（深層学習）はライブラリの仕様などが頻繁に変更されているため、書籍が古いと最新版では存在しない関数を利用している可能性もある。PythonやPyTorchのバージョンには十分注意して、実際にGoogle Colaboratory等で動かしながら学習すると良い。"
      ]
    },
    {
      "cell_type": "markdown",
      "metadata": {
        "id": "Xjm3gM3ntor9"
      },
      "source": [
        "<!-- ENG -->\n",
        "## S1 | Some more serious study materials on PyTorch\n",
        "\n",
        "　In this lecture, we skipped over quite a bit of knowledge due to time constraints.\n",
        "If you want to know more, you can read the following documents\n",
        "- [Official documents](https://pytorch.org/docs/stable/index.html)\n",
        "- Tutorials\n",
        "  - [Official tutorials](https://pytorch.org/tutorials/)\n",
        "  - [Unofficial tutorials by yunjey](https://github.com/yunjey/pytorch-tutorial)\n",
        "\n",
        "　Some Japanese books also exist (e.g., \"Useable in the Field! Introduction to PyTorch development - Creation of deep learning models and implementation in applications\" Shoeisha Co., Ltd.), but neural networks (deep learning) frequently change library specifications, etc. Therefore, if the book is old, it may use a function that is not supported in the latest version. It is a good idea to pay close attention to the version of Python and PyTorch you are using, and actually run training in Google Colaboratory, etc."
      ]
    }
  ],
  "metadata": {
    "colab": {
      "collapsed_sections": [
        "1m2cM919WnWi",
        "gjDKatrppQz6",
        "lWEy4tlsnYH3",
        "AdgWW_m_d2oN",
        "fYfNzyR5FEop",
        "L-gPrKaY18Tk",
        "8IqA6htpRgSl",
        "H43NDBU2fd7R",
        "ISy-Skcaeh1E",
        "7UfcI4EtUauh",
        "MMC3giNqUq3n",
        "1TSja2lJUxOp",
        "8H-kDayeenoa",
        "or4XJTylAtNB",
        "faHKcrxptorx",
        "bREy-lsmq5nX",
        "zjTo41KH68Nx",
        "Kv9qfdjsY6xC",
        "A5ISBIe8rY3E",
        "5dbAlkLAG3yF",
        "07k9q4UJSSJk",
        "t-e-tzAbRBbO",
        "gPnu6-UgktMf",
        "pXdaKkS7fkBC",
        "8Qnj2bM0ubxV",
        "JRG94YFMVwGX",
        "L7qmXCLX-K4B",
        "Xjm3gM3ntor9"
      ],
      "provenance": []
    },
    "kernelspec": {
      "display_name": "Python 3.9.12 ('base')",
      "language": "python",
      "name": "python3"
    },
    "language_info": {
      "codemirror_mode": {
        "name": "ipython",
        "version": 3
      },
      "file_extension": ".py",
      "mimetype": "text/x-python",
      "name": "python",
      "nbconvert_exporter": "python",
      "pygments_lexer": "ipython3",
      "version": "3.9.12"
    },
    "otter": {
      "OK_FORMAT": true,
      "tests": {
        "q1": {
          "name": "q1",
          "points": 4,
          "suites": [
            {
              "cases": [],
              "scored": true,
              "setup": "",
              "teardown": "",
              "type": "doctest"
            }
          ]
        },
        "q2": {
          "name": "q2",
          "points": 2,
          "suites": [
            {
              "cases": [],
              "scored": true,
              "setup": "",
              "teardown": "",
              "type": "doctest"
            }
          ]
        },
        "q6": {
          "name": "q6",
          "points": 2,
          "suites": [
            {
              "cases": [],
              "scored": true,
              "setup": "",
              "teardown": "",
              "type": "doctest"
            }
          ]
        }
      }
    },
    "vscode": {
      "interpreter": {
        "hash": "d4d1e4263499bec80672ea0156c357c1ee493ec2b1c70f0acce89fc37c4a6abe"
      }
    }
  },
  "nbformat": 4,
  "nbformat_minor": 0
}