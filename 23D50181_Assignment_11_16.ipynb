{
  "cells": [
    {
      "cell_type": "markdown",
      "metadata": {
        "id": "qsZHFZOM_D5o"
      },
      "source": [
        "<!-- JPN -->\n",
        "# アンサンブル学習\n"
      ]
    },
    {
      "cell_type": "markdown",
      "metadata": {
        "id": "T7c74ZvPQPEu"
      },
      "source": [
        "<!-- ENG -->\n",
        "# Ensemble learning\n"
      ]
    },
    {
      "cell_type": "markdown",
      "metadata": {
        "id": "Yrw_xg43linT"
      },
      "source": [
        "<!-- JPN -->\n",
        "※本演習資料の二次配布・再配布はお断り致します。"
      ]
    },
    {
      "cell_type": "markdown",
      "metadata": {
        "id": "VVlZS5YjK5nZ"
      },
      "source": [
        "<!-- ENG -->\n",
        "※Distribution or redistribution of these exercise materials without the copyright holder's permission is not permitted."
      ]
    },
    {
      "cell_type": "markdown",
      "metadata": {
        "id": "viHAyoMw4K25"
      },
      "source": [
        "<!-- JPN -->\n",
        "　今回の演習の内容は以下の3つである。\n",
        "\n",
        "1. **データセットの構築**\n",
        "2. **アンサンブル学習 (ensemble learning)**\n",
        "3. **予測された確率値による予測結果の解析**"
      ]
    },
    {
      "cell_type": "markdown",
      "metadata": {
        "id": "24gwszHT4K25"
      },
      "source": [
        "<!-- ENG -->\n",
        "　The practice exercises this time are the following three.\n",
        "\n",
        "1. **Building a data set**\n",
        "2. **Ensemble learning**\n",
        "3. **Analysis of prediction results using predicted probability values**"
      ]
    },
    {
      "cell_type": "markdown",
      "metadata": {
        "id": "hnpjrDI2rVcq"
      },
      "source": [
        "<!-- JPN -->\n",
        "## 1 | データセットの構築"
      ]
    },
    {
      "cell_type": "markdown",
      "metadata": {
        "id": "d8qLD0VZQPEw"
      },
      "source": [
        "<!-- ENG -->\n",
        "## 1 | Building a data set"
      ]
    },
    {
      "cell_type": "markdown",
      "metadata": {
        "id": "AR8AwvsVdyW4"
      },
      "source": [
        "<!-- JPN -->\n",
        "今回は手書き文字認識 (digits) のデータセットを用いる。"
      ]
    },
    {
      "cell_type": "markdown",
      "metadata": {
        "id": "HoJVZ3c6dyW5"
      },
      "source": [
        "<!-- ENG -->\n",
        "　We will be using a data set of handwritten recognition (digits data set) this time."
      ]
    },
    {
      "cell_type": "code",
      "execution_count": 1,
      "metadata": {
        "id": "ChjmCaqME3Gp"
      },
      "outputs": [],
      "source": [
        "from sklearn import datasets\n",
        "import matplotlib.pyplot as plt\n",
        "\n",
        "d = datasets.load_digits()\n",
        "images = d.images"
      ]
    },
    {
      "cell_type": "markdown",
      "metadata": {
        "id": "QndHOuxmr7Dp"
      },
      "source": [
        "<!-- JPN -->\n",
        "　以下のセルは、digitsのデータセットの画像を表示してくれる。 `image_index` が画像の番号を表すので、いくつかの画像を目で見ておくと良い。"
      ]
    },
    {
      "cell_type": "markdown",
      "metadata": {
        "id": "Mc7I-qvHQPEz"
      },
      "source": [
        "<!-- ENG -->\n",
        "　The following cell shows you the digits data set image. Since `image_index` represents the number of the image, it would be good to take a look at some of the images."
      ]
    },
    {
      "cell_type": "code",
      "execution_count": 2,
      "metadata": {
        "id": "1kNTVIWuFf4L",
        "colab": {
          "base_uri": "https://localhost:8080/",
          "height": 314
        },
        "outputId": "0b0f4150-6f6b-4a61-dbae-4dd61f9243ba"
      },
      "outputs": [
        {
          "output_type": "display_data",
          "data": {
            "text/plain": [
              "<Figure size 300x300 with 1 Axes>"
            ],
            "image/png": "[encoded data removed]"
          },
          "metadata": {}
        }
      ],
      "source": [
        "# display digit image\n",
        "# change image_index and see each image with its label\n",
        "\n",
        "image_index = 100\n",
        "plt.figure(1, figsize=(3, 3))\n",
        "plt.imshow(images[image_index], cmap=plt.cm.gray_r, interpolation='nearest')\n",
        "plt.title(f\"An image of \\\"{d.target[image_index]}\\\"\")\n",
        "plt.show()"
      ]
    },
    {
      "cell_type": "markdown",
      "metadata": {
        "id": "LTJ-CVhJsSO2"
      },
      "source": [
        "<!-- JPN -->\n",
        "　今回も汎化性能を見るために訓練データとテストデータに分割し、訓練データのみから学習を行い、テストデータを予測することでモデルを評価していく。"
      ]
    },
    {
      "cell_type": "markdown",
      "metadata": {
        "id": "JBONLmPRQPE5"
      },
      "source": [
        "<!-- ENG -->\n",
        "　This time as well, in order to see the generalization performance, we will split it into training data and test data, learn from only the training data, and evaluate the model by predicting the test data."
      ]
    },
    {
      "cell_type": "code",
      "execution_count": 3,
      "metadata": {
        "id": "LIIgDqLSYxqh"
      },
      "outputs": [],
      "source": [
        "# make training/test data set\n",
        "n_train = 1000\n",
        "X_train = d.data[:n_train,:]\n",
        "y_train = d.target[:n_train] # training data\n",
        "X_test = d.data[n_train:,:]\n",
        "y_test = d.target[n_train:] # test data\n",
        "\n",
        "images_train = images[:n_train]\n",
        "images_test = images[n_train:]"
      ]
    },
    {
      "cell_type": "markdown",
      "metadata": {
        "id": "91-Q4OPf_crs"
      },
      "source": [
        "<!-- JPN -->\n",
        "## 2 | アンサンブル学習\n",
        "\n",
        "　**アンサンブル学習**とは、一つ一つの予測性能は高くない学習器を複数学習し、それらを多数決や平均などで集約した結果を出力することで、個々の学習器よりも高い精度の予測を行う手法である。原理的にはどのような機械学習手法を用いてもアンサンブル学習を行うことができるが、今回はアンサンブル学習で一般的に用いられる決定木を使用する。"
      ]
    },
    {
      "cell_type": "markdown",
      "metadata": {
        "id": "Tz4j7HlLQPE6"
      },
      "source": [
        "<!-- ENG -->\n",
        "## 2 | Ensemble learning\n",
        "\n",
        "　**Ensemble learning** is a method of predicting higher accuracy results using multiple learners, which do not have high prediction performance if trained individual, and outputting the results aggregated by average and majority voting, etc. In principle, any machine learning model can be used with ensemble learning, but in this case we will use decision trees, which is commonly used for ensemble learning."
      ]
    },
    {
      "cell_type": "markdown",
      "metadata": {
        "id": "MYtQoX1x6ZqX"
      },
      "source": [
        "<img src=\"https://i.imgur.com/QW3bY7I.png\" width=70% />"
      ]
    },
    {
      "cell_type": "markdown",
      "metadata": {
        "id": "uEYJV1Yp_izx"
      },
      "source": [
        "<!-- JPN -->\n",
        "　具体的なアンサンブル学習の手法を学ぶ前に決定木について復習しよう。\n",
        "決定木（decision tree）とは、目的変数（従属変数）をうまく分類できる説明変数で分岐させ続けることで分類を行うモデルである。\n",
        "\n"
      ]
    },
    {
      "cell_type": "markdown",
      "metadata": {
        "id": "JRNkM2oWQPE7"
      },
      "source": [
        "<!-- ENG -->\n",
        "　Before learning about specific ensemble learning methods, let's review the decision trees.\n",
        "The decision tree is a model that classifies the class label (dependent variable) by continuously branching it with explanatory variables which works well for classifying.\n",
        "\n"
      ]
    },
    {
      "cell_type": "code",
      "execution_count": 17,
      "metadata": {
        "id": "5eJlo8j7E4Vf",
        "colab": {
          "base_uri": "https://localhost:8080/"
        },
        "outputId": "02ebff2f-4770-44bd-8a54-ca2934aa4d98"
      },
      "outputs": [
        {
          "output_type": "stream",
          "name": "stdout",
          "text": [
            "0.7791718946047679\n"
          ]
        }
      ],
      "source": [
        "from sklearn import tree, metrics\n",
        "single_tree = tree.DecisionTreeClassifier(max_depth=10, random_state=0)\n",
        "\n",
        "single_tree.fit(X_train,y_train) # fitting\n",
        "y_pred = single_tree.predict(X_test) # prediction for test data set\n",
        "\n",
        "print(metrics.accuracy_score(y_pred, y_test)) # test accuracy"
      ]
    },
    {
      "cell_type": "markdown",
      "metadata": {
        "id": "RqcoWJMnuLgC"
      },
      "source": [
        "<!-- JPN -->\n",
        "　決定木単体では、テストデータに対して0.779という正解率であった。アンサンブル学習によって、この正解率がどのように変化していくのか見ていこう。"
      ]
    },
    {
      "cell_type": "markdown",
      "metadata": {
        "id": "TJDDOWDJQPE8"
      },
      "source": [
        "<!-- ENG -->\n",
        "　The decision tree by itself had an accuracy of 0.779 for the test data. Let's take a look at how the accuracy will change using ensemble learning."
      ]
    },
    {
      "cell_type": "markdown",
      "metadata": {
        "id": "vEzeqODKK35B"
      },
      "source": [
        "<!-- JPN -->\n",
        "### 2.1 | バギング (bagging)"
      ]
    },
    {
      "cell_type": "markdown",
      "metadata": {
        "id": "Y69eDmbMQPE8"
      },
      "source": [
        "<!-- ENG -->\n",
        "### 2.1 | Bagging"
      ]
    },
    {
      "cell_type": "markdown",
      "metadata": {
        "id": "D0OxKcogK_Gj"
      },
      "source": [
        "<!-- JPN -->\n",
        "　**バギング**とは複数の決定木の平均、もしくは多数決で予測を行う手法である。しかし、一般的には同じデータセットから学習を行うと同じ決定木が得られてしまう。当たり前であるが、同じモデルの平均や多数決では予測精度は向上しないので、異なるモデルを得る必要がある。\n",
        "\n",
        "　一方、一つのデータセットを加工して複数の異なるデータセットを得ることができれば、そこから異なる決定木を学習することができる。この手法の一つに**ブートストラップ法 (bootstrap resampling)** がある。**バギングではブートストラップ法を用いて複数のデータセットを作成し、それぞれのデータセットに対して決定木を訓練する**ことで異なる決定木を得る。"
      ]
    },
    {
      "cell_type": "markdown",
      "metadata": {
        "id": "J5oeaeNqQPE9"
      },
      "source": [
        "<!-- ENG -->\n",
        "　**Bagging** is a method of making predictions by averaging multiple decision trees or by using majority voting. In general, training from the same data set will result in the same decision tree. Obviously, averaging or majority voting of the same model will not improve the prediction accuracy, so we need to obtain different models.\n",
        "\n",
        "　If we can process one data set to obtain several different data sets, we can train different decision trees from them. One of these methods is **bootstrap resampling**. **In bagging, multiple data sets are created using the bootstrap resampling, and decision trees are trained on each data set** to obtain different decision trees."
      ]
    },
    {
      "cell_type": "markdown",
      "metadata": {
        "id": "A8CbKUmlNPyw"
      },
      "source": [
        "<!-- JPN -->\n",
        "　ブートストラップ法では、$N$ 個のデータを含むデータセットから **重複を許して（復元抽出で）** ランダムに $N$ 個を取り出し、新しいデータセットを作る。簡単なデータに対して実際にブートストラップ法を適用してみよう。"
      ]
    },
    {
      "cell_type": "markdown",
      "metadata": {
        "id": "XkNAdQvPQPE-"
      },
      "source": [
        "<!-- ENG -->\n",
        "　With the bootstrap resampling, a new data set is created by randomly extracting $N$ items from a data set containing $N$ items of data by random sampling with replacement. Let's try applying the bootstrap resampling to some simple data."
      ]
    },
    {
      "cell_type": "code",
      "execution_count": 5,
      "metadata": {
        "id": "zm1akpoeNiot",
        "colab": {
          "base_uri": "https://localhost:8080/"
        },
        "outputId": "fe5b49f7-1282-4ff8-e914-a5463edcbc1d"
      },
      "outputs": [
        {
          "output_type": "stream",
          "name": "stdout",
          "text": [
            "[0 1 2 3 4 5 6 7 8 9]\n"
          ]
        }
      ],
      "source": [
        "import numpy as np\n",
        "\n",
        "data_orig = np.arange(10) # make a list of [0...9]\n",
        "print(data_orig)"
      ]
    },
    {
      "cell_type": "code",
      "execution_count": 6,
      "metadata": {
        "id": "6AGQ5jWLNxzD",
        "colab": {
          "base_uri": "https://localhost:8080/"
        },
        "outputId": "18122b72-b3f5-4720-b05b-6eb7c80909d9"
      },
      "outputs": [
        {
          "output_type": "stream",
          "name": "stdout",
          "text": [
            "[8 0 9 9 9 7 3 3 8 7]\n",
            "[6 1 4 6 9 2 7 9 6 9]\n"
          ]
        }
      ],
      "source": [
        "data_sampled = np.random.choice(data_orig, len(data_orig)) # randomly choose from data_orig. do (len(data_orig)) times\n",
        "print(data_sampled)\n",
        "\n",
        "data_sampled = np.random.choice(data_orig, len(data_orig))\n",
        "print(data_sampled)"
      ]
    },
    {
      "cell_type": "markdown",
      "metadata": {
        "id": "ILQt9vKiYuas"
      },
      "source": [
        "<!-- JPN -->\n",
        "　このように、ブートストラップ法を用いることにより、一つのデータセットから複数のデータセットを作成することができる。（これを使って、自分でバギングを実装するのは課題とする。）"
      ]
    },
    {
      "cell_type": "markdown",
      "metadata": {
        "id": "CdozXpQkQPE-"
      },
      "source": [
        "<!-- ENG -->\n",
        "　Thus, by using the bootstrap resampling, multiple data sets can be generated from a single data set. (It will be your assignment to implement bagging by yourself by using the bootstrap.)"
      ]
    },
    {
      "cell_type": "markdown",
      "metadata": {
        "id": "2aD94QJVTlsz"
      },
      "source": [
        "<!-- JPN -->\n",
        "　次に、scikit-learnを使ってバギングを実際に行ってみよう。scikit-learnでは`sklearn.ensemble`にアンサンブル学習の手法がまとめられている。scikit-learnのバギング (`BaggingClassifier`) では、`estimator`に指定したモデルを自動的に`n_estimators`個作成し、その多数決または平均で予測を行うことができる。\n",
        "\n",
        "　`BaggingClassifier.fit()`を行うと、内部でブートストラップ法を用いて複数のデータセットが作成され、`n_estimators`個のモデルが独立に訓練されている。"
      ]
    },
    {
      "cell_type": "markdown",
      "metadata": {
        "id": "TTmriGpNQPE_"
      },
      "source": [
        "<!-- ENG -->\n",
        "　Next, let's try bagging using scikit-learn. In scikit-learn, ensemble learning methods are included in `sklearn.ensemble`. With scikit-learn's bagging (`BaggingClassifier`), the model specified in `estimator` can be automatically created as many as you set in `n_estimators`, and prediction can be made by majority vote or average.\n",
        "　When `BaggingClassifier.fit()` is executed, multiple data sets are created internally using the bootstrap resampling, and the number of models set in `n_estimators` are trained individually."
      ]
    },
    {
      "cell_type": "code",
      "execution_count": 20,
      "metadata": {
        "id": "iO_zNMFCV5En",
        "colab": {
          "base_uri": "https://localhost:8080/"
        },
        "outputId": "5e2c9267-c2b6-4eed-f2ed-87a04627dd5f"
      },
      "outputs": [
        {
          "output_type": "stream",
          "name": "stdout",
          "text": [
            "0.877038895859473\n"
          ]
        }
      ],
      "source": [
        "from sklearn import ensemble\n",
        "single_tree = tree.DecisionTreeClassifier(max_depth=10, random_state=0)\n",
        "\n",
        "bagging_dt = ensemble.BaggingClassifier(estimator=single_tree, n_estimators=10, random_state=0)\n",
        "bagging_dt.fit(X_train,y_train) # fitting\n",
        "\n",
        "y_pred = bagging_dt.predict(X_test)\n",
        "print(metrics.accuracy_score(y_pred, y_test)) # test accuracy"
      ]
    },
    {
      "cell_type": "markdown",
      "metadata": {
        "id": "WTMcrY_Ju0KY"
      },
      "source": [
        "<!-- JPN -->\n",
        "　予測結果について、`image_index`の値を変更させながら、テストデータの画像とそのラベル、予測結果を同時に眺めてみよう。特に予測に失敗したデータを見つけると良い。"
      ]
    },
    {
      "cell_type": "markdown",
      "metadata": {
        "id": "Upre60KVQPE_"
      },
      "source": [
        "<!-- ENG -->\n",
        "　For the prediction result, let's look at the test data image, its label, and the prediction result at the same time, while changing the value of `image_index`. It is especially good to find data that had failed to be predicted."
      ]
    },
    {
      "cell_type": "code",
      "execution_count": 8,
      "metadata": {
        "id": "Yv9gBB0ErSui",
        "colab": {
          "base_uri": "https://localhost:8080/",
          "height": 334
        },
        "outputId": "870ab3fe-1563-49d7-cead-877afa22d301"
      },
      "outputs": [
        {
          "output_type": "display_data",
          "data": {
            "text/plain": [
              "<Figure size 300x300 with 1 Axes>"
            ],
            "image/png": "[encoded data removed]"
          },
          "metadata": {}
        }
      ],
      "source": [
        "# display digit image\n",
        "# change image_index and see each image with its label\n",
        "\n",
        "image_index = 45\n",
        "plt.figure(1, figsize=(3, 3))\n",
        "plt.imshow(images_test[image_index], cmap=plt.cm.gray_r, interpolation='nearest')\n",
        "plt.title(f\"True: {y_test[image_index]}\\nPredicted: {y_pred[image_index]}\")\n",
        "plt.show()"
      ]
    },
    {
      "cell_type": "markdown",
      "metadata": {
        "id": "cx1ADFnZPL7e"
      },
      "source": [
        "---"
      ]
    },
    {
      "cell_type": "markdown",
      "metadata": {
        "deletable": false,
        "editable": false,
        "id": "UJeq9K2GO7JS"
      },
      "source": [
        "<!-- JPN -->\n",
        "##### 課題 1\n",
        "\n",
        "　sckit-learnを用いずにブートストラップ法によるデータセットの生成を実装してみよう。次のコードは以下の内容を実装するコードである。適切に空欄を埋めて実行可能にせよ。\n",
        "\n",
        "1. 平均0, 標準偏差1の正規分布から1000個のデータをもつデータセット `data_normal` を作成する。\n",
        "\n",
        "2. `data_normal` からブートストラップ法を用いて1000個のデータをもつデータセットを10回生成し、各データセットの平均と標準偏差を表示する。\n",
        "\n",
        "なお、実行できるようになったら、平均と標準偏差が元の正規分布とほぼ同一であることを確認してほしい。\n"
      ]
    },
    {
      "cell_type": "markdown",
      "metadata": {
        "deletable": false,
        "editable": false,
        "id": "_kZ1swdKQPE_"
      },
      "source": [
        "<!-- ENG -->\n",
        "##### Exercise 1\n",
        "\n",
        "　Let's try to implement the data set generation with the bootstrap resampling without using sckit-learn. The following is the code that implements the content below. Fill out blanks as appropriate to make it executable.\n",
        "\n",
        "1. Create the data set `data_normal` with 1,000 data from a normal distribution with a mean of 0 and a standard deviation of 1.\n",
        "\n",
        "2. Generate 10 data sets with 1,000 data from `data_normal` using the bootstrap resampling and show the mean and standard deviation of each data set.\n",
        "\n",
        "When you are ready to execute, please make sure that the mean and standard deviation are almost identical to the original normal distribution.\n"
      ]
    },
    {
      "cell_type": "code",
      "execution_count": 9,
      "metadata": {
        "id": "YTbjTFjMQ44R",
        "tags": [],
        "colab": {
          "base_uri": "https://localhost:8080/"
        },
        "outputId": "5397fcba-5481-43e3-e770-7316fb0ac3c9"
      },
      "outputs": [
        {
          "output_type": "stream",
          "name": "stdout",
          "text": [
            "-0.022323210219890116 0.9705461270049136\n",
            "0.029801559080417834 0.9872652294814247\n",
            "-0.044478686704528834 0.9480941469371581\n",
            "-0.08405613793375483 0.9963416524661426\n",
            "-0.06577735822941069 0.9736395953939555\n",
            "-0.02288367635432146 0.9978266437440746\n",
            "-0.055425189983354245 0.9758203386432039\n",
            "-0.01775319278727037 0.9788109949078446\n",
            "-0.054440051789176776 0.9651647982176819\n",
            "-0.046878176155955305 0.9758619156682578\n"
          ]
        }
      ],
      "source": [
        "# CODE CELL FOR YOUR ANSWER\n",
        "\n",
        "np.random.seed(0)\n",
        "data_normal = np.random.normal(loc=0, scale=1, size=1000)\n",
        "\n",
        "num_iter = 10\n",
        "for i in range(num_iter):\n",
        "  data_sampled = np.random.choice(data_normal, size=len(data_normal), replace=True)\n",
        "  print(np.mean(data_sampled), np.std(data_sampled))\n"
      ]
    },
    {
      "cell_type": "markdown",
      "metadata": {
        "id": "UedtDZ0yPO07"
      },
      "source": [
        "---"
      ]
    },
    {
      "cell_type": "markdown",
      "metadata": {
        "id": "5r0E0vFisXlg"
      },
      "source": [
        "<!-- JPN -->\n",
        "\n",
        "##### 課題 2（実践、提出不要）\n",
        "\n",
        "　scikit-learnの`BaggingClassifier`を使わずに、多数決によるバギングを実装してみよう。\n",
        "\n",
        "　digits データセットについて、学習するデータ数を1000としたとき、\n",
        "\n",
        "1.   ブートストラップ法を用いて100個のデータセットを作成し、\n",
        "2.   それぞれのデータセットに基づいて100個の決定木を`DecisionTreeClassifier`を用いて作成し、\n",
        "3.   その結果の多数決をとる\n",
        "\n",
        "ことによりバギングを実装せよ。また、その結果が`BaggingClassifier`を用いて実装したバギングの予測精度と概ね一致することを確認せよ。\n",
        "\n",
        "\n"
      ]
    },
    {
      "cell_type": "markdown",
      "metadata": {
        "id": "RW8DqTliQPFA"
      },
      "source": [
        "<!-- ENG -->\n",
        "\n",
        "##### Exercise 2 (Practical, not required to submit)\n",
        "\n",
        "　Let's try to implement bagging by majority vote without using scikit-learn's `BaggingClassifier`.\n",
        "\n",
        "　For the digits data set, if the number of data to be trained is 1,000, implement bagging by executing following steps.\n",
        "\n",
        "1.   Generate a 100 item data set using the bootstrap resampling\n",
        "2.   Train 100 decision trees based on each data set, using the `DecisionTreeClassifier`\n",
        "3.   Take a majority vote of the results\n",
        "\n",
        "Also, confirm that the results are generally consistent with the prediction accuracy of the bagging implemented using `BaggingClassifier`.\n",
        "\n"
      ]
    },
    {
      "cell_type": "markdown",
      "metadata": {
        "id": "qcOhVkF7PSEE"
      },
      "source": [
        "---"
      ]
    },
    {
      "cell_type": "markdown",
      "metadata": {
        "id": "ZnrofiQ5F_VY"
      },
      "source": [
        "<!-- JPN -->\n",
        "### 2.2 | ランダムフォレスト (random forest)"
      ]
    },
    {
      "cell_type": "markdown",
      "metadata": {
        "id": "3d6_-g5LQPFA"
      },
      "source": [
        "<!-- ENG -->\n",
        "### 2.2 | Random forest"
      ]
    },
    {
      "cell_type": "markdown",
      "metadata": {
        "id": "T0C-w9RbHNvN"
      },
      "source": [
        "<!-- JPN -->\n",
        "　**ランダムフォレスト**はバギングを改良した手法であり、ブートストラップ法を用いて多数のデータセットを生成し、各データセットから決定木を生成する。それに加えて、ランダムフォレストでは**各決定木の分岐で使用する説明変数（特徴量）をランダムに一部だけ選んで使用**する。"
      ]
    },
    {
      "cell_type": "markdown",
      "metadata": {
        "id": "Um_OC3y3QPFB"
      },
      "source": [
        "<!-- ENG -->\n",
        "　**Random forest** is an improved version of bagging, which uses the bootstrap resampling to generate a large number of data sets, and trains a decision tree from each data set. In addition to that, random forest **randomly selects only some of the explanatory variables (features) to be used in each decision tree branch**."
      ]
    },
    {
      "cell_type": "markdown",
      "metadata": {
        "id": "uJlCctM9yOpd"
      },
      "source": [
        "<!-- JPN -->\n",
        "　アンサンブル学習では各学習器の性質が多様であるほど集約の効果が高まるという性質がある。特徴量をランダムに選ぶことにより単独の学習器の性能が少し落ちる一方、学習器の多様性が高まるため、ランダムフォレストはバギングよりも性能が高いとされている。\n",
        "\n",
        "　では、バギングと同様にランダムフォレストを学習させてみよう。"
      ]
    },
    {
      "cell_type": "markdown",
      "metadata": {
        "id": "jlJ3GNXaQPFB"
      },
      "source": [
        "<!-- ENG -->\n",
        "　In ensemble learning, the more diverse the properties of each learner are, the more effective the aggregation becomes. Although randomly selecting features slightly reduces the performance of a single learner, it increases the diversity of the learner. This is why random forest is considered to have better performance than bagging.\n",
        "\n",
        "　Now let's try to train random forest the same way we did with bagging."
      ]
    },
    {
      "cell_type": "code",
      "execution_count": 47,
      "metadata": {
        "id": "UdP1EqG0Rdsx",
        "colab": {
          "base_uri": "https://localhost:8080/"
        },
        "outputId": "404adad0-2ac5-46e7-8f92-8b1f80844c3e"
      },
      "outputs": [
        {
          "output_type": "stream",
          "name": "stdout",
          "text": [
            "0.9071518193224593\n"
          ]
        }
      ],
      "source": [
        "rf = ensemble.RandomForestClassifier(max_depth=10, n_estimators=10, random_state=0)\n",
        "rf.fit(X_train,y_train) # fitting\n",
        "\n",
        "y_pred = rf.predict(X_test)\n",
        "\n",
        "print(metrics.accuracy_score(y_pred, y_test)) # test accuracy\n"
      ]
    },
    {
      "cell_type": "markdown",
      "metadata": {
        "id": "t7JlSLqbTseq"
      },
      "source": [
        "<!-- JPN -->\n",
        "　また、ランダムフォレストでは、各変数がどの程度予測に寄与しているかの情報（特徴量の重要度、feature importance）を計算することができる。各決定木でそれぞれの分割を行う際、分割に使用した変数の寄与は分割に用いる指標の改善量で与えられる。これをすべての分割で合計することで各変数の寄与の割合が得られる。\n",
        "\n",
        "　実際に上のランダムフォレストにおける各変数の重要度を見てみよう。"
      ]
    },
    {
      "cell_type": "markdown",
      "metadata": {
        "id": "yaRAysnIQPFB"
      },
      "source": [
        "<!-- ENG -->\n",
        "　Random forest also allows us to calculate information on how much each variable contributes to the prediction (feature importance). When performing each split in each decision tree, the contribution of the variables used for the split is given by the amount of improvement in the index used for the split. By totaling this up for the all the splits, the percentage of contribution of each variable can be obtained.\n",
        "\n",
        "　Let's actually look at the importance of each variable in random forest above."
      ]
    },
    {
      "cell_type": "code",
      "execution_count": 11,
      "metadata": {
        "id": "5LdKg1PiaZb3",
        "colab": {
          "base_uri": "https://localhost:8080/",
          "height": 452
        },
        "outputId": "d0269a56-116b-4e3d-fc2d-2d93db877f10"
      },
      "outputs": [
        {
          "output_type": "display_data",
          "data": {
            "text/plain": [
              "<Figure size 640x480 with 1 Axes>"
            ],
            "image/png": "[encoded data removed]"
          },
          "metadata": {}
        }
      ],
      "source": [
        "importances = rf.feature_importances_\n",
        "\n",
        "# show importances as barplot\n",
        "indices = np.argsort(importances)[::-1]\n",
        "D = 20 # number of importances to show\n",
        "plt.bar(range(D), importances[indices[:D]])\n",
        "plt.xticks(range(D), indices[:D])\n",
        "plt.title(\"Feature importance\")\n",
        "plt.show()"
      ]
    },
    {
      "cell_type": "markdown",
      "metadata": {
        "id": "wDVa7tmbw2mV"
      },
      "source": [
        "<!-- JPN -->\n",
        "　重要な変数のIDが羅列されたが、これだけではイマイチ画像のどのあたりが重要かわからない。画像で表現してみよう。"
      ]
    },
    {
      "cell_type": "markdown",
      "metadata": {
        "id": "C6YHa61JQPFC"
      },
      "source": [
        "<!-- ENG -->\n",
        "　The important variable IDs were listed, but this is not enough to tell which part of the image is important. Let's try to represent it with images."
      ]
    },
    {
      "cell_type": "code",
      "execution_count": 12,
      "metadata": {
        "id": "pY-OCD7onY3H",
        "colab": {
          "base_uri": "https://localhost:8080/",
          "height": 430
        },
        "outputId": "a0ff0a99-c8b9-4667-d871-e7b8defccc5f"
      },
      "outputs": [
        {
          "output_type": "display_data",
          "data": {
            "text/plain": [
              "<Figure size 500x500 with 2 Axes>"
            ],
            "image/png": "[encoded data removed]"
          },
          "metadata": {}
        }
      ],
      "source": [
        "# show importances on image\n",
        "\n",
        "importances_reshape = np.reshape(importances, images[0].shape)\n",
        "fig, ax = plt.subplots(1, figsize=(5, 5))\n",
        "\n",
        "im = plt.imshow(importances_reshape,\n",
        "                interpolation='nearest', cmap=plt.cm.jet)\n",
        "fig.colorbar(im)\n",
        "plt.title(\"Feature importance of random forest\")\n",
        "plt.show()"
      ]
    },
    {
      "cell_type": "markdown",
      "metadata": {
        "id": "wqmtsziSqa6k"
      },
      "source": [
        "<!-- JPN -->\n",
        "　実際に文字が書かれている部分の重要度が高く、特に重要度が高いのは中央部であることがわかる。\n",
        "\n",
        "　なお、ある特徴量の重要度が高いことは、その特徴量で木を分割した際にデータがきれいに分割できることを表しているだけで、その特徴量の値（画像であれば画素の値）が大きければ（小さければ）この文字は〇〇（数字 \"3\" とか）だと分類できる、というわけではないことに留意する必要がある。"
      ]
    },
    {
      "cell_type": "markdown",
      "metadata": {
        "id": "IosuMuIrQPFC"
      },
      "source": [
        "<!-- ENG -->\n",
        "　It can be seen that the importance is high in the area where the text is actually written, and that the importance is particularly high in the center.\n",
        "\n",
        "　Note that a high importance of a particular feature only means that the data can be divided neatly when the tree is divided by that feature, and does not mean that if the value of that feature (pixel value in the case of an image) is large (or small), the character can be classified as XX (like the number \"3\")."
      ]
    },
    {
      "cell_type": "markdown",
      "metadata": {
        "id": "JLLGVLW5PiRz"
      },
      "source": [
        "---"
      ]
    },
    {
      "cell_type": "markdown",
      "metadata": {
        "id": "gR-ZrLPERIN1"
      },
      "source": [
        "<!-- JPN -->\n",
        "##### 課題 3\n",
        "\n",
        "　`ensemble.RandomForestClassifier()`に与えている変数`n_estimators`は多数決に使用する決定木の数を表すパラメータである。\n",
        "\n",
        "　digits データセットにおいて、`n_estimators`の値を20, 40, 80, ...と増やしていったときに、テストデータの予測正解率はどのように変化していくだろうか。簡単に述べよ。\n"
      ]
    },
    {
      "cell_type": "markdown",
      "metadata": {
        "id": "LLOqI0eWQPFC"
      },
      "source": [
        "<!-- ENG -->\n",
        "\n",
        "1.   リスト項目\n",
        "2.   リスト項目\n",
        "\n",
        "\n",
        "##### Exercise 3\n",
        "\n",
        "　The variable `n_estimators` given to `ensemble.RandomForestClassifier()` is a parameter that represents the number of decision trees to be used for majority voting.\n",
        "\n",
        "　How will the predicted accuracy of the test data change when the value of `n_estimators` is increased to 20, 40, 80, ... in the digits data set? Describe it briefly.\n",
        "\n"
      ]
    },
    {
      "cell_type": "markdown",
      "metadata": {
        "id": "NrQA0JJWdyXD"
      },
      "source": [
        "<!-- JPN -->\n",
        "<font color=orange> **このテキストセルに答案を記述せよ。** </font>"
      ]
    },
    {
      "cell_type": "markdown",
      "metadata": {
        "id": "-fweePsUdyXD"
      },
      "source": [
        "<!-- ENG -->\n",
        "<font color=orange> **Write your answer in this text cell.** </font>\n",
        "\n",
        "As `n_estimators` increases in the digits dataset, the predicted accuracy on the test data is to improve initially (until `n_estimators` = 100, the predicted accuracy is 0.9335006273525721), benefiting from ensemble diversity. However, the improvement eventually plateau (from `n_estimators` = 140, the predicted accuracy is 0.9335006273525721), and further increases provide diminishing returns."
      ]
    },
    {
      "cell_type": "markdown",
      "metadata": {
        "id": "XYDRTrp6dyXD"
      },
      "source": [
        "<!-- BOTH -->\n",
        "---"
      ]
    },
    {
      "cell_type": "markdown",
      "metadata": {
        "id": "CfD_QvVvdLFD"
      },
      "source": [
        "<!-- JPN -->\n",
        "### 2.3 | ブースティング (boosting)"
      ]
    },
    {
      "cell_type": "markdown",
      "metadata": {
        "id": "2M8e827nQPFC"
      },
      "source": [
        "<!-- ENG -->\n",
        "### 2.3 | Boosting"
      ]
    },
    {
      "cell_type": "markdown",
      "metadata": {
        "id": "delR9ff9dO9C"
      },
      "source": [
        "<!-- JPN -->\n",
        "　**ブースティング**はバギングやランダムフォレストと異なり、それぞれの決定木を同時に学習するのではなく、データの重みを変えながら順番に訓練していく手法である。今回の演習ではブースティングの代表的な手法である**Adaboost**を用いる。\n",
        "\n",
        "　Adaboostでは、データの重みは過去に誤って予測したデータの重みが大きくなるようにし、最終的な予測はそれぞれの決定木の重み付き平均で行う。それぞれの決定木の重みは、その木を用いた際の訓練データへの予測精度が高いほど大きくなる。\n",
        "\n",
        "　実際にAdaboostの学習を行ってみよう。"
      ]
    },
    {
      "cell_type": "markdown",
      "metadata": {
        "id": "Tz8oEisJQPFD"
      },
      "source": [
        "<!-- ENG -->\n",
        "　**Boosting** differs from bagging and random forest. It does not train each decision tree individually, but trains them in sequence while changing the weights of the data. In this exercise, we will use **AdaBoost**, which is a representative boosting method.\n",
        "\n",
        "　In AdaBoost, set the weights of the data that has been incorrectly predicted in the past to be greater, and the final prediction is made by the weighted average of each decision tree. The weight of each decision tree increases as the prediction accuracy of the training data when using that tree is higher.\n",
        "\n",
        "　Let's actually try training AdaBoost."
      ]
    },
    {
      "cell_type": "code",
      "execution_count": 22,
      "metadata": {
        "id": "kpnS0QGrTr69",
        "colab": {
          "base_uri": "https://localhost:8080/"
        },
        "outputId": "02bcf068-364c-4496-cc5b-536bf3eb0aa0"
      },
      "outputs": [
        {
          "output_type": "stream",
          "name": "stdout",
          "text": [
            "0.9209535759096612\n"
          ]
        }
      ],
      "source": [
        "single_tree = tree.DecisionTreeClassifier(max_depth=10, random_state=0)\n",
        "ada_dt = ensemble.AdaBoostClassifier(estimator=single_tree, n_estimators=10, random_state=0)\n",
        "ada_dt.fit(X_train,y_train) # fitting\n",
        "\n",
        "y_pred = ada_dt.predict(X_test)\n",
        "\n",
        "print(metrics.accuracy_score(y_pred, y_test)) # test accuracy\n"
      ]
    },
    {
      "cell_type": "markdown",
      "metadata": {
        "id": "uzT4l3H6PpiB"
      },
      "source": [
        "---"
      ]
    },
    {
      "cell_type": "markdown",
      "metadata": {
        "id": "sAIx6kljsEgX"
      },
      "source": [
        "<!-- JPN -->\n",
        "##### 課題 4\n",
        "　バギング、ランダムフォレスト、AdaBoostそれぞれについて、木の数を10とした場合のテストデータの予測精度を比較し、最も性能の高い機械学習手法を選択せよ。\n",
        "\n",
        "　また、木の数を1000とした場合についても同様に最も性能の高い機械学習手法を選択せよ。\n",
        "\n"
      ]
    },
    {
      "cell_type": "markdown",
      "metadata": {
        "id": "-sFb9WzaQPFD"
      },
      "source": [
        "<!-- ENG -->\n",
        "\n",
        "##### Exercise 4\n",
        "　Compare the prediction accuracy of the test data for bagging, random forest, and AdaBoost when the number of trees is 10, and answer the best method.\n",
        "\n",
        "　Also, answer the best method for the case where the number of trees is 1,000.\n",
        "\n"
      ]
    },
    {
      "cell_type": "markdown",
      "metadata": {
        "id": "Nen9_9KkdyXD"
      },
      "source": [
        "<!-- JPN -->\n",
        "<font color=orange> **このテキストセルに答案を記述せよ。** </font>"
      ]
    },
    {
      "cell_type": "markdown",
      "metadata": {
        "id": "3OK7JEErdyXD"
      },
      "source": [
        "<!-- ENG -->\n",
        "<font color=orange> **Write your answer in this text cell.** </font>\n",
        "\n",
        "When the number of trees is 10, compare to bagging and random forest, AdaBoost have the best accuracies.\n",
        "\n",
        "As the number increases to 1,000, random forest perform the best due to its robustness and diversity."
      ]
    },
    {
      "cell_type": "markdown",
      "metadata": {
        "id": "2a7jFaB2Pr37"
      },
      "source": [
        "---"
      ]
    },
    {
      "cell_type": "markdown",
      "metadata": {
        "id": "zAlhqLieJibt"
      },
      "source": [
        "<!-- JPN -->\n",
        "##### 課題 5（発展）\n",
        "\n",
        "　上記の例では、`ensemble.AdaBoostClassifier(estimator=single_tree, ...)`と、最大深さが10の決定木を使うことを明示的に指定したが、`estimator`を与えなかった場合はどのような学習器を用いてAdaboostを行うだろうか。\n",
        "scikit-learnの[API Reference](https://scikit-learn.org/stable/modules/classes.html)を参照することで答えよ。\n",
        "\n"
      ]
    },
    {
      "cell_type": "markdown",
      "metadata": {
        "id": "6qWxFY0TQPFD"
      },
      "source": [
        "<!-- ENG -->\n",
        "##### Exercise 5 (Advanced)\n",
        "\n",
        "　In the above example, we have explicitly specified that we want to use a decision tree with a maximum depth of 10 as seen in `ensemble.AdaBoostClassifier(estimator=single_tree, ...)`, if we do not give a `estimator`, what kind of learner would be used to execute AdaBoost?\n",
        "Answer by referring to the [API Reference](https://scikit-learn.org/stable/modules/classes.html) for scikit-learn.\n",
        "\n"
      ]
    },
    {
      "cell_type": "markdown",
      "metadata": {
        "id": "vtA45yo2dyXD"
      },
      "source": [
        "<!-- JPN -->\n",
        "<font color=orange> **このテキストセルに答案を記述せよ。** </font>"
      ]
    },
    {
      "cell_type": "markdown",
      "metadata": {
        "id": "yGrPbW9edyXD"
      },
      "source": [
        "<!-- ENG -->\n",
        "<font color=orange> **Write your answer in this text cell.** </font>\n",
        "\n",
        "A decision tree classifier (tree.DecisionTreeClassifier(max_depth=1)) will be used to execute AdaBoost.\n",
        "\n",
        "Because a decision tree classifier is a tree with a single node and two leaves, making it a shallow and simple learner suitable for boosting. And AdaBoost focuses on training weak learners, and a decision tree classifier is a simple and weak model that performs slightly better than random guessing without leading to overfitting.\n"
      ]
    },
    {
      "cell_type": "markdown",
      "metadata": {
        "id": "MFiATFEFPuNK"
      },
      "source": [
        "---"
      ]
    },
    {
      "cell_type": "markdown",
      "metadata": {
        "id": "PPWUrFwCFN-Y"
      },
      "source": [
        "<!-- JPN -->\n",
        "## 3 | 予測された確率値による予測結果の解析"
      ]
    },
    {
      "cell_type": "markdown",
      "metadata": {
        "id": "O9YOxjIsQPFD"
      },
      "source": [
        "<!-- ENG -->\n",
        "## 3 | Analysis of prediction results using predicted probability values"
      ]
    },
    {
      "cell_type": "markdown",
      "metadata": {
        "id": "1CnzjwCvFRks"
      },
      "source": [
        "<!-- JPN -->\n",
        "　本日学んだアンサンブル学習は多数決を行っている（バギング、ランダムフォレストは単純多数決、ブースティングは重み付き多数決）ので、**アンサンブル学習では確率値を出力することができる**。ここでは、`n_estimators=1000` のバギングを使い、「予測しやすいケース」「予測が難しいケース」を目視していくことにしよう。\n",
        "\n",
        "　確率値の出力は、 `predict()` の代わりに `predict_proba()` を使えばよいのであった。"
      ]
    },
    {
      "cell_type": "markdown",
      "metadata": {
        "id": "munfRAUOQPFE"
      },
      "source": [
        "<!-- ENG -->\n",
        "　Since the ensemble learning we learned this time uses majority voting (bagging and random forests use simple majority voting, while boosting uses weighted majority voting), **the ensemble learning can output probability values**. Here, we will use `n_estimators=1000` bagging to visually identify the \"easy to predict case\" and \"hard to predict case\".\n",
        "\n",
        "　For outputting probability values, we can use `predict_proba()` instead of `predict()`."
      ]
    },
    {
      "cell_type": "code",
      "execution_count": 48,
      "metadata": {
        "id": "QlVxv9LYG1GJ",
        "colab": {
          "base_uri": "https://localhost:8080/",
          "height": 118
        },
        "outputId": "89b0ecc9-75f0-4354-9932-0adf8f4c5b26"
      },
      "outputs": [
        {
          "output_type": "execute_result",
          "data": {
            "text/plain": [
              "BaggingClassifier(estimator=DecisionTreeClassifier(max_depth=10,\n",
              "                                                   random_state=0),\n",
              "                  n_estimators=1000, random_state=0)"
            ],
            "text/html": [
              "<style>#sk-container-id-1 {color: black;background-color: white;}#sk-container-id-1 pre{padding: 0;}#sk-container-id-1 div.sk-toggleable {background-color: white;}#sk-container-id-1 label.sk-toggleable__label {cursor: pointer;display: block;width: 100%;margin-bottom: 0;padding: 0.3em;box-sizing: border-box;text-align: center;}#sk-container-id-1 label.sk-toggleable__label-arrow:before {content: \"▸\";float: left;margin-right: 0.25em;color: #696969;}#sk-container-id-1 label.sk-toggleable__label-arrow:hover:before {color: black;}#sk-container-id-1 div.sk-estimator:hover label.sk-toggleable__label-arrow:before {color: black;}#sk-container-id-1 div.sk-toggleable__content {max-height: 0;max-width: 0;overflow: hidden;text-align: left;background-color: #f0f8ff;}#sk-container-id-1 div.sk-toggleable__content pre {margin: 0.2em;color: black;border-radius: 0.25em;background-color: #f0f8ff;}#sk-container-id-1 input.sk-toggleable__control:checked~div.sk-toggleable__content {max-height: 200px;max-width: 100%;overflow: auto;}#sk-container-id-1 input.sk-toggleable__control:checked~label.sk-toggleable__label-arrow:before {content: \"▾\";}#sk-container-id-1 div.sk-estimator input.sk-toggleable__control:checked~label.sk-toggleable__label {background-color: #d4ebff;}#sk-container-id-1 div.sk-label input.sk-toggleable__control:checked~label.sk-toggleable__label {background-color: #d4ebff;}#sk-container-id-1 input.sk-hidden--visually {border: 0;clip: rect(1px 1px 1px 1px);clip: rect(1px, 1px, 1px, 1px);height: 1px;margin: -1px;overflow: hidden;padding: 0;position: absolute;width: 1px;}#sk-container-id-1 div.sk-estimator {font-family: monospace;background-color: #f0f8ff;border: 1px dotted black;border-radius: 0.25em;box-sizing: border-box;margin-bottom: 0.5em;}#sk-container-id-1 div.sk-estimator:hover {background-color: #d4ebff;}#sk-container-id-1 div.sk-parallel-item::after {content: \"\";width: 100%;border-bottom: 1px solid gray;flex-grow: 1;}#sk-container-id-1 div.sk-label:hover label.sk-toggleable__label {background-color: #d4ebff;}#sk-container-id-1 div.sk-serial::before {content: \"\";position: absolute;border-left: 1px solid gray;box-sizing: border-box;top: 0;bottom: 0;left: 50%;z-index: 0;}#sk-container-id-1 div.sk-serial {display: flex;flex-direction: column;align-items: center;background-color: white;padding-right: 0.2em;padding-left: 0.2em;position: relative;}#sk-container-id-1 div.sk-item {position: relative;z-index: 1;}#sk-container-id-1 div.sk-parallel {display: flex;align-items: stretch;justify-content: center;background-color: white;position: relative;}#sk-container-id-1 div.sk-item::before, #sk-container-id-1 div.sk-parallel-item::before {content: \"\";position: absolute;border-left: 1px solid gray;box-sizing: border-box;top: 0;bottom: 0;left: 50%;z-index: -1;}#sk-container-id-1 div.sk-parallel-item {display: flex;flex-direction: column;z-index: 1;position: relative;background-color: white;}#sk-container-id-1 div.sk-parallel-item:first-child::after {align-self: flex-end;width: 50%;}#sk-container-id-1 div.sk-parallel-item:last-child::after {align-self: flex-start;width: 50%;}#sk-container-id-1 div.sk-parallel-item:only-child::after {width: 0;}#sk-container-id-1 div.sk-dashed-wrapped {border: 1px dashed gray;margin: 0 0.4em 0.5em 0.4em;box-sizing: border-box;padding-bottom: 0.4em;background-color: white;}#sk-container-id-1 div.sk-label label {font-family: monospace;font-weight: bold;display: inline-block;line-height: 1.2em;}#sk-container-id-1 div.sk-label-container {text-align: center;}#sk-container-id-1 div.sk-container {/* jupyter's `normalize.less` sets `[hidden] { display: none; }` but bootstrap.min.css set `[hidden] { display: none !important; }` so we also need the `!important` here to be able to override the default hidden behavior on the sphinx rendered scikit-learn.org. See: https://github.com/scikit-learn/scikit-learn/issues/21755 */display: inline-block !important;position: relative;}#sk-container-id-1 div.sk-text-repr-fallback {display: none;}</style><div id=\"sk-container-id-1\" class=\"sk-top-container\"><div class=\"sk-text-repr-fallback\"><pre>BaggingClassifier(estimator=DecisionTreeClassifier(max_depth=10,\n",
              "                                                   random_state=0),\n",
              "                  n_estimators=1000, random_state=0)</pre><b>In a Jupyter environment, please rerun this cell to show the HTML representation or trust the notebook. <br />On GitHub, the HTML representation is unable to render, please try loading this page with nbviewer.org.</b></div><div class=\"sk-container\" hidden><div class=\"sk-item sk-dashed-wrapped\"><div class=\"sk-label-container\"><div class=\"sk-label sk-toggleable\"><input class=\"sk-toggleable__control sk-hidden--visually\" id=\"sk-estimator-id-1\" type=\"checkbox\" ><label for=\"sk-estimator-id-1\" class=\"sk-toggleable__label sk-toggleable__label-arrow\">BaggingClassifier</label><div class=\"sk-toggleable__content\"><pre>BaggingClassifier(estimator=DecisionTreeClassifier(max_depth=10,\n",
              "                                                   random_state=0),\n",
              "                  n_estimators=1000, random_state=0)</pre></div></div></div><div class=\"sk-parallel\"><div class=\"sk-parallel-item\"><div class=\"sk-item\"><div class=\"sk-label-container\"><div class=\"sk-label sk-toggleable\"><input class=\"sk-toggleable__control sk-hidden--visually\" id=\"sk-estimator-id-2\" type=\"checkbox\" ><label for=\"sk-estimator-id-2\" class=\"sk-toggleable__label sk-toggleable__label-arrow\">estimator: DecisionTreeClassifier</label><div class=\"sk-toggleable__content\"><pre>DecisionTreeClassifier(max_depth=10, random_state=0)</pre></div></div></div><div class=\"sk-serial\"><div class=\"sk-item\"><div class=\"sk-estimator sk-toggleable\"><input class=\"sk-toggleable__control sk-hidden--visually\" id=\"sk-estimator-id-3\" type=\"checkbox\" ><label for=\"sk-estimator-id-3\" class=\"sk-toggleable__label sk-toggleable__label-arrow\">DecisionTreeClassifier</label><div class=\"sk-toggleable__content\"><pre>DecisionTreeClassifier(max_depth=10, random_state=0)</pre></div></div></div></div></div></div></div></div></div></div>"
            ]
          },
          "metadata": {},
          "execution_count": 48
        }
      ],
      "source": [
        "from sklearn import tree, ensemble\n",
        "single_tree = tree.DecisionTreeClassifier(max_depth=10, random_state=0)\n",
        "\n",
        "bagging_dt = ensemble.BaggingClassifier(estimator=single_tree, n_estimators=1000, random_state=0)\n",
        "bagging_dt.fit(X_train,y_train) # fitting"
      ]
    },
    {
      "cell_type": "code",
      "execution_count": 49,
      "metadata": {
        "id": "2rojRsCvHDkL",
        "colab": {
          "base_uri": "https://localhost:8080/"
        },
        "outputId": "845d95c9-c337-480e-f792-acb5c88d426a"
      },
      "outputs": [
        {
          "output_type": "stream",
          "name": "stdout",
          "text": [
            "[[0.         0.78093056 0.015      ... 0.004      0.0280438  0.05099615]\n",
            " [0.009      0.04263998 0.003      ... 0.10716667 0.02996505 0.004     ]\n",
            " [1.         0.         0.         ... 0.         0.         0.        ]\n",
            " ...\n",
            " [0.00227381 0.38458638 0.03112332 ... 0.00230103 0.51408231 0.00397928]\n",
            " [0.         0.00303675 0.         ... 0.01202655 0.01302326 0.96266369]\n",
            " [0.006      0.0430443  0.07716    ... 0.         0.68984578 0.03141914]]\n",
            "(797, 10)\n"
          ]
        }
      ],
      "source": [
        "y_pred_proba = bagging_dt.predict_proba(X_test)\n",
        "print(y_pred_proba)\n",
        "print(y_pred_proba.shape)"
      ]
    },
    {
      "cell_type": "markdown",
      "metadata": {
        "id": "CknwHZC3HzIZ"
      },
      "source": [
        "<!-- JPN -->\n",
        "それぞれの画像に対して、10種類の確率値が予測されていることがわかる（決定木自体も訓練データを完全分離できなかった場合は確率的に予測を行うため、$k/1000$ で表現できない確率値になっていることに注意）。\n",
        "\n",
        "　続いて、「予測しやすいケース」として、単一の文字に対する確率値が `1.0` と予測されたデータを確認してみることにする。"
      ]
    },
    {
      "cell_type": "markdown",
      "metadata": {
        "id": "WoZiQgWiQPFE"
      },
      "source": [
        "<!-- ENG -->\n",
        "For each image, we can see that 10 different probability values are predicted (note that the decision tree itself also makes probabilistic predictions when the training data cannot be completely separated, so be aware that the probability values are the ones which cannot be expressed in $k/1000$).\n",
        "\n",
        "　Next, as an \"easy to predict case\", let's check the data in which the predicted probability value for a single character is `1.0`."
      ]
    },
    {
      "cell_type": "code",
      "execution_count": 50,
      "metadata": {
        "id": "N_F7Br2JIL2G",
        "colab": {
          "base_uri": "https://localhost:8080/"
        },
        "outputId": "9202d14c-cf48-415c-cacf-584cad7dd8c4"
      },
      "outputs": [
        {
          "output_type": "stream",
          "name": "stdout",
          "text": [
            "22\n",
            "[0 6 0 0 0 0 0 0 0 0 0 0 0 0 6 0 0 0 0 0 0 0]\n"
          ]
        }
      ],
      "source": [
        "import numpy as np\n",
        "easy_case = np.max(y_pred_proba, axis=1)==1 # Extract the prediction results with a maximum value of 1.0\n",
        "images_test_easy = images_test[easy_case]\n",
        "y_pred_proba_easy = y_pred_proba[easy_case]\n",
        "y_test_easy = y_test[easy_case]\n",
        "print(len(y_test_easy)) # Check the number of easy cases\n",
        "print(y_test_easy)"
      ]
    },
    {
      "cell_type": "code",
      "execution_count": 51,
      "metadata": {
        "id": "26H8bEn0KBjB",
        "colab": {
          "base_uri": "https://localhost:8080/",
          "height": 351
        },
        "outputId": "aa1b1e50-d3d0-417e-9d3b-42f0689ad7bb"
      },
      "outputs": [
        {
          "output_type": "stream",
          "name": "stdout",
          "text": [
            "[1. 0. 0. 0. 0. 0. 0. 0. 0. 0.]\n",
            "predicted as 0\n"
          ]
        },
        {
          "output_type": "display_data",
          "data": {
            "text/plain": [
              "<Figure size 300x300 with 1 Axes>"
            ],
            "image/png": "[encoded data removed]"
          },
          "metadata": {}
        }
      ],
      "source": [
        "image_index = 0\n",
        "print(y_pred_proba_easy[image_index])\n",
        "print(\"predicted as\", y_pred_proba_easy[image_index].argmax())\n",
        "plt.figure(1, figsize=(3, 3))\n",
        "plt.imshow(images_test_easy[image_index], cmap=plt.cm.gray_r, interpolation='nearest')\n",
        "plt.title(f\"An image of \\\"{y_test_easy[image_index]}\\\"\")\n",
        "plt.show()"
      ]
    },
    {
      "cell_type": "markdown",
      "metadata": {
        "id": "K6nyyvl3KbEE"
      },
      "source": [
        "<!-- JPN -->\n",
        "　この結果を見ると、\"0\"および\"6\"が予測しやすいようである（ `image_index` を変えながら目視することで、確かに人間が見てもわかりやすい文字であることを確認せよ）。\n",
        "\n",
        "　続いて、「予測が難しいケース」として、どの数字に対する確率値も `0.5` 未満であると予測されケースを探してみよう。"
      ]
    },
    {
      "cell_type": "markdown",
      "metadata": {
        "id": "36MFUUN3QPFE"
      },
      "source": [
        "<!-- ENG -->\n",
        "　Looking at the results, \"0\" and \"6\" seem to be fairly  predictable (confirm that the characters are indeed human-readable by visually inspecting them while changing the `image_index`).\n",
        "\n",
        "　Next, let's look for the \"hard to predict case\", where every predicted probability value is less than `0.5`."
      ]
    },
    {
      "cell_type": "code",
      "execution_count": 52,
      "metadata": {
        "id": "ZeIV7it2K06P",
        "colab": {
          "base_uri": "https://localhost:8080/"
        },
        "outputId": "ba3ae93f-659e-4779-af0f-78e101d67ec9"
      },
      "outputs": [
        {
          "output_type": "stream",
          "name": "stdout",
          "text": [
            "132\n",
            "[4 9 9 9 9 4 7 8 7 4 9 8 1 7 3 9 1 8 9 8 8 9 8 8 3 5 8 1 7 4 8 1 8 1 1 7 8\n",
            " 8 8 8 1 2 2 4 8 0 8 2 2 2 7 4 2 9 8 4 1 5 6 1 4 9 8 8 9 1 5 7 1 8 1 9 1 6\n",
            " 7 8 1 2 2 6 8 0 9 8 9 1 3 1 0 7 2 3 3 3 4 1 1 4 6 3 7 8 1 6 1 2 5 9 5 4 8\n",
            " 9 3 4 3 3 5 5 3 2 3 3 3 5 2 2 3 1 3 8 5 8]\n"
          ]
        }
      ],
      "source": [
        "hard_case = np.max(y_pred_proba, axis=1)<0.5 # Extract cases where all probability values are less than 0.5\n",
        "images_test_hard = images_test[hard_case]\n",
        "y_pred_proba_hard = y_pred_proba[hard_case]\n",
        "y_test_hard = y_test[hard_case]\n",
        "print(len(y_test_hard)) # Check the number of hard cases\n",
        "print(y_test_hard)"
      ]
    },
    {
      "cell_type": "code",
      "execution_count": 53,
      "metadata": {
        "id": "sZ5glj8kLOq9",
        "colab": {
          "base_uri": "https://localhost:8080/",
          "height": 369
        },
        "outputId": "87c7b653-e2d6-4910-bd85-4fb0158f5e09"
      },
      "outputs": [
        {
          "output_type": "stream",
          "name": "stdout",
          "text": [
            "[0.001      0.35828184 0.02471411 0.0164     0.28154683 0.11493082\n",
            " 0.00322578 0.0455     0.07195618 0.08244444]\n",
            "predicted as 1\n"
          ]
        },
        {
          "output_type": "display_data",
          "data": {
            "text/plain": [
              "<Figure size 300x300 with 1 Axes>"
            ],
            "image/png": "[encoded data removed]"
          },
          "metadata": {}
        }
      ],
      "source": [
        "image_index = 76\n",
        "print(y_pred_proba_hard[image_index])\n",
        "print(\"predicted as\", y_pred_proba_hard[image_index].argmax())\n",
        "plt.figure(1, figsize=(3, 3))\n",
        "plt.imshow(images_test_hard[image_index], cmap=plt.cm.gray_r, interpolation='nearest')\n",
        "plt.title(f\"An image of \\\"{y_test_hard[image_index]}\\\"\")\n",
        "plt.show()"
      ]
    },
    {
      "cell_type": "markdown",
      "metadata": {
        "id": "qEVOu8DCL--7"
      },
      "source": [
        "<!-- JPN -->\n",
        "　明らかに（人間が見ても）予測が困難であるケース（例えば `image_index = 1` ）が散見される一方で、人間が見ればわかるようなケース（例えば `image_index = 76` ）も存在している。このようなケースを複数注視することで、例えば特徴量エンジニアリングと呼ばれる、「画像の右下部分が\"2\"と\"7\"を分けるのに重要であるから追加で特徴量を作成しよう」などといった、**学習器への入力特徴量の改善の考案が可能**になる。予測結果と元のデータとの関係は常に確認し、\"データを愛でる\" つもりで見るのが良いだろう。"
      ]
    },
    {
      "cell_type": "markdown",
      "metadata": {
        "id": "hrs_o5AvQPFF"
      },
      "source": [
        "<!-- ENG -->\n",
        "　While there are a few cases that are clearly difficult to predict (even by human eyes) (e.g., `image_index = 1`), there are also cases that are obvious to humans (e.g., `image_index = 76`). By focusing on similar such cases, **it is possible to devise ideas for improving input features to the learner**, for example, \"since the lower right part of the image is important for separating \"2\" and \"7\", you can create additional features”, which is called feature engineering.\n",
        "It is always a good idea to check the relationship between the prediction results and the original data, and to \"love the data\"."
      ]
    },
    {
      "cell_type": "markdown",
      "metadata": {
        "id": "dO_VwxROdyXE"
      },
      "source": [
        "<!-- BOTH -->\n",
        "-----"
      ]
    },
    {
      "cell_type": "markdown",
      "metadata": {
        "id": "kiNuSw9DdyXE"
      },
      "source": [
        "<!-- JPN -->\n",
        "##### 課題6（実践、提出不要）\n",
        "\n",
        "[Fashion MNIST](https://github.com/zalandoresearch/fashion-mnist)を使った画像分類を行う。\n",
        "\n",
        "**課題6-1**\n",
        "scikit-learnの`RandomForestClassifier`を用いて分類モデルを構築し、訓練データによる訓練、およびテストデータによる予測を行い、構築された予測モデルのテストデータに対するaccuracyを算出せよ。\n",
        "\n",
        "**課題6-2**\n",
        "課題6-1で予測困難だったデータを取り上げ、そのデータの予測が難しい理由を考察せよ。"
      ]
    },
    {
      "cell_type": "markdown",
      "metadata": {
        "id": "5pnMKfGxdyXF"
      },
      "source": [
        "<!-- ENG -->\n",
        "##### Exercise 6 (Practical, not required to submit)\n",
        "\n",
        "Perform image classification using [Fashion MNIST](https://github.com/zalandoresearch/fashion-mnist).\n",
        "\n",
        "**Exercise 6-1**\n",
        "Construct a classification model using `RandomForestClassifier` in scikit-learn, train and predict the model using train data and test data respectively, and calculate the accuracy for test data.\n",
        "\n",
        "**Exercise 6-2**\n",
        "Find the data that was difficult to predict in exercise 5-1, and discuss why the data was."
      ]
    },
    {
      "cell_type": "code",
      "execution_count": 54,
      "metadata": {
        "id": "4M9y2Ju7dyXF"
      },
      "outputs": [],
      "source": [
        "# loading data\n",
        "import io\n",
        "import gzip\n",
        "import requests\n",
        "import numpy as np\n",
        "urls = {\n",
        "    \"train_image\": \"http://fashion-mnist.s3-website.eu-central-1.amazonaws.com/train-images-idx3-ubyte.gz\",\n",
        "    \"train_label\": \"http://fashion-mnist.s3-website.eu-central-1.amazonaws.com/train-labels-idx1-ubyte.gz\",\n",
        "    \"test_image\": \"http://fashion-mnist.s3-website.eu-central-1.amazonaws.com/t10k-images-idx3-ubyte.gz\",\n",
        "    \"test_label\": \"http://fashion-mnist.s3-website.eu-central-1.amazonaws.com/t10k-labels-idx1-ubyte.gz\"\n",
        "}\n",
        "def load_labels(url):\n",
        "    data = None\n",
        "    response = requests.get(url)\n",
        "    gzip_stream = io.BytesIO(response.content)\n",
        "    with gzip.open(gzip_stream, 'rb') as f:\n",
        "        data = np.frombuffer(f.read(), np.uint8, offset=8)\n",
        "    return data\n",
        "\n",
        "def load_images(url):\n",
        "    data = None\n",
        "    response = requests.get(url)\n",
        "    gzip_stream = io.BytesIO(response.content)\n",
        "    with gzip.open(gzip_stream, 'rb') as f:\n",
        "        data = np.frombuffer(f.read(), np.uint8, offset=16)\n",
        "    return data\n",
        "\n",
        "def load_data():\n",
        "    print(\"loading image data ...\")\n",
        "    X_train = load_images(urls[\"train_image\"])\n",
        "    X_test = load_images(urls[\"test_image\"])\n",
        "    print(\"loading label data ...\")\n",
        "    y_train = load_labels(urls[\"train_label\"])\n",
        "    y_test = load_labels(urls[\"test_label\"])\n",
        "    return X_train.astype(np.float32).reshape(-1, 28*28), y_train, X_test.astype(np.float32).reshape(-1, 28*28), y_test"
      ]
    },
    {
      "cell_type": "code",
      "execution_count": 55,
      "metadata": {
        "colab": {
          "base_uri": "https://localhost:8080/"
        },
        "id": "e2cbsnAHdyXF",
        "outputId": "605b3562-d9ea-408d-b6a0-6416efe118bc"
      },
      "outputs": [
        {
          "output_type": "stream",
          "name": "stdout",
          "text": [
            "loading image data ...\n",
            "loading label data ...\n"
          ]
        }
      ],
      "source": [
        "X_train, y_train, X_test, y_test = load_data()\n",
        "label_list = [\"T-shirt/top\", \"Trouser\", \"Pullover\", \"Dress\", \"Coat\", \"Sandal\", \"Shirt\", \"Sneaker\", \"Bag\", \"Ankle boot\"]"
      ]
    },
    {
      "cell_type": "code",
      "execution_count": 56,
      "metadata": {
        "colab": {
          "base_uri": "https://localhost:8080/",
          "height": 448
        },
        "id": "YjHVTh5TdyXF",
        "outputId": "8b5d86fd-14f1-4e8c-f46c-6d14959bb464"
      },
      "outputs": [
        {
          "output_type": "stream",
          "name": "stdout",
          "text": [
            "9\n"
          ]
        },
        {
          "output_type": "display_data",
          "data": {
            "text/plain": [
              "<Figure size 640x480 with 2 Axes>"
            ],
            "image/png": "[encoded data removed]"
          },
          "metadata": {}
        }
      ],
      "source": [
        "# display image\n",
        "import matplotlib.pyplot as plt\n",
        "\n",
        "plt.imshow(X_train[0, :].reshape(28, 28), cmap=\"binary\")\n",
        "plt.colorbar()\n",
        "print(y_train[0])"
      ]
    },
    {
      "cell_type": "code",
      "execution_count": 57,
      "metadata": {
        "colab": {
          "base_uri": "https://localhost:8080/",
          "height": 467
        },
        "id": "QfGqLWgkdyXF",
        "outputId": "5730f5cd-922e-444a-f83c-5ec442ebb6de"
      },
      "outputs": [
        {
          "output_type": "stream",
          "name": "stdout",
          "text": [
            "True label: 8 - Bag\n",
            "Predicted label: 9 - Ankle boot\n"
          ]
        },
        {
          "output_type": "display_data",
          "data": {
            "text/plain": [
              "<Figure size 640x480 with 2 Axes>"
            ],
            "image/png": "[encoded data removed]"
          },
          "metadata": {}
        }
      ],
      "source": [
        "import matplotlib.pyplot as plt\n",
        "\n",
        "id_image = 529\n",
        "\n",
        "print(\"True label:\", y_test[id_image], \"-\", label_list[y_test[id_image]])\n",
        "print(\"Predicted label:\", y_pred[id_image], \"-\", label_list[y_pred[id_image]])\n",
        "\n",
        "plt.imshow(X_test[id_image, :].reshape(28, 28), cmap=\"binary\")\n",
        "plt.colorbar()\n",
        "plt.show()"
      ]
    }
  ],
  "metadata": {
    "colab": {
      "provenance": [],
      "toc_visible": true
    },
    "kernelspec": {
      "display_name": "Python 3.9.12 ('base')",
      "language": "python",
      "name": "python3"
    },
    "language_info": {
      "codemirror_mode": {
        "name": "ipython",
        "version": 3
      },
      "file_extension": ".py",
      "mimetype": "text/x-python",
      "name": "python",
      "nbconvert_exporter": "python",
      "pygments_lexer": "ipython3",
      "version": "3.9.12"
    },
    "otter": {
      "OK_FORMAT": true,
      "tests": {
        "q1": {
          "name": "q1",
          "points": 5,
          "suites": [
            {
              "cases": [],
              "scored": true,
              "setup": "",
              "teardown": "",
              "type": "doctest"
            }
          ]
        }
      }
    },
    "vscode": {
      "interpreter": {
        "hash": "d4d1e4263499bec80672ea0156c357c1ee493ec2b1c70f0acce89fc37c4a6abe"
      }
    }
  },
  "nbformat": 4,
  "nbformat_minor": 0
}